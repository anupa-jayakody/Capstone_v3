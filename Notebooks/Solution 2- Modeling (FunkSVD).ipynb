{
 "cells": [
  {
   "cell_type": "markdown",
   "metadata": {},
   "source": [
    "**Table of contents**<a id='toc0_'></a>    \n",
    "- [Dataset & Libraries](#toc1_)    \n",
    "- [Data Cleaning](#toc2_)    \n",
    "- [Modeling](#toc3_)    \n",
    "    - [Grid Search](#toc3_1_1_)    \n",
    "    - [FCP Scores graphical representation](#toc3_1_2_)    \n",
    "    - [Code error](#toc3_1_3_)    \n",
    "- [Predictions](#toc4_)    \n",
    "\n",
    "<!-- vscode-jupyter-toc-config\n",
    "\tnumbering=false\n",
    "\tanchor=true\n",
    "\tflat=false\n",
    "\tminLevel=1\n",
    "\tmaxLevel=6\n",
    "\t/vscode-jupyter-toc-config -->\n",
    "<!-- THIS CELL WILL BE REPLACED ON TOC UPDATE. DO NOT WRITE YOUR TEXT IN THIS CELL -->"
   ]
  },
  {
   "cell_type": "markdown",
   "metadata": {},
   "source": [
    "I will now develop a Memory-Based Recommendation system to predict the rating for each recipe based on the historical ratings given. Logic here is that, recipes with similar ratings could get similar rating by a user who has rated one of the two. "
   ]
  },
  {
   "cell_type": "markdown",
   "metadata": {},
   "source": [
    "# <a id='toc1_'></a>[Dataset & Libraries](#toc0_)"
   ]
  },
  {
   "cell_type": "code",
   "execution_count": 1,
   "metadata": {},
   "outputs": [],
   "source": [
    "#lbraries\n",
    "import pandas as pd\n",
    "import numpy as np\n",
    "import matplotlib.pyplot as plt\n"
   ]
  },
  {
   "cell_type": "code",
   "execution_count": 2,
   "metadata": {},
   "outputs": [],
   "source": [
    "#funkSVD libraries\n",
    "from surprise import Dataset\n",
    "from surprise.reader import Reader\n",
    "from surprise.prediction_algorithms.matrix_factorization import SVD as FunkSVD\n",
    "from surprise import accuracy\n",
    "from surprise.model_selection import train_test_split\n",
    "from surprise.model_selection import GridSearchCV"
   ]
  },
  {
   "cell_type": "code",
   "execution_count": 3,
   "metadata": {},
   "outputs": [
    {
     "data": {
      "text/html": [
       "<div>\n",
       "<style scoped>\n",
       "    .dataframe tbody tr th:only-of-type {\n",
       "        vertical-align: middle;\n",
       "    }\n",
       "\n",
       "    .dataframe tbody tr th {\n",
       "        vertical-align: top;\n",
       "    }\n",
       "\n",
       "    .dataframe thead th {\n",
       "        text-align: right;\n",
       "    }\n",
       "</style>\n",
       "<table border=\"1\" class=\"dataframe\">\n",
       "  <thead>\n",
       "    <tr style=\"text-align: right;\">\n",
       "      <th></th>\n",
       "      <th>ReviewId</th>\n",
       "      <th>RecipeId</th>\n",
       "      <th>AuthorId</th>\n",
       "      <th>AuthorName</th>\n",
       "      <th>Rating</th>\n",
       "      <th>Review</th>\n",
       "      <th>DateSubmitted</th>\n",
       "      <th>DateModified</th>\n",
       "    </tr>\n",
       "  </thead>\n",
       "  <tbody>\n",
       "    <tr>\n",
       "      <th>0</th>\n",
       "      <td>2</td>\n",
       "      <td>992</td>\n",
       "      <td>2008</td>\n",
       "      <td>gayg msft</td>\n",
       "      <td>5</td>\n",
       "      <td>better than any you can get at a restaurant!</td>\n",
       "      <td>2000-01-25T21:44:00Z</td>\n",
       "      <td>2000-01-25T21:44:00Z</td>\n",
       "    </tr>\n",
       "    <tr>\n",
       "      <th>1</th>\n",
       "      <td>7</td>\n",
       "      <td>4384</td>\n",
       "      <td>1634</td>\n",
       "      <td>Bill Hilbrich</td>\n",
       "      <td>4</td>\n",
       "      <td>I cut back on the mayo, and made up the differ...</td>\n",
       "      <td>2001-10-17T16:49:59Z</td>\n",
       "      <td>2001-10-17T16:49:59Z</td>\n",
       "    </tr>\n",
       "    <tr>\n",
       "      <th>2</th>\n",
       "      <td>9</td>\n",
       "      <td>4523</td>\n",
       "      <td>2046</td>\n",
       "      <td>Gay Gilmore ckpt</td>\n",
       "      <td>2</td>\n",
       "      <td>i think i did something wrong because i could ...</td>\n",
       "      <td>2000-02-25T09:00:00Z</td>\n",
       "      <td>2000-02-25T09:00:00Z</td>\n",
       "    </tr>\n",
       "    <tr>\n",
       "      <th>3</th>\n",
       "      <td>13</td>\n",
       "      <td>7435</td>\n",
       "      <td>1773</td>\n",
       "      <td>Malarkey Test</td>\n",
       "      <td>5</td>\n",
       "      <td>easily the best i have ever had.  juicy flavor...</td>\n",
       "      <td>2000-03-13T21:15:00Z</td>\n",
       "      <td>2000-03-13T21:15:00Z</td>\n",
       "    </tr>\n",
       "    <tr>\n",
       "      <th>4</th>\n",
       "      <td>14</td>\n",
       "      <td>44</td>\n",
       "      <td>2085</td>\n",
       "      <td>Tony Small</td>\n",
       "      <td>5</td>\n",
       "      <td>An excellent dish.</td>\n",
       "      <td>2000-03-28T12:51:00Z</td>\n",
       "      <td>2000-03-28T12:51:00Z</td>\n",
       "    </tr>\n",
       "  </tbody>\n",
       "</table>\n",
       "</div>"
      ],
      "text/plain": [
       "   ReviewId  RecipeId  AuthorId        AuthorName  Rating  \\\n",
       "0         2       992      2008         gayg msft       5   \n",
       "1         7      4384      1634     Bill Hilbrich       4   \n",
       "2         9      4523      2046  Gay Gilmore ckpt       2   \n",
       "3        13      7435      1773     Malarkey Test       5   \n",
       "4        14        44      2085        Tony Small       5   \n",
       "\n",
       "                                              Review         DateSubmitted  \\\n",
       "0       better than any you can get at a restaurant!  2000-01-25T21:44:00Z   \n",
       "1  I cut back on the mayo, and made up the differ...  2001-10-17T16:49:59Z   \n",
       "2  i think i did something wrong because i could ...  2000-02-25T09:00:00Z   \n",
       "3  easily the best i have ever had.  juicy flavor...  2000-03-13T21:15:00Z   \n",
       "4                                 An excellent dish.  2000-03-28T12:51:00Z   \n",
       "\n",
       "           DateModified  \n",
       "0  2000-01-25T21:44:00Z  \n",
       "1  2001-10-17T16:49:59Z  \n",
       "2  2000-02-25T09:00:00Z  \n",
       "3  2000-03-13T21:15:00Z  \n",
       "4  2000-03-28T12:51:00Z  "
      ]
     },
     "execution_count": 3,
     "metadata": {},
     "output_type": "execute_result"
    }
   ],
   "source": [
    "#datset\n",
    "ratings= pd.read_csv('../Docs/Datasets/reviews.csv')\n",
    "ratings.head()"
   ]
  },
  {
   "cell_type": "code",
   "execution_count": 4,
   "metadata": {},
   "outputs": [
    {
     "data": {
      "text/plain": [
       "(1401982, 8)"
      ]
     },
     "execution_count": 4,
     "metadata": {},
     "output_type": "execute_result"
    }
   ],
   "source": [
    "#shape\n",
    "ratings.shape"
   ]
  },
  {
   "cell_type": "markdown",
   "metadata": {},
   "source": [
    "# <a id='toc2_'></a>[Data Cleaning](#toc0_)"
   ]
  },
  {
   "cell_type": "markdown",
   "metadata": {},
   "source": [
    "I will quickly check whether the datset contains any null or duplicates."
   ]
  },
  {
   "cell_type": "code",
   "execution_count": 5,
   "metadata": {},
   "outputs": [
    {
     "data": {
      "text/plain": [
       "ReviewId         0.000000\n",
       "RecipeId         0.000000\n",
       "AuthorId         0.000000\n",
       "AuthorName       0.000000\n",
       "Rating           0.000000\n",
       "Review           0.015264\n",
       "DateSubmitted    0.000000\n",
       "DateModified     0.000000\n",
       "dtype: float64"
      ]
     },
     "execution_count": 5,
     "metadata": {},
     "output_type": "execute_result"
    }
   ],
   "source": [
    "#null values as a %\n",
    "ratings.isna().sum()/ratings.shape[0]*100"
   ]
  },
  {
   "cell_type": "markdown",
   "metadata": {},
   "source": [
    "Given that there are no null values in  the rating column, we will not drop any data here. Null % of the review text data is ~0%."
   ]
  },
  {
   "cell_type": "code",
   "execution_count": 6,
   "metadata": {},
   "outputs": [
    {
     "data": {
      "text/plain": [
       "0"
      ]
     },
     "execution_count": 6,
     "metadata": {},
     "output_type": "execute_result"
    }
   ],
   "source": [
    "#duplicated data\n",
    "ratings.duplicated().sum()"
   ]
  },
  {
   "cell_type": "markdown",
   "metadata": {},
   "source": [
    "No duplicate values as well"
   ]
  },
  {
   "cell_type": "code",
   "execution_count": 7,
   "metadata": {},
   "outputs": [
    {
     "data": {
      "text/html": [
       "<div>\n",
       "<style scoped>\n",
       "    .dataframe tbody tr th:only-of-type {\n",
       "        vertical-align: middle;\n",
       "    }\n",
       "\n",
       "    .dataframe tbody tr th {\n",
       "        vertical-align: top;\n",
       "    }\n",
       "\n",
       "    .dataframe thead th {\n",
       "        text-align: right;\n",
       "    }\n",
       "</style>\n",
       "<table border=\"1\" class=\"dataframe\">\n",
       "  <thead>\n",
       "    <tr style=\"text-align: right;\">\n",
       "      <th></th>\n",
       "      <th>ReviewId</th>\n",
       "      <th>RecipeId</th>\n",
       "      <th>AuthorId</th>\n",
       "      <th>AuthorName</th>\n",
       "      <th>Rating</th>\n",
       "      <th>Review</th>\n",
       "      <th>DateSubmitted</th>\n",
       "      <th>DateModified</th>\n",
       "    </tr>\n",
       "  </thead>\n",
       "  <tbody>\n",
       "    <tr>\n",
       "      <th>145848</th>\n",
       "      <td>156476</td>\n",
       "      <td>2137</td>\n",
       "      <td>1533</td>\n",
       "      <td>Dancer</td>\n",
       "      <td>5</td>\n",
       "      <td>OUTSTANDING was the only comments my guests ma...</td>\n",
       "      <td>2005-02-27T09:30:26Z</td>\n",
       "      <td>2005-02-27T09:30:26Z</td>\n",
       "    </tr>\n",
       "    <tr>\n",
       "      <th>62702</th>\n",
       "      <td>69050</td>\n",
       "      <td>2585</td>\n",
       "      <td>1533</td>\n",
       "      <td>Dancer</td>\n",
       "      <td>1</td>\n",
       "      <td>Sorry this wasn't what I expected. I love chic...</td>\n",
       "      <td>2003-09-26T19:27:03Z</td>\n",
       "      <td>2003-09-26T19:27:03Z</td>\n",
       "    </tr>\n",
       "    <tr>\n",
       "      <th>154718</th>\n",
       "      <td>165873</td>\n",
       "      <td>4213</td>\n",
       "      <td>1533</td>\n",
       "      <td>Dancer</td>\n",
       "      <td>5</td>\n",
       "      <td>This is the best I have tasted, I have made it...</td>\n",
       "      <td>2005-04-10T09:43:57Z</td>\n",
       "      <td>2005-04-10T09:43:57Z</td>\n",
       "    </tr>\n",
       "    <tr>\n",
       "      <th>18652</th>\n",
       "      <td>22342</td>\n",
       "      <td>8857</td>\n",
       "      <td>1533</td>\n",
       "      <td>Dancer</td>\n",
       "      <td>5</td>\n",
       "      <td>I'm Dancing around my kitchen, finally I have ...</td>\n",
       "      <td>2002-08-23T17:58:39Z</td>\n",
       "      <td>2002-08-23T17:58:39Z</td>\n",
       "    </tr>\n",
       "    <tr>\n",
       "      <th>142105</th>\n",
       "      <td>152525</td>\n",
       "      <td>10332</td>\n",
       "      <td>1533</td>\n",
       "      <td>Dancer</td>\n",
       "      <td>5</td>\n",
       "      <td>Hi Bergy..Yesterday was a little rushed for me...</td>\n",
       "      <td>2005-02-09T08:03:54Z</td>\n",
       "      <td>2005-02-09T08:03:54Z</td>\n",
       "    </tr>\n",
       "  </tbody>\n",
       "</table>\n",
       "</div>"
      ],
      "text/plain": [
       "        ReviewId  RecipeId  AuthorId AuthorName  Rating  \\\n",
       "145848    156476      2137      1533     Dancer       5   \n",
       "62702      69050      2585      1533     Dancer       1   \n",
       "154718    165873      4213      1533     Dancer       5   \n",
       "18652      22342      8857      1533     Dancer       5   \n",
       "142105    152525     10332      1533     Dancer       5   \n",
       "\n",
       "                                                   Review  \\\n",
       "145848  OUTSTANDING was the only comments my guests ma...   \n",
       "62702   Sorry this wasn't what I expected. I love chic...   \n",
       "154718  This is the best I have tasted, I have made it...   \n",
       "18652   I'm Dancing around my kitchen, finally I have ...   \n",
       "142105  Hi Bergy..Yesterday was a little rushed for me...   \n",
       "\n",
       "               DateSubmitted          DateModified  \n",
       "145848  2005-02-27T09:30:26Z  2005-02-27T09:30:26Z  \n",
       "62702   2003-09-26T19:27:03Z  2003-09-26T19:27:03Z  \n",
       "154718  2005-04-10T09:43:57Z  2005-04-10T09:43:57Z  \n",
       "18652   2002-08-23T17:58:39Z  2002-08-23T17:58:39Z  \n",
       "142105  2005-02-09T08:03:54Z  2005-02-09T08:03:54Z  "
      ]
     },
     "execution_count": 7,
     "metadata": {},
     "output_type": "execute_result"
    }
   ],
   "source": [
    "#sorting the ratiings by the Author and Recipe IDs\n",
    "ratings_ = ratings.sort_values(by=['AuthorId', 'RecipeId'])\n",
    "ratings_.head()"
   ]
  },
  {
   "cell_type": "code",
   "execution_count": 8,
   "metadata": {},
   "outputs": [
    {
     "data": {
      "text/plain": [
       "Rating\n",
       "0      76248\n",
       "1      16559\n",
       "2      17597\n",
       "3      50279\n",
       "4     229217\n",
       "5    1012082\n",
       "Name: RecipeId, dtype: int64"
      ]
     },
     "execution_count": 8,
     "metadata": {},
     "output_type": "execute_result"
    }
   ],
   "source": [
    "#checking the values in the rating column\n",
    "ratings.groupby('Rating')['RecipeId'].count()"
   ]
  },
  {
   "cell_type": "markdown",
   "metadata": {},
   "source": [
    "It is visible that 72% of the ratings are of 5 and 16% of 4 constituting to 88% of high ratings in the dataset and we have 76k recipes with zero ratings. We will check them deeper. "
   ]
  },
  {
   "cell_type": "code",
   "execution_count": 9,
   "metadata": {},
   "outputs": [
    {
     "data": {
      "text/html": [
       "<div>\n",
       "<style scoped>\n",
       "    .dataframe tbody tr th:only-of-type {\n",
       "        vertical-align: middle;\n",
       "    }\n",
       "\n",
       "    .dataframe tbody tr th {\n",
       "        vertical-align: top;\n",
       "    }\n",
       "\n",
       "    .dataframe thead th {\n",
       "        text-align: right;\n",
       "    }\n",
       "</style>\n",
       "<table border=\"1\" class=\"dataframe\">\n",
       "  <thead>\n",
       "    <tr style=\"text-align: right;\">\n",
       "      <th></th>\n",
       "      <th>ReviewId</th>\n",
       "      <th>RecipeId</th>\n",
       "      <th>AuthorId</th>\n",
       "      <th>AuthorName</th>\n",
       "      <th>Rating</th>\n",
       "      <th>Review</th>\n",
       "      <th>DateSubmitted</th>\n",
       "      <th>DateModified</th>\n",
       "    </tr>\n",
       "  </thead>\n",
       "  <tbody>\n",
       "    <tr>\n",
       "      <th>7</th>\n",
       "      <td>21</td>\n",
       "      <td>148</td>\n",
       "      <td>2156</td>\n",
       "      <td>Darlene Blythe</td>\n",
       "      <td>0</td>\n",
       "      <td>Would someone please check the Nutrition Facts...</td>\n",
       "      <td>2000-06-02T10:01:00Z</td>\n",
       "      <td>2000-06-02T10:01:00Z</td>\n",
       "    </tr>\n",
       "    <tr>\n",
       "      <th>34</th>\n",
       "      <td>73</td>\n",
       "      <td>2502</td>\n",
       "      <td>2848</td>\n",
       "      <td>Jeff Lucco</td>\n",
       "      <td>0</td>\n",
       "      <td>Unusual name for a recipe that has no pumpkin ...</td>\n",
       "      <td>2000-10-17T15:03:25Z</td>\n",
       "      <td>2000-10-17T15:03:25Z</td>\n",
       "    </tr>\n",
       "    <tr>\n",
       "      <th>47</th>\n",
       "      <td>91</td>\n",
       "      <td>4165</td>\n",
       "      <td>3166</td>\n",
       "      <td>Debbie Lawton</td>\n",
       "      <td>0</td>\n",
       "      <td>I thought Chicken Cacciatore had peppers. If i...</td>\n",
       "      <td>2000-11-04T09:06:30Z</td>\n",
       "      <td>2000-11-04T09:06:30Z</td>\n",
       "    </tr>\n",
       "    <tr>\n",
       "      <th>56</th>\n",
       "      <td>109</td>\n",
       "      <td>2505</td>\n",
       "      <td>3287</td>\n",
       "      <td>Amy Hayes</td>\n",
       "      <td>0</td>\n",
       "      <td>Terrible directions. Doesn't say how to make t...</td>\n",
       "      <td>2000-11-12T00:13:31Z</td>\n",
       "      <td>2000-11-12T00:13:31Z</td>\n",
       "    </tr>\n",
       "    <tr>\n",
       "      <th>76</th>\n",
       "      <td>138</td>\n",
       "      <td>4048</td>\n",
       "      <td>3504</td>\n",
       "      <td>Christina Branscm</td>\n",
       "      <td>0</td>\n",
       "      <td>makes 2- 9inch pies  or 1 deep dish pie</td>\n",
       "      <td>2000-11-23T13:00:07Z</td>\n",
       "      <td>2000-11-23T13:00:07Z</td>\n",
       "    </tr>\n",
       "  </tbody>\n",
       "</table>\n",
       "</div>"
      ],
      "text/plain": [
       "    ReviewId  RecipeId  AuthorId         AuthorName  Rating  \\\n",
       "7         21       148      2156     Darlene Blythe       0   \n",
       "34        73      2502      2848         Jeff Lucco       0   \n",
       "47        91      4165      3166      Debbie Lawton       0   \n",
       "56       109      2505      3287          Amy Hayes       0   \n",
       "76       138      4048      3504  Christina Branscm       0   \n",
       "\n",
       "                                               Review         DateSubmitted  \\\n",
       "7   Would someone please check the Nutrition Facts...  2000-06-02T10:01:00Z   \n",
       "34  Unusual name for a recipe that has no pumpkin ...  2000-10-17T15:03:25Z   \n",
       "47  I thought Chicken Cacciatore had peppers. If i...  2000-11-04T09:06:30Z   \n",
       "56  Terrible directions. Doesn't say how to make t...  2000-11-12T00:13:31Z   \n",
       "76            makes 2- 9inch pies  or 1 deep dish pie  2000-11-23T13:00:07Z   \n",
       "\n",
       "            DateModified  \n",
       "7   2000-06-02T10:01:00Z  \n",
       "34  2000-10-17T15:03:25Z  \n",
       "47  2000-11-04T09:06:30Z  \n",
       "56  2000-11-12T00:13:31Z  \n",
       "76  2000-11-23T13:00:07Z  "
      ]
     },
     "execution_count": 9,
     "metadata": {},
     "output_type": "execute_result"
    }
   ],
   "source": [
    "ratings[ratings['Rating']==0].head()"
   ]
  },
  {
   "cell_type": "markdown",
   "metadata": {},
   "source": [
    "We cannot conclude whether they are not rated with this data. It could be low rated recipes. "
   ]
  },
  {
   "cell_type": "markdown",
   "metadata": {},
   "source": [
    "# <a id='toc3_'></a>[Modeling](#toc0_)"
   ]
  },
  {
   "cell_type": "markdown",
   "metadata": {},
   "source": [
    "I will use FunkSVD Memory Based recommendations here. "
   ]
  },
  {
   "cell_type": "code",
   "execution_count": 10,
   "metadata": {},
   "outputs": [],
   "source": [
    "#loading data as a special Dataset object\n",
    "my_dataset = Dataset.load_from_df(ratings_[['AuthorId', 'RecipeId', 'Rating']], Reader(rating_scale=(1, 5)))\n"
   ]
  },
  {
   "cell_type": "markdown",
   "metadata": {},
   "source": [
    "### <a id='toc3_1_1_'></a>[Grid Search](#toc0_)"
   ]
  },
  {
   "cell_type": "code",
   "execution_count": 39,
   "metadata": {},
   "outputs": [],
   "source": [
    "#grid search to find the best parameters\n",
    "param_grid= {\n",
    "    'n_factors' : range(5,50, 5),\n",
    "    'n_epochs' :[2,3,5,6, 7,9,11],\n",
    "    'lr_all' : [0.1, 0.05, 0.005],\n",
    "    'biased': [False]\n",
    "}\n",
    "\n",
    "grid_search= GridSearchCV(FunkSVD, param_grid, measures= ['fcp'], cv=3)\n",
    "grid_search.fit(my_dataset)\n"
   ]
  },
  {
   "cell_type": "markdown",
   "metadata": {},
   "source": [
    "I tried using the above code to do a grid search for the train data set, but it returns an error. Couldnt find the resolve. Hence ran it for the full dataset."
   ]
  },
  {
   "cell_type": "code",
   "execution_count": 40,
   "metadata": {},
   "outputs": [
    {
     "data": {
      "text/plain": [
       "0.6447613795587682"
      ]
     },
     "execution_count": 40,
     "metadata": {},
     "output_type": "execute_result"
    }
   ],
   "source": [
    "grid_search.best_score['fcp']"
   ]
  },
  {
   "cell_type": "code",
   "execution_count": 41,
   "metadata": {},
   "outputs": [
    {
     "data": {
      "text/plain": [
       "{'n_factors': 15, 'n_epochs': 5, 'lr_all': 0.005, 'biased': False}"
      ]
     },
     "execution_count": 41,
     "metadata": {},
     "output_type": "execute_result"
    }
   ],
   "source": [
    "grid_search.best_params['fcp']"
   ]
  },
  {
   "cell_type": "code",
   "execution_count": 42,
   "metadata": {},
   "outputs": [],
   "source": [
    "#train test split\n",
    "my_train_dataset, my_test_dataset = train_test_split(my_dataset, test_size=0.3)"
   ]
  },
  {
   "cell_type": "code",
   "execution_count": 57,
   "metadata": {},
   "outputs": [
    {
     "name": "stdout",
     "output_type": "stream",
     "text": [
      "FCP:  0.6390\n",
      "0.6389666549404054\n"
     ]
    }
   ],
   "source": [
    "final_model= FunkSVD(n_factors=15,\n",
    "                           n_epochs=6,\n",
    "                           lr_all=0.005,    # learning rate for each epoch\n",
    "                           biased=False,  # forces the algorithm to store all latent information in the matrices\n",
    "                           verbose=0)\n",
    "\n",
    "final_model.fit(my_train_dataset)\n",
    "final_predictions= final_model.test(my_test_dataset)\n",
    "\n",
    "FCP= accuracy.fcp(final_predictions, verbose=5)\n",
    "print(FCP)"
   ]
  },
  {
   "cell_type": "markdown",
   "metadata": {},
   "source": [
    "Test accuracy is 0.63 which means 63% of the times predictions were accurate."
   ]
  },
  {
   "cell_type": "markdown",
   "metadata": {},
   "source": [
    "### <a id='toc3_1_2_'></a>[FCP Scores graphical representation](#toc0_)"
   ]
  },
  {
   "cell_type": "markdown",
   "metadata": {},
   "source": [
    "I will now check the FCP scores for different n_factors"
   ]
  },
  {
   "cell_type": "code",
   "execution_count": 44,
   "metadata": {},
   "outputs": [
    {
     "name": "stdout",
     "output_type": "stream",
     "text": [
      "FCP:  0.6450\n",
      "FCP:  0.6411\n",
      "FCP:  0.6406\n",
      "FCP:  0.6396\n",
      "FCP:  0.6385\n",
      "FCP:  0.6363\n",
      "FCP:  0.6401\n",
      "FCP:  0.6372\n",
      "FCP:  0.6341\n"
     ]
    }
   ],
   "source": [
    "#model for different n factors \n",
    "fcps = []\n",
    "factors = range(5, 50, 5)\n",
    "for n_factors in factors:\n",
    "    my_algorithm_factors = FunkSVD(n_factors=n_factors,\n",
    "                           n_epochs=5,\n",
    "                           lr_all=0.005,    # Learning rate for each epoch\n",
    "                           biased=False,  # forces the algorithm to store all latent information in the matrices\n",
    "                           verbose=0)\n",
    "\n",
    "    my_algorithm_factors.fit(my_train_dataset)\n",
    "    predictions_factors= my_algorithm_factors.test(my_test_dataset)\n",
    "\n",
    "    FCP_factors= accuracy.fcp(predictions_factors, verbose=5)\n",
    "    FCP_factors= fcps.append(FCP_factors)\n",
    "    \n",
    "  "
   ]
  },
  {
   "cell_type": "code",
   "execution_count": 45,
   "metadata": {},
   "outputs": [],
   "source": [
    "#model for different n factors - Graph\n",
    "fcps = []\n",
    "factors = range(5, 50, 5)\n",
    "for n_factors in factors:\n",
    "    my_algorithm_factors = FunkSVD(n_factors=n_factors,\n",
    "                           n_epochs=5,\n",
    "                           lr_all=0.005,    # Learning rate for each epoch\n",
    "                           biased=False,  # forces the algorithm to store all latent information in the matrices\n",
    "                           verbose=0)\n",
    "\n",
    "    my_algorithm_factors.fit(my_train_dataset)\n",
    "    predictions_factors= my_algorithm_factors.test(my_test_dataset)\n",
    "\n",
    "    FCP_factors= accuracy.fcp(predictions_factors, verbose=False)\n",
    "    fcps.append(FCP_factors)\n",
    "\n"
   ]
  },
  {
   "cell_type": "code",
   "execution_count": 46,
   "metadata": {},
   "outputs": [
    {
     "data": {
      "image/png": "[encoded data removed]",
      "text/plain": [
       "<Figure size 1500x700 with 1 Axes>"
      ]
     },
     "metadata": {},
     "output_type": "display_data"
    }
   ],
   "source": [
    "#graph visualisation\n",
    "plt.figure(figsize=(15, 7))\n",
    "plt.plot(factors, fcps, color='green', marker= 'o')\n",
    "\n",
    "for i in range(len(factors)):\n",
    "    plt.text(factors[i], fcps[i], \"{:.4f}\".format(fcps[i]), size=8, ha='right') #plotting the x, y attributes with the y values of the data, size, position\n",
    "\n",
    "plt.xlabel(\"Latent Factor Number\")\n",
    "plt.ylabel(\"Fraction of Concordant Pairs\")\n",
    "plt.title(\"Fraction for Concordant Pairs for Various Numbers of Latent Factors\")\n",
    "plt.show()"
   ]
  },
  {
   "cell_type": "markdown",
   "metadata": {},
   "source": [
    "I will now check the FCP scores for different epochs."
   ]
  },
  {
   "cell_type": "code",
   "execution_count": 47,
   "metadata": {},
   "outputs": [],
   "source": [
    "#model for different epochs\n",
    "fcps = []\n",
    "epochs = range(1,10,1)\n",
    "for epoch in epochs:\n",
    "    my_algorithm_epochs = FunkSVD(n_factors=5,\n",
    "                           n_epochs=epoch,\n",
    "                           lr_all=0.005,    # learning rate for each epoch\n",
    "                           biased=False,  # forces the algorithm to store all latent information in the matrices\n",
    "                           verbose=0)\n",
    "\n",
    "    my_algorithm_epochs.fit(my_train_dataset)\n",
    "    predictions_epochs= my_algorithm_epochs.test(my_test_dataset)\n",
    "\n",
    "    FCP_epochs= accuracy.fcp(predictions_epochs, verbose=False)\n",
    "    fcps.append(FCP_epochs)"
   ]
  },
  {
   "cell_type": "code",
   "execution_count": 48,
   "metadata": {},
   "outputs": [
    {
     "data": {
      "image/png": "[encoded data removed]",
      "text/plain": [
       "<Figure size 1500x700 with 1 Axes>"
      ]
     },
     "metadata": {},
     "output_type": "display_data"
    }
   ],
   "source": [
    "#graph visualisation\n",
    "plt.figure(figsize=(15, 7))\n",
    "plt.plot(epochs, fcps, color='green', marker= 'o')\n",
    "\n",
    "for i in range(len(epochs)):\n",
    "    plt.text(epochs[i], fcps[i], \"{:.4f}\".format(fcps[i]), size=8, ha='right') #plotting the x, y attributes with the y values of the data, size, position\n",
    "plt.xlabel(\"Epochs\")\n",
    "plt.ylabel(\"Fraction of Concordant Pairs\")\n",
    "plt.title(\"Fraction for Concordant Pairs for Epochs\")\n",
    "plt.show()\n"
   ]
  },
  {
   "cell_type": "markdown",
   "metadata": {},
   "source": [
    "### <a id='toc3_1_3_'></a>[Code error](#toc0_)"
   ]
  },
  {
   "cell_type": "markdown",
   "metadata": {},
   "source": [
    "I cannot run beyond this code even with 0.05% of data. Hence I will develop the predicted ratings based on the the original dataset."
   ]
  },
  {
   "cell_type": "code",
   "execution_count": 21,
   "metadata": {},
   "outputs": [
    {
     "data": {
      "text/plain": [
       "<surprise.prediction_algorithms.matrix_factorization.SVD at 0x165c2e93650>"
      ]
     },
     "execution_count": 21,
     "metadata": {},
     "output_type": "execute_result"
    }
   ],
   "source": [
    "full_train_set= my_dataset.build_full_trainset()\n",
    "final_model.fit(full_train_set)"
   ]
  },
  {
   "cell_type": "code",
   "execution_count": 22,
   "metadata": {},
   "outputs": [
    {
     "ename": "MemoryError",
     "evalue": "",
     "output_type": "error",
     "traceback": [
      "\u001b[1;31m---------------------------------------------------------------------------\u001b[0m",
      "\u001b[1;31mMemoryError\u001b[0m                               Traceback (most recent call last)",
      "Cell \u001b[1;32mIn[22], line 1\u001b[0m\n\u001b[1;32m----> 1\u001b[0m full_test_set \u001b[38;5;241m=\u001b[39m full_train_set\u001b[38;5;241m.\u001b[39mbuild_anti_testset(fill\u001b[38;5;241m=\u001b[39m\u001b[38;5;241m-\u001b[39m\u001b[38;5;241m1\u001b[39m)\n",
      "File \u001b[1;32mc:\\Users\\e312995\\AppData\\Local\\anaconda3\\Lib\\site-packages\\surprise\\trainset.py:237\u001b[0m, in \u001b[0;36mTrainset.build_anti_testset\u001b[1;34m(self, fill)\u001b[0m\n\u001b[0;32m    235\u001b[0m \u001b[38;5;28;01mfor\u001b[39;00m u \u001b[38;5;129;01min\u001b[39;00m \u001b[38;5;28mself\u001b[39m\u001b[38;5;241m.\u001b[39mall_users():\n\u001b[0;32m    236\u001b[0m     user_items \u001b[38;5;241m=\u001b[39m {j \u001b[38;5;28;01mfor\u001b[39;00m (j, _) \u001b[38;5;129;01min\u001b[39;00m \u001b[38;5;28mself\u001b[39m\u001b[38;5;241m.\u001b[39mur[u]}\n\u001b[1;32m--> 237\u001b[0m     anti_testset \u001b[38;5;241m+\u001b[39m\u001b[38;5;241m=\u001b[39m [\n\u001b[0;32m    238\u001b[0m         (\u001b[38;5;28mself\u001b[39m\u001b[38;5;241m.\u001b[39mto_raw_uid(u), \u001b[38;5;28mself\u001b[39m\u001b[38;5;241m.\u001b[39mto_raw_iid(i), fill)\n\u001b[0;32m    239\u001b[0m         \u001b[38;5;28;01mfor\u001b[39;00m i \u001b[38;5;129;01min\u001b[39;00m \u001b[38;5;28mself\u001b[39m\u001b[38;5;241m.\u001b[39mall_items()\n\u001b[0;32m    240\u001b[0m         \u001b[38;5;28;01mif\u001b[39;00m i \u001b[38;5;129;01mnot\u001b[39;00m \u001b[38;5;129;01min\u001b[39;00m user_items\n\u001b[0;32m    241\u001b[0m     ]\n\u001b[0;32m    242\u001b[0m \u001b[38;5;28;01mreturn\u001b[39;00m anti_testset\n",
      "\u001b[1;31mMemoryError\u001b[0m: "
     ]
    }
   ],
   "source": [
    "full_test_set = full_train_set.build_anti_testset(fill=-1)"
   ]
  },
  {
   "cell_type": "markdown",
   "metadata": {},
   "source": [
    "# <a id='toc4_'></a>[Predictions](#toc0_)"
   ]
  },
  {
   "cell_type": "code",
   "execution_count": 58,
   "metadata": {},
   "outputs": [],
   "source": [
    "#testing on dataset\n",
    "test_predictions= final_model.test(my_test_dataset)"
   ]
  },
  {
   "cell_type": "markdown",
   "metadata": {},
   "source": [
    "It can be seen that test accuracy has improved slightly. I will now load the predictions to a dataframe and check the difference between the predictions & actuals"
   ]
  },
  {
   "cell_type": "code",
   "execution_count": 59,
   "metadata": {},
   "outputs": [],
   "source": [
    "#adding the predictions to a datframe\n",
    "predictions_df = pd.DataFrame(test_predictions, columns=['AuthorId',\n",
    "                                                     'RecipeId',\n",
    "                                                     'ActualRating',\n",
    "                                                     'PredictedRating', \n",
    "                                                     'Details'])\n",
    "\n"
   ]
  },
  {
   "cell_type": "code",
   "execution_count": 60,
   "metadata": {},
   "outputs": [
    {
     "data": {
      "text/html": [
       "<div>\n",
       "<style scoped>\n",
       "    .dataframe tbody tr th:only-of-type {\n",
       "        vertical-align: middle;\n",
       "    }\n",
       "\n",
       "    .dataframe tbody tr th {\n",
       "        vertical-align: top;\n",
       "    }\n",
       "\n",
       "    .dataframe thead th {\n",
       "        text-align: right;\n",
       "    }\n",
       "</style>\n",
       "<table border=\"1\" class=\"dataframe\">\n",
       "  <thead>\n",
       "    <tr style=\"text-align: right;\">\n",
       "      <th></th>\n",
       "      <th>AuthorId</th>\n",
       "      <th>RecipeId</th>\n",
       "      <th>ActualRating</th>\n",
       "      <th>PredictedRating</th>\n",
       "      <th>Details</th>\n",
       "      <th>RatingDiff</th>\n",
       "    </tr>\n",
       "  </thead>\n",
       "  <tbody>\n",
       "    <tr>\n",
       "      <th>0</th>\n",
       "      <td>1335993</td>\n",
       "      <td>282123</td>\n",
       "      <td>5.0</td>\n",
       "      <td>4.407597</td>\n",
       "      <td>{'was_impossible': True, 'reason': 'User and i...</td>\n",
       "      <td>0.592403</td>\n",
       "    </tr>\n",
       "    <tr>\n",
       "      <th>1</th>\n",
       "      <td>1072593</td>\n",
       "      <td>41544</td>\n",
       "      <td>5.0</td>\n",
       "      <td>1.000000</td>\n",
       "      <td>{'was_impossible': False}</td>\n",
       "      <td>4.000000</td>\n",
       "    </tr>\n",
       "    <tr>\n",
       "      <th>2</th>\n",
       "      <td>127062</td>\n",
       "      <td>23300</td>\n",
       "      <td>0.0</td>\n",
       "      <td>1.000000</td>\n",
       "      <td>{'was_impossible': False}</td>\n",
       "      <td>1.000000</td>\n",
       "    </tr>\n",
       "    <tr>\n",
       "      <th>3</th>\n",
       "      <td>1513099</td>\n",
       "      <td>329672</td>\n",
       "      <td>5.0</td>\n",
       "      <td>4.407597</td>\n",
       "      <td>{'was_impossible': True, 'reason': 'User and i...</td>\n",
       "      <td>0.592403</td>\n",
       "    </tr>\n",
       "    <tr>\n",
       "      <th>4</th>\n",
       "      <td>11009</td>\n",
       "      <td>67781</td>\n",
       "      <td>5.0</td>\n",
       "      <td>5.000000</td>\n",
       "      <td>{'was_impossible': False}</td>\n",
       "      <td>0.000000</td>\n",
       "    </tr>\n",
       "    <tr>\n",
       "      <th>5</th>\n",
       "      <td>361931</td>\n",
       "      <td>222346</td>\n",
       "      <td>5.0</td>\n",
       "      <td>1.000000</td>\n",
       "      <td>{'was_impossible': False}</td>\n",
       "      <td>4.000000</td>\n",
       "    </tr>\n",
       "    <tr>\n",
       "      <th>6</th>\n",
       "      <td>2000799506</td>\n",
       "      <td>143640</td>\n",
       "      <td>1.0</td>\n",
       "      <td>1.000000</td>\n",
       "      <td>{'was_impossible': False}</td>\n",
       "      <td>0.000000</td>\n",
       "    </tr>\n",
       "    <tr>\n",
       "      <th>7</th>\n",
       "      <td>1801707544</td>\n",
       "      <td>114514</td>\n",
       "      <td>5.0</td>\n",
       "      <td>4.407597</td>\n",
       "      <td>{'was_impossible': True, 'reason': 'User and i...</td>\n",
       "      <td>0.592403</td>\n",
       "    </tr>\n",
       "    <tr>\n",
       "      <th>8</th>\n",
       "      <td>59064</td>\n",
       "      <td>146604</td>\n",
       "      <td>4.0</td>\n",
       "      <td>1.000000</td>\n",
       "      <td>{'was_impossible': False}</td>\n",
       "      <td>3.000000</td>\n",
       "    </tr>\n",
       "    <tr>\n",
       "      <th>9</th>\n",
       "      <td>125640</td>\n",
       "      <td>72545</td>\n",
       "      <td>4.0</td>\n",
       "      <td>4.530968</td>\n",
       "      <td>{'was_impossible': False}</td>\n",
       "      <td>0.530968</td>\n",
       "    </tr>\n",
       "  </tbody>\n",
       "</table>\n",
       "</div>"
      ],
      "text/plain": [
       "     AuthorId  RecipeId  ActualRating  PredictedRating  \\\n",
       "0     1335993    282123           5.0         4.407597   \n",
       "1     1072593     41544           5.0         1.000000   \n",
       "2      127062     23300           0.0         1.000000   \n",
       "3     1513099    329672           5.0         4.407597   \n",
       "4       11009     67781           5.0         5.000000   \n",
       "5      361931    222346           5.0         1.000000   \n",
       "6  2000799506    143640           1.0         1.000000   \n",
       "7  1801707544    114514           5.0         4.407597   \n",
       "8       59064    146604           4.0         1.000000   \n",
       "9      125640     72545           4.0         4.530968   \n",
       "\n",
       "                                             Details  RatingDiff  \n",
       "0  {'was_impossible': True, 'reason': 'User and i...    0.592403  \n",
       "1                          {'was_impossible': False}    4.000000  \n",
       "2                          {'was_impossible': False}    1.000000  \n",
       "3  {'was_impossible': True, 'reason': 'User and i...    0.592403  \n",
       "4                          {'was_impossible': False}    0.000000  \n",
       "5                          {'was_impossible': False}    4.000000  \n",
       "6                          {'was_impossible': False}    0.000000  \n",
       "7  {'was_impossible': True, 'reason': 'User and i...    0.592403  \n",
       "8                          {'was_impossible': False}    3.000000  \n",
       "9                          {'was_impossible': False}    0.530968  "
      ]
     },
     "execution_count": 60,
     "metadata": {},
     "output_type": "execute_result"
    }
   ],
   "source": [
    "#checking the difference between the predicted and actual\n",
    "predictions_df['RatingDiff']= abs(predictions_df['PredictedRating']- predictions_df['ActualRating']) #differences\n",
    "predictions_df.head(10)"
   ]
  },
  {
   "cell_type": "code",
   "execution_count": 61,
   "metadata": {},
   "outputs": [
    {
     "data": {
      "text/html": [
       "<div>\n",
       "<style scoped>\n",
       "    .dataframe tbody tr th:only-of-type {\n",
       "        vertical-align: middle;\n",
       "    }\n",
       "\n",
       "    .dataframe tbody tr th {\n",
       "        vertical-align: top;\n",
       "    }\n",
       "\n",
       "    .dataframe thead th {\n",
       "        text-align: right;\n",
       "    }\n",
       "</style>\n",
       "<table border=\"1\" class=\"dataframe\">\n",
       "  <thead>\n",
       "    <tr style=\"text-align: right;\">\n",
       "      <th></th>\n",
       "      <th>AuthorId</th>\n",
       "      <th>RecipeId</th>\n",
       "      <th>ActualRating</th>\n",
       "      <th>PredictedRating</th>\n",
       "      <th>Details</th>\n",
       "      <th>RatingDiff</th>\n",
       "    </tr>\n",
       "  </thead>\n",
       "  <tbody>\n",
       "    <tr>\n",
       "      <th>271971</th>\n",
       "      <td>566005</td>\n",
       "      <td>89204</td>\n",
       "      <td>5.0</td>\n",
       "      <td>5.0</td>\n",
       "      <td>{'was_impossible': False}</td>\n",
       "      <td>0.0</td>\n",
       "    </tr>\n",
       "    <tr>\n",
       "      <th>99738</th>\n",
       "      <td>855476</td>\n",
       "      <td>32204</td>\n",
       "      <td>5.0</td>\n",
       "      <td>5.0</td>\n",
       "      <td>{'was_impossible': False}</td>\n",
       "      <td>0.0</td>\n",
       "    </tr>\n",
       "    <tr>\n",
       "      <th>346152</th>\n",
       "      <td>894377</td>\n",
       "      <td>114575</td>\n",
       "      <td>5.0</td>\n",
       "      <td>5.0</td>\n",
       "      <td>{'was_impossible': False}</td>\n",
       "      <td>0.0</td>\n",
       "    </tr>\n",
       "    <tr>\n",
       "      <th>181203</th>\n",
       "      <td>945289</td>\n",
       "      <td>87075</td>\n",
       "      <td>5.0</td>\n",
       "      <td>5.0</td>\n",
       "      <td>{'was_impossible': False}</td>\n",
       "      <td>0.0</td>\n",
       "    </tr>\n",
       "    <tr>\n",
       "      <th>346141</th>\n",
       "      <td>383346</td>\n",
       "      <td>281473</td>\n",
       "      <td>5.0</td>\n",
       "      <td>5.0</td>\n",
       "      <td>{'was_impossible': False}</td>\n",
       "      <td>0.0</td>\n",
       "    </tr>\n",
       "    <tr>\n",
       "      <th>346138</th>\n",
       "      <td>22015</td>\n",
       "      <td>109576</td>\n",
       "      <td>5.0</td>\n",
       "      <td>5.0</td>\n",
       "      <td>{'was_impossible': False}</td>\n",
       "      <td>0.0</td>\n",
       "    </tr>\n",
       "    <tr>\n",
       "      <th>282834</th>\n",
       "      <td>632249</td>\n",
       "      <td>50022</td>\n",
       "      <td>5.0</td>\n",
       "      <td>5.0</td>\n",
       "      <td>{'was_impossible': False}</td>\n",
       "      <td>0.0</td>\n",
       "    </tr>\n",
       "    <tr>\n",
       "      <th>99734</th>\n",
       "      <td>1193707</td>\n",
       "      <td>6469</td>\n",
       "      <td>1.0</td>\n",
       "      <td>1.0</td>\n",
       "      <td>{'was_impossible': False}</td>\n",
       "      <td>0.0</td>\n",
       "    </tr>\n",
       "    <tr>\n",
       "      <th>79552</th>\n",
       "      <td>111342</td>\n",
       "      <td>43186</td>\n",
       "      <td>5.0</td>\n",
       "      <td>5.0</td>\n",
       "      <td>{'was_impossible': False}</td>\n",
       "      <td>0.0</td>\n",
       "    </tr>\n",
       "    <tr>\n",
       "      <th>181216</th>\n",
       "      <td>280271</td>\n",
       "      <td>252267</td>\n",
       "      <td>5.0</td>\n",
       "      <td>5.0</td>\n",
       "      <td>{'was_impossible': False}</td>\n",
       "      <td>0.0</td>\n",
       "    </tr>\n",
       "    <tr>\n",
       "      <th>31082</th>\n",
       "      <td>736554</td>\n",
       "      <td>67733</td>\n",
       "      <td>5.0</td>\n",
       "      <td>5.0</td>\n",
       "      <td>{'was_impossible': False}</td>\n",
       "      <td>0.0</td>\n",
       "    </tr>\n",
       "    <tr>\n",
       "      <th>181219</th>\n",
       "      <td>424680</td>\n",
       "      <td>292149</td>\n",
       "      <td>5.0</td>\n",
       "      <td>5.0</td>\n",
       "      <td>{'was_impossible': False}</td>\n",
       "      <td>0.0</td>\n",
       "    </tr>\n",
       "    <tr>\n",
       "      <th>346118</th>\n",
       "      <td>131126</td>\n",
       "      <td>11527</td>\n",
       "      <td>5.0</td>\n",
       "      <td>5.0</td>\n",
       "      <td>{'was_impossible': False}</td>\n",
       "      <td>0.0</td>\n",
       "    </tr>\n",
       "    <tr>\n",
       "      <th>31088</th>\n",
       "      <td>144373</td>\n",
       "      <td>78579</td>\n",
       "      <td>5.0</td>\n",
       "      <td>5.0</td>\n",
       "      <td>{'was_impossible': False}</td>\n",
       "      <td>0.0</td>\n",
       "    </tr>\n",
       "    <tr>\n",
       "      <th>31089</th>\n",
       "      <td>309967</td>\n",
       "      <td>25690</td>\n",
       "      <td>5.0</td>\n",
       "      <td>5.0</td>\n",
       "      <td>{'was_impossible': False}</td>\n",
       "      <td>0.0</td>\n",
       "    </tr>\n",
       "    <tr>\n",
       "      <th>181226</th>\n",
       "      <td>49542</td>\n",
       "      <td>63981</td>\n",
       "      <td>5.0</td>\n",
       "      <td>5.0</td>\n",
       "      <td>{'was_impossible': False}</td>\n",
       "      <td>0.0</td>\n",
       "    </tr>\n",
       "    <tr>\n",
       "      <th>346105</th>\n",
       "      <td>306797</td>\n",
       "      <td>186029</td>\n",
       "      <td>5.0</td>\n",
       "      <td>5.0</td>\n",
       "      <td>{'was_impossible': False}</td>\n",
       "      <td>0.0</td>\n",
       "    </tr>\n",
       "    <tr>\n",
       "      <th>346103</th>\n",
       "      <td>50969</td>\n",
       "      <td>29833</td>\n",
       "      <td>5.0</td>\n",
       "      <td>5.0</td>\n",
       "      <td>{'was_impossible': False}</td>\n",
       "      <td>0.0</td>\n",
       "    </tr>\n",
       "    <tr>\n",
       "      <th>346164</th>\n",
       "      <td>129314</td>\n",
       "      <td>90674</td>\n",
       "      <td>5.0</td>\n",
       "      <td>5.0</td>\n",
       "      <td>{'was_impossible': False}</td>\n",
       "      <td>0.0</td>\n",
       "    </tr>\n",
       "    <tr>\n",
       "      <th>79554</th>\n",
       "      <td>302094</td>\n",
       "      <td>11492</td>\n",
       "      <td>5.0</td>\n",
       "      <td>5.0</td>\n",
       "      <td>{'was_impossible': False}</td>\n",
       "      <td>0.0</td>\n",
       "    </tr>\n",
       "  </tbody>\n",
       "</table>\n",
       "</div>"
      ],
      "text/plain": [
       "        AuthorId  RecipeId  ActualRating  PredictedRating  \\\n",
       "271971    566005     89204           5.0              5.0   \n",
       "99738     855476     32204           5.0              5.0   \n",
       "346152    894377    114575           5.0              5.0   \n",
       "181203    945289     87075           5.0              5.0   \n",
       "346141    383346    281473           5.0              5.0   \n",
       "346138     22015    109576           5.0              5.0   \n",
       "282834    632249     50022           5.0              5.0   \n",
       "99734    1193707      6469           1.0              1.0   \n",
       "79552     111342     43186           5.0              5.0   \n",
       "181216    280271    252267           5.0              5.0   \n",
       "31082     736554     67733           5.0              5.0   \n",
       "181219    424680    292149           5.0              5.0   \n",
       "346118    131126     11527           5.0              5.0   \n",
       "31088     144373     78579           5.0              5.0   \n",
       "31089     309967     25690           5.0              5.0   \n",
       "181226     49542     63981           5.0              5.0   \n",
       "346105    306797    186029           5.0              5.0   \n",
       "346103     50969     29833           5.0              5.0   \n",
       "346164    129314     90674           5.0              5.0   \n",
       "79554     302094     11492           5.0              5.0   \n",
       "\n",
       "                          Details  RatingDiff  \n",
       "271971  {'was_impossible': False}         0.0  \n",
       "99738   {'was_impossible': False}         0.0  \n",
       "346152  {'was_impossible': False}         0.0  \n",
       "181203  {'was_impossible': False}         0.0  \n",
       "346141  {'was_impossible': False}         0.0  \n",
       "346138  {'was_impossible': False}         0.0  \n",
       "282834  {'was_impossible': False}         0.0  \n",
       "99734   {'was_impossible': False}         0.0  \n",
       "79552   {'was_impossible': False}         0.0  \n",
       "181216  {'was_impossible': False}         0.0  \n",
       "31082   {'was_impossible': False}         0.0  \n",
       "181219  {'was_impossible': False}         0.0  \n",
       "346118  {'was_impossible': False}         0.0  \n",
       "31088   {'was_impossible': False}         0.0  \n",
       "31089   {'was_impossible': False}         0.0  \n",
       "181226  {'was_impossible': False}         0.0  \n",
       "346105  {'was_impossible': False}         0.0  \n",
       "346103  {'was_impossible': False}         0.0  \n",
       "346164  {'was_impossible': False}         0.0  \n",
       "79554   {'was_impossible': False}         0.0  "
      ]
     },
     "execution_count": 61,
     "metadata": {},
     "output_type": "execute_result"
    }
   ],
   "source": [
    "#checking the best results \n",
    "predictions_df.sort_values(by='RatingDiff').head(20) #rating diff zero sample"
   ]
  },
  {
   "cell_type": "code",
   "execution_count": 62,
   "metadata": {},
   "outputs": [
    {
     "data": {
      "text/html": [
       "<div>\n",
       "<style scoped>\n",
       "    .dataframe tbody tr th:only-of-type {\n",
       "        vertical-align: middle;\n",
       "    }\n",
       "\n",
       "    .dataframe tbody tr th {\n",
       "        vertical-align: top;\n",
       "    }\n",
       "\n",
       "    .dataframe thead th {\n",
       "        text-align: right;\n",
       "    }\n",
       "</style>\n",
       "<table border=\"1\" class=\"dataframe\">\n",
       "  <thead>\n",
       "    <tr style=\"text-align: right;\">\n",
       "      <th></th>\n",
       "      <th>AuthorId</th>\n",
       "      <th>RecipeId</th>\n",
       "      <th>ActualRating</th>\n",
       "      <th>PredictedRating</th>\n",
       "      <th>Details</th>\n",
       "      <th>RatingDiff</th>\n",
       "    </tr>\n",
       "  </thead>\n",
       "  <tbody>\n",
       "    <tr>\n",
       "      <th>192890</th>\n",
       "      <td>28177</td>\n",
       "      <td>24511</td>\n",
       "      <td>0.0</td>\n",
       "      <td>5.0</td>\n",
       "      <td>{'was_impossible': False}</td>\n",
       "      <td>5.0</td>\n",
       "    </tr>\n",
       "    <tr>\n",
       "      <th>321329</th>\n",
       "      <td>1072593</td>\n",
       "      <td>108364</td>\n",
       "      <td>0.0</td>\n",
       "      <td>5.0</td>\n",
       "      <td>{'was_impossible': False}</td>\n",
       "      <td>5.0</td>\n",
       "    </tr>\n",
       "    <tr>\n",
       "      <th>335536</th>\n",
       "      <td>37779</td>\n",
       "      <td>37106</td>\n",
       "      <td>0.0</td>\n",
       "      <td>5.0</td>\n",
       "      <td>{'was_impossible': False}</td>\n",
       "      <td>5.0</td>\n",
       "    </tr>\n",
       "    <tr>\n",
       "      <th>218665</th>\n",
       "      <td>36944</td>\n",
       "      <td>151220</td>\n",
       "      <td>0.0</td>\n",
       "      <td>5.0</td>\n",
       "      <td>{'was_impossible': False}</td>\n",
       "      <td>5.0</td>\n",
       "    </tr>\n",
       "    <tr>\n",
       "      <th>204148</th>\n",
       "      <td>68526</td>\n",
       "      <td>108248</td>\n",
       "      <td>0.0</td>\n",
       "      <td>5.0</td>\n",
       "      <td>{'was_impossible': False}</td>\n",
       "      <td>5.0</td>\n",
       "    </tr>\n",
       "    <tr>\n",
       "      <th>87223</th>\n",
       "      <td>229524</td>\n",
       "      <td>209398</td>\n",
       "      <td>0.0</td>\n",
       "      <td>5.0</td>\n",
       "      <td>{'was_impossible': False}</td>\n",
       "      <td>5.0</td>\n",
       "    </tr>\n",
       "    <tr>\n",
       "      <th>290906</th>\n",
       "      <td>74904</td>\n",
       "      <td>86868</td>\n",
       "      <td>0.0</td>\n",
       "      <td>5.0</td>\n",
       "      <td>{'was_impossible': False}</td>\n",
       "      <td>5.0</td>\n",
       "    </tr>\n",
       "    <tr>\n",
       "      <th>1999</th>\n",
       "      <td>253974</td>\n",
       "      <td>114575</td>\n",
       "      <td>0.0</td>\n",
       "      <td>5.0</td>\n",
       "      <td>{'was_impossible': False}</td>\n",
       "      <td>5.0</td>\n",
       "    </tr>\n",
       "    <tr>\n",
       "      <th>228653</th>\n",
       "      <td>68526</td>\n",
       "      <td>76294</td>\n",
       "      <td>0.0</td>\n",
       "      <td>5.0</td>\n",
       "      <td>{'was_impossible': False}</td>\n",
       "      <td>5.0</td>\n",
       "    </tr>\n",
       "    <tr>\n",
       "      <th>374418</th>\n",
       "      <td>31914</td>\n",
       "      <td>108364</td>\n",
       "      <td>0.0</td>\n",
       "      <td>5.0</td>\n",
       "      <td>{'was_impossible': False}</td>\n",
       "      <td>5.0</td>\n",
       "    </tr>\n",
       "    <tr>\n",
       "      <th>19362</th>\n",
       "      <td>168462</td>\n",
       "      <td>71263</td>\n",
       "      <td>0.0</td>\n",
       "      <td>5.0</td>\n",
       "      <td>{'was_impossible': False}</td>\n",
       "      <td>5.0</td>\n",
       "    </tr>\n",
       "    <tr>\n",
       "      <th>334629</th>\n",
       "      <td>383346</td>\n",
       "      <td>310185</td>\n",
       "      <td>0.0</td>\n",
       "      <td>5.0</td>\n",
       "      <td>{'was_impossible': False}</td>\n",
       "      <td>5.0</td>\n",
       "    </tr>\n",
       "    <tr>\n",
       "      <th>178768</th>\n",
       "      <td>530501</td>\n",
       "      <td>33671</td>\n",
       "      <td>0.0</td>\n",
       "      <td>5.0</td>\n",
       "      <td>{'was_impossible': False}</td>\n",
       "      <td>5.0</td>\n",
       "    </tr>\n",
       "    <tr>\n",
       "      <th>141712</th>\n",
       "      <td>305531</td>\n",
       "      <td>52892</td>\n",
       "      <td>0.0</td>\n",
       "      <td>5.0</td>\n",
       "      <td>{'was_impossible': False}</td>\n",
       "      <td>5.0</td>\n",
       "    </tr>\n",
       "    <tr>\n",
       "      <th>406491</th>\n",
       "      <td>427184</td>\n",
       "      <td>83625</td>\n",
       "      <td>0.0</td>\n",
       "      <td>5.0</td>\n",
       "      <td>{'was_impossible': False}</td>\n",
       "      <td>5.0</td>\n",
       "    </tr>\n",
       "    <tr>\n",
       "      <th>348670</th>\n",
       "      <td>709541</td>\n",
       "      <td>46262</td>\n",
       "      <td>0.0</td>\n",
       "      <td>5.0</td>\n",
       "      <td>{'was_impossible': False}</td>\n",
       "      <td>5.0</td>\n",
       "    </tr>\n",
       "    <tr>\n",
       "      <th>331780</th>\n",
       "      <td>226066</td>\n",
       "      <td>69407</td>\n",
       "      <td>0.0</td>\n",
       "      <td>5.0</td>\n",
       "      <td>{'was_impossible': False}</td>\n",
       "      <td>5.0</td>\n",
       "    </tr>\n",
       "    <tr>\n",
       "      <th>174135</th>\n",
       "      <td>237123</td>\n",
       "      <td>25587</td>\n",
       "      <td>0.0</td>\n",
       "      <td>5.0</td>\n",
       "      <td>{'was_impossible': False}</td>\n",
       "      <td>5.0</td>\n",
       "    </tr>\n",
       "    <tr>\n",
       "      <th>99811</th>\n",
       "      <td>1175362</td>\n",
       "      <td>89204</td>\n",
       "      <td>0.0</td>\n",
       "      <td>5.0</td>\n",
       "      <td>{'was_impossible': False}</td>\n",
       "      <td>5.0</td>\n",
       "    </tr>\n",
       "    <tr>\n",
       "      <th>344095</th>\n",
       "      <td>67656</td>\n",
       "      <td>96042</td>\n",
       "      <td>0.0</td>\n",
       "      <td>5.0</td>\n",
       "      <td>{'was_impossible': False}</td>\n",
       "      <td>5.0</td>\n",
       "    </tr>\n",
       "  </tbody>\n",
       "</table>\n",
       "</div>"
      ],
      "text/plain": [
       "        AuthorId  RecipeId  ActualRating  PredictedRating  \\\n",
       "192890     28177     24511           0.0              5.0   \n",
       "321329   1072593    108364           0.0              5.0   \n",
       "335536     37779     37106           0.0              5.0   \n",
       "218665     36944    151220           0.0              5.0   \n",
       "204148     68526    108248           0.0              5.0   \n",
       "87223     229524    209398           0.0              5.0   \n",
       "290906     74904     86868           0.0              5.0   \n",
       "1999      253974    114575           0.0              5.0   \n",
       "228653     68526     76294           0.0              5.0   \n",
       "374418     31914    108364           0.0              5.0   \n",
       "19362     168462     71263           0.0              5.0   \n",
       "334629    383346    310185           0.0              5.0   \n",
       "178768    530501     33671           0.0              5.0   \n",
       "141712    305531     52892           0.0              5.0   \n",
       "406491    427184     83625           0.0              5.0   \n",
       "348670    709541     46262           0.0              5.0   \n",
       "331780    226066     69407           0.0              5.0   \n",
       "174135    237123     25587           0.0              5.0   \n",
       "99811    1175362     89204           0.0              5.0   \n",
       "344095     67656     96042           0.0              5.0   \n",
       "\n",
       "                          Details  RatingDiff  \n",
       "192890  {'was_impossible': False}         5.0  \n",
       "321329  {'was_impossible': False}         5.0  \n",
       "335536  {'was_impossible': False}         5.0  \n",
       "218665  {'was_impossible': False}         5.0  \n",
       "204148  {'was_impossible': False}         5.0  \n",
       "87223   {'was_impossible': False}         5.0  \n",
       "290906  {'was_impossible': False}         5.0  \n",
       "1999    {'was_impossible': False}         5.0  \n",
       "228653  {'was_impossible': False}         5.0  \n",
       "374418  {'was_impossible': False}         5.0  \n",
       "19362   {'was_impossible': False}         5.0  \n",
       "334629  {'was_impossible': False}         5.0  \n",
       "178768  {'was_impossible': False}         5.0  \n",
       "141712  {'was_impossible': False}         5.0  \n",
       "406491  {'was_impossible': False}         5.0  \n",
       "348670  {'was_impossible': False}         5.0  \n",
       "331780  {'was_impossible': False}         5.0  \n",
       "174135  {'was_impossible': False}         5.0  \n",
       "99811   {'was_impossible': False}         5.0  \n",
       "344095  {'was_impossible': False}         5.0  "
      ]
     },
     "execution_count": 62,
     "metadata": {},
     "output_type": "execute_result"
    }
   ],
   "source": [
    "#checking the worst results \n",
    "predictions_df.sort_values(by='RatingDiff').tail(20) #rating diff highest sample"
   ]
  },
  {
   "cell_type": "code",
   "execution_count": 63,
   "metadata": {},
   "outputs": [
    {
     "name": "stdout",
     "output_type": "stream",
     "text": [
      "Proportion of correct predictions: 0.09104482934889858\n"
     ]
    }
   ],
   "source": [
    "print(\"Proportion of correct predictions:\", (predictions_df['RatingDiff'] == 0).mean())"
   ]
  },
  {
   "cell_type": "code",
   "execution_count": 64,
   "metadata": {},
   "outputs": [
    {
     "name": "stdout",
     "output_type": "stream",
     "text": [
      "Proportion of overrated predictions: 0.4118261034962375\n"
     ]
    }
   ],
   "source": [
    "print(\"Proportion of overrated predictions:\", (predictions_df['RatingDiff'] <=1).mean())\n"
   ]
  },
  {
   "cell_type": "code",
   "execution_count": 65,
   "metadata": {},
   "outputs": [
    {
     "name": "stdout",
     "output_type": "stream",
     "text": [
      "Proportion of underrated predictions: 0.9089551706511014\n"
     ]
    }
   ],
   "source": [
    "print(\"Proportion of underrated predictions:\", (predictions_df['RatingDiff'] > 0).mean())"
   ]
  },
  {
   "cell_type": "markdown",
   "metadata": {},
   "source": [
    "It can be seen that within a margin of 1 difference, 41% of the rating predictions are true to actual. Model needs further improvement. "
   ]
  }
 ],
 "metadata": {
  "kernelspec": {
   "display_name": "bigdata_ml",
   "language": "python",
   "name": "python3"
  },
  "language_info": {
   "codemirror_mode": {
    "name": "ipython",
    "version": 3
   },
   "file_extension": ".py",
   "mimetype": "text/x-python",
   "name": "python",
   "nbconvert_exporter": "python",
   "pygments_lexer": "ipython3",
   "version": "3.11.7"
  }
 },
 "nbformat": 4,
 "nbformat_minor": 2
}
