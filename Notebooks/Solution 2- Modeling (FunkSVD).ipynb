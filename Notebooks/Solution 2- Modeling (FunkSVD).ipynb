{
 "cells": [
  {
   "cell_type": "markdown",
   "metadata": {},
   "source": [
    "**Table of contents**<a id='toc0_'></a>    \n",
    "- [Dataset & Libraries](#toc1_)    \n",
    "- [Data Cleaning](#toc2_)    \n",
    "- [Modeling](#toc3_)    \n",
    "    - [Grid Search](#toc3_1_1_)    \n",
    "  - [FunkSVD Model](#toc3_2_)    \n",
    "  - [Predictions & Accuracy](#toc3_3_)    \n",
    "\n",
    "<!-- vscode-jupyter-toc-config\n",
    "\tnumbering=false\n",
    "\tanchor=true\n",
    "\tflat=false\n",
    "\tminLevel=1\n",
    "\tmaxLevel=6\n",
    "\t/vscode-jupyter-toc-config -->\n",
    "<!-- THIS CELL WILL BE REPLACED ON TOC UPDATE. DO NOT WRITE YOUR TEXT IN THIS CELL -->"
   ]
  },
  {
   "cell_type": "markdown",
   "metadata": {},
   "source": [
    "I will now develop a Memory-Based Recommendation system to predict the rating for each recipe based on the historical ratings given. Logic here is that, recipes with similar ratings could get similar rating by a user who has rated one of the two. "
   ]
  },
  {
   "cell_type": "markdown",
   "metadata": {},
   "source": [
    "# <a id='toc1_'></a>[Dataset & Libraries](#toc0_)"
   ]
  },
  {
   "cell_type": "code",
   "execution_count": 4,
   "metadata": {},
   "outputs": [],
   "source": [
    "#lbraries\n",
    "import pandas as pd\n",
    "import numpy as np\n",
    "import matplotlib.pyplot as plt\n"
   ]
  },
  {
   "cell_type": "code",
   "execution_count": 5,
   "metadata": {},
   "outputs": [],
   "source": [
    "#funkSVD libraries\n",
    "from surprise import Dataset\n",
    "from surprise.reader import Reader\n",
    "from surprise.prediction_algorithms.matrix_factorization import SVD as FunkSVD\n",
    "from surprise import accuracy\n",
    "from surprise.model_selection import train_test_split\n",
    "from surprise.model_selection import GridSearchCV"
   ]
  },
  {
   "cell_type": "code",
   "execution_count": 52,
   "metadata": {},
   "outputs": [
    {
     "data": {
      "text/html": [
       "<div>\n",
       "<style scoped>\n",
       "    .dataframe tbody tr th:only-of-type {\n",
       "        vertical-align: middle;\n",
       "    }\n",
       "\n",
       "    .dataframe tbody tr th {\n",
       "        vertical-align: top;\n",
       "    }\n",
       "\n",
       "    .dataframe thead th {\n",
       "        text-align: right;\n",
       "    }\n",
       "</style>\n",
       "<table border=\"1\" class=\"dataframe\">\n",
       "  <thead>\n",
       "    <tr style=\"text-align: right;\">\n",
       "      <th></th>\n",
       "      <th>ReviewId</th>\n",
       "      <th>RecipeId</th>\n",
       "      <th>AuthorId</th>\n",
       "      <th>AuthorName</th>\n",
       "      <th>Rating</th>\n",
       "      <th>Review</th>\n",
       "      <th>DateSubmitted</th>\n",
       "      <th>DateModified</th>\n",
       "    </tr>\n",
       "  </thead>\n",
       "  <tbody>\n",
       "    <tr>\n",
       "      <th>0</th>\n",
       "      <td>2</td>\n",
       "      <td>992</td>\n",
       "      <td>2008</td>\n",
       "      <td>gayg msft</td>\n",
       "      <td>5</td>\n",
       "      <td>better than any you can get at a restaurant!</td>\n",
       "      <td>2000-01-25T21:44:00Z</td>\n",
       "      <td>2000-01-25T21:44:00Z</td>\n",
       "    </tr>\n",
       "    <tr>\n",
       "      <th>1</th>\n",
       "      <td>7</td>\n",
       "      <td>4384</td>\n",
       "      <td>1634</td>\n",
       "      <td>Bill Hilbrich</td>\n",
       "      <td>4</td>\n",
       "      <td>I cut back on the mayo, and made up the differ...</td>\n",
       "      <td>2001-10-17T16:49:59Z</td>\n",
       "      <td>2001-10-17T16:49:59Z</td>\n",
       "    </tr>\n",
       "    <tr>\n",
       "      <th>2</th>\n",
       "      <td>9</td>\n",
       "      <td>4523</td>\n",
       "      <td>2046</td>\n",
       "      <td>Gay Gilmore ckpt</td>\n",
       "      <td>2</td>\n",
       "      <td>i think i did something wrong because i could ...</td>\n",
       "      <td>2000-02-25T09:00:00Z</td>\n",
       "      <td>2000-02-25T09:00:00Z</td>\n",
       "    </tr>\n",
       "    <tr>\n",
       "      <th>3</th>\n",
       "      <td>13</td>\n",
       "      <td>7435</td>\n",
       "      <td>1773</td>\n",
       "      <td>Malarkey Test</td>\n",
       "      <td>5</td>\n",
       "      <td>easily the best i have ever had.  juicy flavor...</td>\n",
       "      <td>2000-03-13T21:15:00Z</td>\n",
       "      <td>2000-03-13T21:15:00Z</td>\n",
       "    </tr>\n",
       "    <tr>\n",
       "      <th>4</th>\n",
       "      <td>14</td>\n",
       "      <td>44</td>\n",
       "      <td>2085</td>\n",
       "      <td>Tony Small</td>\n",
       "      <td>5</td>\n",
       "      <td>An excellent dish.</td>\n",
       "      <td>2000-03-28T12:51:00Z</td>\n",
       "      <td>2000-03-28T12:51:00Z</td>\n",
       "    </tr>\n",
       "  </tbody>\n",
       "</table>\n",
       "</div>"
      ],
      "text/plain": [
       "   ReviewId  RecipeId  AuthorId        AuthorName  Rating  \\\n",
       "0         2       992      2008         gayg msft       5   \n",
       "1         7      4384      1634     Bill Hilbrich       4   \n",
       "2         9      4523      2046  Gay Gilmore ckpt       2   \n",
       "3        13      7435      1773     Malarkey Test       5   \n",
       "4        14        44      2085        Tony Small       5   \n",
       "\n",
       "                                              Review         DateSubmitted  \\\n",
       "0       better than any you can get at a restaurant!  2000-01-25T21:44:00Z   \n",
       "1  I cut back on the mayo, and made up the differ...  2001-10-17T16:49:59Z   \n",
       "2  i think i did something wrong because i could ...  2000-02-25T09:00:00Z   \n",
       "3  easily the best i have ever had.  juicy flavor...  2000-03-13T21:15:00Z   \n",
       "4                                 An excellent dish.  2000-03-28T12:51:00Z   \n",
       "\n",
       "           DateModified  \n",
       "0  2000-01-25T21:44:00Z  \n",
       "1  2001-10-17T16:49:59Z  \n",
       "2  2000-02-25T09:00:00Z  \n",
       "3  2000-03-13T21:15:00Z  \n",
       "4  2000-03-28T12:51:00Z  "
      ]
     },
     "execution_count": 52,
     "metadata": {},
     "output_type": "execute_result"
    }
   ],
   "source": [
    "#datset\n",
    "ratings= pd.read_csv('C:/Users/e312995/OneDrive - WESCO DISTRIBUTION/documents/PERSONAL/BRAINSTATION/CAPSTONE/Datasets/reviews.csv')\n",
    "ratings.head()"
   ]
  },
  {
   "cell_type": "code",
   "execution_count": 53,
   "metadata": {},
   "outputs": [
    {
     "data": {
      "text/plain": [
       "(1401982, 8)"
      ]
     },
     "execution_count": 53,
     "metadata": {},
     "output_type": "execute_result"
    }
   ],
   "source": [
    "#shape\n",
    "ratings.shape"
   ]
  },
  {
   "cell_type": "markdown",
   "metadata": {},
   "source": [
    "# <a id='toc2_'></a>[Data Cleaning](#toc0_)"
   ]
  },
  {
   "cell_type": "markdown",
   "metadata": {},
   "source": [
    "I will quickly check whether the datset contains any null or duplicates."
   ]
  },
  {
   "cell_type": "code",
   "execution_count": 54,
   "metadata": {},
   "outputs": [
    {
     "data": {
      "text/plain": [
       "ReviewId         0.000000\n",
       "RecipeId         0.000000\n",
       "AuthorId         0.000000\n",
       "AuthorName       0.000000\n",
       "Rating           0.000000\n",
       "Review           0.015264\n",
       "DateSubmitted    0.000000\n",
       "DateModified     0.000000\n",
       "dtype: float64"
      ]
     },
     "execution_count": 54,
     "metadata": {},
     "output_type": "execute_result"
    }
   ],
   "source": [
    "#null values as a %\n",
    "ratings.isna().sum()/ratings.shape[0]*100"
   ]
  },
  {
   "cell_type": "markdown",
   "metadata": {},
   "source": [
    "Given that there are no null values in  the rating column, we will not drop any data here. Null % of the review text data is ~0%."
   ]
  },
  {
   "cell_type": "code",
   "execution_count": 55,
   "metadata": {},
   "outputs": [
    {
     "data": {
      "text/plain": [
       "0"
      ]
     },
     "execution_count": 55,
     "metadata": {},
     "output_type": "execute_result"
    }
   ],
   "source": [
    "#duplicated data\n",
    "ratings.duplicated().sum()"
   ]
  },
  {
   "cell_type": "markdown",
   "metadata": {},
   "source": [
    "No duplicate values as well"
   ]
  },
  {
   "cell_type": "code",
   "execution_count": 56,
   "metadata": {},
   "outputs": [
    {
     "data": {
      "text/html": [
       "<div>\n",
       "<style scoped>\n",
       "    .dataframe tbody tr th:only-of-type {\n",
       "        vertical-align: middle;\n",
       "    }\n",
       "\n",
       "    .dataframe tbody tr th {\n",
       "        vertical-align: top;\n",
       "    }\n",
       "\n",
       "    .dataframe thead th {\n",
       "        text-align: right;\n",
       "    }\n",
       "</style>\n",
       "<table border=\"1\" class=\"dataframe\">\n",
       "  <thead>\n",
       "    <tr style=\"text-align: right;\">\n",
       "      <th></th>\n",
       "      <th>ReviewId</th>\n",
       "      <th>RecipeId</th>\n",
       "      <th>AuthorId</th>\n",
       "      <th>AuthorName</th>\n",
       "      <th>Rating</th>\n",
       "      <th>Review</th>\n",
       "      <th>DateSubmitted</th>\n",
       "      <th>DateModified</th>\n",
       "    </tr>\n",
       "  </thead>\n",
       "  <tbody>\n",
       "    <tr>\n",
       "      <th>145848</th>\n",
       "      <td>156476</td>\n",
       "      <td>2137</td>\n",
       "      <td>1533</td>\n",
       "      <td>Dancer</td>\n",
       "      <td>5</td>\n",
       "      <td>OUTSTANDING was the only comments my guests ma...</td>\n",
       "      <td>2005-02-27T09:30:26Z</td>\n",
       "      <td>2005-02-27T09:30:26Z</td>\n",
       "    </tr>\n",
       "    <tr>\n",
       "      <th>62702</th>\n",
       "      <td>69050</td>\n",
       "      <td>2585</td>\n",
       "      <td>1533</td>\n",
       "      <td>Dancer</td>\n",
       "      <td>1</td>\n",
       "      <td>Sorry this wasn't what I expected. I love chic...</td>\n",
       "      <td>2003-09-26T19:27:03Z</td>\n",
       "      <td>2003-09-26T19:27:03Z</td>\n",
       "    </tr>\n",
       "    <tr>\n",
       "      <th>154718</th>\n",
       "      <td>165873</td>\n",
       "      <td>4213</td>\n",
       "      <td>1533</td>\n",
       "      <td>Dancer</td>\n",
       "      <td>5</td>\n",
       "      <td>This is the best I have tasted, I have made it...</td>\n",
       "      <td>2005-04-10T09:43:57Z</td>\n",
       "      <td>2005-04-10T09:43:57Z</td>\n",
       "    </tr>\n",
       "    <tr>\n",
       "      <th>18652</th>\n",
       "      <td>22342</td>\n",
       "      <td>8857</td>\n",
       "      <td>1533</td>\n",
       "      <td>Dancer</td>\n",
       "      <td>5</td>\n",
       "      <td>I'm Dancing around my kitchen, finally I have ...</td>\n",
       "      <td>2002-08-23T17:58:39Z</td>\n",
       "      <td>2002-08-23T17:58:39Z</td>\n",
       "    </tr>\n",
       "    <tr>\n",
       "      <th>142105</th>\n",
       "      <td>152525</td>\n",
       "      <td>10332</td>\n",
       "      <td>1533</td>\n",
       "      <td>Dancer</td>\n",
       "      <td>5</td>\n",
       "      <td>Hi Bergy..Yesterday was a little rushed for me...</td>\n",
       "      <td>2005-02-09T08:03:54Z</td>\n",
       "      <td>2005-02-09T08:03:54Z</td>\n",
       "    </tr>\n",
       "  </tbody>\n",
       "</table>\n",
       "</div>"
      ],
      "text/plain": [
       "        ReviewId  RecipeId  AuthorId AuthorName  Rating  \\\n",
       "145848    156476      2137      1533     Dancer       5   \n",
       "62702      69050      2585      1533     Dancer       1   \n",
       "154718    165873      4213      1533     Dancer       5   \n",
       "18652      22342      8857      1533     Dancer       5   \n",
       "142105    152525     10332      1533     Dancer       5   \n",
       "\n",
       "                                                   Review  \\\n",
       "145848  OUTSTANDING was the only comments my guests ma...   \n",
       "62702   Sorry this wasn't what I expected. I love chic...   \n",
       "154718  This is the best I have tasted, I have made it...   \n",
       "18652   I'm Dancing around my kitchen, finally I have ...   \n",
       "142105  Hi Bergy..Yesterday was a little rushed for me...   \n",
       "\n",
       "               DateSubmitted          DateModified  \n",
       "145848  2005-02-27T09:30:26Z  2005-02-27T09:30:26Z  \n",
       "62702   2003-09-26T19:27:03Z  2003-09-26T19:27:03Z  \n",
       "154718  2005-04-10T09:43:57Z  2005-04-10T09:43:57Z  \n",
       "18652   2002-08-23T17:58:39Z  2002-08-23T17:58:39Z  \n",
       "142105  2005-02-09T08:03:54Z  2005-02-09T08:03:54Z  "
      ]
     },
     "execution_count": 56,
     "metadata": {},
     "output_type": "execute_result"
    }
   ],
   "source": [
    "#sorting the ratiings by the Author and Recipe IDs\n",
    "ratings_ = ratings.sort_values(by=['AuthorId', 'RecipeId'])\n",
    "ratings_.head()"
   ]
  },
  {
   "cell_type": "code",
   "execution_count": 57,
   "metadata": {},
   "outputs": [
    {
     "data": {
      "text/plain": [
       "Rating\n",
       "0      76248\n",
       "1      16559\n",
       "2      17597\n",
       "3      50279\n",
       "4     229217\n",
       "5    1012082\n",
       "Name: RecipeId, dtype: int64"
      ]
     },
     "execution_count": 57,
     "metadata": {},
     "output_type": "execute_result"
    }
   ],
   "source": [
    "#checking the values in the rating column\n",
    "ratings.groupby('Rating')['RecipeId'].count()"
   ]
  },
  {
   "cell_type": "markdown",
   "metadata": {},
   "source": [
    "It is visible that 72% of the ratings are of 5 and 16% of 4 constituting to 88% of high ratings in the dataset and we have 76k recipes with zero ratings. We will check them deeper. "
   ]
  },
  {
   "cell_type": "code",
   "execution_count": 60,
   "metadata": {},
   "outputs": [
    {
     "data": {
      "text/html": [
       "<div>\n",
       "<style scoped>\n",
       "    .dataframe tbody tr th:only-of-type {\n",
       "        vertical-align: middle;\n",
       "    }\n",
       "\n",
       "    .dataframe tbody tr th {\n",
       "        vertical-align: top;\n",
       "    }\n",
       "\n",
       "    .dataframe thead th {\n",
       "        text-align: right;\n",
       "    }\n",
       "</style>\n",
       "<table border=\"1\" class=\"dataframe\">\n",
       "  <thead>\n",
       "    <tr style=\"text-align: right;\">\n",
       "      <th></th>\n",
       "      <th>ReviewId</th>\n",
       "      <th>RecipeId</th>\n",
       "      <th>AuthorId</th>\n",
       "      <th>AuthorName</th>\n",
       "      <th>Rating</th>\n",
       "      <th>Review</th>\n",
       "      <th>DateSubmitted</th>\n",
       "      <th>DateModified</th>\n",
       "    </tr>\n",
       "  </thead>\n",
       "  <tbody>\n",
       "    <tr>\n",
       "      <th>7</th>\n",
       "      <td>21</td>\n",
       "      <td>148</td>\n",
       "      <td>2156</td>\n",
       "      <td>Darlene Blythe</td>\n",
       "      <td>0</td>\n",
       "      <td>Would someone please check the Nutrition Facts...</td>\n",
       "      <td>2000-06-02T10:01:00Z</td>\n",
       "      <td>2000-06-02T10:01:00Z</td>\n",
       "    </tr>\n",
       "    <tr>\n",
       "      <th>34</th>\n",
       "      <td>73</td>\n",
       "      <td>2502</td>\n",
       "      <td>2848</td>\n",
       "      <td>Jeff Lucco</td>\n",
       "      <td>0</td>\n",
       "      <td>Unusual name for a recipe that has no pumpkin ...</td>\n",
       "      <td>2000-10-17T15:03:25Z</td>\n",
       "      <td>2000-10-17T15:03:25Z</td>\n",
       "    </tr>\n",
       "    <tr>\n",
       "      <th>47</th>\n",
       "      <td>91</td>\n",
       "      <td>4165</td>\n",
       "      <td>3166</td>\n",
       "      <td>Debbie Lawton</td>\n",
       "      <td>0</td>\n",
       "      <td>I thought Chicken Cacciatore had peppers. If i...</td>\n",
       "      <td>2000-11-04T09:06:30Z</td>\n",
       "      <td>2000-11-04T09:06:30Z</td>\n",
       "    </tr>\n",
       "    <tr>\n",
       "      <th>56</th>\n",
       "      <td>109</td>\n",
       "      <td>2505</td>\n",
       "      <td>3287</td>\n",
       "      <td>Amy Hayes</td>\n",
       "      <td>0</td>\n",
       "      <td>Terrible directions. Doesn't say how to make t...</td>\n",
       "      <td>2000-11-12T00:13:31Z</td>\n",
       "      <td>2000-11-12T00:13:31Z</td>\n",
       "    </tr>\n",
       "    <tr>\n",
       "      <th>76</th>\n",
       "      <td>138</td>\n",
       "      <td>4048</td>\n",
       "      <td>3504</td>\n",
       "      <td>Christina Branscm</td>\n",
       "      <td>0</td>\n",
       "      <td>makes 2- 9inch pies  or 1 deep dish pie</td>\n",
       "      <td>2000-11-23T13:00:07Z</td>\n",
       "      <td>2000-11-23T13:00:07Z</td>\n",
       "    </tr>\n",
       "  </tbody>\n",
       "</table>\n",
       "</div>"
      ],
      "text/plain": [
       "    ReviewId  RecipeId  AuthorId         AuthorName  Rating  \\\n",
       "7         21       148      2156     Darlene Blythe       0   \n",
       "34        73      2502      2848         Jeff Lucco       0   \n",
       "47        91      4165      3166      Debbie Lawton       0   \n",
       "56       109      2505      3287          Amy Hayes       0   \n",
       "76       138      4048      3504  Christina Branscm       0   \n",
       "\n",
       "                                               Review         DateSubmitted  \\\n",
       "7   Would someone please check the Nutrition Facts...  2000-06-02T10:01:00Z   \n",
       "34  Unusual name for a recipe that has no pumpkin ...  2000-10-17T15:03:25Z   \n",
       "47  I thought Chicken Cacciatore had peppers. If i...  2000-11-04T09:06:30Z   \n",
       "56  Terrible directions. Doesn't say how to make t...  2000-11-12T00:13:31Z   \n",
       "76            makes 2- 9inch pies  or 1 deep dish pie  2000-11-23T13:00:07Z   \n",
       "\n",
       "            DateModified  \n",
       "7   2000-06-02T10:01:00Z  \n",
       "34  2000-10-17T15:03:25Z  \n",
       "47  2000-11-04T09:06:30Z  \n",
       "56  2000-11-12T00:13:31Z  \n",
       "76  2000-11-23T13:00:07Z  "
      ]
     },
     "execution_count": 60,
     "metadata": {},
     "output_type": "execute_result"
    }
   ],
   "source": [
    "ratings[ratings['Rating']==0].head()"
   ]
  },
  {
   "cell_type": "markdown",
   "metadata": {},
   "source": [
    "We cannot conclude whether they are not rated with this data. It could be low rated recipes. "
   ]
  },
  {
   "cell_type": "markdown",
   "metadata": {},
   "source": [
    "# <a id='toc3_'></a>[Modeling](#toc0_)"
   ]
  },
  {
   "cell_type": "markdown",
   "metadata": {},
   "source": [
    "I will use FunkSVD Memory Based recommendations here. "
   ]
  },
  {
   "cell_type": "code",
   "execution_count": 61,
   "metadata": {},
   "outputs": [],
   "source": [
    "#loading data as a special Dataset object\n",
    "my_dataset = Dataset.load_from_df(ratings_[['AuthorId', 'RecipeId', 'Rating']], Reader(rating_scale=(1, 5)))\n"
   ]
  },
  {
   "cell_type": "markdown",
   "metadata": {},
   "source": [
    "### <a id='toc3_1_1_'></a>[Grid Search](#toc0_)"
   ]
  },
  {
   "cell_type": "code",
   "execution_count": null,
   "metadata": {},
   "outputs": [],
   "source": [
    "#grid search to find the best parameters\n",
    "param_grid= {\n",
    "    'n_factors' : [5,10, 15, 20, 25, 30, 40],\n",
    "    'n_epochs' :[2,3,5,7,9,11],\n",
    "    'lr_all' : [0.1, 0.05, 0.005],\n",
    "    'biased': [False]\n",
    "}\n",
    "\n",
    "grid_search= GridSearchCV(FunkSVD, param_grid, measures= ['fcp'], cv=3)\n",
    "grid_search.fit(my_dataset)\n"
   ]
  },
  {
   "cell_type": "markdown",
   "metadata": {},
   "source": [
    "I tried using the above code to do a grid search for the train data set, but it returns an error. Couldnt find the resolve. Hence ran it for the full dataset."
   ]
  },
  {
   "cell_type": "markdown",
   "metadata": {},
   "source": [
    "I will now check the FCP scores for different n_factors"
   ]
  },
  {
   "cell_type": "code",
   "execution_count": 62,
   "metadata": {},
   "outputs": [],
   "source": [
    "#train test split\n",
    "my_train_dataset, my_test_dataset = train_test_split(my_dataset, test_size=0.3)"
   ]
  },
  {
   "cell_type": "code",
   "execution_count": 63,
   "metadata": {},
   "outputs": [
    {
     "name": "stdout",
     "output_type": "stream",
     "text": [
      "FCP:  0.6390\n",
      "FCP:  0.6410\n",
      "FCP:  0.6394\n",
      "FCP:  0.6355\n",
      "FCP:  0.6367\n",
      "FCP:  0.6323\n",
      "FCP:  0.6359\n"
     ]
    }
   ],
   "source": [
    "#model for different n factors \n",
    "fcps = []\n",
    "factors = range(5, 40, 5)\n",
    "for n_factors in factors:\n",
    "    my_algorithm_factors = FunkSVD(n_factors=n_factors,\n",
    "                           n_epochs=5,\n",
    "                           lr_all=0.005,    # Learning rate for each epoch\n",
    "                           biased=False,  # forces the algorithm to store all latent information in the matrices\n",
    "                           verbose=0)\n",
    "\n",
    "    my_algorithm_factors.fit(my_train_dataset)\n",
    "    predictions_factors= my_algorithm_factors.test(my_test_dataset)\n",
    "\n",
    "    FCP_factors= accuracy.fcp(predictions_factors, verbose=5)\n",
    "    FCP_factors= fcps.append(FCP_factors)\n",
    "    \n",
    "  "
   ]
  },
  {
   "cell_type": "code",
   "execution_count": null,
   "metadata": {},
   "outputs": [],
   "source": [
    "#model for different n factors \n",
    "fcps = []\n",
    "factors = range(5, 40, 5)\n",
    "for n_factors in factors:\n",
    "    my_algorithm_factors = FunkSVD(n_factors=n_factors,\n",
    "                           n_epochs=5,\n",
    "                           lr_all=0.005,    # Learning rate for each epoch\n",
    "                           biased=False,  # forces the algorithm to store all latent information in the matrices\n",
    "                           verbose=0)\n",
    "\n",
    "    my_algorithm_factors.fit(my_train_dataset)\n",
    "    predictions_factors= my_algorithm_factors.test(my_test_dataset)\n",
    "\n",
    "    FCP_factors= accuracy.fcp(predictions_factors, verbose=False)\n",
    "    fcps.append(FCP_factors)\n",
    "\n"
   ]
  },
  {
   "cell_type": "code",
   "execution_count": 67,
   "metadata": {},
   "outputs": [
    {
     "data": {
      "image/png": "[encoded data removed]",
      "text/plain": [
       "<Figure size 1500x700 with 1 Axes>"
      ]
     },
     "metadata": {},
     "output_type": "display_data"
    }
   ],
   "source": [
    "#graph visualisation\n",
    "plt.figure(figsize=(15, 7))\n",
    "plt.plot(factors, fcps, color='green', marker= 'o')\n",
    "plt.xlabel(\"Latent Factor Number\")\n",
    "plt.ylabel(\"Fraction of Concordant Pairs\")\n",
    "plt.title(\"Fraction for Concordant Pairs for Various Numbers of Latent Factors\")\n",
    "plt.show()"
   ]
  },
  {
   "cell_type": "markdown",
   "metadata": {},
   "source": [
    "Now checking the best parameters"
   ]
  },
  {
   "cell_type": "markdown",
   "metadata": {},
   "source": [
    "I will now check the FCP scores for different epochs factors"
   ]
  },
  {
   "cell_type": "code",
   "execution_count": 68,
   "metadata": {},
   "outputs": [],
   "source": [
    "#model for different epochs\n",
    "fcps = []\n",
    "epochs = range(1,10,1)\n",
    "for epoch in epochs:\n",
    "    my_algorithm_epochs = FunkSVD(n_factors=5,\n",
    "                           n_epochs=epoch,\n",
    "                           lr_all=0.005,    # learning rate for each epoch\n",
    "                           biased=False,  # forces the algorithm to store all latent information in the matrices\n",
    "                           verbose=0)\n",
    "\n",
    "    my_algorithm_epochs.fit(my_train_dataset)\n",
    "    predictions_epochs= my_algorithm_epochs.test(my_test_dataset)\n",
    "\n",
    "    FCP_epochs= accuracy.fcp(predictions_epochs, verbose=False)\n",
    "    fcps.append(FCP_epochs)"
   ]
  },
  {
   "cell_type": "code",
   "execution_count": 69,
   "metadata": {},
   "outputs": [
    {
     "data": {
      "image/png": "[encoded data removed]",
      "text/plain": [
       "<Figure size 1500x700 with 1 Axes>"
      ]
     },
     "metadata": {},
     "output_type": "display_data"
    }
   ],
   "source": [
    "#graph visualisation\n",
    "plt.figure(figsize=(15, 7))\n",
    "plt.plot(epochs, fcps, color='green', marker= 'o')\n",
    "\n",
    "for i in range(len(factors)):\n",
    "    plt.text(factors[i], fcps[i], \"{:.4f}\".format(fcps[i]), size=8, ha='right') #plotting the x, y attributes with the y values of the data, size, position\n",
    "plt.xlabel(\"Epochs\")\n",
    "plt.ylabel(\"Fraction of Concordant Pairs\")\n",
    "plt.title(\"Fraction for Concordant Pairs for Epochs\")\n",
    "plt.show()"
   ]
  },
  {
   "cell_type": "markdown",
   "metadata": {},
   "source": [
    "Considering above, I will use n_factors=15 and epochs=5 as the hyperparameters"
   ]
  },
  {
   "cell_type": "code",
   "execution_count": 17,
   "metadata": {},
   "outputs": [
    {
     "name": "stdout",
     "output_type": "stream",
     "text": [
      "FCP:  0.6304\n",
      "0.6304407053926779\n"
     ]
    }
   ],
   "source": [
    "final_model= FunkSVD(n_factors=25,\n",
    "                           n_epochs=6,\n",
    "                           lr_all=0.005,    # learning rate for each epoch\n",
    "                           biased=False,  # forces the algorithm to store all latent information in the matrices\n",
    "                           verbose=0)\n",
    "\n",
    "final_model.fit(my_train_dataset)\n",
    "final_predictions= final_model.test(my_test_dataset)\n",
    "\n",
    "FCP= accuracy.fcp(final_predictions, verbose=5)\n",
    "print(FCP)"
   ]
  },
  {
   "cell_type": "markdown",
   "metadata": {},
   "source": [
    "Test accuracy is 0.63 which means 63% of the times predictions were accurate."
   ]
  },
  {
   "cell_type": "markdown",
   "metadata": {},
   "source": [
    "### Code error"
   ]
  },
  {
   "cell_type": "code",
   "execution_count": 21,
   "metadata": {},
   "outputs": [
    {
     "data": {
      "text/plain": [
       "<surprise.prediction_algorithms.matrix_factorization.SVD at 0x165c2e93650>"
      ]
     },
     "execution_count": 21,
     "metadata": {},
     "output_type": "execute_result"
    }
   ],
   "source": [
    "full_train_set= my_dataset.build_full_trainset()\n",
    "final_model.fit(full_train_set)"
   ]
  },
  {
   "cell_type": "code",
   "execution_count": 22,
   "metadata": {},
   "outputs": [
    {
     "ename": "MemoryError",
     "evalue": "",
     "output_type": "error",
     "traceback": [
      "\u001b[1;31m---------------------------------------------------------------------------\u001b[0m",
      "\u001b[1;31mMemoryError\u001b[0m                               Traceback (most recent call last)",
      "Cell \u001b[1;32mIn[22], line 1\u001b[0m\n\u001b[1;32m----> 1\u001b[0m full_test_set \u001b[38;5;241m=\u001b[39m full_train_set\u001b[38;5;241m.\u001b[39mbuild_anti_testset(fill\u001b[38;5;241m=\u001b[39m\u001b[38;5;241m-\u001b[39m\u001b[38;5;241m1\u001b[39m)\n",
      "File \u001b[1;32mc:\\Users\\e312995\\AppData\\Local\\anaconda3\\Lib\\site-packages\\surprise\\trainset.py:237\u001b[0m, in \u001b[0;36mTrainset.build_anti_testset\u001b[1;34m(self, fill)\u001b[0m\n\u001b[0;32m    235\u001b[0m \u001b[38;5;28;01mfor\u001b[39;00m u \u001b[38;5;129;01min\u001b[39;00m \u001b[38;5;28mself\u001b[39m\u001b[38;5;241m.\u001b[39mall_users():\n\u001b[0;32m    236\u001b[0m     user_items \u001b[38;5;241m=\u001b[39m {j \u001b[38;5;28;01mfor\u001b[39;00m (j, _) \u001b[38;5;129;01min\u001b[39;00m \u001b[38;5;28mself\u001b[39m\u001b[38;5;241m.\u001b[39mur[u]}\n\u001b[1;32m--> 237\u001b[0m     anti_testset \u001b[38;5;241m+\u001b[39m\u001b[38;5;241m=\u001b[39m [\n\u001b[0;32m    238\u001b[0m         (\u001b[38;5;28mself\u001b[39m\u001b[38;5;241m.\u001b[39mto_raw_uid(u), \u001b[38;5;28mself\u001b[39m\u001b[38;5;241m.\u001b[39mto_raw_iid(i), fill)\n\u001b[0;32m    239\u001b[0m         \u001b[38;5;28;01mfor\u001b[39;00m i \u001b[38;5;129;01min\u001b[39;00m \u001b[38;5;28mself\u001b[39m\u001b[38;5;241m.\u001b[39mall_items()\n\u001b[0;32m    240\u001b[0m         \u001b[38;5;28;01mif\u001b[39;00m i \u001b[38;5;129;01mnot\u001b[39;00m \u001b[38;5;129;01min\u001b[39;00m user_items\n\u001b[0;32m    241\u001b[0m     ]\n\u001b[0;32m    242\u001b[0m \u001b[38;5;28;01mreturn\u001b[39;00m anti_testset\n",
      "\u001b[1;31mMemoryError\u001b[0m: "
     ]
    }
   ],
   "source": [
    "full_test_set = full_train_set.build_anti_testset(fill=-1)"
   ]
  },
  {
   "cell_type": "markdown",
   "metadata": {},
   "source": [
    "I cannot run beyond this code even with 0.05% of data. Hence I will develop the predicted ratings based on the the original dataset. "
   ]
  },
  {
   "cell_type": "markdown",
   "metadata": {},
   "source": [
    "### Predictions "
   ]
  },
  {
   "cell_type": "code",
   "execution_count": 19,
   "metadata": {},
   "outputs": [],
   "source": [
    "test_predictions= final_model.test(my_test_dataset)"
   ]
  },
  {
   "cell_type": "markdown",
   "metadata": {},
   "source": [
    "It can be seen that test accuracy has improved slightly. I will now load the predictions to a dataframe and check the difference between the predictions & actuals"
   ]
  },
  {
   "cell_type": "code",
   "execution_count": 20,
   "metadata": {},
   "outputs": [
    {
     "data": {
      "text/html": [
       "<div>\n",
       "<style scoped>\n",
       "    .dataframe tbody tr th:only-of-type {\n",
       "        vertical-align: middle;\n",
       "    }\n",
       "\n",
       "    .dataframe tbody tr th {\n",
       "        vertical-align: top;\n",
       "    }\n",
       "\n",
       "    .dataframe thead th {\n",
       "        text-align: right;\n",
       "    }\n",
       "</style>\n",
       "<table border=\"1\" class=\"dataframe\">\n",
       "  <thead>\n",
       "    <tr style=\"text-align: right;\">\n",
       "      <th></th>\n",
       "      <th>AuthorId</th>\n",
       "      <th>RecipeId</th>\n",
       "      <th>ActualRating</th>\n",
       "      <th>PredictedRating</th>\n",
       "      <th>Details</th>\n",
       "    </tr>\n",
       "  </thead>\n",
       "  <tbody>\n",
       "    <tr>\n",
       "      <th>0</th>\n",
       "      <td>48920</td>\n",
       "      <td>236812</td>\n",
       "      <td>5.0</td>\n",
       "      <td>1.000000</td>\n",
       "      <td>{'was_impossible': False}</td>\n",
       "    </tr>\n",
       "    <tr>\n",
       "      <th>1</th>\n",
       "      <td>1743422</td>\n",
       "      <td>203473</td>\n",
       "      <td>5.0</td>\n",
       "      <td>1.321894</td>\n",
       "      <td>{'was_impossible': False}</td>\n",
       "    </tr>\n",
       "    <tr>\n",
       "      <th>2</th>\n",
       "      <td>1157973</td>\n",
       "      <td>80536</td>\n",
       "      <td>2.0</td>\n",
       "      <td>2.034110</td>\n",
       "      <td>{'was_impossible': False}</td>\n",
       "    </tr>\n",
       "    <tr>\n",
       "      <th>3</th>\n",
       "      <td>1800137054</td>\n",
       "      <td>54351</td>\n",
       "      <td>5.0</td>\n",
       "      <td>1.000000</td>\n",
       "      <td>{'was_impossible': False}</td>\n",
       "    </tr>\n",
       "    <tr>\n",
       "      <th>4</th>\n",
       "      <td>916089</td>\n",
       "      <td>178370</td>\n",
       "      <td>3.0</td>\n",
       "      <td>1.000000</td>\n",
       "      <td>{'was_impossible': False}</td>\n",
       "    </tr>\n",
       "    <tr>\n",
       "      <th>...</th>\n",
       "      <td>...</td>\n",
       "      <td>...</td>\n",
       "      <td>...</td>\n",
       "      <td>...</td>\n",
       "      <td>...</td>\n",
       "    </tr>\n",
       "    <tr>\n",
       "      <th>420590</th>\n",
       "      <td>346267</td>\n",
       "      <td>225013</td>\n",
       "      <td>4.0</td>\n",
       "      <td>4.408651</td>\n",
       "      <td>{'was_impossible': True, 'reason': 'User and i...</td>\n",
       "    </tr>\n",
       "    <tr>\n",
       "      <th>420591</th>\n",
       "      <td>57042</td>\n",
       "      <td>183114</td>\n",
       "      <td>0.0</td>\n",
       "      <td>4.408651</td>\n",
       "      <td>{'was_impossible': True, 'reason': 'User and i...</td>\n",
       "    </tr>\n",
       "    <tr>\n",
       "      <th>420592</th>\n",
       "      <td>127933</td>\n",
       "      <td>63785</td>\n",
       "      <td>5.0</td>\n",
       "      <td>4.303352</td>\n",
       "      <td>{'was_impossible': False}</td>\n",
       "    </tr>\n",
       "    <tr>\n",
       "      <th>420593</th>\n",
       "      <td>646969</td>\n",
       "      <td>37190</td>\n",
       "      <td>4.0</td>\n",
       "      <td>1.000000</td>\n",
       "      <td>{'was_impossible': False}</td>\n",
       "    </tr>\n",
       "    <tr>\n",
       "      <th>420594</th>\n",
       "      <td>1802599188</td>\n",
       "      <td>522432</td>\n",
       "      <td>5.0</td>\n",
       "      <td>4.408651</td>\n",
       "      <td>{'was_impossible': True, 'reason': 'User and i...</td>\n",
       "    </tr>\n",
       "  </tbody>\n",
       "</table>\n",
       "<p>420595 rows × 5 columns</p>\n",
       "</div>"
      ],
      "text/plain": [
       "          AuthorId  RecipeId  ActualRating  PredictedRating  \\\n",
       "0            48920    236812           5.0         1.000000   \n",
       "1          1743422    203473           5.0         1.321894   \n",
       "2          1157973     80536           2.0         2.034110   \n",
       "3       1800137054     54351           5.0         1.000000   \n",
       "4           916089    178370           3.0         1.000000   \n",
       "...            ...       ...           ...              ...   \n",
       "420590      346267    225013           4.0         4.408651   \n",
       "420591       57042    183114           0.0         4.408651   \n",
       "420592      127933     63785           5.0         4.303352   \n",
       "420593      646969     37190           4.0         1.000000   \n",
       "420594  1802599188    522432           5.0         4.408651   \n",
       "\n",
       "                                                  Details  \n",
       "0                               {'was_impossible': False}  \n",
       "1                               {'was_impossible': False}  \n",
       "2                               {'was_impossible': False}  \n",
       "3                               {'was_impossible': False}  \n",
       "4                               {'was_impossible': False}  \n",
       "...                                                   ...  \n",
       "420590  {'was_impossible': True, 'reason': 'User and i...  \n",
       "420591  {'was_impossible': True, 'reason': 'User and i...  \n",
       "420592                          {'was_impossible': False}  \n",
       "420593                          {'was_impossible': False}  \n",
       "420594  {'was_impossible': True, 'reason': 'User and i...  \n",
       "\n",
       "[420595 rows x 5 columns]"
      ]
     },
     "execution_count": 20,
     "metadata": {},
     "output_type": "execute_result"
    }
   ],
   "source": [
    "#adding the predictions to a datframe\n",
    "predictions_df = pd.DataFrame(test_predictions, columns=['AuthorId',\n",
    "                                                     'RecipeId',\n",
    "                                                     'ActualRating',\n",
    "                                                     'PredictedRating', \n",
    "                                                     'Details'])\n",
    "\n",
    "predictions_df"
   ]
  },
  {
   "cell_type": "code",
   "execution_count": 21,
   "metadata": {},
   "outputs": [],
   "source": [
    "#checking the difference between the predicted and actual\n",
    "predictions_df['RatingDiff']= abs(predictions_df['PredictedRating']- predictions_df['ActualRating']) #differences"
   ]
  },
  {
   "cell_type": "code",
   "execution_count": 22,
   "metadata": {},
   "outputs": [
    {
     "data": {
      "text/html": [
       "<div>\n",
       "<style scoped>\n",
       "    .dataframe tbody tr th:only-of-type {\n",
       "        vertical-align: middle;\n",
       "    }\n",
       "\n",
       "    .dataframe tbody tr th {\n",
       "        vertical-align: top;\n",
       "    }\n",
       "\n",
       "    .dataframe thead th {\n",
       "        text-align: right;\n",
       "    }\n",
       "</style>\n",
       "<table border=\"1\" class=\"dataframe\">\n",
       "  <thead>\n",
       "    <tr style=\"text-align: right;\">\n",
       "      <th></th>\n",
       "      <th>AuthorId</th>\n",
       "      <th>RecipeId</th>\n",
       "      <th>ActualRating</th>\n",
       "      <th>PredictedRating</th>\n",
       "      <th>Details</th>\n",
       "      <th>RatingDiff</th>\n",
       "    </tr>\n",
       "  </thead>\n",
       "  <tbody>\n",
       "    <tr>\n",
       "      <th>270375</th>\n",
       "      <td>482376</td>\n",
       "      <td>182455</td>\n",
       "      <td>5.0</td>\n",
       "      <td>5.0</td>\n",
       "      <td>{'was_impossible': False}</td>\n",
       "      <td>0.0</td>\n",
       "    </tr>\n",
       "    <tr>\n",
       "      <th>275195</th>\n",
       "      <td>780028</td>\n",
       "      <td>63733</td>\n",
       "      <td>5.0</td>\n",
       "      <td>5.0</td>\n",
       "      <td>{'was_impossible': False}</td>\n",
       "      <td>0.0</td>\n",
       "    </tr>\n",
       "    <tr>\n",
       "      <th>275188</th>\n",
       "      <td>679953</td>\n",
       "      <td>177196</td>\n",
       "      <td>5.0</td>\n",
       "      <td>5.0</td>\n",
       "      <td>{'was_impossible': False}</td>\n",
       "      <td>0.0</td>\n",
       "    </tr>\n",
       "    <tr>\n",
       "      <th>275184</th>\n",
       "      <td>35140</td>\n",
       "      <td>19135</td>\n",
       "      <td>5.0</td>\n",
       "      <td>5.0</td>\n",
       "      <td>{'was_impossible': False}</td>\n",
       "      <td>0.0</td>\n",
       "    </tr>\n",
       "    <tr>\n",
       "      <th>275177</th>\n",
       "      <td>119422</td>\n",
       "      <td>95086</td>\n",
       "      <td>5.0</td>\n",
       "      <td>5.0</td>\n",
       "      <td>{'was_impossible': False}</td>\n",
       "      <td>0.0</td>\n",
       "    </tr>\n",
       "    <tr>\n",
       "      <th>275175</th>\n",
       "      <td>1280189</td>\n",
       "      <td>69173</td>\n",
       "      <td>5.0</td>\n",
       "      <td>5.0</td>\n",
       "      <td>{'was_impossible': False}</td>\n",
       "      <td>0.0</td>\n",
       "    </tr>\n",
       "    <tr>\n",
       "      <th>275173</th>\n",
       "      <td>130447</td>\n",
       "      <td>12431</td>\n",
       "      <td>5.0</td>\n",
       "      <td>5.0</td>\n",
       "      <td>{'was_impossible': False}</td>\n",
       "      <td>0.0</td>\n",
       "    </tr>\n",
       "    <tr>\n",
       "      <th>58113</th>\n",
       "      <td>1313898</td>\n",
       "      <td>27159</td>\n",
       "      <td>1.0</td>\n",
       "      <td>1.0</td>\n",
       "      <td>{'was_impossible': False}</td>\n",
       "      <td>0.0</td>\n",
       "    </tr>\n",
       "    <tr>\n",
       "      <th>275139</th>\n",
       "      <td>133174</td>\n",
       "      <td>83189</td>\n",
       "      <td>5.0</td>\n",
       "      <td>5.0</td>\n",
       "      <td>{'was_impossible': False}</td>\n",
       "      <td>0.0</td>\n",
       "    </tr>\n",
       "    <tr>\n",
       "      <th>275136</th>\n",
       "      <td>46353</td>\n",
       "      <td>32204</td>\n",
       "      <td>5.0</td>\n",
       "      <td>5.0</td>\n",
       "      <td>{'was_impossible': False}</td>\n",
       "      <td>0.0</td>\n",
       "    </tr>\n",
       "    <tr>\n",
       "      <th>275121</th>\n",
       "      <td>481065</td>\n",
       "      <td>49172</td>\n",
       "      <td>1.0</td>\n",
       "      <td>1.0</td>\n",
       "      <td>{'was_impossible': False}</td>\n",
       "      <td>0.0</td>\n",
       "    </tr>\n",
       "    <tr>\n",
       "      <th>58078</th>\n",
       "      <td>4439</td>\n",
       "      <td>85201</td>\n",
       "      <td>5.0</td>\n",
       "      <td>5.0</td>\n",
       "      <td>{'was_impossible': False}</td>\n",
       "      <td>0.0</td>\n",
       "    </tr>\n",
       "    <tr>\n",
       "      <th>275116</th>\n",
       "      <td>192264</td>\n",
       "      <td>63077</td>\n",
       "      <td>5.0</td>\n",
       "      <td>5.0</td>\n",
       "      <td>{'was_impossible': False}</td>\n",
       "      <td>0.0</td>\n",
       "    </tr>\n",
       "    <tr>\n",
       "      <th>275096</th>\n",
       "      <td>88732</td>\n",
       "      <td>90674</td>\n",
       "      <td>5.0</td>\n",
       "      <td>5.0</td>\n",
       "      <td>{'was_impossible': False}</td>\n",
       "      <td>0.0</td>\n",
       "    </tr>\n",
       "    <tr>\n",
       "      <th>58136</th>\n",
       "      <td>209747</td>\n",
       "      <td>170294</td>\n",
       "      <td>5.0</td>\n",
       "      <td>5.0</td>\n",
       "      <td>{'was_impossible': False}</td>\n",
       "      <td>0.0</td>\n",
       "    </tr>\n",
       "    <tr>\n",
       "      <th>275089</th>\n",
       "      <td>407007</td>\n",
       "      <td>3564</td>\n",
       "      <td>5.0</td>\n",
       "      <td>5.0</td>\n",
       "      <td>{'was_impossible': False}</td>\n",
       "      <td>0.0</td>\n",
       "    </tr>\n",
       "    <tr>\n",
       "      <th>58140</th>\n",
       "      <td>211184</td>\n",
       "      <td>122412</td>\n",
       "      <td>5.0</td>\n",
       "      <td>5.0</td>\n",
       "      <td>{'was_impossible': False}</td>\n",
       "      <td>0.0</td>\n",
       "    </tr>\n",
       "    <tr>\n",
       "      <th>58143</th>\n",
       "      <td>593927</td>\n",
       "      <td>8845</td>\n",
       "      <td>5.0</td>\n",
       "      <td>5.0</td>\n",
       "      <td>{'was_impossible': False}</td>\n",
       "      <td>0.0</td>\n",
       "    </tr>\n",
       "    <tr>\n",
       "      <th>275077</th>\n",
       "      <td>633027</td>\n",
       "      <td>20289</td>\n",
       "      <td>5.0</td>\n",
       "      <td>5.0</td>\n",
       "      <td>{'was_impossible': False}</td>\n",
       "      <td>0.0</td>\n",
       "    </tr>\n",
       "    <tr>\n",
       "      <th>275073</th>\n",
       "      <td>95263</td>\n",
       "      <td>50847</td>\n",
       "      <td>5.0</td>\n",
       "      <td>5.0</td>\n",
       "      <td>{'was_impossible': False}</td>\n",
       "      <td>0.0</td>\n",
       "    </tr>\n",
       "  </tbody>\n",
       "</table>\n",
       "</div>"
      ],
      "text/plain": [
       "        AuthorId  RecipeId  ActualRating  PredictedRating  \\\n",
       "270375    482376    182455           5.0              5.0   \n",
       "275195    780028     63733           5.0              5.0   \n",
       "275188    679953    177196           5.0              5.0   \n",
       "275184     35140     19135           5.0              5.0   \n",
       "275177    119422     95086           5.0              5.0   \n",
       "275175   1280189     69173           5.0              5.0   \n",
       "275173    130447     12431           5.0              5.0   \n",
       "58113    1313898     27159           1.0              1.0   \n",
       "275139    133174     83189           5.0              5.0   \n",
       "275136     46353     32204           5.0              5.0   \n",
       "275121    481065     49172           1.0              1.0   \n",
       "58078       4439     85201           5.0              5.0   \n",
       "275116    192264     63077           5.0              5.0   \n",
       "275096     88732     90674           5.0              5.0   \n",
       "58136     209747    170294           5.0              5.0   \n",
       "275089    407007      3564           5.0              5.0   \n",
       "58140     211184    122412           5.0              5.0   \n",
       "58143     593927      8845           5.0              5.0   \n",
       "275077    633027     20289           5.0              5.0   \n",
       "275073     95263     50847           5.0              5.0   \n",
       "\n",
       "                          Details  RatingDiff  \n",
       "270375  {'was_impossible': False}         0.0  \n",
       "275195  {'was_impossible': False}         0.0  \n",
       "275188  {'was_impossible': False}         0.0  \n",
       "275184  {'was_impossible': False}         0.0  \n",
       "275177  {'was_impossible': False}         0.0  \n",
       "275175  {'was_impossible': False}         0.0  \n",
       "275173  {'was_impossible': False}         0.0  \n",
       "58113   {'was_impossible': False}         0.0  \n",
       "275139  {'was_impossible': False}         0.0  \n",
       "275136  {'was_impossible': False}         0.0  \n",
       "275121  {'was_impossible': False}         0.0  \n",
       "58078   {'was_impossible': False}         0.0  \n",
       "275116  {'was_impossible': False}         0.0  \n",
       "275096  {'was_impossible': False}         0.0  \n",
       "58136   {'was_impossible': False}         0.0  \n",
       "275089  {'was_impossible': False}         0.0  \n",
       "58140   {'was_impossible': False}         0.0  \n",
       "58143   {'was_impossible': False}         0.0  \n",
       "275077  {'was_impossible': False}         0.0  \n",
       "275073  {'was_impossible': False}         0.0  "
      ]
     },
     "execution_count": 22,
     "metadata": {},
     "output_type": "execute_result"
    }
   ],
   "source": [
    "#checking the best results \n",
    "predictions_df.sort_values(by='RatingDiff').head(20) #rating diff zero sample"
   ]
  },
  {
   "cell_type": "code",
   "execution_count": 47,
   "metadata": {},
   "outputs": [
    {
     "data": {
      "text/html": [
       "<div>\n",
       "<style scoped>\n",
       "    .dataframe tbody tr th:only-of-type {\n",
       "        vertical-align: middle;\n",
       "    }\n",
       "\n",
       "    .dataframe tbody tr th {\n",
       "        vertical-align: top;\n",
       "    }\n",
       "\n",
       "    .dataframe thead th {\n",
       "        text-align: right;\n",
       "    }\n",
       "</style>\n",
       "<table border=\"1\" class=\"dataframe\">\n",
       "  <thead>\n",
       "    <tr style=\"text-align: right;\">\n",
       "      <th></th>\n",
       "      <th>AuthorId</th>\n",
       "      <th>RecipeId</th>\n",
       "      <th>ActualRating</th>\n",
       "      <th>PredictedRating</th>\n",
       "      <th>Details</th>\n",
       "      <th>RatingDiff</th>\n",
       "    </tr>\n",
       "  </thead>\n",
       "  <tbody>\n",
       "    <tr>\n",
       "      <th>130846</th>\n",
       "      <td>604324</td>\n",
       "      <td>285900</td>\n",
       "      <td>0.0</td>\n",
       "      <td>5.0</td>\n",
       "      <td>{'was_impossible': False}</td>\n",
       "      <td>5.0</td>\n",
       "    </tr>\n",
       "    <tr>\n",
       "      <th>326123</th>\n",
       "      <td>130663</td>\n",
       "      <td>86933</td>\n",
       "      <td>0.0</td>\n",
       "      <td>5.0</td>\n",
       "      <td>{'was_impossible': False}</td>\n",
       "      <td>5.0</td>\n",
       "    </tr>\n",
       "    <tr>\n",
       "      <th>236417</th>\n",
       "      <td>164610</td>\n",
       "      <td>33330</td>\n",
       "      <td>0.0</td>\n",
       "      <td>5.0</td>\n",
       "      <td>{'was_impossible': False}</td>\n",
       "      <td>5.0</td>\n",
       "    </tr>\n",
       "    <tr>\n",
       "      <th>375946</th>\n",
       "      <td>673444</td>\n",
       "      <td>259573</td>\n",
       "      <td>0.0</td>\n",
       "      <td>5.0</td>\n",
       "      <td>{'was_impossible': False}</td>\n",
       "      <td>5.0</td>\n",
       "    </tr>\n",
       "    <tr>\n",
       "      <th>333706</th>\n",
       "      <td>139381</td>\n",
       "      <td>35805</td>\n",
       "      <td>0.0</td>\n",
       "      <td>5.0</td>\n",
       "      <td>{'was_impossible': False}</td>\n",
       "      <td>5.0</td>\n",
       "    </tr>\n",
       "    <tr>\n",
       "      <th>61142</th>\n",
       "      <td>95743</td>\n",
       "      <td>53758</td>\n",
       "      <td>0.0</td>\n",
       "      <td>5.0</td>\n",
       "      <td>{'was_impossible': False}</td>\n",
       "      <td>5.0</td>\n",
       "    </tr>\n",
       "    <tr>\n",
       "      <th>354610</th>\n",
       "      <td>207176</td>\n",
       "      <td>15027</td>\n",
       "      <td>0.0</td>\n",
       "      <td>5.0</td>\n",
       "      <td>{'was_impossible': False}</td>\n",
       "      <td>5.0</td>\n",
       "    </tr>\n",
       "    <tr>\n",
       "      <th>18437</th>\n",
       "      <td>308765</td>\n",
       "      <td>33869</td>\n",
       "      <td>0.0</td>\n",
       "      <td>5.0</td>\n",
       "      <td>{'was_impossible': False}</td>\n",
       "      <td>5.0</td>\n",
       "    </tr>\n",
       "    <tr>\n",
       "      <th>112129</th>\n",
       "      <td>722619</td>\n",
       "      <td>12458</td>\n",
       "      <td>0.0</td>\n",
       "      <td>5.0</td>\n",
       "      <td>{'was_impossible': False}</td>\n",
       "      <td>5.0</td>\n",
       "    </tr>\n",
       "    <tr>\n",
       "      <th>409377</th>\n",
       "      <td>593927</td>\n",
       "      <td>235805</td>\n",
       "      <td>0.0</td>\n",
       "      <td>5.0</td>\n",
       "      <td>{'was_impossible': False}</td>\n",
       "      <td>5.0</td>\n",
       "    </tr>\n",
       "    <tr>\n",
       "      <th>28032</th>\n",
       "      <td>409184</td>\n",
       "      <td>31235</td>\n",
       "      <td>0.0</td>\n",
       "      <td>5.0</td>\n",
       "      <td>{'was_impossible': False}</td>\n",
       "      <td>5.0</td>\n",
       "    </tr>\n",
       "    <tr>\n",
       "      <th>249977</th>\n",
       "      <td>192264</td>\n",
       "      <td>41246</td>\n",
       "      <td>0.0</td>\n",
       "      <td>5.0</td>\n",
       "      <td>{'was_impossible': False}</td>\n",
       "      <td>5.0</td>\n",
       "    </tr>\n",
       "    <tr>\n",
       "      <th>278991</th>\n",
       "      <td>127933</td>\n",
       "      <td>9351</td>\n",
       "      <td>0.0</td>\n",
       "      <td>5.0</td>\n",
       "      <td>{'was_impossible': False}</td>\n",
       "      <td>5.0</td>\n",
       "    </tr>\n",
       "    <tr>\n",
       "      <th>405517</th>\n",
       "      <td>55729</td>\n",
       "      <td>12458</td>\n",
       "      <td>0.0</td>\n",
       "      <td>5.0</td>\n",
       "      <td>{'was_impossible': False}</td>\n",
       "      <td>5.0</td>\n",
       "    </tr>\n",
       "    <tr>\n",
       "      <th>329434</th>\n",
       "      <td>55578</td>\n",
       "      <td>11530</td>\n",
       "      <td>0.0</td>\n",
       "      <td>5.0</td>\n",
       "      <td>{'was_impossible': False}</td>\n",
       "      <td>5.0</td>\n",
       "    </tr>\n",
       "    <tr>\n",
       "      <th>199613</th>\n",
       "      <td>546010</td>\n",
       "      <td>38607</td>\n",
       "      <td>0.0</td>\n",
       "      <td>5.0</td>\n",
       "      <td>{'was_impossible': False}</td>\n",
       "      <td>5.0</td>\n",
       "    </tr>\n",
       "    <tr>\n",
       "      <th>272229</th>\n",
       "      <td>233495</td>\n",
       "      <td>53914</td>\n",
       "      <td>0.0</td>\n",
       "      <td>5.0</td>\n",
       "      <td>{'was_impossible': False}</td>\n",
       "      <td>5.0</td>\n",
       "    </tr>\n",
       "    <tr>\n",
       "      <th>163378</th>\n",
       "      <td>429769</td>\n",
       "      <td>40022</td>\n",
       "      <td>0.0</td>\n",
       "      <td>5.0</td>\n",
       "      <td>{'was_impossible': False}</td>\n",
       "      <td>5.0</td>\n",
       "    </tr>\n",
       "    <tr>\n",
       "      <th>144823</th>\n",
       "      <td>2123645</td>\n",
       "      <td>123993</td>\n",
       "      <td>0.0</td>\n",
       "      <td>5.0</td>\n",
       "      <td>{'was_impossible': False}</td>\n",
       "      <td>5.0</td>\n",
       "    </tr>\n",
       "    <tr>\n",
       "      <th>212769</th>\n",
       "      <td>1320105</td>\n",
       "      <td>69983</td>\n",
       "      <td>0.0</td>\n",
       "      <td>5.0</td>\n",
       "      <td>{'was_impossible': False}</td>\n",
       "      <td>5.0</td>\n",
       "    </tr>\n",
       "  </tbody>\n",
       "</table>\n",
       "</div>"
      ],
      "text/plain": [
       "        AuthorId  RecipeId  ActualRating  PredictedRating  \\\n",
       "130846    604324    285900           0.0              5.0   \n",
       "326123    130663     86933           0.0              5.0   \n",
       "236417    164610     33330           0.0              5.0   \n",
       "375946    673444    259573           0.0              5.0   \n",
       "333706    139381     35805           0.0              5.0   \n",
       "61142      95743     53758           0.0              5.0   \n",
       "354610    207176     15027           0.0              5.0   \n",
       "18437     308765     33869           0.0              5.0   \n",
       "112129    722619     12458           0.0              5.0   \n",
       "409377    593927    235805           0.0              5.0   \n",
       "28032     409184     31235           0.0              5.0   \n",
       "249977    192264     41246           0.0              5.0   \n",
       "278991    127933      9351           0.0              5.0   \n",
       "405517     55729     12458           0.0              5.0   \n",
       "329434     55578     11530           0.0              5.0   \n",
       "199613    546010     38607           0.0              5.0   \n",
       "272229    233495     53914           0.0              5.0   \n",
       "163378    429769     40022           0.0              5.0   \n",
       "144823   2123645    123993           0.0              5.0   \n",
       "212769   1320105     69983           0.0              5.0   \n",
       "\n",
       "                          Details  RatingDiff  \n",
       "130846  {'was_impossible': False}         5.0  \n",
       "326123  {'was_impossible': False}         5.0  \n",
       "236417  {'was_impossible': False}         5.0  \n",
       "375946  {'was_impossible': False}         5.0  \n",
       "333706  {'was_impossible': False}         5.0  \n",
       "61142   {'was_impossible': False}         5.0  \n",
       "354610  {'was_impossible': False}         5.0  \n",
       "18437   {'was_impossible': False}         5.0  \n",
       "112129  {'was_impossible': False}         5.0  \n",
       "409377  {'was_impossible': False}         5.0  \n",
       "28032   {'was_impossible': False}         5.0  \n",
       "249977  {'was_impossible': False}         5.0  \n",
       "278991  {'was_impossible': False}         5.0  \n",
       "405517  {'was_impossible': False}         5.0  \n",
       "329434  {'was_impossible': False}         5.0  \n",
       "199613  {'was_impossible': False}         5.0  \n",
       "272229  {'was_impossible': False}         5.0  \n",
       "163378  {'was_impossible': False}         5.0  \n",
       "144823  {'was_impossible': False}         5.0  \n",
       "212769  {'was_impossible': False}         5.0  "
      ]
     },
     "execution_count": 47,
     "metadata": {},
     "output_type": "execute_result"
    }
   ],
   "source": [
    "#checking the worst results \n",
    "predictions_df.sort_values(by='RatingDiff').tail(20) #rating diff highest sample"
   ]
  },
  {
   "cell_type": "code",
   "execution_count": 43,
   "metadata": {},
   "outputs": [
    {
     "name": "stdout",
     "output_type": "stream",
     "text": [
      "Proportion of correct predictions: 0.0839334751958535\n"
     ]
    }
   ],
   "source": [
    "print(\"Proportion of correct predictions:\", (predictions_df['RatingDiff'] == 0).mean())"
   ]
  },
  {
   "cell_type": "code",
   "execution_count": 46,
   "metadata": {},
   "outputs": [
    {
     "name": "stdout",
     "output_type": "stream",
     "text": [
      "Proportion of overrated predictions: 0.398138351620918\n"
     ]
    }
   ],
   "source": [
    "print(\"Proportion of overrated predictions:\", (predictions_df['RatingDiff'] <=1).mean())\n"
   ]
  },
  {
   "cell_type": "code",
   "execution_count": 45,
   "metadata": {},
   "outputs": [
    {
     "name": "stdout",
     "output_type": "stream",
     "text": [
      "Proportion of underrated predictions: 0.9160665248041465\n"
     ]
    }
   ],
   "source": [
    "print(\"Proportion of underrated predictions:\", (predictions_df['RatingDiff'] > 0).mean())"
   ]
  },
  {
   "cell_type": "code",
   "execution_count": 32,
   "metadata": {},
   "outputs": [
    {
     "data": {
      "text/plain": [
       "(385293, 6)"
      ]
     },
     "execution_count": 32,
     "metadata": {},
     "output_type": "execute_result"
    }
   ],
   "source": [
    "diff_pred_1= pd.DataFrame(predictions_df[predictions_df['RatingDiff'] >0])\n",
    "diff_pred_1.shape"
   ]
  },
  {
   "cell_type": "code",
   "execution_count": 33,
   "metadata": {},
   "outputs": [
    {
     "data": {
      "text/plain": [
       "(0, 6)"
      ]
     },
     "execution_count": 33,
     "metadata": {},
     "output_type": "execute_result"
    }
   ],
   "source": [
    "diff_pred_2= pd.DataFrame(predictions_df[predictions_df['RatingDiff'] <0])\n",
    "diff_pred_2.shape"
   ]
  }
 ],
 "metadata": {
  "kernelspec": {
   "display_name": "bigdata_ml",
   "language": "python",
   "name": "python3"
  },
  "language_info": {
   "codemirror_mode": {
    "name": "ipython",
    "version": 3
   },
   "file_extension": ".py",
   "mimetype": "text/x-python",
   "name": "python",
   "nbconvert_exporter": "python",
   "pygments_lexer": "ipython3",
   "version": "3.11.7"
  }
 },
 "nbformat": 4,
 "nbformat_minor": 2
}
