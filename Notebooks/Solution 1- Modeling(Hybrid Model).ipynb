{
  "cells": [
    {
      "cell_type": "markdown",
      "id": "134832f3",
      "metadata": {},
      "source": [
        "**Table of contents**<a id='toc0_'></a>    \n",
        "- [Importing Dataset & Libraries](#toc1_1_)    \n",
        "- [Option 1- Search by Ingredients](#toc2_)    \n",
        "  - [Tokenization](#toc2_1_)    \n",
        "  - [Modeling](#toc2_2_)    \n",
        "    - [Word2vec](#toc2_2_1_)    \n",
        "    - [Hyperparameter Evaluation](#toc2_2_2_)    \n",
        "    - [Word Embeddings](#toc2_2_3_)    \n",
        "  - [Vectorisation & Recommendation](#toc2_3_)    \n",
        "- [Option 2 : Search by Keywords](#toc3_)    \n",
        "    - [Tokenization](#toc3_1_1_)    \n",
        "    - [Modeling](#toc3_1_2_)    \n",
        "      - [Word2Vec](#toc3_1_2_1_)    \n",
        "      - [Hyperparameter Evaluation](#toc3_1_2_2_)    \n",
        "    - [Vectorization & Recommendation](#toc3_1_3_)    \n",
        "- [Option 3 : Search by Ingredients & Keywords both together](#toc4_)    \n",
        "  - [Tokenization](#toc4_1_)    \n",
        "  - [Modeling](#toc4_2_)    \n",
        "  - [Vectorization & Recommendation](#toc4_3_)    \n",
        "- [Memory Based Filtering](#toc5_)    \n",
        "\n",
        "<!-- vscode-jupyter-toc-config\n",
        "\tnumbering=false\n",
        "\tanchor=true\n",
        "\tflat=false\n",
        "\tminLevel=1\n",
        "\tmaxLevel=6\n",
        "\t/vscode-jupyter-toc-config -->\n",
        "<!-- THIS CELL WILL BE REPLACED ON TOC UPDATE. DO NOT WRITE YOUR TEXT IN THIS CELL -->"
      ]
    },
    {
      "cell_type": "markdown",
      "id": "23ddf96a",
      "metadata": {},
      "source": [
        "## <a id='toc1_1_'></a>[Importing Dataset & Libraries](#toc0_)\n"
      ]
    },
    {
      "cell_type": "markdown",
      "id": "8d811087",
      "metadata": {},
      "source": [
        "In thi section, I will explore Word2Vec vectorization for modeling and recommendations."
      ]
    },
    {
      "cell_type": "code",
      "execution_count": 1,
      "id": "3ba7adee",
      "metadata": {
        "id": "3ba7adee"
      },
      "outputs": [],
      "source": [
        "#importing the basic libraries\n",
        "import numpy as np\n",
        "import pandas as pd\n",
        "import matplotlib.pyplot as plt\n"
      ]
    },
    {
      "cell_type": "code",
      "execution_count": 2,
      "id": "-3Uc8d669LhS",
      "metadata": {
        "colab": {
          "base_uri": "https://localhost:8080/",
          "height": 461
        },
        "id": "-3Uc8d669LhS",
        "outputId": "52eba7d2-1481-4222-ab35-6038ed585fe4"
      },
      "outputs": [
        {
          "name": "stderr",
          "output_type": "stream",
          "text": [
            "[nltk_data] Downloading package stopwords to\n",
            "[nltk_data]     /Users/anupajayakody/nltk_data...\n",
            "[nltk_data]   Package stopwords is already up-to-date!\n"
          ]
        }
      ],
      "source": [
        "# #importing the word processing libraries\n",
        "\n",
        "\n",
        "#  #importing the regex library\n",
        "import re\n",
        "\n",
        "# #importing the nltk library\n",
        "import nltk\n",
        "\n",
        "\n",
        "# #lemmatizer\n",
        "from nltk.stem import WordNetLemmatizer\n",
        "\n",
        "# #  nltk stopwords\n",
        "nltk.download('stopwords')\n",
        "from nltk.corpus import stopwords\n",
        "\n",
        "# #defining the stop words\n",
        "ENGLISH_STOP_WORDS = stopwords.words('english')\n",
        "\n",
        "# #library to handle punctuation\n",
        "import string\n",
        "\n",
        "# #counter library\n",
        "from collections import Counter\n",
        "\n",
        "# import spacy\n",
        "\n",
        "# #speech tagging library\n",
        "from nltk import pos_tag\n",
        "\n",
        "#library for word embedding\n",
        "from gensim.models import Word2Vec\n",
        "from gensim.models.phrases import Phrases, Phraser\n",
        "from sklearn.feature_extraction.text import TfidfVectorizer\n",
        "from nltk.tokenize import word_tokenize\n",
        "from collections import defaultdict\n",
        "from sklearn.metrics.pairwise import cosine_similarity\n",
        "\n",
        "import string"
      ]
    },
    {
      "cell_type": "code",
      "execution_count": 3,
      "id": "62c380af",
      "metadata": {
        "colab": {
          "base_uri": "https://localhost:8080/",
          "height": 339
        },
        "id": "62c380af",
        "outputId": "4a48149b-66c2-435e-f5b9-f4fcaf3b832a"
      },
      "outputs": [],
      "source": [
        "#loading the cleaned dataset\n",
        "recipes = pd.read_csv('../Docs/Datasets/recipes_cleaned.csv')"
      ]
    },
    {
      "cell_type": "code",
      "execution_count": 4,
      "id": "e5c557af",
      "metadata": {},
      "outputs": [
        {
          "data": {
            "text/plain": [
              "(521766, 32)"
            ]
          },
          "execution_count": 4,
          "metadata": {},
          "output_type": "execute_result"
        }
      ],
      "source": [
        "#checking\n",
        "recipes.shape"
      ]
    },
    {
      "cell_type": "code",
      "execution_count": 5,
      "id": "57c11c39",
      "metadata": {},
      "outputs": [
        {
          "data": {
            "text/plain": [
              "Index(['Unnamed: 0', 'RecipeId', 'Name', 'AuthorId', 'AuthorName', 'CookTime',\n",
              "       'PrepTime', 'TotalTime', 'DatePublished', 'Description', 'Images',\n",
              "       'RecipeCategory', 'Keywords', 'RecipeIngredientQuantities',\n",
              "       'RecipeIngredientParts', 'AggregatedRating', 'ReviewCount', 'Calories',\n",
              "       'FatContent', 'SaturatedFatContent', 'CholesterolContent',\n",
              "       'SodiumContent', 'CarbohydrateContent', 'FiberContent', 'SugarContent',\n",
              "       'ProteinContent', 'RecipeServings', 'RecipeYield', 'RecipeInstructions',\n",
              "       'length of ingredients', 'length_of_titles', 'Vegan/Not'],\n",
              "      dtype='object')"
            ]
          },
          "execution_count": 5,
          "metadata": {},
          "output_type": "execute_result"
        }
      ],
      "source": [
        "recipes.columns"
      ]
    },
    {
      "cell_type": "markdown",
      "id": "4bef38f7",
      "metadata": {},
      "source": [
        "# <a id='toc2_'></a>[Option 1- Search by Ingredients](#toc0_)"
      ]
    },
    {
      "cell_type": "markdown",
      "id": "588a7648",
      "metadata": {},
      "source": [
        "## <a id='toc2_1_'></a>[Tokenization](#toc0_)"
      ]
    },
    {
      "cell_type": "markdown",
      "id": "8c62f2a1",
      "metadata": {
        "id": "8c62f2a1"
      },
      "source": [
        "As the next step, I will be refining the ingredients data to avoid biases from different words and to have more consistency for comparsion of the input data vs the recipe data in the database"
      ]
    },
    {
      "cell_type": "markdown",
      "id": "NgAIBeBk9LhX",
      "metadata": {
        "id": "NgAIBeBk9LhX"
      },
      "source": [
        "In Sprint 1, I followed a process where I had multiple lines of codes for each data cleaning step, here I am creating one parser function which can be used to clean both ingredients and title columns. Furthermore in Sprint 1, my ingredients were cleaned in a way that an example of 'red cabbage' would produce 2 tokens red and cabbage seperately, but in the project context, these words should remain in the original form as red cabbage to make sense. So I have changed my cleaning steps to incorporate that."
      ]
    },
    {
      "cell_type": "markdown",
      "id": "_u4AMZOe9LhX",
      "metadata": {
        "id": "_u4AMZOe9LhX"
      },
      "source": [
        "As the recipes will usually contain alot of measuring terms and this will repeat, I will remove them from the list for the cleaning purpose to remove the biases from them."
      ]
    },
    {
      "cell_type": "markdown",
      "id": "8VPE8eel9Lhc",
      "metadata": {
        "id": "8VPE8eel9Lhc"
      },
      "source": [
        "Next I will\n",
        "- break each ingredient list to tokens/words\n",
        "- lower case\n",
        "- remove stop words\n",
        "- remove verbs\n",
        "- remove measuring word\n",
        "- remove characters and numbers\n",
        "\n",
        "All this is done to remove any impact from those words/tokens to the tool as the recommendation engine should only map for the true ingredients."
      ]
    },
    {
      "cell_type": "code",
      "execution_count": 6,
      "id": "it4Ec-TQ9Lhc",
      "metadata": {
        "id": "it4Ec-TQ9Lhc"
      },
      "outputs": [],
      "source": [
        "def parser(input_keys): #function\n",
        "    \n",
        "    remove_= { 'oil', 'salt', 'pepper'}\n",
        "\n",
        "#defining measuring units\n",
        "\n",
        "    measurment_url= 'https://en.wikibooks.org/wiki/Cookbook:Units_of_measurement' #data source\n",
        "\n",
        "\n",
        "    measuring_words= ['ml', 'mL', 'milliliter', 'millilitre', 'cc' , 'cubic centimeter', 'l', 'L', 'liter', 'litre', 'dl', 'dL', 'deciliter', 'decilitre', 'teaspoon', 't' , 'tsp.',\n",
        "'tablespoon' , 'T', 'tbl', 'tbs', 'tbsp', 'fluid ounce', 'fl oz',  'gill', 'cup',  'c', 'pint', 'p', 'pt', 'fl pt',\n",
        "'quart', 'q', 'qt', 'fl qt', 'gallon' , 'g' , 'gal' , 'g', 'milligram', 'milligramme', 'g' , 'gram' , 'gramme', 'kg',\n",
        "'kilogram', 'kilogramme', 'pound', 'lb', 'ounce', 'oz', 'mm', 'millimeter', 'millimetre', 'cm' , 'centimeter', 'centimetre', 'm' , 'meter',\n",
        "'metre', 'inch', 'in', 'yard', '°C' , 'degree celsius','°F' ,'Farenheit', 'tsp']\n",
        "\n",
        "\n",
        "\n",
        "    ingredients_list = re.split(',', input_keys) #splitting the ingredients by commas\n",
        "\n",
        "    cleaned_ingredients = [] #new list to store cleaned ingredients\n",
        "\n",
        "    lemmatizer = WordNetLemmatizer() #lemmatizer\n",
        "\n",
        "    for ingredient in ingredients_list:\n",
        "        items = re.split(' ', ingredient)  #splitting each ingredient by space to process and clean each individual word\n",
        "\n",
        "        items = [word for word in items if word.isalpha()] #filtering only letters\n",
        "\n",
        "        items = [word.lower() for word in items] #lowercasing\n",
        "\n",
        "        items = [lemmatizer.lemmatize(word) for word in items] #lemmatizing\n",
        "\n",
        "        items = [word for word in items if word not in ENGLISH_STOP_WORDS] #removing stop words\n",
        "\n",
        "        items = [word for word in items if word not in measuring_words] #removing measuring words\n",
        "\n",
        "        items = [word for word in items if word not in remove_]\n",
        "\n",
        "        if items:\n",
        "            cleaned_ingredients.append(' '.join(items) ) #joining the individual words of the ingredient seperated by space\n",
        "    \n",
        "\n",
        "    return cleaned_ingredients #return the list\n"
      ]
    },
    {
      "cell_type": "markdown",
      "id": "Rwhw4k0J9Lhc",
      "metadata": {
        "id": "Rwhw4k0J9Lhc"
      },
      "source": [
        "Perfect, I have my ingredients seperated by a comma in original form."
      ]
    },
    {
      "cell_type": "markdown",
      "id": "ddd19d81",
      "metadata": {},
      "source": [
        "## <a id='toc2_2_'></a>[Modeling](#toc0_)"
      ]
    },
    {
      "cell_type": "markdown",
      "id": "2729ba7b",
      "metadata": {},
      "source": [
        "### <a id='toc2_2_1_'></a>[Word2vec](#toc0_)"
      ]
    },
    {
      "cell_type": "markdown",
      "id": "UDLVxtyp9Lhh",
      "metadata": {
        "id": "UDLVxtyp9Lhh"
      },
      "source": [
        "Since this is a text analysis, I will use Word2vec which will enable creating embeddings for each word which then can be  converted to a vector for further analysis."
      ]
    },
    {
      "cell_type": "code",
      "execution_count": 7,
      "id": "b5d5b5e9",
      "metadata": {},
      "outputs": [
        {
          "data": {
            "text/plain": [
              "0         blueberries, granulated sugar, vanilla yogurt,...\n",
              "1         saffron, milk, hot green chili peppers, onions...\n",
              "2         sugar, lemons, rind of, lemon, zest of, fresh ...\n",
              "3         extra firm tofu, eggplant, zucchini, mushrooms...\n",
              "4         plain tomato juice, cabbage, onion, carrots, c...\n",
              "                                ...                        \n",
              "521761    fresh ginger, unsalted butter, dark brown suga...\n",
              "521762    Dijon mustard, garlic, peppercorns, shallot, c...\n",
              "521763            half-and-half, heavy cream, brandy, sugar\n",
              "521764    wasabi paste, dill, English cucumber, smoked s...\n",
              "521765    hard-boiled eggs, breakfast sausage, panko bre...\n",
              "Name: RecipeIngredientParts, Length: 521766, dtype: object"
            ]
          },
          "execution_count": 7,
          "metadata": {},
          "output_type": "execute_result"
        }
      ],
      "source": [
        "ingredients= recipes['RecipeIngredientParts']\n",
        "ingredients"
      ]
    },
    {
      "cell_type": "code",
      "execution_count": 8,
      "id": "51qjy3W19Lhi",
      "metadata": {
        "id": "51qjy3W19Lhi",
        "outputId": "fb3c78cb-474c-4147-9835-8296bd0caa79"
      },
      "outputs": [],
      "source": [
        "#getting the parsed ingredients for the model\n",
        "ingredients= recipes['RecipeIngredientParts']\n",
        "ingredients_cleaned = ingredients.apply(parser)\n",
        "\n",
        "#word2vec model with starting parameters\n",
        "phrases_model=Word2Vec(sentences=ingredients_cleaned,min_count=1, sg=0, window=15, workers=8, vector_size=300, compute_loss=True)  #used min_count=1 to avoid any ingredient being missed out"
      ]
    },
    {
      "cell_type": "code",
      "execution_count": 9,
      "id": "f8c72041",
      "metadata": {},
      "outputs": [
        {
          "data": {
            "text/plain": [
              "pandas.core.series.Series"
            ]
          },
          "execution_count": 9,
          "metadata": {},
          "output_type": "execute_result"
        }
      ],
      "source": [
        "type(ingredients_cleaned)"
      ]
    },
    {
      "cell_type": "markdown",
      "id": "3da4f1b9",
      "metadata": {},
      "source": [
        "### <a id='toc2_2_2_'></a>[Hyperparameter Evaluation](#toc0_)"
      ]
    },
    {
      "cell_type": "markdown",
      "id": "860c6314",
      "metadata": {},
      "source": [
        "Now I will check different options with the model to check which gives the lowest compute loss"
      ]
    },
    {
      "cell_type": "code",
      "execution_count": 10,
      "id": "16474b49",
      "metadata": {},
      "outputs": [
        {
          "data": {
            "text/plain": [
              "3366728.75"
            ]
          },
          "execution_count": 10,
          "metadata": {},
          "output_type": "execute_result"
        }
      ],
      "source": [
        "#loss with vector size 300\n",
        "phrases_model.get_latest_training_loss()"
      ]
    },
    {
      "cell_type": "code",
      "execution_count": 11,
      "id": "0916e482",
      "metadata": {},
      "outputs": [
        {
          "data": {
            "text/plain": [
              "3300587.5"
            ]
          },
          "execution_count": 11,
          "metadata": {},
          "output_type": "execute_result"
        }
      ],
      "source": [
        "#vector size 200\n",
        "phrases_model=Word2Vec(sentences=ingredients_cleaned,min_count=1, sg=0, window=15, workers=8, vector_size=200, compute_loss=True)\n",
        "phrases_model.get_latest_training_loss()"
      ]
    },
    {
      "cell_type": "code",
      "execution_count": 12,
      "id": "c2be8978",
      "metadata": {},
      "outputs": [
        {
          "data": {
            "text/plain": [
              "3305327.25"
            ]
          },
          "execution_count": 12,
          "metadata": {},
          "output_type": "execute_result"
        }
      ],
      "source": [
        "#vector size 100\n",
        "phrases_model=Word2Vec(sentences=ingredients_cleaned,min_count=1, sg=0, window=15, workers=8, vector_size=100, compute_loss=True)\n",
        "phrases_model.get_latest_training_loss()"
      ]
    },
    {
      "cell_type": "markdown",
      "id": "012d1b77",
      "metadata": {},
      "source": [
        "I am also going to iterate through hs, window, vector sizes to see if I can pick the best hyperparamters"
      ]
    },
    {
      "cell_type": "markdown",
      "id": "1f3bb3ba",
      "metadata": {},
      "source": [
        "import time\n",
        "\n",
        "train_time_values = []\n",
        "seed_val = 42\n",
        "\n",
        "hs_values = [0, 1]\n",
        "vector_values= [100,200,300]\n",
        "window_values= [10,13,15,18]\n",
        "\n",
        "\n",
        "\n",
        "for data in ingredients_cleaned:\n",
        "    for vector in vector_values:\n",
        "        for hs_val in hs_values:\n",
        "            for window in window_values:\n",
        "                time_taken_list = []\n",
        "                for i in range(3):\n",
        "                    start_time = time.time()\n",
        "                    w2v_model = Word2Vec(\n",
        "                        data,\n",
        "                        compute_loss=True,\n",
        "                        window= window,\n",
        "                        vector_size=vector,\n",
        "                        hs=hs_val,\n",
        "                        seed=seed_val,\n",
        "                    )\n",
        "                    time_taken_list.append(time.time() - start_time)\n",
        "\n",
        "                time_taken_list = np.array(time_taken_list)\n",
        "                time_mean = np.mean(time_taken_list)\n",
        "                time_std = np.std(time_taken_list)\n",
        "\n",
        "                model_result = {\n",
        "                \n",
        "                    'compute_loss': w2v_model.get_latest_training_loss(),\n",
        "                    'vector': vector,\n",
        "                    'window': window,\n",
        "                    'hs_val': hs_val,\n",
        "                    'train_time_mean': time_mean,\n",
        "                    'train_time_std': time_std,\n",
        "                }\n",
        "                print(\"Word2vec model #%i: %s\" % (len(train_time_values), model_result))\n",
        "                train_time_values.append(model_result)\n",
        "\n",
        "train_times_table = pd.DataFrame(train_time_values)\n",
        "train_times_table = train_times_table.sort_values(\n",
        "    by=['train_data',  'hs', 'compute_loss'],\n",
        "    ascending=[False, False, False],\n",
        ")\n",
        "print(train_times_table)"
      ]
    },
    {
      "cell_type": "markdown",
      "id": "ed8d7e5e",
      "metadata": {},
      "source": [
        "As per above, vector size 300, window size=15 and hs_val=0 gives the lowest loss factor, Combining with the earlier training losses, I will proceed with below. \n",
        "\n",
        "Final model selection:\n",
        " - vector size= 300\n",
        " - hs= 0\n",
        " - window= 15"
      ]
    },
    {
      "cell_type": "code",
      "execution_count": 13,
      "id": "3ffbeb36",
      "metadata": {},
      "outputs": [],
      "source": [
        "#final model\n",
        "phrases_model=Word2Vec(sentences=ingredients_cleaned,min_count=1, sg=0, window=15, workers=8, vector_size=300, compute_loss=True, hs=0)"
      ]
    },
    {
      "cell_type": "code",
      "execution_count": 14,
      "id": "0f12d5d2",
      "metadata": {},
      "outputs": [],
      "source": [
        "#saving the model\n",
        "phrases_model.save('../Models/Word2Vec/phrases_model_new(op1).bin')\n"
      ]
    },
    {
      "cell_type": "markdown",
      "id": "61e900d4",
      "metadata": {},
      "source": [
        "### <a id='toc2_2_3_'></a>[Word Embeddings](#toc0_)"
      ]
    },
    {
      "cell_type": "markdown",
      "id": "512edd47",
      "metadata": {},
      "source": [
        "Checking similar words to different ingredients if the model has been trained well.  "
      ]
    },
    {
      "cell_type": "code",
      "execution_count": 15,
      "id": "20e70481",
      "metadata": {},
      "outputs": [],
      "source": [
        "#getting the word embeddings to compare different ingredients\n",
        "embeddings= {word: phrases_model.wv[word] for word in phrases_model.wv.index_to_key} "
      ]
    },
    {
      "cell_type": "code",
      "execution_count": 16,
      "id": "a279c375",
      "metadata": {},
      "outputs": [
        {
          "name": "stdout",
          "output_type": "stream",
          "text": [
            "[('yellow onion', 0.7825608253479004), ('spanish onion', 0.7050119638442993), ('sweet onion', 0.6958928108215332), ('cooking onion', 0.6170170903205872), ('red onion', 0.549778163433075)]\n"
          ]
        }
      ],
      "source": [
        "print(phrases_model.wv.most_similar(u'onion', topn=5)) #checking the most similar results for onion"
      ]
    },
    {
      "cell_type": "code",
      "execution_count": 17,
      "id": "nqCREoUv9Lhi",
      "metadata": {
        "id": "nqCREoUv9Lhi",
        "outputId": "6754aa52-9dbe-457d-b543-f220392af1b5"
      },
      "outputs": [
        {
          "name": "stdout",
          "output_type": "stream",
          "text": [
            "[('garlic clove', 0.9386457800865173), ('minced garlic clove', 0.8703250885009766), ('fresh garlic', 0.808074414730072), ('fresh garlic clove', 0.7645795941352844), ('bulb garlic', 0.6104815602302551)]\n"
          ]
        }
      ],
      "source": [
        "print(phrases_model.wv.most_similar(u'garlic', topn=5)) #again checkin the most similar words to garlic"
      ]
    },
    {
      "cell_type": "code",
      "execution_count": 18,
      "id": "216956d7",
      "metadata": {},
      "outputs": [
        {
          "data": {
            "text/plain": [
              "[('penne', 0.7571642398834229),\n",
              " ('dry pasta', 0.7492685914039612),\n",
              " ('rigatoni pasta', 0.7127842903137207),\n",
              " ('pasta shell', 0.7028032541275024),\n",
              " ('penne pasta', 0.7017969489097595),\n",
              " ('pecorino romano cheese', 0.6808371543884277),\n",
              " ('farfalle pasta', 0.6683670282363892),\n",
              " ('parmigiano', 0.6633704304695129),\n",
              " ('ziti pasta', 0.6603496670722961),\n",
              " ('parmesan cheese', 0.6542097330093384)]"
            ]
          },
          "execution_count": 18,
          "metadata": {},
          "output_type": "execute_result"
        }
      ],
      "source": [
        "phrases_model.wv.most_similar(['cheese', 'pasta'], topn=10) #checking for cheese pasta"
      ]
    },
    {
      "cell_type": "markdown",
      "id": "RclKh9Gk9Lhi",
      "metadata": {
        "id": "RclKh9Gk9Lhi"
      },
      "source": [
        "I will try to use a tile map to show the similarity of a few ingredients"
      ]
    },
    {
      "cell_type": "code",
      "execution_count": 19,
      "id": "0Q7LfVBv9Lhi",
      "metadata": {
        "id": "0Q7LfVBv9Lhi",
        "outputId": "d40edfe7-67f0-459f-b5e3-e275cabbec6f"
      },
      "outputs": [
        {
          "data": {
            "image/png": "[encoded data removed]",
            "text/plain": [
              "<Figure size 2000x500 with 4 Axes>"
            ]
          },
          "metadata": {},
          "output_type": "display_data"
        }
      ],
      "source": [
        "word_list = ['onion', 'garlic', 'tuna', 'chicken'] #example\n",
        "\n",
        "plt.subplots(len(word_list), 1, figsize=(20, 5)) #plot\n",
        "\n",
        "for i, word in enumerate(word_list): #for loop to get each word in the list\n",
        "    plt.subplot(len(word_list), 1, i + 1) #subplot\n",
        "    plt.imshow(np.tile(embeddings[word], (10, 1))) #data\n",
        "    plt.xticks([]) #no xticks\n",
        "    plt.yticks([]) #no yticks\n",
        "    plt.title(f\"\\\"{word}\\\" embedding vector\") #title\n",
        "\n",
        "plt.tight_layout()\n",
        "plt.show()"
      ]
    },
    {
      "cell_type": "markdown",
      "id": "dDqvkyL39Lhi",
      "metadata": {
        "id": "dDqvkyL39Lhi"
      },
      "source": [
        "It is visible that words represent different distributions. Looks good. "
      ]
    },
    {
      "cell_type": "markdown",
      "id": "0b497d7f",
      "metadata": {},
      "source": [
        "## <a id='toc2_3_'></a>[Vectorisation & Recommendation](#toc0_)"
      ]
    },
    {
      "cell_type": "code",
      "execution_count": 20,
      "id": "242d95fe",
      "metadata": {},
      "outputs": [],
      "source": [
        "# user Input Processing\n",
        "user_input = 'egg', 'rice'  # User's input\n",
        "\n",
        "def recommender(user_input):\n",
        "\n",
        "    #parsing the user input\n",
        "    user_input = ','.join(map(str, user_input)) #converting to str, mapping and joining by the ','\n",
        "    \n",
        "    user_input.split(',')\n",
        "\n",
        "    user_input=parser(user_input)\n",
        "    \n",
        "\n",
        "\n",
        "# mean Embeddings for User Input\n",
        "    user_mean_vector =np.mean([phrases_model.wv[ingredient] for ingredient in user_input if ingredient in phrases_model.wv] or [np.zeros(300)], axis=0)\n",
        "\n",
        "\n",
        "\n",
        "# check if user_mean_vector contains NaN values\n",
        "    if np.isnan(user_mean_vector).any():\n",
        "        print(\"User input vectors contain NaN values.\")\n",
        "\n",
        "\n",
        "    else:\n",
        "\n",
        "    # mean ingredient vectors for each recipe\n",
        "        recipe_vectors = [np.mean([phrases_model.wv[sub_ingredient] for sub_ingredient in ingredient if sub_ingredient in phrases_model.wv] or [np.zeros(300)], axis=0) for ingredient in ingredients_cleaned]\n",
        "\n",
        "\n",
        "\n",
        "\n",
        "\n",
        "    # Check if any recipe vector contains NaN values\n",
        "        if not recipe_vectors:\n",
        "            print('nothing obtained for recipe vectors')\n",
        "\n",
        "        else:\n",
        "        \n",
        "        # cosine similarity between user mean vector and recipe mean vectors\n",
        "            cosine_similarities = cosine_similarity([user_mean_vector], recipe_vectors)\n",
        "\n",
        "\n",
        "        # indices of top N most similar recipes\n",
        "            top_recipes = np.argsort(cosine_similarities[0])[::-1][:5]\n",
        "\n",
        "\n",
        "\n",
        "            recommendation= pd.DataFrame( columns=['RecipeId', 'Title','Ingredients', 'Category', 'Calories', 'Time', 'Score'] ) #dataframe with columns\n",
        "\n",
        "    \n",
        "            for i in top_recipes: #defining the data for each recommendation\n",
        "\n",
        "            \n",
        "                recipe_id= recipes['RecipeId'].iloc[i]\n",
        "                title = recipes['Name'].iloc[i]\n",
        "                calories = recipes['Calories'].iloc[i]\n",
        "                time= recipes['TotalTime'].iloc[i]\n",
        "                ingredients = recipes['RecipeIngredientParts'].iloc[i]\n",
        "                category= recipes['RecipeCategory'].iloc[i]\n",
        "                score= cosine_similarities[0][i]\n",
        "                missing_words= ', '.join(list(set(user_input)- set([word for ingredient in ingredients_cleaned.iloc[i] for word in ingredient.split()])))\n",
        "                \n",
        "                recommendation = pd.concat([recommendation,pd.DataFrame(\n",
        "                                    {'RecipeId' : [recipe_id],\n",
        "                                    'Title': [title], \n",
        "                                    'Ingredients': [ingredients], \n",
        "                                    'Category' : [category],\n",
        "                                    'Calories': [calories], \n",
        "                                     'Time': [time],\n",
        "                                     'Missing Ingredients' : missing_words,\n",
        "                                     'Score': [score]})], \n",
        "                                        ignore_index=True)\n",
        "        \n",
        "\n",
        "\n",
        "\n",
        "    return recommendation  \n"
      ]
    },
    {
      "cell_type": "code",
      "execution_count": 21,
      "id": "a11c9a9d",
      "metadata": {},
      "outputs": [
        {
          "data": {
            "text/plain": [
              "['blueberry', 'granulated sugar', 'vanilla yogurt', 'lemon juice']"
            ]
          },
          "execution_count": 21,
          "metadata": {},
          "output_type": "execute_result"
        }
      ],
      "source": [
        "ingredients_cleaned.iloc[0]"
      ]
    },
    {
      "cell_type": "code",
      "execution_count": 22,
      "id": "1f6ada1c",
      "metadata": {},
      "outputs": [
        {
          "name": "stderr",
          "output_type": "stream",
          "text": [
            "/var/folders/0y/k2wtvzs527g8z6726scfz6_80000gn/T/ipykernel_11651/4226097990.py:64: FutureWarning: The behavior of DataFrame concatenation with empty or all-NA entries is deprecated. In a future version, this will no longer exclude empty or all-NA columns when determining the result dtypes. To retain the old behavior, exclude the relevant entries before the concat operation.\n",
            "  recommendation = pd.concat([recommendation,pd.DataFrame(\n"
          ]
        },
        {
          "data": {
            "text/html": [
              "<div>\n",
              "<style scoped>\n",
              "    .dataframe tbody tr th:only-of-type {\n",
              "        vertical-align: middle;\n",
              "    }\n",
              "\n",
              "    .dataframe tbody tr th {\n",
              "        vertical-align: top;\n",
              "    }\n",
              "\n",
              "    .dataframe thead th {\n",
              "        text-align: right;\n",
              "    }\n",
              "</style>\n",
              "<table border=\"1\" class=\"dataframe\">\n",
              "  <thead>\n",
              "    <tr style=\"text-align: right;\">\n",
              "      <th></th>\n",
              "      <th>RecipeId</th>\n",
              "      <th>Title</th>\n",
              "      <th>Ingredients</th>\n",
              "      <th>Category</th>\n",
              "      <th>Calories</th>\n",
              "      <th>Time</th>\n",
              "      <th>Score</th>\n",
              "      <th>Missing Ingredients</th>\n",
              "    </tr>\n",
              "  </thead>\n",
              "  <tbody>\n",
              "    <tr>\n",
              "      <th>0</th>\n",
              "      <td>125387</td>\n",
              "      <td>Peach-Glazed Tofu</td>\n",
              "      <td>tofu, onions</td>\n",
              "      <td>Soy/Tofu</td>\n",
              "      <td>164.3</td>\n",
              "      <td>PT2H</td>\n",
              "      <td>1.000000</td>\n",
              "      <td>bean</td>\n",
              "    </tr>\n",
              "    <tr>\n",
              "      <th>1</th>\n",
              "      <td>388347</td>\n",
              "      <td>Chicken Combo</td>\n",
              "      <td>boneless skinless chicken, onions</td>\n",
              "      <td>One Dish Meal</td>\n",
              "      <td>288.1</td>\n",
              "      <td>PT1H5M</td>\n",
              "      <td>0.868222</td>\n",
              "      <td>tofu, bean</td>\n",
              "    </tr>\n",
              "    <tr>\n",
              "      <th>2</th>\n",
              "      <td>33722</td>\n",
              "      <td>Easy Soft &amp;amp; Seasoned Bulgur</td>\n",
              "      <td>onion, bulgur wheat, salt</td>\n",
              "      <td>Vegan</td>\n",
              "      <td>51.7</td>\n",
              "      <td>PT25M</td>\n",
              "      <td>0.867960</td>\n",
              "      <td>tofu, bean</td>\n",
              "    </tr>\n",
              "    <tr>\n",
              "      <th>3</th>\n",
              "      <td>51192</td>\n",
              "      <td>Vegetarian Tofu Stir-Fry</td>\n",
              "      <td>firm tofu, onion, salt, fresh snow peas, fresh...</td>\n",
              "      <td>Soy/Tofu</td>\n",
              "      <td>174.1</td>\n",
              "      <td>PT25M</td>\n",
              "      <td>0.867882</td>\n",
              "      <td>bean</td>\n",
              "    </tr>\n",
              "    <tr>\n",
              "      <th>4</th>\n",
              "      <td>67529</td>\n",
              "      <td>Sauteed Bean Sprouts</td>\n",
              "      <td>fresh bean sprouts, onion, salt</td>\n",
              "      <td>Beans</td>\n",
              "      <td>52.7</td>\n",
              "      <td>PT12M</td>\n",
              "      <td>0.867815</td>\n",
              "      <td>tofu</td>\n",
              "    </tr>\n",
              "  </tbody>\n",
              "</table>\n",
              "</div>"
            ],
            "text/plain": [
              "  RecipeId                            Title  \\\n",
              "0   125387                Peach-Glazed Tofu   \n",
              "1   388347                    Chicken Combo   \n",
              "2    33722  Easy Soft &amp; Seasoned Bulgur   \n",
              "3    51192         Vegetarian Tofu Stir-Fry   \n",
              "4    67529             Sauteed Bean Sprouts   \n",
              "\n",
              "                                         Ingredients       Category  Calories  \\\n",
              "0                                       tofu, onions       Soy/Tofu     164.3   \n",
              "1                  boneless skinless chicken, onions  One Dish Meal     288.1   \n",
              "2                          onion, bulgur wheat, salt          Vegan      51.7   \n",
              "3  firm tofu, onion, salt, fresh snow peas, fresh...       Soy/Tofu     174.1   \n",
              "4                    fresh bean sprouts, onion, salt          Beans      52.7   \n",
              "\n",
              "     Time     Score Missing Ingredients  \n",
              "0    PT2H  1.000000                bean  \n",
              "1  PT1H5M  0.868222          tofu, bean  \n",
              "2   PT25M  0.867960          tofu, bean  \n",
              "3   PT25M  0.867882                bean  \n",
              "4   PT12M  0.867815                tofu  "
            ]
          },
          "execution_count": 22,
          "metadata": {},
          "output_type": "execute_result"
        }
      ],
      "source": [
        "user_input = 'tofu', 'beans', 'onions'\n",
        "\n",
        "\n",
        "recommender(user_input)\n",
        "\n"
      ]
    },
    {
      "cell_type": "markdown",
      "id": "4dce26af",
      "metadata": {},
      "source": [
        "# <a id='toc3_'></a>[Option 2 : Search by Keywords](#toc0_)"
      ]
    },
    {
      "cell_type": "markdown",
      "id": "6044cc0d",
      "metadata": {},
      "source": [
        "I now will give the option to the user to search recipes using keywords present in the recipe database. For that I wil use the columns containing key attributes, 'Title', 'RecipeCategory', 'Keywords' and follow the same process as earlier."
      ]
    },
    {
      "cell_type": "markdown",
      "id": "417451d6",
      "metadata": {},
      "source": [
        "### <a id='toc3_1_1_'></a>[Tokenization](#toc0_)"
      ]
    },
    {
      "cell_type": "code",
      "execution_count": 23,
      "id": "bd967a66",
      "metadata": {},
      "outputs": [],
      "source": [
        "#combining the 3 columns data to one\n",
        "recipes['text_data']= recipes[['Name', 'RecipeCategory', 'Keywords']].astype(str).agg(','.join, axis=1) "
      ]
    },
    {
      "cell_type": "code",
      "execution_count": 24,
      "id": "2237b109",
      "metadata": {},
      "outputs": [
        {
          "data": {
            "text/plain": [
              "0         Low-Fat Berry Blue Frozen Dessert,Frozen Desse...\n",
              "1         Biryani,Chicken Breast,Chicken Thigh & Leg, Ch...\n",
              "2         Best Lemonade,Beverages,Low Protein, Low Chole...\n",
              "3         Carina's Tofu-Vegetable Kebabs,Soy/Tofu,Beans,...\n",
              "4         Cabbage Soup,Vegetable,Low Protein, Vegan, Low...\n",
              "                                ...                        \n",
              "521761     Meg's Fresh Ginger Gingerbread,Dessert,< 4 Hours\n",
              "521762    Roast Prime Rib au Poivre with Mixed Peppercor...\n",
              "521763    Kirshwasser Ice Cream,Ice Cream,Dessert, < 4 H...\n",
              "521764    Quick & Easy Asian Cucumber Salmon Rolls,Canad...\n",
              "521765          Spicy Baked Scotch Eggs,Breakfast,< 60 Mins\n",
              "Name: text_data, Length: 521766, dtype: object"
            ]
          },
          "execution_count": 24,
          "metadata": {},
          "output_type": "execute_result"
        }
      ],
      "source": [
        "#sanity check\n",
        "recipes['text_data']"
      ]
    },
    {
      "cell_type": "code",
      "execution_count": 25,
      "id": "ceae0790",
      "metadata": {},
      "outputs": [],
      "source": [
        "#parser\n",
        "\n",
        "text_data= recipes['text_data']\n",
        "\n",
        "def parser_text(input_keys): #function\n",
        "\n",
        "\n",
        "#defining measuring units\n",
        "\n",
        "    measurment_url= 'https://en.wikibooks.org/wiki/Cookbook:Units_of_measurement' #data source\n",
        "\n",
        "    remove_= ['mins']#removing the word mins to avoid biases and give results based on true mins in digit format\n",
        "\n",
        "\n",
        "    measuring_words= ['ml', 'mL', 'milliliter', 'millilitre', 'cc' , 'cubic centimeter', 'l', 'L', 'liter', 'litre', 'dl', 'dL', 'deciliter', 'decilitre', 'teaspoon', 't' , 'tsp.',\n",
        "'tablespoon' , 'T', 'tbl', 'tbs', 'tbsp', 'fluid ounce', 'fl oz',  'gill', 'cup',  'c', 'pint', 'p', 'pt', 'fl pt',\n",
        "'quart', 'q', 'qt', 'fl qt', 'gallon' , 'g' , 'gal' , 'g', 'milligram', 'milligramme', 'g' , 'gram' , 'gramme', 'kg',\n",
        "'kilogram', 'kilogramme', 'pound', 'lb', 'ounce', 'oz', 'mm', 'millimeter', 'millimetre', 'cm' , 'centimeter', 'centimetre', 'm' , 'meter',\n",
        "'metre', 'inch', 'in', 'yard', '°C' , 'degree celsius','°F' ,'Farenheit', 'tsp']\n",
        "\n",
        "\n",
        "\n",
        "    ingredients_list = re.split(',', input_keys) #splitting the ingredients by commas\n",
        "    ingredients_list = re.split(' ', input_keys) #splitting the ingredients by commas\n",
        "\n",
        "    cleaned_ingredients = [] #new list to store cleaned ingredients\n",
        "\n",
        "    lemmatizer = WordNetLemmatizer() #lemmatizer\n",
        "\n",
        "    for ingredient in ingredients_list:\n",
        "        items = re.split(',', ingredient)  #splitting each ingredient by space to process and clean each individual word\n",
        "\n",
        "        items = [word for word in items if word.isalpha()] #filtering only letters\n",
        "\n",
        "\n",
        "        items = [word.lower() for word in items] #lowercasing\n",
        "\n",
        "        items = [lemmatizer.lemmatize(word) for word in items] #lemmatizing\n",
        "\n",
        "        items = [word for word in items if word not in ENGLISH_STOP_WORDS] #removing stop words\n",
        "\n",
        "        items = [word for word in items if word not in measuring_words] #removing measuring words\n",
        "\n",
        "        if items:\n",
        "            cleaned_ingredients.append(','.join(items) ) #joining the individual words of the ingredient seperated by space\n",
        "        #cleaned_ingredients= ' '.join(cleaned_ingredients) #joining the ingreidents back seprated by commas\n",
        "\n",
        "\n",
        "    return cleaned_ingredients #return the list\n"
      ]
    },
    {
      "cell_type": "markdown",
      "id": "c4117ec6",
      "metadata": {},
      "source": [
        "### <a id='toc3_1_2_'></a>[Modeling](#toc0_)"
      ]
    },
    {
      "cell_type": "markdown",
      "id": "06ddf5d7",
      "metadata": {},
      "source": [
        "#### <a id='toc3_1_2_1_'></a>[Word2Vec](#toc0_)"
      ]
    },
    {
      "cell_type": "code",
      "execution_count": 26,
      "id": "f55cd60c",
      "metadata": {},
      "outputs": [],
      "source": [
        "#applying the parser to the text data to be used in model training\n",
        "text_data_cleaned = text_data.apply(parser_text)\n",
        "recipes['TextDataCleaned']= text_data_cleaned"
      ]
    },
    {
      "cell_type": "code",
      "execution_count": 27,
      "id": "b9e1679b",
      "metadata": {},
      "outputs": [
        {
          "data": {
            "text/plain": [
              "3221780.5"
            ]
          },
          "execution_count": 27,
          "metadata": {},
          "output_type": "execute_result"
        }
      ],
      "source": [
        "#vector size 100\n",
        "phrases_model_2=Word2Vec(sentences=text_data_cleaned,min_count=1, sg=0, window=20, workers=8, vector_size=100, compute_loss=True) #word2vec model, used min_count=1 to avoid any ingredient being missed out\n",
        "phrases_model_2.get_latest_training_loss()"
      ]
    },
    {
      "cell_type": "markdown",
      "id": "ca56e18e",
      "metadata": {},
      "source": [
        "#### <a id='toc3_1_2_2_'></a>[Hyperparameter Evaluation](#toc0_)"
      ]
    },
    {
      "cell_type": "code",
      "execution_count": 28,
      "id": "025850b4",
      "metadata": {},
      "outputs": [
        {
          "data": {
            "text/plain": [
              "3198808.75"
            ]
          },
          "execution_count": 28,
          "metadata": {},
          "output_type": "execute_result"
        }
      ],
      "source": [
        "#vector size 200\n",
        "phrases_model_2=Word2Vec(sentences=text_data_cleaned,min_count=1, sg=0, window=20, workers=8, vector_size=200, compute_loss=True)\n",
        "phrases_model_2.get_latest_training_loss()"
      ]
    },
    {
      "cell_type": "code",
      "execution_count": 29,
      "id": "0941520e",
      "metadata": {},
      "outputs": [
        {
          "data": {
            "text/plain": [
              "3198227.0"
            ]
          },
          "execution_count": 29,
          "metadata": {},
          "output_type": "execute_result"
        }
      ],
      "source": [
        "#vector size 300\n",
        "phrases_model_2=Word2Vec(sentences=text_data_cleaned,min_count=1, sg=0, window=20, workers=8, vector_size=300, compute_loss=True)\n",
        "phrases_model_2.get_latest_training_loss()"
      ]
    },
    {
      "cell_type": "markdown",
      "id": "126baec0",
      "metadata": {},
      "source": [
        "import time\n",
        "\n",
        "train_time_values = []\n",
        "seed_val = 42\n",
        "\n",
        "hs_values = [0, 1]\n",
        "vector_values= [100,200,300]\n",
        "window_values= [10,15, 20, 25, 30]\n",
        "\n",
        "for data in text_data_cleaned:\n",
        "    for vector in vector_values:\n",
        "        for hs_val in hs_values:\n",
        "            for window in window_values:\n",
        "                time_taken_list = []\n",
        "                for i in range(3):\n",
        "                    start_time = time.time()\n",
        "                    w2v_model = Word2Vec(\n",
        "                        data,\n",
        "                        compute_loss=True,\n",
        "                        window= window,\n",
        "                        vector_size=vector,\n",
        "                        hs=hs_val,\n",
        "                        seed=seed_val,\n",
        "                    )\n",
        "                    time_taken_list.append(time.time() - start_time)\n",
        "\n",
        "                time_taken_list = np.array(time_taken_list)\n",
        "                time_mean = np.mean(time_taken_list)\n",
        "                time_std = np.std(time_taken_list)\n",
        "\n",
        "                model_result = {\n",
        "                    \n",
        "                    'compute_loss': w2v_model.get_latest_training_loss(),\n",
        "                    'vector': vector,\n",
        "                    'window': window,\n",
        "                    'hs_val': hs_val,\n",
        "                    'train_time_mean': time_mean,\n",
        "                    'train_time_std': time_std,\n",
        "                }\n",
        "                print(\"Word2vec model #%i: %s\" % (len(train_time_values), model_result))\n",
        "                train_time_values.append(model_result)\n",
        "\n",
        "train_times_table = pd.DataFrame(train_time_values)\n",
        "train_times_table = train_times_table.sort_values(\n",
        "    by=['train_data',  'hs', 'compute_loss'],\n",
        "    ascending=[False, False, False],\n",
        ")\n",
        "print(train_times_table)"
      ]
    },
    {
      "cell_type": "markdown",
      "id": "1d220f70",
      "metadata": {},
      "source": [
        "I will select hs=0, vector size= 100 & window=20 for the final model"
      ]
    },
    {
      "cell_type": "code",
      "execution_count": 30,
      "id": "8cab2663",
      "metadata": {},
      "outputs": [],
      "source": [
        "#final model\n",
        "phrases_model_2=Word2Vec(sentences=text_data_cleaned,min_count=1, sg=0, window=20, workers=8, vector_size=100, compute_loss=True)\n",
        "\n",
        "#saving the model\n",
        "phrases_model_2.save('../Models/Word2Vec/phrases_model_new(op2).bin')\n"
      ]
    },
    {
      "cell_type": "markdown",
      "id": "29c62d0a",
      "metadata": {},
      "source": [
        "### <a id='toc3_1_3_'></a>[Vectorization & Recommendation](#toc0_)"
      ]
    },
    {
      "cell_type": "code",
      "execution_count": 31,
      "id": "6d860468",
      "metadata": {},
      "outputs": [],
      "source": [
        "def recommender_text(text_input):\n",
        "\n",
        "    user_input= parser_text(text_input)\n",
        "\n",
        "    # Mean Embeddings for User Input\n",
        "    user_mean_vector =np.mean([phrases_model_2.wv[user_text] for user_text in user_input if user_text in phrases_model_2.wv] or [np.zeros(100)], axis=0)\n",
        "\n",
        "\n",
        "\n",
        "    # check if user_mean_vector contains NaN values\n",
        "    if np.isnan(user_mean_vector).any():\n",
        "        print(\"User input vectors contain NaN values.\")\n",
        "\n",
        "\n",
        "    else:\n",
        "\n",
        "        # mean ingredient vectors for each recipe\n",
        "        text_vectors = [np.mean([phrases_model_2.wv[sub_text] for sub_text in text if sub_text in phrases_model_2.wv] or [np.zeros(100)], axis=0) for text in text_data_cleaned]\n",
        "\n",
        "\n",
        "\n",
        "\n",
        "\n",
        "        # Check if any recipe vector contains NaN values\n",
        "        if not text_vectors:\n",
        "            print('nothing obtained for recipe vectors')\n",
        "\n",
        "        else:\n",
        "            \n",
        "            # cosine similarity between user mean vector and recipe mean vectors\n",
        "            cosine_similarities_text= cosine_similarity([user_mean_vector], text_vectors)\n",
        "\n",
        "\n",
        "            # indices of top N most similar recipes\n",
        "            top_recipes = np.argsort(cosine_similarities_text[0])[::-1][:5]\n",
        "\n",
        "\n",
        "\n",
        "            recommendation= pd.DataFrame( columns=['Title','Ingredients', 'Keywords', 'Category', 'Time','Score'] ) #dataframe with columns\n",
        "\n",
        "    \n",
        "            for i in top_recipes: #defining the data for each recommendation\n",
        "\n",
        "                \n",
        "                title = recipes['Name'].iloc[i],\n",
        "                keywords = recipes['Keywords'].iloc[i]\n",
        "                category= recipes['RecipeCategory'].iloc[i]\n",
        "                time= recipes['TotalTime'].iloc[i]\n",
        "                ingredients = recipes['RecipeIngredientParts'].iloc[i]\n",
        "                score= cosine_similarities_text[0][i]\n",
        "                missing_words= ', '.join(list(set(user_input)- set([word for text in text_data_cleaned.iloc[i] for word in text.split()])))\n",
        "\n",
        "\n",
        "                recommendation = pd.concat([recommendation,pd.DataFrame(\n",
        "                                    {'Title': [title], \n",
        "                                    'Ingredients': [ingredients], \n",
        "                                    'Category' : [category],\n",
        "                                    'Keywords': [keywords], \n",
        "                                     'Time': [time],\n",
        "                                     'Missing Ingredients' : missing_words,\n",
        "                                     'Score': [score]})], \n",
        "                                        ignore_index=True)\n",
        "\n",
        "\n",
        "\n",
        "\n",
        "    return recommendation\n",
        "\n",
        "       \n",
        "\n",
        "\n",
        "\n"
      ]
    },
    {
      "cell_type": "code",
      "execution_count": 32,
      "id": "1706f346",
      "metadata": {},
      "outputs": [
        {
          "name": "stderr",
          "output_type": "stream",
          "text": [
            "/var/folders/0y/k2wtvzs527g8z6726scfz6_80000gn/T/ipykernel_11651/1616662937.py:54: FutureWarning: The behavior of DataFrame concatenation with empty or all-NA entries is deprecated. In a future version, this will no longer exclude empty or all-NA columns when determining the result dtypes. To retain the old behavior, exclude the relevant entries before the concat operation.\n",
            "  recommendation = pd.concat([recommendation,pd.DataFrame(\n"
          ]
        },
        {
          "data": {
            "text/html": [
              "<div>\n",
              "<style scoped>\n",
              "    .dataframe tbody tr th:only-of-type {\n",
              "        vertical-align: middle;\n",
              "    }\n",
              "\n",
              "    .dataframe tbody tr th {\n",
              "        vertical-align: top;\n",
              "    }\n",
              "\n",
              "    .dataframe thead th {\n",
              "        text-align: right;\n",
              "    }\n",
              "</style>\n",
              "<table border=\"1\" class=\"dataframe\">\n",
              "  <thead>\n",
              "    <tr style=\"text-align: right;\">\n",
              "      <th></th>\n",
              "      <th>Title</th>\n",
              "      <th>Ingredients</th>\n",
              "      <th>Keywords</th>\n",
              "      <th>Category</th>\n",
              "      <th>Time</th>\n",
              "      <th>Score</th>\n",
              "      <th>Missing Ingredients</th>\n",
              "    </tr>\n",
              "  </thead>\n",
              "  <tbody>\n",
              "    <tr>\n",
              "      <th>0</th>\n",
              "      <td>(Cabbage Soup,)</td>\n",
              "      <td>butter, onion, turnip, cabbage, salt, pepper, ...</td>\n",
              "      <td>Inexpensive</td>\n",
              "      <td>&lt; 30 Mins</td>\n",
              "      <td>PT25M</td>\n",
              "      <td>0.982069</td>\n",
              "      <td></td>\n",
              "    </tr>\n",
              "    <tr>\n",
              "      <th>1</th>\n",
              "      <td>(Cabbage and Mushroom Soup,)</td>\n",
              "      <td>vegetable broth, onions, garlic cloves, cabbag...</td>\n",
              "      <td>Easy</td>\n",
              "      <td>&lt; 4 Hours</td>\n",
              "      <td>PT1H20M</td>\n",
              "      <td>0.851424</td>\n",
              "      <td></td>\n",
              "    </tr>\n",
              "    <tr>\n",
              "      <th>2</th>\n",
              "      <td>(Ukrainian Pea Soup Horokhivka,)</td>\n",
              "      <td>water, salt pork, ham fat, onion, celery, carr...</td>\n",
              "      <td>NaN</td>\n",
              "      <td>European</td>\n",
              "      <td>PT11H20M</td>\n",
              "      <td>0.837995</td>\n",
              "      <td>cabbage</td>\n",
              "    </tr>\n",
              "    <tr>\n",
              "      <th>3</th>\n",
              "      <td>(Pea Soup Floater,)</td>\n",
              "      <td>smoked ham hocks, water, frozen green pea, car...</td>\n",
              "      <td>Easy</td>\n",
              "      <td>Vegetable</td>\n",
              "      <td>PT6H10M</td>\n",
              "      <td>0.833677</td>\n",
              "      <td>cabbage</td>\n",
              "    </tr>\n",
              "    <tr>\n",
              "      <th>4</th>\n",
              "      <td>(Pea Soup With Doughboys,)</td>\n",
              "      <td>salt pork, ham bone, water, onion, celery, pot...</td>\n",
              "      <td>NaN</td>\n",
              "      <td>Canadian</td>\n",
              "      <td>PT4H5M</td>\n",
              "      <td>0.833671</td>\n",
              "      <td>cabbage</td>\n",
              "    </tr>\n",
              "  </tbody>\n",
              "</table>\n",
              "</div>"
            ],
            "text/plain": [
              "                              Title  \\\n",
              "0                   (Cabbage Soup,)   \n",
              "1      (Cabbage and Mushroom Soup,)   \n",
              "2  (Ukrainian Pea Soup Horokhivka,)   \n",
              "3               (Pea Soup Floater,)   \n",
              "4        (Pea Soup With Doughboys,)   \n",
              "\n",
              "                                         Ingredients     Keywords   Category  \\\n",
              "0  butter, onion, turnip, cabbage, salt, pepper, ...  Inexpensive  < 30 Mins   \n",
              "1  vegetable broth, onions, garlic cloves, cabbag...         Easy  < 4 Hours   \n",
              "2  water, salt pork, ham fat, onion, celery, carr...          NaN   European   \n",
              "3  smoked ham hocks, water, frozen green pea, car...         Easy  Vegetable   \n",
              "4  salt pork, ham bone, water, onion, celery, pot...          NaN   Canadian   \n",
              "\n",
              "       Time     Score Missing Ingredients  \n",
              "0     PT25M  0.982069                      \n",
              "1   PT1H20M  0.851424                      \n",
              "2  PT11H20M  0.837995             cabbage  \n",
              "3   PT6H10M  0.833677             cabbage  \n",
              "4    PT4H5M  0.833671             cabbage  "
            ]
          },
          "execution_count": 32,
          "metadata": {},
          "output_type": "execute_result"
        }
      ],
      "source": [
        "# user Input Processing\n",
        "text_input = 'cabbage soup'  # user's input\n",
        "\n",
        "recommender_text(text_input)"
      ]
    },
    {
      "cell_type": "markdown",
      "id": "2f0edfdc",
      "metadata": {},
      "source": [
        "# <a id='toc4_'></a>[Option 3 : Search by Ingredients & Keywords both together](#toc0_)"
      ]
    },
    {
      "cell_type": "markdown",
      "id": "545d4fb0",
      "metadata": {},
      "source": [
        "## <a id='toc4_1_'></a>[Tokenization](#toc0_)"
      ]
    },
    {
      "cell_type": "code",
      "execution_count": 33,
      "id": "48a942a0",
      "metadata": {},
      "outputs": [
        {
          "data": {
            "text/plain": [
              "'Low-Fat Berry Blue Frozen Dessert,Frozen Desserts,Dessert, Low Protein, Low Cholesterol, Healthy, Free Of..., Summer, Weeknight, Freezer, Easy,blueberries, granulated sugar, vanilla yogurt, lemon juice'"
            ]
          },
          "execution_count": 33,
          "metadata": {},
          "output_type": "execute_result"
        }
      ],
      "source": [
        "#combining the 4 columns data to one\n",
        "recipes['text_data_all']= recipes[['Name', 'RecipeCategory', 'Keywords', 'RecipeIngredientParts']].astype(str).agg(','.join, axis=1) \n",
        "#sanity check\n",
        "recipes['text_data_all'][0]"
      ]
    },
    {
      "cell_type": "code",
      "execution_count": 34,
      "id": "bd7d884b",
      "metadata": {},
      "outputs": [],
      "source": [
        "#parser\n",
        "def parser_text(input_keys): #function\n",
        "\n",
        "\n",
        "    # Defining measuring units\n",
        "    remove_ = {'oil', 'salt', 'pepper' , 'mins'}\n",
        "\n",
        "\n",
        "    # Defining measuring units\n",
        "    measuring_words = ['ml', 'mL', 'milliliter', 'millilitre', 'cc', 'cubic centimeter', 'l', 'L', 'liter', 'litre', 'dl',\n",
        "                   'dL', 'deciliter', 'decilitre', 'teaspoon', 't', 'tsp.', 'tablespoon', 'T', 'tbl', 'tbs', 'tbsp',\n",
        "                   'fluid ounce', 'fl oz', 'gill', 'cup', 'c', 'pint', 'p', 'pt', 'fl pt', 'quart', 'q', 'qt', 'fl qt',\n",
        "                   'gallon', 'g', 'gal', 'g', 'milligram', 'milligramme', 'g', 'gram', 'gramme', 'kg', 'kilogram',\n",
        "                   'kilogramme', 'pound', 'lb', 'ounce', 'oz', 'mm', 'milimeter', 'millimetre', 'cm', 'centimeter',\n",
        "                   'centimetre', 'm', 'meter', 'metre', 'inch', 'in', 'yard', '°C', 'degree celsius', '°F', 'Farenheit', 'tsp']\n",
        "\n",
        "    cleaned_ingredients_all_recipes = []\n",
        "    \n",
        "    for each_ingredient_list in input_keys:\n",
        "            comma_list = re.split(',', each_ingredient_list)  # splitting the ingredients by commas\n",
        "\n",
        "\n",
        "            cleaned_ingredients = []  # new list to store cleaned ingredients for a single recipe\n",
        "\n",
        "\n",
        "            lemmatizer = WordNetLemmatizer()  # lemmatize\n",
        "\n",
        "\n",
        "            for each_word_set in comma_list:\n",
        "                items = [word.lower() for word in re.findall(r'\\b\\w+\\b', each_word_set)]  # Extract individual words and convert to lowercase\n",
        "\n",
        "\n",
        "                items = [word for word in items if word.isalpha()]  # filtering only letters\n",
        "\n",
        "                items = [lemmatizer.lemmatize(word) for word in items]  # lemmatizing\n",
        "\n",
        "\n",
        "                items = [word for word in items if word not in ENGLISH_STOP_WORDS]  # removing stop words\n",
        "\n",
        "\n",
        "                items = [word for word in items if word not in measuring_words]  # removing measuring words\n",
        "\n",
        "\n",
        "                items = [word for word in items if word not in remove_]\n",
        "\n",
        "\n",
        "                if items:\n",
        "                    cleaned_ingredients.extend(items)\n",
        "\n",
        "\n",
        "            cleaned_ingredients_all_recipes.append(cleaned_ingredients)\n",
        "\n",
        "    return(cleaned_ingredients_all_recipes)\n"
      ]
    },
    {
      "cell_type": "markdown",
      "id": "7f7a9658",
      "metadata": {},
      "source": [
        "## <a id='toc4_2_'></a>[Modeling](#toc0_)"
      ]
    },
    {
      "cell_type": "code",
      "execution_count": 35,
      "id": "0696914e",
      "metadata": {},
      "outputs": [],
      "source": [
        "text_data_all= recipes['text_data_all']\n",
        "text_data_all_cleaned=parser_text(text_data_all)"
      ]
    },
    {
      "cell_type": "code",
      "execution_count": 36,
      "id": "df305aa3",
      "metadata": {},
      "outputs": [
        {
          "data": {
            "text/plain": [
              "8109367.5"
            ]
          },
          "execution_count": 36,
          "metadata": {},
          "output_type": "execute_result"
        }
      ],
      "source": [
        "#vector size 100\n",
        "phrases_model_3=Word2Vec(sentences=text_data_all_cleaned,min_count=1, sg=0, window=35, workers=8, vector_size=200, compute_loss=True) #word2vec model, used min_count=1 to avoid any ingredient being missed out\n",
        "phrases_model_3.get_latest_training_loss()"
      ]
    },
    {
      "cell_type": "code",
      "execution_count": 37,
      "id": "b2ee106a",
      "metadata": {},
      "outputs": [
        {
          "data": {
            "text/plain": [
              "8424883.0"
            ]
          },
          "execution_count": 37,
          "metadata": {},
          "output_type": "execute_result"
        }
      ],
      "source": [
        "phrases_model_3=Word2Vec(sentences=text_data_all_cleaned,min_count=1, sg=0, window=35, workers=8, vector_size=100, compute_loss=True) #word2vec model, used min_count=1 to avoid any ingredient being missed out\n",
        "phrases_model_3.get_latest_training_loss()"
      ]
    },
    {
      "cell_type": "code",
      "execution_count": 38,
      "id": "f2f76728",
      "metadata": {},
      "outputs": [
        {
          "data": {
            "text/plain": [
              "8016693.5"
            ]
          },
          "execution_count": 38,
          "metadata": {},
          "output_type": "execute_result"
        }
      ],
      "source": [
        "phrases_model_3=Word2Vec(sentences=text_data_all_cleaned,min_count=1, sg=0, window=35, workers=8, vector_size=300, compute_loss=True) #word2vec model, used min_count=1 to avoid any ingredient being missed out\n",
        "phrases_model_3.get_latest_training_loss()"
      ]
    },
    {
      "cell_type": "markdown",
      "id": "5ad3884b",
      "metadata": {},
      "source": [
        "import time   \n",
        "train_time_values = []\n",
        "seed_val = 42\n",
        "\n",
        "hs_values = [0, 1]\n",
        "vector_values= [100,200,300]\n",
        "window_values= [10, 20, 25, 30]\n",
        "\n",
        "\n",
        "for data in text_data_all_cleaned:\n",
        "    for vector in vector_values:\n",
        "        for hs_val in hs_values:\n",
        "            for window in window_values:\n",
        "                time_taken_list = []\n",
        "                for i in range(3):\n",
        "                    start_time = time.time()\n",
        "                    w2v_model = Word2Vec(\n",
        "                        data,\n",
        "                        compute_loss=True,\n",
        "                        window= window,\n",
        "                        vector_size=vector,\n",
        "                        hs=hs_val,\n",
        "                        seed=seed_val,\n",
        "                    )\n",
        "                    time_taken_list.append(time.time() - start_time)\n",
        "\n",
        "                time_taken_list = np.array(time_taken_list)\n",
        "                time_mean = np.mean(time_taken_list)\n",
        "                time_std = np.std(time_taken_list)\n",
        "\n",
        "                model_result = {\n",
        "                    \n",
        "                    'compute_loss': w2v_model.get_latest_training_loss(),\n",
        "                    'vector': vector,\n",
        "                    'window': window,\n",
        "                    'hs_val': hs_val,\n",
        "                    'train_time_mean': time_mean,\n",
        "                    'train_time_std': time_std,\n",
        "                }\n",
        "                print(\"Word2vec model #%i: %s\" % (len(train_time_values), model_result))\n",
        "                train_time_values.append(model_result)\n",
        "\n",
        "train_times_table = pd.DataFrame(train_time_values)\n",
        "train_times_table = train_times_table.sort_values(\n",
        "    by=['train_data',  'hs', 'compute_loss'],\n",
        "    ascending=[False, False, False],\n",
        ")\n",
        "print(train_times_table)"
      ]
    },
    {
      "cell_type": "code",
      "execution_count": 39,
      "id": "61abb40f",
      "metadata": {},
      "outputs": [],
      "source": [
        "phrases_model_3=Word2Vec(sentences=text_data_all_cleaned,min_count=1, sg=0, window=30, workers=8, vector_size=100, compute_loss=True) #word2vec model, used min_count=1 to avoid any ingredient being missed out\n",
        "\n",
        "#saving the model\n",
        "phrases_model_3.save('../Models/Word2Vec/phrases_model_new(op3).bin')"
      ]
    },
    {
      "cell_type": "markdown",
      "id": "7f354e8f",
      "metadata": {},
      "source": [
        "## <a id='toc4_3_'></a>[Vectorization & Recommendation](#toc0_)"
      ]
    },
    {
      "cell_type": "code",
      "execution_count": 40,
      "id": "f5f08d87",
      "metadata": {},
      "outputs": [],
      "source": [
        "def recommender_text_all(text_input):\n",
        "\n",
        "    user_input= parser(text_input)\n",
        "\n",
        "    # Mean Embeddings for User Input\n",
        "    user_mean_vector =np.mean([phrases_model_3.wv[user_text] for user_text in user_input if user_text in phrases_model_3.wv] or [np.zeros(100)], axis=0)\n",
        "\n",
        "\n",
        "\n",
        "    # check if user_mean_vector contains NaN values\n",
        "    if np.isnan(user_mean_vector).any():\n",
        "        print(\"User input vectors contain NaN values.\")\n",
        "\n",
        "\n",
        "    else:\n",
        "\n",
        "        # mean ingredient vectors for each recipe\n",
        "        text_vectors = [np.mean([phrases_model_3.wv[sub_text] for sub_text in text if sub_text in phrases_model_3.wv] or [np.zeros(100)], axis=0) for text in text_data_all_cleaned]\n",
        "\n",
        "\n",
        "\n",
        "\n",
        "\n",
        "        # Check if any recipe vector contains NaN values\n",
        "        if not text_vectors:\n",
        "            print('nothing obtained for recipe vectors')\n",
        "\n",
        "        else:\n",
        "            \n",
        "            # cosine similarity between user mean vector and recipe mean vectors\n",
        "            cosine_similarities_text= cosine_similarity([user_mean_vector], text_vectors)\n",
        "\n",
        "\n",
        "            # indices of top N most similar recipes\n",
        "            top_recipes = np.argsort(cosine_similarities_text[0])[::-1][:5]\n",
        "\n",
        "\n",
        "\n",
        "            recommendation= pd.DataFrame( columns=['title','ingredients', 'description', 'keywords', 'category', 'score'] ) #dataframe with columns\n",
        "\n",
        "    \n",
        "            for i in top_recipes: #defining the data for each recommendation\n",
        "\n",
        "                \n",
        "                title = recipes['Name'].iloc[i],\n",
        "                description= recipes['Description'].iloc[i,]\n",
        "                keywords = recipes['Keywords'].iloc[i]\n",
        "                category= recipes['RecipeCategory'].iloc[i]\n",
        "                ingredients = recipes['RecipeIngredientParts'].iloc[i]\n",
        "                score= cosine_similarities_text[0][i]\n",
        "                recommendation = pd.concat([recommendation,pd.DataFrame(\n",
        "                                    {'title': [title], \n",
        "                                    'description': [description],\n",
        "                                    'ingredients': [ingredients], \n",
        "                                    'keywords' : [keywords], \n",
        "                                    'category' : [category], \n",
        "                                    'score': [score]})], \n",
        "                                        ignore_index=True)\n",
        "\n",
        "\n",
        "\n",
        "\n",
        "    return recommendation\n",
        "\n",
        "       \n",
        "\n",
        "\n",
        "\n"
      ]
    },
    {
      "cell_type": "code",
      "execution_count": 41,
      "id": "58c5c257",
      "metadata": {},
      "outputs": [
        {
          "name": "stderr",
          "output_type": "stream",
          "text": [
            "/var/folders/0y/k2wtvzs527g8z6726scfz6_80000gn/T/ipykernel_11651/1809556674.py:51: FutureWarning: The behavior of DataFrame concatenation with empty or all-NA entries is deprecated. In a future version, this will no longer exclude empty or all-NA columns when determining the result dtypes. To retain the old behavior, exclude the relevant entries before the concat operation.\n",
            "  recommendation = pd.concat([recommendation,pd.DataFrame(\n"
          ]
        },
        {
          "data": {
            "text/html": [
              "<div>\n",
              "<style scoped>\n",
              "    .dataframe tbody tr th:only-of-type {\n",
              "        vertical-align: middle;\n",
              "    }\n",
              "\n",
              "    .dataframe tbody tr th {\n",
              "        vertical-align: top;\n",
              "    }\n",
              "\n",
              "    .dataframe thead th {\n",
              "        text-align: right;\n",
              "    }\n",
              "</style>\n",
              "<table border=\"1\" class=\"dataframe\">\n",
              "  <thead>\n",
              "    <tr style=\"text-align: right;\">\n",
              "      <th></th>\n",
              "      <th>title</th>\n",
              "      <th>ingredients</th>\n",
              "      <th>description</th>\n",
              "      <th>keywords</th>\n",
              "      <th>category</th>\n",
              "      <th>score</th>\n",
              "    </tr>\n",
              "  </thead>\n",
              "  <tbody>\n",
              "    <tr>\n",
              "      <th>0</th>\n",
              "      <td>(Sausage Cabbage Soup,)</td>\n",
              "      <td>cabbage, chicken broth, pepper, salt, flour, m...</td>\n",
              "      <td>Make and share this Sausage Cabbage Soup recip...</td>\n",
              "      <td>&lt; 4 Hours, Easy</td>\n",
              "      <td>Clear Soup</td>\n",
              "      <td>0.799995</td>\n",
              "    </tr>\n",
              "    <tr>\n",
              "      <th>1</th>\n",
              "      <td>(Maghero's Soup,)</td>\n",
              "      <td>cabbage, cabbage, carrots, celery ribs, onion,...</td>\n",
              "      <td>Make and share this Maghero's Soup recipe from...</td>\n",
              "      <td>Beans, European, &lt; 4 Hours</td>\n",
              "      <td>Clear Soup</td>\n",
              "      <td>0.798759</td>\n",
              "    </tr>\n",
              "    <tr>\n",
              "      <th>2</th>\n",
              "      <td>(Autumn Harvest Root Vegetable Soup,)</td>\n",
              "      <td>carrots, parsnips, cabbage, onion, celery ribs...</td>\n",
              "      <td>Make and share this Autumn Harvest Root Vegeta...</td>\n",
              "      <td>Vegetable, &lt; 60 Mins</td>\n",
              "      <td>Clear Soup</td>\n",
              "      <td>0.782074</td>\n",
              "    </tr>\n",
              "    <tr>\n",
              "      <th>3</th>\n",
              "      <td>(Diet Cabbage Soup,)</td>\n",
              "      <td>carrots, zucchini, bell peppers, celery ribs, ...</td>\n",
              "      <td>My mom wanted to try this diet, and made a hug...</td>\n",
              "      <td>Weeknight, Stove Top, &lt; 4 Hours</td>\n",
              "      <td>Vegetable</td>\n",
              "      <td>0.776727</td>\n",
              "    </tr>\n",
              "    <tr>\n",
              "      <th>4</th>\n",
              "      <td>(Cabbage Soup,)</td>\n",
              "      <td>butter, onion, turnip, cabbage, salt, pepper, ...</td>\n",
              "      <td>Make and share this Cabbage Soup recipe from F...</td>\n",
              "      <td>Inexpensive</td>\n",
              "      <td>&lt; 30 Mins</td>\n",
              "      <td>0.772437</td>\n",
              "    </tr>\n",
              "  </tbody>\n",
              "</table>\n",
              "</div>"
            ],
            "text/plain": [
              "                                   title  \\\n",
              "0                (Sausage Cabbage Soup,)   \n",
              "1                      (Maghero's Soup,)   \n",
              "2  (Autumn Harvest Root Vegetable Soup,)   \n",
              "3                   (Diet Cabbage Soup,)   \n",
              "4                        (Cabbage Soup,)   \n",
              "\n",
              "                                         ingredients  \\\n",
              "0  cabbage, chicken broth, pepper, salt, flour, m...   \n",
              "1  cabbage, cabbage, carrots, celery ribs, onion,...   \n",
              "2  carrots, parsnips, cabbage, onion, celery ribs...   \n",
              "3  carrots, zucchini, bell peppers, celery ribs, ...   \n",
              "4  butter, onion, turnip, cabbage, salt, pepper, ...   \n",
              "\n",
              "                                         description  \\\n",
              "0  Make and share this Sausage Cabbage Soup recip...   \n",
              "1  Make and share this Maghero's Soup recipe from...   \n",
              "2  Make and share this Autumn Harvest Root Vegeta...   \n",
              "3  My mom wanted to try this diet, and made a hug...   \n",
              "4  Make and share this Cabbage Soup recipe from F...   \n",
              "\n",
              "                          keywords    category     score  \n",
              "0                  < 4 Hours, Easy  Clear Soup  0.799995  \n",
              "1       Beans, European, < 4 Hours  Clear Soup  0.798759  \n",
              "2             Vegetable, < 60 Mins  Clear Soup  0.782074  \n",
              "3  Weeknight, Stove Top, < 4 Hours   Vegetable  0.776727  \n",
              "4                      Inexpensive   < 30 Mins  0.772437  "
            ]
          },
          "execution_count": 41,
          "metadata": {},
          "output_type": "execute_result"
        }
      ],
      "source": [
        "user_input= 'soup, cabbage, carrot, onion'\n",
        "recommender_text_all(user_input)"
      ]
    },
    {
      "cell_type": "code",
      "execution_count": 42,
      "id": "03e9d1e9",
      "metadata": {},
      "outputs": [],
      "source": [
        "recipes.to_csv('../Docs/Datasets/recipes_streamlit.csv')"
      ]
    },
    {
      "cell_type": "markdown",
      "id": "b3eb8bb1",
      "metadata": {},
      "source": [
        "# <a id='toc5_'></a>[Memory Based Filtering](#toc0_)"
      ]
    },
    {
      "cell_type": "markdown",
      "id": "2439d012",
      "metadata": {},
      "source": []
    },
    {
      "cell_type": "code",
      "execution_count": 43,
      "id": "ca50766c",
      "metadata": {},
      "outputs": [],
      "source": [
        "#funkSVD libraries\n",
        "from surprise import Dataset\n",
        "from surprise.reader import Reader\n",
        "from surprise.prediction_algorithms.matrix_factorization import SVD as FunkSVD\n",
        "from surprise import accuracy\n",
        "from surprise.model_selection import train_test_split\n",
        "from surprise.model_selection import GridSearchCV"
      ]
    },
    {
      "cell_type": "code",
      "execution_count": 44,
      "id": "477e058f",
      "metadata": {},
      "outputs": [
        {
          "data": {
            "text/html": [
              "<div>\n",
              "<style scoped>\n",
              "    .dataframe tbody tr th:only-of-type {\n",
              "        vertical-align: middle;\n",
              "    }\n",
              "\n",
              "    .dataframe tbody tr th {\n",
              "        vertical-align: top;\n",
              "    }\n",
              "\n",
              "    .dataframe thead th {\n",
              "        text-align: right;\n",
              "    }\n",
              "</style>\n",
              "<table border=\"1\" class=\"dataframe\">\n",
              "  <thead>\n",
              "    <tr style=\"text-align: right;\">\n",
              "      <th></th>\n",
              "      <th>ReviewId</th>\n",
              "      <th>RecipeId</th>\n",
              "      <th>AuthorId</th>\n",
              "      <th>AuthorName</th>\n",
              "      <th>Rating</th>\n",
              "      <th>Review</th>\n",
              "      <th>DateSubmitted</th>\n",
              "      <th>DateModified</th>\n",
              "    </tr>\n",
              "  </thead>\n",
              "  <tbody>\n",
              "    <tr>\n",
              "      <th>0</th>\n",
              "      <td>2</td>\n",
              "      <td>992</td>\n",
              "      <td>2008</td>\n",
              "      <td>gayg msft</td>\n",
              "      <td>5</td>\n",
              "      <td>better than any you can get at a restaurant!</td>\n",
              "      <td>2000-01-25T21:44:00Z</td>\n",
              "      <td>2000-01-25T21:44:00Z</td>\n",
              "    </tr>\n",
              "    <tr>\n",
              "      <th>1</th>\n",
              "      <td>7</td>\n",
              "      <td>4384</td>\n",
              "      <td>1634</td>\n",
              "      <td>Bill Hilbrich</td>\n",
              "      <td>4</td>\n",
              "      <td>I cut back on the mayo, and made up the differ...</td>\n",
              "      <td>2001-10-17T16:49:59Z</td>\n",
              "      <td>2001-10-17T16:49:59Z</td>\n",
              "    </tr>\n",
              "    <tr>\n",
              "      <th>2</th>\n",
              "      <td>9</td>\n",
              "      <td>4523</td>\n",
              "      <td>2046</td>\n",
              "      <td>Gay Gilmore ckpt</td>\n",
              "      <td>2</td>\n",
              "      <td>i think i did something wrong because i could ...</td>\n",
              "      <td>2000-02-25T09:00:00Z</td>\n",
              "      <td>2000-02-25T09:00:00Z</td>\n",
              "    </tr>\n",
              "    <tr>\n",
              "      <th>3</th>\n",
              "      <td>13</td>\n",
              "      <td>7435</td>\n",
              "      <td>1773</td>\n",
              "      <td>Malarkey Test</td>\n",
              "      <td>5</td>\n",
              "      <td>easily the best i have ever had.  juicy flavor...</td>\n",
              "      <td>2000-03-13T21:15:00Z</td>\n",
              "      <td>2000-03-13T21:15:00Z</td>\n",
              "    </tr>\n",
              "    <tr>\n",
              "      <th>4</th>\n",
              "      <td>14</td>\n",
              "      <td>44</td>\n",
              "      <td>2085</td>\n",
              "      <td>Tony Small</td>\n",
              "      <td>5</td>\n",
              "      <td>An excellent dish.</td>\n",
              "      <td>2000-03-28T12:51:00Z</td>\n",
              "      <td>2000-03-28T12:51:00Z</td>\n",
              "    </tr>\n",
              "  </tbody>\n",
              "</table>\n",
              "</div>"
            ],
            "text/plain": [
              "   ReviewId  RecipeId  AuthorId        AuthorName  Rating  \\\n",
              "0         2       992      2008         gayg msft       5   \n",
              "1         7      4384      1634     Bill Hilbrich       4   \n",
              "2         9      4523      2046  Gay Gilmore ckpt       2   \n",
              "3        13      7435      1773     Malarkey Test       5   \n",
              "4        14        44      2085        Tony Small       5   \n",
              "\n",
              "                                              Review         DateSubmitted  \\\n",
              "0       better than any you can get at a restaurant!  2000-01-25T21:44:00Z   \n",
              "1  I cut back on the mayo, and made up the differ...  2001-10-17T16:49:59Z   \n",
              "2  i think i did something wrong because i could ...  2000-02-25T09:00:00Z   \n",
              "3  easily the best i have ever had.  juicy flavor...  2000-03-13T21:15:00Z   \n",
              "4                                 An excellent dish.  2000-03-28T12:51:00Z   \n",
              "\n",
              "           DateModified  \n",
              "0  2000-01-25T21:44:00Z  \n",
              "1  2001-10-17T16:49:59Z  \n",
              "2  2000-02-25T09:00:00Z  \n",
              "3  2000-03-13T21:15:00Z  \n",
              "4  2000-03-28T12:51:00Z  "
            ]
          },
          "execution_count": 44,
          "metadata": {},
          "output_type": "execute_result"
        }
      ],
      "source": [
        "#datset\n",
        "ratings= pd.read_csv('../Docs/Datasets/reviews.csv')\n",
        "ratings.head()"
      ]
    },
    {
      "cell_type": "code",
      "execution_count": 45,
      "id": "068677d0",
      "metadata": {},
      "outputs": [
        {
          "data": {
            "text/html": [
              "<div>\n",
              "<style scoped>\n",
              "    .dataframe tbody tr th:only-of-type {\n",
              "        vertical-align: middle;\n",
              "    }\n",
              "\n",
              "    .dataframe tbody tr th {\n",
              "        vertical-align: top;\n",
              "    }\n",
              "\n",
              "    .dataframe thead th {\n",
              "        text-align: right;\n",
              "    }\n",
              "</style>\n",
              "<table border=\"1\" class=\"dataframe\">\n",
              "  <thead>\n",
              "    <tr style=\"text-align: right;\">\n",
              "      <th></th>\n",
              "      <th>ReviewId</th>\n",
              "      <th>RecipeId</th>\n",
              "      <th>AuthorId</th>\n",
              "      <th>AuthorName</th>\n",
              "      <th>Rating</th>\n",
              "      <th>Review</th>\n",
              "      <th>DateSubmitted</th>\n",
              "      <th>DateModified</th>\n",
              "    </tr>\n",
              "  </thead>\n",
              "  <tbody>\n",
              "    <tr>\n",
              "      <th>145848</th>\n",
              "      <td>156476</td>\n",
              "      <td>2137</td>\n",
              "      <td>1533</td>\n",
              "      <td>Dancer</td>\n",
              "      <td>5</td>\n",
              "      <td>OUTSTANDING was the only comments my guests ma...</td>\n",
              "      <td>2005-02-27T09:30:26Z</td>\n",
              "      <td>2005-02-27T09:30:26Z</td>\n",
              "    </tr>\n",
              "    <tr>\n",
              "      <th>62702</th>\n",
              "      <td>69050</td>\n",
              "      <td>2585</td>\n",
              "      <td>1533</td>\n",
              "      <td>Dancer</td>\n",
              "      <td>1</td>\n",
              "      <td>Sorry this wasn't what I expected. I love chic...</td>\n",
              "      <td>2003-09-26T19:27:03Z</td>\n",
              "      <td>2003-09-26T19:27:03Z</td>\n",
              "    </tr>\n",
              "    <tr>\n",
              "      <th>154718</th>\n",
              "      <td>165873</td>\n",
              "      <td>4213</td>\n",
              "      <td>1533</td>\n",
              "      <td>Dancer</td>\n",
              "      <td>5</td>\n",
              "      <td>This is the best I have tasted, I have made it...</td>\n",
              "      <td>2005-04-10T09:43:57Z</td>\n",
              "      <td>2005-04-10T09:43:57Z</td>\n",
              "    </tr>\n",
              "    <tr>\n",
              "      <th>18652</th>\n",
              "      <td>22342</td>\n",
              "      <td>8857</td>\n",
              "      <td>1533</td>\n",
              "      <td>Dancer</td>\n",
              "      <td>5</td>\n",
              "      <td>I'm Dancing around my kitchen, finally I have ...</td>\n",
              "      <td>2002-08-23T17:58:39Z</td>\n",
              "      <td>2002-08-23T17:58:39Z</td>\n",
              "    </tr>\n",
              "    <tr>\n",
              "      <th>142105</th>\n",
              "      <td>152525</td>\n",
              "      <td>10332</td>\n",
              "      <td>1533</td>\n",
              "      <td>Dancer</td>\n",
              "      <td>5</td>\n",
              "      <td>Hi Bergy..Yesterday was a little rushed for me...</td>\n",
              "      <td>2005-02-09T08:03:54Z</td>\n",
              "      <td>2005-02-09T08:03:54Z</td>\n",
              "    </tr>\n",
              "  </tbody>\n",
              "</table>\n",
              "</div>"
            ],
            "text/plain": [
              "        ReviewId  RecipeId  AuthorId AuthorName  Rating  \\\n",
              "145848    156476      2137      1533     Dancer       5   \n",
              "62702      69050      2585      1533     Dancer       1   \n",
              "154718    165873      4213      1533     Dancer       5   \n",
              "18652      22342      8857      1533     Dancer       5   \n",
              "142105    152525     10332      1533     Dancer       5   \n",
              "\n",
              "                                                   Review  \\\n",
              "145848  OUTSTANDING was the only comments my guests ma...   \n",
              "62702   Sorry this wasn't what I expected. I love chic...   \n",
              "154718  This is the best I have tasted, I have made it...   \n",
              "18652   I'm Dancing around my kitchen, finally I have ...   \n",
              "142105  Hi Bergy..Yesterday was a little rushed for me...   \n",
              "\n",
              "               DateSubmitted          DateModified  \n",
              "145848  2005-02-27T09:30:26Z  2005-02-27T09:30:26Z  \n",
              "62702   2003-09-26T19:27:03Z  2003-09-26T19:27:03Z  \n",
              "154718  2005-04-10T09:43:57Z  2005-04-10T09:43:57Z  \n",
              "18652   2002-08-23T17:58:39Z  2002-08-23T17:58:39Z  \n",
              "142105  2005-02-09T08:03:54Z  2005-02-09T08:03:54Z  "
            ]
          },
          "execution_count": 45,
          "metadata": {},
          "output_type": "execute_result"
        }
      ],
      "source": [
        "#sorting the ratiings by the Author and Recipe IDs\n",
        "ratings_ = ratings.sort_values(by=['AuthorId', 'RecipeId'])\n",
        "ratings_.head()"
      ]
    },
    {
      "cell_type": "code",
      "execution_count": 46,
      "id": "915958c6",
      "metadata": {},
      "outputs": [],
      "source": [
        "#loading data as a special Dataset object\n",
        "my_dataset = Dataset.load_from_df(ratings_[['AuthorId', 'RecipeId', 'Rating']], Reader(rating_scale=(1, 5)))"
      ]
    },
    {
      "cell_type": "code",
      "execution_count": 47,
      "id": "fdc03eee",
      "metadata": {},
      "outputs": [],
      "source": [
        "#train test split\n",
        "my_train_dataset, my_test_dataset = train_test_split(my_dataset, test_size=0.3)"
      ]
    },
    {
      "cell_type": "code",
      "execution_count": 48,
      "id": "482516a7",
      "metadata": {},
      "outputs": [
        {
          "name": "stdout",
          "output_type": "stream",
          "text": [
            "FCP:  0.6319\n",
            "0.6319222993527622\n"
          ]
        }
      ],
      "source": [
        "final_model= FunkSVD(n_factors=15,\n",
        "                           n_epochs=6,\n",
        "                           lr_all=0.005,    # learning rate for each epoch\n",
        "                           biased=False,  # forces the algorithm to store all latent information in the matrices\n",
        "                           verbose=0)\n",
        "\n",
        "final_model.fit(my_train_dataset)\n",
        "final_predictions= final_model.test(my_test_dataset)\n",
        "\n",
        "FCP= accuracy.fcp(final_predictions, verbose=5)\n",
        "print(FCP)"
      ]
    },
    {
      "cell_type": "code",
      "execution_count": 49,
      "id": "9ab6a0de",
      "metadata": {},
      "outputs": [],
      "source": [
        "#testing on dataset\n",
        "test_predictions= final_model.test(my_test_dataset)"
      ]
    },
    {
      "cell_type": "code",
      "execution_count": 50,
      "id": "3618c663",
      "metadata": {},
      "outputs": [],
      "source": [
        "#adding the predictions to a datframe\n",
        "predictions_df = pd.DataFrame(test_predictions, columns=['AuthorId',\n",
        "                                                     'RecipeId',\n",
        "                                                     'ActualRating',\n",
        "                                                     'PredictedRating', \n",
        "                                                     'Details'])\n"
      ]
    },
    {
      "cell_type": "code",
      "execution_count": 51,
      "id": "15fbd74b",
      "metadata": {},
      "outputs": [
        {
          "data": {
            "text/html": [
              "<div>\n",
              "<style scoped>\n",
              "    .dataframe tbody tr th:only-of-type {\n",
              "        vertical-align: middle;\n",
              "    }\n",
              "\n",
              "    .dataframe tbody tr th {\n",
              "        vertical-align: top;\n",
              "    }\n",
              "\n",
              "    .dataframe thead th {\n",
              "        text-align: right;\n",
              "    }\n",
              "</style>\n",
              "<table border=\"1\" class=\"dataframe\">\n",
              "  <thead>\n",
              "    <tr style=\"text-align: right;\">\n",
              "      <th></th>\n",
              "      <th>AuthorId</th>\n",
              "      <th>RecipeId</th>\n",
              "      <th>ActualRating</th>\n",
              "      <th>PredictedRating</th>\n",
              "      <th>Details</th>\n",
              "      <th>RatingDiff</th>\n",
              "    </tr>\n",
              "  </thead>\n",
              "  <tbody>\n",
              "    <tr>\n",
              "      <th>0</th>\n",
              "      <td>1049057</td>\n",
              "      <td>112936</td>\n",
              "      <td>5.0</td>\n",
              "      <td>2.275033</td>\n",
              "      <td>{'was_impossible': False}</td>\n",
              "      <td>2.724967</td>\n",
              "    </tr>\n",
              "    <tr>\n",
              "      <th>1</th>\n",
              "      <td>217482</td>\n",
              "      <td>340782</td>\n",
              "      <td>5.0</td>\n",
              "      <td>1.412164</td>\n",
              "      <td>{'was_impossible': False}</td>\n",
              "      <td>3.587836</td>\n",
              "    </tr>\n",
              "    <tr>\n",
              "      <th>2</th>\n",
              "      <td>293042</td>\n",
              "      <td>9841</td>\n",
              "      <td>5.0</td>\n",
              "      <td>1.000000</td>\n",
              "      <td>{'was_impossible': False}</td>\n",
              "      <td>4.000000</td>\n",
              "    </tr>\n",
              "    <tr>\n",
              "      <th>3</th>\n",
              "      <td>2002211260</td>\n",
              "      <td>111342</td>\n",
              "      <td>5.0</td>\n",
              "      <td>4.407399</td>\n",
              "      <td>{'was_impossible': True, 'reason': 'User and i...</td>\n",
              "      <td>0.592601</td>\n",
              "    </tr>\n",
              "    <tr>\n",
              "      <th>4</th>\n",
              "      <td>2576629</td>\n",
              "      <td>449103</td>\n",
              "      <td>5.0</td>\n",
              "      <td>4.407399</td>\n",
              "      <td>{'was_impossible': True, 'reason': 'User and i...</td>\n",
              "      <td>0.592601</td>\n",
              "    </tr>\n",
              "    <tr>\n",
              "      <th>5</th>\n",
              "      <td>8856</td>\n",
              "      <td>37949</td>\n",
              "      <td>5.0</td>\n",
              "      <td>1.000000</td>\n",
              "      <td>{'was_impossible': False}</td>\n",
              "      <td>4.000000</td>\n",
              "    </tr>\n",
              "    <tr>\n",
              "      <th>6</th>\n",
              "      <td>414923</td>\n",
              "      <td>108522</td>\n",
              "      <td>5.0</td>\n",
              "      <td>4.191772</td>\n",
              "      <td>{'was_impossible': False}</td>\n",
              "      <td>0.808228</td>\n",
              "    </tr>\n",
              "    <tr>\n",
              "      <th>7</th>\n",
              "      <td>2001063614</td>\n",
              "      <td>267920</td>\n",
              "      <td>5.0</td>\n",
              "      <td>1.000000</td>\n",
              "      <td>{'was_impossible': False}</td>\n",
              "      <td>4.000000</td>\n",
              "    </tr>\n",
              "    <tr>\n",
              "      <th>8</th>\n",
              "      <td>296027</td>\n",
              "      <td>250874</td>\n",
              "      <td>5.0</td>\n",
              "      <td>3.625797</td>\n",
              "      <td>{'was_impossible': False}</td>\n",
              "      <td>1.374203</td>\n",
              "    </tr>\n",
              "    <tr>\n",
              "      <th>9</th>\n",
              "      <td>403641</td>\n",
              "      <td>96493</td>\n",
              "      <td>5.0</td>\n",
              "      <td>1.000000</td>\n",
              "      <td>{'was_impossible': False}</td>\n",
              "      <td>4.000000</td>\n",
              "    </tr>\n",
              "  </tbody>\n",
              "</table>\n",
              "</div>"
            ],
            "text/plain": [
              "     AuthorId  RecipeId  ActualRating  PredictedRating  \\\n",
              "0     1049057    112936           5.0         2.275033   \n",
              "1      217482    340782           5.0         1.412164   \n",
              "2      293042      9841           5.0         1.000000   \n",
              "3  2002211260    111342           5.0         4.407399   \n",
              "4     2576629    449103           5.0         4.407399   \n",
              "5        8856     37949           5.0         1.000000   \n",
              "6      414923    108522           5.0         4.191772   \n",
              "7  2001063614    267920           5.0         1.000000   \n",
              "8      296027    250874           5.0         3.625797   \n",
              "9      403641     96493           5.0         1.000000   \n",
              "\n",
              "                                             Details  RatingDiff  \n",
              "0                          {'was_impossible': False}    2.724967  \n",
              "1                          {'was_impossible': False}    3.587836  \n",
              "2                          {'was_impossible': False}    4.000000  \n",
              "3  {'was_impossible': True, 'reason': 'User and i...    0.592601  \n",
              "4  {'was_impossible': True, 'reason': 'User and i...    0.592601  \n",
              "5                          {'was_impossible': False}    4.000000  \n",
              "6                          {'was_impossible': False}    0.808228  \n",
              "7                          {'was_impossible': False}    4.000000  \n",
              "8                          {'was_impossible': False}    1.374203  \n",
              "9                          {'was_impossible': False}    4.000000  "
            ]
          },
          "execution_count": 51,
          "metadata": {},
          "output_type": "execute_result"
        }
      ],
      "source": [
        "#checking the difference between the predicted and actual\n",
        "predictions_df['RatingDiff']= abs(predictions_df['PredictedRating']- predictions_df['ActualRating']) #differences\n",
        "predictions_df.head(10)"
      ]
    },
    {
      "cell_type": "code",
      "execution_count": 52,
      "id": "8cb2bd7a",
      "metadata": {},
      "outputs": [
        {
          "data": {
            "text/plain": [
              "<surprise.prediction_algorithms.matrix_factorization.SVD at 0x39e33b910>"
            ]
          },
          "execution_count": 52,
          "metadata": {},
          "output_type": "execute_result"
        }
      ],
      "source": [
        "full_train_set= my_dataset.build_full_trainset()\n",
        "final_model.fit(full_train_set)"
      ]
    },
    {
      "cell_type": "code",
      "execution_count": 53,
      "metadata": {},
      "outputs": [],
      "source": [
        "import pickle\n",
        "\n",
        "# To save\n",
        "with open(\"model.p\", \"wb\") as f:\n",
        "    pickle.dump(final_model, f)\n",
        "\n",
        "# To load again\n",
        "with open(\"model.p\", \"rb\") as f:\n",
        "    loaded_model = pickle.load(f)"
      ]
    },
    {
      "cell_type": "markdown",
      "id": "38145af9",
      "metadata": {},
      "source": [
        "# Hybrid Recommendation"
      ]
    },
    {
      "cell_type": "code",
      "execution_count": 54,
      "id": "6e56d03b",
      "metadata": {},
      "outputs": [],
      "source": [
        "# Function to initialize user_ratings_dict\n",
        "def initialize_user_ratings_dict(ratings_):\n",
        "    user_ratings_dict = {}\n",
        "    for index, row in ratings_.iterrows():\n",
        "        user_id = row['AuthorId']\n",
        "        recipe_id = row['RecipeId']\n",
        "        rating = row['Rating']\n",
        "        \n",
        "        if user_id not in user_ratings_dict:\n",
        "            user_ratings_dict[user_id] = {}\n",
        "        user_ratings_dict[user_id][recipe_id] = rating\n",
        "    return user_ratings_dict\n",
        "\n",
        "\n",
        "\n",
        "\n",
        "def hybrid_recommender(user_id, user_input_ingredients):\n",
        "    # Initialize user_ratings_dict\n",
        "    user_ratings_dict = initialize_user_ratings_dict(ratings_)\n",
        "\n",
        "\n",
        "\n",
        "\n",
        "    # Content-Based Filtering\n",
        "    content_based_recommendations =content_based_filtering(user_input_ingredients)\n",
        "\n",
        "\n",
        "\n",
        "\n",
        "    # Collaborative Filtering (SVD) for predicted ratings\n",
        "    collaborative_based_recommendations = collaborative_filtering(user_id, content_based_recommendations, user_ratings_dict)\n",
        "\n",
        "\n",
        "\n",
        "\n",
        "    return collaborative_based_recommendations\n",
        "\n",
        "\n",
        "\n",
        "\n",
        "def content_based_filtering(user_input_ingredients):\n",
        "    recommended_recipes= recommender(user_input_ingredients)\n",
        "    return recommended_recipes\n",
        "\n",
        "\n",
        "\n",
        "def collaborative_filtering(user_id, recommended_recipes, user_ratings_dict):\n",
        "\n",
        "\n",
        "    # Get ratings for recommended recipes\n",
        "    recommended_ratings = []\n",
        "    for RecipeID in recommended_recipes['RecipeId']:\n",
        "        if RecipeID not in user_ratings_dict.get(user_id, {}):\n",
        "            predicted_rating = final_model.predict(user_id, RecipeID).est\n",
        "            recommended_ratings.append((RecipeID, predicted_rating))\n",
        "    \n",
        "    # Sort recommended recipes by predicted rating\n",
        "    recommended_ratings.sort(key=lambda x: x[1], reverse=True)\n",
        "\n",
        "    recommended_ratings_df = pd.DataFrame(recommended_ratings, columns=['RecipeId', 'PredictedRating'])\n",
        "\n",
        "\n",
        "\n",
        "\n",
        "    final_recommendations= pd.concat([recommended_recipes,recommended_ratings_df], axis=1)\n",
        "    \n",
        "    return final_recommendations\n"
      ]
    },
    {
      "cell_type": "code",
      "execution_count": 55,
      "metadata": {},
      "outputs": [
        {
          "name": "stderr",
          "output_type": "stream",
          "text": [
            "/var/folders/0y/k2wtvzs527g8z6726scfz6_80000gn/T/ipykernel_11651/4226097990.py:64: FutureWarning: The behavior of DataFrame concatenation with empty or all-NA entries is deprecated. In a future version, this will no longer exclude empty or all-NA columns when determining the result dtypes. To retain the old behavior, exclude the relevant entries before the concat operation.\n",
            "  recommendation = pd.concat([recommendation,pd.DataFrame(\n"
          ]
        },
        {
          "name": "stdout",
          "output_type": "stream",
          "text": [
            "   RecipeId                                         Title Ingredients  \\\n",
            "0    416501                       Fat Free Ranch Dressing        tofu   \n",
            "1    312486   How to Press Tofu (For Marinades or Frying)  tofu, tofu   \n",
            "2    356257                              Basic Baked Tofu        tofu   \n",
            "3    534478  Toast With Orignal Tofu Spread &amp; Veggies        tofu   \n",
            "4    415903                                Dry-Fried Tofu        tofu   \n",
            "\n",
            "          Category  Calories   Time  Score Missing Ingredients  RecipeId  \\\n",
            "0  Salad Dressings      30.6   PT4M    1.0                        312486   \n",
            "1         Soy/Tofu      60.5  PT35M    1.0                        534478   \n",
            "2         Soy/Tofu     140.9  PT35M    1.0                        416501   \n",
            "3     Lunch/Snacks     303.1   PT5M    1.0                        356257   \n",
            "4         Soy/Tofu      71.0   PT5M    1.0                        415903   \n",
            "\n",
            "   PredictedRating  \n",
            "0         4.407951  \n",
            "1         4.407951  \n",
            "2         1.000000  \n",
            "3         1.000000  \n",
            "4         1.000000  \n"
          ]
        }
      ],
      "source": [
        "# Example usage\n",
        "user_id = 177993  # User ID entered by the user\n",
        "user_input_ingredients = [\"tofu\"]  # Ingredients entered by the user\n",
        "\n",
        "#user_id= full_train_set.to_inner_uid(user_id)\n",
        "user_id= full_train_set.to_raw_uid(user_id)\n",
        "  # Number of recommendations to generate\n",
        "recommendations = hybrid_recommender(user_id, user_input_ingredients)\n",
        "print(recommendations)"
      ]
    },
    {
      "cell_type": "code",
      "execution_count": 56,
      "metadata": {},
      "outputs": [],
      "source": [
        "import pickle\n",
        "\n",
        "# To save\n",
        "with open(\"model.p\", \"wb\") as f:\n",
        "    pickle.dump(final_model, f)\n",
        "\n",
        "# To load again\n",
        "with open(\"model.p\", \"rb\") as f:\n",
        "    loaded_model = pickle.load(f)"
      ]
    }
  ],
  "metadata": {
    "colab": {
      "provenance": []
    },
    "kernelspec": {
      "display_name": "base",
      "language": "python",
      "name": "python3"
    },
    "language_info": {
      "codemirror_mode": {
        "name": "ipython",
        "version": 3
      },
      "file_extension": ".py",
      "mimetype": "text/x-python",
      "name": "python",
      "nbconvert_exporter": "python",
      "pygments_lexer": "ipython3",
      "version": "3.11.6"
    }
  },
  "nbformat": 4,
  "nbformat_minor": 5
}
