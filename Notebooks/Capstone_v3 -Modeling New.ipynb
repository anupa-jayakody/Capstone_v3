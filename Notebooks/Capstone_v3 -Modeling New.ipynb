{
  "cells": [
    {
      "cell_type": "markdown",
      "id": "97f20224",
      "metadata": {},
      "source": [
        "**Table of contents**<a id='toc0_'></a>    \n",
        "- [Libraries](#toc1_1_)    \n",
        "- [Option 1- Search by Ingredients](#toc2_)    \n",
        "  - [Tokenization](#toc2_1_)    \n",
        "  - [Modeling](#toc2_2_)    \n",
        "    - [Word2vec](#toc2_2_1_)    \n",
        "    - [Hyperparameter Evaluation](#toc2_2_2_)    \n",
        "    - [Word Embeddings](#toc2_2_3_)    \n",
        "    - [Vectorisation](#toc2_2_4_)    \n",
        "- [Option 2 : Search by Keywords](#toc3_)    \n",
        "    - [Tokenization](#toc3_1_1_)    \n",
        "    - [Modeling](#toc3_1_2_)    \n",
        "    - [Hyperparameter Evaluation](#toc3_1_3_)    \n",
        "- [Option 3 : Search by Ingredients & Keywords both together](#toc4_)    \n",
        "\n",
        "<!-- vscode-jupyter-toc-config\n",
        "\tnumbering=false\n",
        "\tanchor=true\n",
        "\tflat=false\n",
        "\tminLevel=1\n",
        "\tmaxLevel=6\n",
        "\t/vscode-jupyter-toc-config -->\n",
        "<!-- THIS CELL WILL BE REPLACED ON TOC UPDATE. DO NOT WRITE YOUR TEXT IN THIS CELL -->"
      ]
    },
    {
      "cell_type": "markdown",
      "id": "a9411a64",
      "metadata": {},
      "source": [
        "## <a id='toc1_1_'></a>[Libraries](#toc0_)\n"
      ]
    },
    {
      "cell_type": "code",
      "execution_count": 1,
      "id": "3ba7adee",
      "metadata": {
        "id": "3ba7adee"
      },
      "outputs": [],
      "source": [
        "#importing the basic libraries\n",
        "import numpy as np\n",
        "import pandas as pd\n",
        "import matplotlib.pyplot as plt\n"
      ]
    },
    {
      "cell_type": "code",
      "execution_count": 2,
      "id": "-3Uc8d669LhS",
      "metadata": {
        "colab": {
          "base_uri": "https://localhost:8080/",
          "height": 461
        },
        "id": "-3Uc8d669LhS",
        "outputId": "52eba7d2-1481-4222-ab35-6038ed585fe4"
      },
      "outputs": [
        {
          "name": "stderr",
          "output_type": "stream",
          "text": [
            "[nltk_data] Downloading package stopwords to\n",
            "[nltk_data]     C:\\Users\\e312995\\AppData\\Roaming\\nltk_data...\n",
            "[nltk_data]   Package stopwords is already up-to-date!\n"
          ]
        }
      ],
      "source": [
        "#importing the word processing libraries\n",
        "\n",
        "\n",
        " #importing the regex library\n",
        "import re\n",
        "\n",
        "#importing the nltk library\n",
        "import nltk\n",
        "\n",
        "\n",
        "#lemmatizer\n",
        "from nltk.stem import WordNetLemmatizer\n",
        "\n",
        "#  nltk stopwords\n",
        "nltk.download('stopwords')\n",
        "from nltk.corpus import stopwords\n",
        "\n",
        "#defining the stop words\n",
        "ENGLISH_STOP_WORDS = stopwords.words('english')\n",
        "\n",
        "#library to handle punctuation\n",
        "import string\n",
        "\n",
        "#counter library\n",
        "from collections import Counter\n",
        "\n",
        "import spacy\n",
        "\n",
        "#speech tagging library\n",
        "from nltk import pos_tag\n",
        "\n",
        "#library for word embedding\n",
        "from gensim.models import Word2Vec\n",
        "from gensim.models.phrases import Phrases, Phraser\n",
        "from sklearn.feature_extraction.text import TfidfVectorizer\n",
        "from nltk.tokenize import word_tokenize\n",
        "from collections import defaultdict\n",
        "from sklearn.metrics.pairwise import cosine_similarity\n",
        "\n",
        "import string"
      ]
    },
    {
      "cell_type": "code",
      "execution_count": 3,
      "id": "62c380af",
      "metadata": {
        "colab": {
          "base_uri": "https://localhost:8080/",
          "height": 339
        },
        "id": "62c380af",
        "outputId": "4a48149b-66c2-435e-f5b9-f4fcaf3b832a"
      },
      "outputs": [],
      "source": [
        "#loading the cleaned dataset\n",
        "recipes = pd.read_csv('C:/Users/e312995/OneDrive - WESCO DISTRIBUTION/Documents/PERSONAL/BRAINSTATION/CAPSTONE/Datasets/recipe_sample_3.csv')"
      ]
    },
    {
      "cell_type": "code",
      "execution_count": 4,
      "id": "e5c557af",
      "metadata": {},
      "outputs": [
        {
          "data": {
            "text/plain": [
              "(521766, 32)"
            ]
          },
          "execution_count": 4,
          "metadata": {},
          "output_type": "execute_result"
        }
      ],
      "source": [
        "#checking\n",
        "recipes.shape"
      ]
    },
    {
      "cell_type": "code",
      "execution_count": 5,
      "id": "57c11c39",
      "metadata": {},
      "outputs": [
        {
          "data": {
            "text/plain": [
              "Index(['Unnamed: 0', 'RecipeId', 'Name', 'AuthorId', 'AuthorName', 'CookTime',\n",
              "       'PrepTime', 'TotalTime', 'DatePublished', 'Description', 'Images',\n",
              "       'RecipeCategory', 'Keywords', 'RecipeIngredientQuantities',\n",
              "       'RecipeIngredientParts', 'AggregatedRating', 'ReviewCount', 'Calories',\n",
              "       'FatContent', 'SaturatedFatContent', 'CholesterolContent',\n",
              "       'SodiumContent', 'CarbohydrateContent', 'FiberContent', 'SugarContent',\n",
              "       'ProteinContent', 'RecipeServings', 'RecipeYield', 'RecipeInstructions',\n",
              "       'length of ingredients', 'length_of_titles', 'Vegan/Not'],\n",
              "      dtype='object')"
            ]
          },
          "execution_count": 5,
          "metadata": {},
          "output_type": "execute_result"
        }
      ],
      "source": [
        "recipes.columns"
      ]
    },
    {
      "cell_type": "code",
      "execution_count": 6,
      "id": "2176754d",
      "metadata": {},
      "outputs": [],
      "source": [
        "recipes=recipes.drop('Unnamed: 0', axis=1)"
      ]
    },
    {
      "cell_type": "markdown",
      "id": "9f1e4b05",
      "metadata": {},
      "source": [
        "# <a id='toc2_'></a>[Option 1- Search by Ingredients](#toc0_)"
      ]
    },
    {
      "cell_type": "markdown",
      "id": "232d2946",
      "metadata": {},
      "source": [
        "## <a id='toc2_1_'></a>[Tokenization](#toc0_)"
      ]
    },
    {
      "cell_type": "markdown",
      "id": "8c62f2a1",
      "metadata": {
        "id": "8c62f2a1"
      },
      "source": [
        "As the next step, I will be refining the ingredients data to avoid biases from different words and to have more consistency for comparsion of the input data vs the recipe data in the database"
      ]
    },
    {
      "cell_type": "markdown",
      "id": "NgAIBeBk9LhX",
      "metadata": {
        "id": "NgAIBeBk9LhX"
      },
      "source": [
        "In Sprint 1, I followed a process where I had multiple lines of codes for each data cleaning step, here I am creating one parser function which can be used to clean both ingredients and title columns. Furthermore in Sprint 1, my ingredients were cleaned in a way that an example of 'red cabbage' would produce 2 tokens red and cabbage seperately, but in the project context, these words should remain in the original form as red cabbage to make sense. So I have changed my cleaning steps to incorporate that."
      ]
    },
    {
      "cell_type": "markdown",
      "id": "_u4AMZOe9LhX",
      "metadata": {
        "id": "_u4AMZOe9LhX"
      },
      "source": [
        "As the recipes will usually contain alot of measuring terms and this will repeat, I will remove them from the list for the cleaning purpose to remove the biases from them."
      ]
    },
    {
      "cell_type": "markdown",
      "id": "8VPE8eel9Lhc",
      "metadata": {
        "id": "8VPE8eel9Lhc"
      },
      "source": [
        "Next I will\n",
        "- break each ingredient list to tokens/words\n",
        "- lower case\n",
        "- remove stop words\n",
        "- remove verbs\n",
        "- remove measuring word\n",
        "- remove characters and numbers\n",
        "\n",
        "All this is done to remove any impact from those words/tokens to the tool as the recommendation engine should only map for the true ingredients."
      ]
    },
    {
      "cell_type": "code",
      "execution_count": 7,
      "id": "it4Ec-TQ9Lhc",
      "metadata": {
        "id": "it4Ec-TQ9Lhc"
      },
      "outputs": [],
      "source": [
        "def parser(input_keys): #function\n",
        "    \n",
        "    remove_= { 'oil', 'salt', 'pepper'}\n",
        "\n",
        "#defining measuring units\n",
        "\n",
        "    measurment_url= 'https://en.wikibooks.org/wiki/Cookbook:Units_of_measurement' #data source\n",
        "\n",
        "\n",
        "    measuring_words= ['ml', 'mL', 'milliliter', 'millilitre', 'cc' , 'cubic centimeter', 'l', 'L', 'liter', 'litre', 'dl', 'dL', 'deciliter', 'decilitre', 'teaspoon', 't' , 'tsp.',\n",
        "'tablespoon' , 'T', 'tbl', 'tbs', 'tbsp', 'fluid ounce', 'fl oz',  'gill', 'cup',  'c', 'pint', 'p', 'pt', 'fl pt',\n",
        "'quart', 'q', 'qt', 'fl qt', 'gallon' , 'g' , 'gal' , 'g', 'milligram', 'milligramme', 'g' , 'gram' , 'gramme', 'kg',\n",
        "'kilogram', 'kilogramme', 'pound', 'lb', 'ounce', 'oz', 'mm', 'millimeter', 'millimetre', 'cm' , 'centimeter', 'centimetre', 'm' , 'meter',\n",
        "'metre', 'inch', 'in', 'yard', '°C' , 'degree celsius','°F' ,'Farenheit', 'tsp']\n",
        "\n",
        "\n",
        "\n",
        "    ingredients_list = re.split(',', input_keys) #splitting the ingredients by commas\n",
        "\n",
        "    cleaned_ingredients = [] #new list to store cleaned ingredients\n",
        "\n",
        "    lemmatizer = WordNetLemmatizer() #lemmatizer\n",
        "\n",
        "    for ingredient in ingredients_list:\n",
        "        items = re.split(' ', ingredient)  #splitting each ingredient by space to process and clean each individual word\n",
        "\n",
        "        items = [word for word in items if word.isalpha()] #filtering only letters\n",
        "\n",
        "        #tagged_items= pos_tag(items) #tagging the words to identify verbs\n",
        "\n",
        "        #items= [word for word, pos in tagged_items if not pos.startswith('VB')] #filtering to remove any word which is a verb\n",
        "\n",
        "        items = [word.lower() for word in items] #lowercasing\n",
        "\n",
        "        items = [lemmatizer.lemmatize(word) for word in items] #lemmatizing\n",
        "\n",
        "        items = [word for word in items if word not in ENGLISH_STOP_WORDS] #removing stop words\n",
        "\n",
        "        items = [word for word in items if word not in measuring_words] #removing measuring words\n",
        "\n",
        "        items = [word for word in items if word not in remove_]\n",
        "\n",
        "        if items:\n",
        "            cleaned_ingredients.append(' '.join(items) ) #joining the individual words of the ingredient seperated by space\n",
        "    #cleaned_ingredients= ' '.join(cleaned_ingredients) #joining the ingreidents back seprated by commas\n",
        "\n",
        "\n",
        "    return cleaned_ingredients #return the list\n"
      ]
    },
    {
      "cell_type": "code",
      "execution_count": 8,
      "id": "28478038",
      "metadata": {},
      "outputs": [],
      "source": [
        "# def parser_new(input_keys):\n",
        "\n",
        "#     remove_= { 'oil', 'salt', 'pepper'}\n",
        "\n",
        "#     #defining measuring units\n",
        "\n",
        "#     measuring_words= ['ml', 'mL', 'milliliter', 'millilitre', 'cc' , 'cubic centimeter', 'l', 'L', 'liter', 'litre', 'dl', 'dL', 'deciliter', 'decilitre', 'teaspoon', 't' , 'tsp.','tablespoon' , 'T', 'tbl', 'tbs', 'tbsp', 'fluid ounce', 'fl oz',  'gill', 'cup',  'c', 'pint', 'p', 'pt', 'fl pt','quart', 'q', 'qt', 'fl qt', 'gallon' , 'g' , 'gal' , 'g', 'milligram', 'milligramme', 'g' , 'gram' , 'gramme', 'kg','kilogram', 'kilogramme', 'pound', 'lb', 'ounce', 'oz', 'mm', 'milimeter', 'millimetre', 'cm' , 'centimeter', 'centimetre', 'm' , 'meter','metre', 'inch', 'in', 'yard', '°C' , 'degree celsius','°F' ,'Farenheit', 'tsp']\n",
        "\n",
        "\n",
        "#     ingredients_list = re.split(',', input_keys)\n",
        "#     ingredients_cleaned = []\n",
        "#     lemmatizer = WordNetLemmatizer()\n",
        "#     for ingredient in ingredients_list:\n",
        "#         items = [lemmatizer.lemmatize(word.lower()) for word in ingredient.split() \n",
        "#                  if word.isalpha() and \n",
        "#                     word.lower() not in ENGLISH_STOP_WORDS and \n",
        "#                     word.lower() not in measuring_words and \n",
        "#                     word.lower() not in remove_]\n",
        "#         if items:\n",
        "#             ingredients_cleaned.append(' '.join(items))\n",
        "\n",
        "#     return ingredients_cleaned"
      ]
    },
    {
      "cell_type": "markdown",
      "id": "Rwhw4k0J9Lhc",
      "metadata": {
        "id": "Rwhw4k0J9Lhc"
      },
      "source": [
        "Perfect, I have my ingredients seperated by a comma in original form."
      ]
    },
    {
      "cell_type": "markdown",
      "id": "81021012",
      "metadata": {},
      "source": [
        "## <a id='toc2_2_'></a>[Modeling](#toc0_)"
      ]
    },
    {
      "cell_type": "markdown",
      "id": "327777fc",
      "metadata": {},
      "source": [
        "### <a id='toc2_2_1_'></a>[Word2vec](#toc0_)"
      ]
    },
    {
      "cell_type": "markdown",
      "id": "UDLVxtyp9Lhh",
      "metadata": {
        "id": "UDLVxtyp9Lhh"
      },
      "source": [
        "Since this is a text analysis, I will use Word2vec which will enable creating embeddings for each word which then can be  converted to a vector for further analysis."
      ]
    },
    {
      "cell_type": "code",
      "execution_count": 9,
      "id": "b5d5b5e9",
      "metadata": {},
      "outputs": [
        {
          "data": {
            "text/plain": [
              "0         blueberries, granulated sugar, vanilla yogurt,...\n",
              "1         saffron, milk, hot green chili peppers, onions...\n",
              "2         sugar, lemons, rind of, lemon, zest of, fresh ...\n",
              "3         extra firm tofu, eggplant, zucchini, mushrooms...\n",
              "4         plain tomato juice, cabbage, onion, carrots, c...\n",
              "                                ...                        \n",
              "521761    fresh ginger, unsalted butter, dark brown suga...\n",
              "521762    Dijon mustard, garlic, peppercorns, shallot, c...\n",
              "521763            half-and-half, heavy cream, brandy, sugar\n",
              "521764    wasabi paste, dill, English cucumber, smoked s...\n",
              "521765    hard-boiled eggs, breakfast sausage, panko bre...\n",
              "Name: RecipeIngredientParts, Length: 521766, dtype: object"
            ]
          },
          "execution_count": 9,
          "metadata": {},
          "output_type": "execute_result"
        }
      ],
      "source": [
        "ingredients= recipes['RecipeIngredientParts']\n",
        "ingredients"
      ]
    },
    {
      "cell_type": "code",
      "execution_count": 10,
      "id": "51qjy3W19Lhi",
      "metadata": {
        "id": "51qjy3W19Lhi",
        "outputId": "fb3c78cb-474c-4147-9835-8296bd0caa79"
      },
      "outputs": [],
      "source": [
        "#getting the parsed ingredients for the model\n",
        "ingredients= recipes['RecipeIngredientParts']\n",
        "ingredients_cleaned = ingredients.apply(parser)\n",
        "\n",
        "#word2vec model with starting parameters\n",
        "phrases_model=Word2Vec(sentences=ingredients_cleaned,min_count=1, sg=0, window=15, workers=8, vector_size=300, compute_loss=True)  #used min_count=1 to avoid any ingredient being missed out\n",
        "\n"
      ]
    },
    {
      "cell_type": "markdown",
      "id": "752ed809",
      "metadata": {},
      "source": [
        "### <a id='toc2_2_2_'></a>[Hyperparameter Evaluation](#toc0_)"
      ]
    },
    {
      "cell_type": "markdown",
      "id": "860c6314",
      "metadata": {},
      "source": [
        "Now I will check different options with the model to check which gives the lowest compute loss"
      ]
    },
    {
      "cell_type": "code",
      "execution_count": 11,
      "id": "16474b49",
      "metadata": {},
      "outputs": [
        {
          "data": {
            "text/plain": [
              "3294282.75"
            ]
          },
          "execution_count": 11,
          "metadata": {},
          "output_type": "execute_result"
        }
      ],
      "source": [
        "#loss with vector size 300\n",
        "phrases_model.get_latest_training_loss()"
      ]
    },
    {
      "cell_type": "code",
      "execution_count": 12,
      "id": "0916e482",
      "metadata": {},
      "outputs": [
        {
          "data": {
            "text/plain": [
              "3238209.75"
            ]
          },
          "execution_count": 12,
          "metadata": {},
          "output_type": "execute_result"
        }
      ],
      "source": [
        "#vector size 200\n",
        "phrases_model=Word2Vec(sentences=ingredients_cleaned,min_count=1, sg=0, window=15, workers=8, vector_size=200, compute_loss=True)\n",
        "phrases_model.get_latest_training_loss()"
      ]
    },
    {
      "cell_type": "code",
      "execution_count": 13,
      "id": "c2be8978",
      "metadata": {},
      "outputs": [
        {
          "data": {
            "text/plain": [
              "3322599.5"
            ]
          },
          "execution_count": 13,
          "metadata": {},
          "output_type": "execute_result"
        }
      ],
      "source": [
        "#vector size 100\n",
        "phrases_model=Word2Vec(sentences=ingredients_cleaned,min_count=1, sg=0, window=15, workers=8, vector_size=100, compute_loss=True)\n",
        "phrases_model.get_latest_training_loss()"
      ]
    },
    {
      "cell_type": "markdown",
      "id": "012d1b77",
      "metadata": {},
      "source": [
        "I am also going to iterate through hs, window, vector sizes to see if I can pick the best hyperparamters"
      ]
    },
    {
      "cell_type": "code",
      "execution_count": 14,
      "id": "1f3bb3ba",
      "metadata": {},
      "outputs": [],
      "source": [
        "# import time\n",
        "\n",
        "# train_time_values = []\n",
        "# seed_val = 42\n",
        "\n",
        "# hs_values = [0, 1]\n",
        "# vector_values= [100,200,300]\n",
        "# window_values= [10,13,15,18]\n",
        "\n",
        "# # Build vocabulary\n",
        "# #w2v_model = Word2Vec(ingredients_cleaned, vector_size=vector, window=window, hs=hs_val, seed=seed_val)\n",
        "\n",
        "\n",
        "# for data in ingredients_cleaned:\n",
        "#     for vector in vector_values:\n",
        "#         for hs_val in hs_values:\n",
        "#             for window in window_values:\n",
        "#                 time_taken_list = []\n",
        "#                 for i in range(3):\n",
        "#                     start_time = time.time()\n",
        "#                     w2v_model = Word2Vec(\n",
        "#                         data,\n",
        "#                         compute_loss=True,\n",
        "#                         window= window,\n",
        "#                         vector_size=vector,\n",
        "#                         hs=hs_val,\n",
        "#                         seed=seed_val,\n",
        "#                     )\n",
        "#                     time_taken_list.append(time.time() - start_time)\n",
        "\n",
        "#                 time_taken_list = np.array(time_taken_list)\n",
        "#                 time_mean = np.mean(time_taken_list)\n",
        "#                 time_std = np.std(time_taken_list)\n",
        "\n",
        "#                 model_result = {\n",
        "                    \n",
        "#                     'compute_loss': w2v_model.get_latest_training_loss(),\n",
        "#                     'vector': vector,\n",
        "#                     'window': window,\n",
        "#                     'hs_val': hs_val,\n",
        "#                     'train_time_mean': time_mean,\n",
        "#                     'train_time_std': time_std,\n",
        "#                 }\n",
        "#                 print(\"Word2vec model #%i: %s\" % (len(train_time_values), model_result))\n",
        "#                 train_time_values.append(model_result)\n",
        "\n",
        "# train_times_table = pd.DataFrame(train_time_values)\n",
        "# train_times_table = train_times_table.sort_values(\n",
        "#     by=['train_data',  'hs', 'compute_loss'],\n",
        "#     ascending=[False, False, False],\n",
        "# )\n",
        "# print(train_times_table)"
      ]
    },
    {
      "cell_type": "markdown",
      "id": "ed8d7e5e",
      "metadata": {},
      "source": [
        "As per above, vector sizes 100,200,300 gives similar compute losses with hs_val=0, Combining with the earlier training losses, I will proceed with below. \n",
        "\n",
        "Final model selection:\n",
        " - vector size= 200\n",
        " - hs= 0\n",
        " - window= 15"
      ]
    },
    {
      "cell_type": "code",
      "execution_count": 15,
      "id": "3ffbeb36",
      "metadata": {},
      "outputs": [],
      "source": [
        "#final model\n",
        "phrases_model=Word2Vec(sentences=ingredients_cleaned,min_count=1, sg=0, window=15, workers=8, vector_size=200, compute_loss=True, hs=0)"
      ]
    },
    {
      "cell_type": "code",
      "execution_count": 16,
      "id": "0f12d5d2",
      "metadata": {},
      "outputs": [],
      "source": [
        "#saving the model\n",
        "phrases_model.save('C:/Users/e312995/OneDrive - WESCO DISTRIBUTION/Documents/PERSONAL/BRAINSTATION/CAPSTONE/phrases_model_new(op1).bin')\n"
      ]
    },
    {
      "cell_type": "markdown",
      "id": "bb399da1",
      "metadata": {},
      "source": [
        "### <a id='toc2_2_3_'></a>[Word Embeddings](#toc0_)"
      ]
    },
    {
      "cell_type": "markdown",
      "id": "512edd47",
      "metadata": {},
      "source": [
        "Checking similar words to different ingredients if the model has been trained well.  "
      ]
    },
    {
      "cell_type": "code",
      "execution_count": 17,
      "id": "20e70481",
      "metadata": {},
      "outputs": [],
      "source": [
        "#getting the word embeddings to compare different ingredients\n",
        "embeddings= {word: phrases_model.wv[word] for word in phrases_model.wv.index_to_key} "
      ]
    },
    {
      "cell_type": "code",
      "execution_count": 18,
      "id": "a279c375",
      "metadata": {},
      "outputs": [
        {
          "name": "stdout",
          "output_type": "stream",
          "text": [
            "[('yellow onion', 0.772930383682251), ('spanish onion', 0.719791054725647), ('sweet onion', 0.6839463114738464), ('small onion', 0.5942575335502625), ('cooking onion', 0.5809900760650635)]\n"
          ]
        }
      ],
      "source": [
        "print(phrases_model.wv.most_similar(u'onion', topn=5)) #checking the most similar results for onion"
      ]
    },
    {
      "cell_type": "code",
      "execution_count": 19,
      "id": "nqCREoUv9Lhi",
      "metadata": {
        "id": "nqCREoUv9Lhi",
        "outputId": "6754aa52-9dbe-457d-b543-f220392af1b5"
      },
      "outputs": [
        {
          "name": "stdout",
          "output_type": "stream",
          "text": [
            "[('garlic clove', 0.9404892921447754), ('minced garlic clove', 0.8752871155738831), ('fresh garlic', 0.8160977363586426), ('fresh garlic clove', 0.768401026725769), ('bulb garlic', 0.6014564633369446)]\n"
          ]
        }
      ],
      "source": [
        "print(phrases_model.wv.most_similar(u'garlic', topn=5)) #again checkin the most similar words to garlic"
      ]
    },
    {
      "cell_type": "code",
      "execution_count": 20,
      "id": "216956d7",
      "metadata": {},
      "outputs": [
        {
          "data": {
            "text/plain": [
              "[('penne', 0.7335630059242249),\n",
              " ('dry pasta', 0.7249246835708618),\n",
              " ('pasta shell', 0.7211016416549683),\n",
              " ('rigatoni pasta', 0.7130151391029358),\n",
              " ('penne pasta', 0.7059973478317261),\n",
              " ('parmigiano', 0.6738990545272827),\n",
              " ('shell pasta', 0.6632251143455505),\n",
              " ('parmesan cheese', 0.6589288115501404),\n",
              " ('dry penne pasta', 0.6582004427909851),\n",
              " ('farfalle pasta', 0.6551123857498169)]"
            ]
          },
          "execution_count": 20,
          "metadata": {},
          "output_type": "execute_result"
        }
      ],
      "source": [
        "phrases_model.wv.most_similar(['cheese', 'pasta'], topn=10) #checking for cheese pasta"
      ]
    },
    {
      "cell_type": "markdown",
      "id": "RclKh9Gk9Lhi",
      "metadata": {
        "id": "RclKh9Gk9Lhi"
      },
      "source": [
        "I will try to use a tile map to show the similarity of a few ingredients"
      ]
    },
    {
      "cell_type": "code",
      "execution_count": 21,
      "id": "0Q7LfVBv9Lhi",
      "metadata": {
        "id": "0Q7LfVBv9Lhi",
        "outputId": "d40edfe7-67f0-459f-b5e3-e275cabbec6f"
      },
      "outputs": [
        {
          "data": {
            "image/png": "[encoded data removed]",
            "text/plain": [
              "<Figure size 2000x500 with 4 Axes>"
            ]
          },
          "metadata": {},
          "output_type": "display_data"
        }
      ],
      "source": [
        "word_list = ['onion', 'garlic', 'tuna', 'chicken'] #example\n",
        "\n",
        "plt.subplots(len(word_list), 1, figsize=(20, 5)) #plot\n",
        "\n",
        "for i, word in enumerate(word_list): #for loop to get each word in the list\n",
        "    plt.subplot(len(word_list), 1, i + 1) #subplot\n",
        "    plt.imshow(np.tile(embeddings[word], (10, 1))) #data\n",
        "    plt.xticks([]) #no xticks\n",
        "    plt.yticks([]) #no yticks\n",
        "    plt.title(f\"\\\"{word}\\\" embedding vector\") #title\n",
        "\n",
        "plt.tight_layout()\n",
        "plt.show()"
      ]
    },
    {
      "cell_type": "markdown",
      "id": "dDqvkyL39Lhi",
      "metadata": {
        "id": "dDqvkyL39Lhi"
      },
      "source": [
        "It is visible that words represent different distributions. Looks good. "
      ]
    },
    {
      "cell_type": "markdown",
      "id": "6da95313",
      "metadata": {},
      "source": [
        "### <a id='toc2_2_4_'></a>[Vectorisation](#toc0_)"
      ]
    },
    {
      "cell_type": "code",
      "execution_count": 22,
      "id": "242d95fe",
      "metadata": {},
      "outputs": [],
      "source": [
        "# user Input Processing\n",
        "user_input = 'egg', 'rice'  # User's input\n",
        "\n",
        "def recommender(user_input):\n",
        "\n",
        "    #parsing the user input\n",
        "    user_input = ','.join(map(str, user_input)) #converting to str, mapping and joining by the ','\n",
        "    \n",
        "    user_input.split(',')\n",
        "\n",
        "    user_input=parser(user_input)\n",
        "    \n",
        "\n",
        "\n",
        "# mean Embeddings for User Input\n",
        "    user_mean_vector =np.mean([phrases_model.wv[ingredient] for ingredient in user_input if ingredient in phrases_model.wv] or [np.zeros(200)], axis=0)\n",
        "\n",
        "\n",
        "\n",
        "# check if user_mean_vector contains NaN values\n",
        "    if np.isnan(user_mean_vector).any():\n",
        "        print(\"User input vectors contain NaN values.\")\n",
        "\n",
        "\n",
        "    else:\n",
        "\n",
        "    # mean ingredient vectors for each recipe\n",
        "        recipe_vectors = [np.mean([phrases_model.wv[sub_ingredient] for sub_ingredient in ingredient if sub_ingredient in phrases_model.wv] or [np.zeros(200)], axis=0) for ingredient in ingredients_cleaned]\n",
        "\n",
        "\n",
        "\n",
        "\n",
        "\n",
        "    # Check if any recipe vector contains NaN values\n",
        "        if not recipe_vectors:\n",
        "            print('nothing obtained for recipe vectors')\n",
        "\n",
        "        else:\n",
        "        \n",
        "        # cosine similarity between user mean vector and recipe mean vectors\n",
        "            cosine_similarities = cosine_similarity([user_mean_vector], recipe_vectors)\n",
        "\n",
        "\n",
        "        # indices of top N most similar recipes\n",
        "            top_recipes = np.argsort(cosine_similarities[0])[::-1][:5]\n",
        "\n",
        "\n",
        "\n",
        "            recommendation= pd.DataFrame( columns=['title','ingredients', 'calories', 'time', 'score'] ) #dataframe with columns\n",
        "\n",
        "    \n",
        "            for i in top_recipes: #defining the data for each recommendation\n",
        "\n",
        "            \n",
        "                title = recipes['Name'].iloc[i]\n",
        "                calories = recipes['Calories'].iloc[i]\n",
        "                time= recipes['TotalTime'].iloc[i]\n",
        "                ingredients = recipes['RecipeIngredientParts'].iloc[i]\n",
        "                score= cosine_similarities[0][i]\n",
        "                recommendation = recommendation.append(\n",
        "                                {'title': title, \n",
        "                                'ingredients': ingredients, \n",
        "                                'calories' : calories, \n",
        "                                'time' : time, \n",
        "                                'score': score}, \n",
        "                                     ignore_index=True)\n",
        "\n",
        "\n",
        "\n",
        "\n",
        "    return recommendation  \n"
      ]
    },
    {
      "cell_type": "code",
      "execution_count": 23,
      "id": "1f6ada1c",
      "metadata": {},
      "outputs": [
        {
          "name": "stderr",
          "output_type": "stream",
          "text": [
            "C:\\Users\\e312995\\AppData\\Local\\Temp\\ipykernel_14972\\4256167343.py:60: FutureWarning: The frame.append method is deprecated and will be removed from pandas in a future version. Use pandas.concat instead.\n",
            "  recommendation = recommendation.append(\n",
            "C:\\Users\\e312995\\AppData\\Local\\Temp\\ipykernel_14972\\4256167343.py:60: FutureWarning: The frame.append method is deprecated and will be removed from pandas in a future version. Use pandas.concat instead.\n",
            "  recommendation = recommendation.append(\n",
            "C:\\Users\\e312995\\AppData\\Local\\Temp\\ipykernel_14972\\4256167343.py:60: FutureWarning: The frame.append method is deprecated and will be removed from pandas in a future version. Use pandas.concat instead.\n",
            "  recommendation = recommendation.append(\n",
            "C:\\Users\\e312995\\AppData\\Local\\Temp\\ipykernel_14972\\4256167343.py:60: FutureWarning: The frame.append method is deprecated and will be removed from pandas in a future version. Use pandas.concat instead.\n",
            "  recommendation = recommendation.append(\n",
            "C:\\Users\\e312995\\AppData\\Local\\Temp\\ipykernel_14972\\4256167343.py:60: FutureWarning: The frame.append method is deprecated and will be removed from pandas in a future version. Use pandas.concat instead.\n",
            "  recommendation = recommendation.append(\n"
          ]
        },
        {
          "data": {
            "text/html": [
              "<div>\n",
              "<style scoped>\n",
              "    .dataframe tbody tr th:only-of-type {\n",
              "        vertical-align: middle;\n",
              "    }\n",
              "\n",
              "    .dataframe tbody tr th {\n",
              "        vertical-align: top;\n",
              "    }\n",
              "\n",
              "    .dataframe thead th {\n",
              "        text-align: right;\n",
              "    }\n",
              "</style>\n",
              "<table border=\"1\" class=\"dataframe\">\n",
              "  <thead>\n",
              "    <tr style=\"text-align: right;\">\n",
              "      <th></th>\n",
              "      <th>title</th>\n",
              "      <th>ingredients</th>\n",
              "      <th>calories</th>\n",
              "      <th>time</th>\n",
              "      <th>score</th>\n",
              "    </tr>\n",
              "  </thead>\n",
              "  <tbody>\n",
              "    <tr>\n",
              "      <th>0</th>\n",
              "      <td>Fdfds</td>\n",
              "      <td>egg, salt, rice, egg</td>\n",
              "      <td>7.2</td>\n",
              "      <td>PT1H</td>\n",
              "      <td>0.931452</td>\n",
              "    </tr>\n",
              "    <tr>\n",
              "      <th>1</th>\n",
              "      <td>Basic Chicken and Rice Dinner for Cats</td>\n",
              "      <td>chicken livers, rice, hard-boiled eggs</td>\n",
              "      <td>552.8</td>\n",
              "      <td>PT1H5M</td>\n",
              "      <td>0.919787</td>\n",
              "    </tr>\n",
              "    <tr>\n",
              "      <th>2</th>\n",
              "      <td>Loco Moco Maui Style</td>\n",
              "      <td>white rice, eggs</td>\n",
              "      <td>266.5</td>\n",
              "      <td>PT10M</td>\n",
              "      <td>0.914588</td>\n",
              "    </tr>\n",
              "    <tr>\n",
              "      <th>3</th>\n",
              "      <td>Rice Case for Quiches or Pies (Gluten-Free)</td>\n",
              "      <td>rice, fresh herb, egg</td>\n",
              "      <td>1743.5</td>\n",
              "      <td>PT25M</td>\n",
              "      <td>0.908722</td>\n",
              "    </tr>\n",
              "    <tr>\n",
              "      <th>4</th>\n",
              "      <td>Miso-egg Congee</td>\n",
              "      <td>miso, egg, rice</td>\n",
              "      <td>249.0</td>\n",
              "      <td>PT35M</td>\n",
              "      <td>0.891192</td>\n",
              "    </tr>\n",
              "  </tbody>\n",
              "</table>\n",
              "</div>"
            ],
            "text/plain": [
              "                                         title  \\\n",
              "0                                        Fdfds   \n",
              "1       Basic Chicken and Rice Dinner for Cats   \n",
              "2                         Loco Moco Maui Style   \n",
              "3  Rice Case for Quiches or Pies (Gluten-Free)   \n",
              "4                              Miso-egg Congee   \n",
              "\n",
              "                              ingredients  calories    time     score  \n",
              "0                    egg, salt, rice, egg       7.2    PT1H  0.931452  \n",
              "1  chicken livers, rice, hard-boiled eggs     552.8  PT1H5M  0.919787  \n",
              "2                        white rice, eggs     266.5   PT10M  0.914588  \n",
              "3                   rice, fresh herb, egg    1743.5   PT25M  0.908722  \n",
              "4                         miso, egg, rice     249.0   PT35M  0.891192  "
            ]
          },
          "execution_count": 23,
          "metadata": {},
          "output_type": "execute_result"
        }
      ],
      "source": [
        "user_input = 'egg', 'rice'\n",
        "\n",
        "\n",
        "recommender(user_input)\n",
        "\n"
      ]
    },
    {
      "cell_type": "markdown",
      "id": "49a8a177",
      "metadata": {},
      "source": [
        "# <a id='toc3_'></a>[Option 2 : Search by Keywords](#toc0_)"
      ]
    },
    {
      "cell_type": "markdown",
      "id": "6044cc0d",
      "metadata": {},
      "source": [
        "I now will give the option to the user to search recipes using keywords present in the recipe database. For that I wil use the columns containing key attributes, 'Title', 'RecipeCategory', 'Keywords' and follow the same process as earlier."
      ]
    },
    {
      "cell_type": "markdown",
      "id": "96a51292",
      "metadata": {},
      "source": [
        "### <a id='toc3_1_1_'></a>[Tokenization](#toc0_)"
      ]
    },
    {
      "cell_type": "code",
      "execution_count": 24,
      "id": "bd967a66",
      "metadata": {},
      "outputs": [],
      "source": [
        "#combining the 3 columns data to one\n",
        "recipes['text_data']= recipes[['Name', 'RecipeCategory', 'Keywords']].astype(str).agg(','.join, axis=1) "
      ]
    },
    {
      "cell_type": "code",
      "execution_count": 25,
      "id": "2237b109",
      "metadata": {},
      "outputs": [
        {
          "data": {
            "text/plain": [
              "0         Low-Fat Berry Blue Frozen Dessert,Frozen Desse...\n",
              "1         Biryani,Chicken Breast,Chicken Thigh & Leg, Ch...\n",
              "2         Best Lemonade,Beverages,Low Protein, Low Chole...\n",
              "3         Carina's Tofu-Vegetable Kebabs,Soy/Tofu,Beans,...\n",
              "4         Cabbage Soup,Vegetable,Low Protein, Vegan, Low...\n",
              "                                ...                        \n",
              "521761     Meg's Fresh Ginger Gingerbread,Dessert,< 4 Hours\n",
              "521762    Roast Prime Rib au Poivre with Mixed Peppercor...\n",
              "521763    Kirshwasser Ice Cream,Ice Cream,Dessert, < 4 H...\n",
              "521764    Quick & Easy Asian Cucumber Salmon Rolls,Canad...\n",
              "521765          Spicy Baked Scotch Eggs,Breakfast,< 60 Mins\n",
              "Name: text_data, Length: 521766, dtype: object"
            ]
          },
          "execution_count": 25,
          "metadata": {},
          "output_type": "execute_result"
        }
      ],
      "source": [
        "#sanity check\n",
        "recipes['text_data']"
      ]
    },
    {
      "cell_type": "code",
      "execution_count": 26,
      "id": "ceae0790",
      "metadata": {},
      "outputs": [],
      "source": [
        "#parser\n",
        "\n",
        "text_data= recipes['text_data']\n",
        "\n",
        "def parser_text(input_keys): #function\n",
        "\n",
        "\n",
        "#defining measuring units\n",
        "\n",
        "    measurment_url= 'https://en.wikibooks.org/wiki/Cookbook:Units_of_measurement' #data source\n",
        "\n",
        "\n",
        "    measuring_words= ['ml', 'mL', 'milliliter', 'millilitre', 'cc' , 'cubic centimeter', 'l', 'L', 'liter', 'litre', 'dl', 'dL', 'deciliter', 'decilitre', 'teaspoon', 't' , 'tsp.',\n",
        "'tablespoon' , 'T', 'tbl', 'tbs', 'tbsp', 'fluid ounce', 'fl oz',  'gill', 'cup',  'c', 'pint', 'p', 'pt', 'fl pt',\n",
        "'quart', 'q', 'qt', 'fl qt', 'gallon' , 'g' , 'gal' , 'g', 'milligram', 'milligramme', 'g' , 'gram' , 'gramme', 'kg',\n",
        "'kilogram', 'kilogramme', 'pound', 'lb', 'ounce', 'oz', 'mm', 'millimeter', 'millimetre', 'cm' , 'centimeter', 'centimetre', 'm' , 'meter',\n",
        "'metre', 'inch', 'in', 'yard', '°C' , 'degree celsius','°F' ,'Farenheit', 'tsp']\n",
        "\n",
        "\n",
        "\n",
        "    ingredients_list = re.split(',', input_keys) #splitting the ingredients by commas\n",
        "    ingredients_list = re.split(' ', input_keys) #splitting the ingredients by commas\n",
        "\n",
        "    cleaned_ingredients = [] #new list to store cleaned ingredients\n",
        "\n",
        "    lemmatizer = WordNetLemmatizer() #lemmatizer\n",
        "\n",
        "    for ingredient in ingredients_list:\n",
        "        items = re.split(',', ingredient)  #splitting each ingredient by space to process and clean each individual word\n",
        "\n",
        "        items = [word for word in items if word.isalpha()] #filtering only letters\n",
        "\n",
        "        #tagged_items= pos_tag(items) #tagging the words to identify verbs\n",
        "\n",
        "        #items= [word for word, pos in tagged_items if not pos.startswith('VB')] #filtering to remove any word which is a verb\n",
        "\n",
        "        items = [word.lower() for word in items] #lowercasing\n",
        "\n",
        "        items = [lemmatizer.lemmatize(word) for word in items] #lemmatizing\n",
        "\n",
        "        items = [word for word in items if word not in ENGLISH_STOP_WORDS] #removing stop words\n",
        "\n",
        "        items = [word for word in items if word not in measuring_words] #removing measuring words\n",
        "\n",
        "        if items:\n",
        "            cleaned_ingredients.append(','.join(items) ) #joining the individual words of the ingredient seperated by space\n",
        "        #cleaned_ingredients= ' '.join(cleaned_ingredients) #joining the ingreidents back seprated by commas\n",
        "\n",
        "\n",
        "    return cleaned_ingredients #return the list\n"
      ]
    },
    {
      "cell_type": "markdown",
      "id": "bc837aee",
      "metadata": {},
      "source": [
        "### <a id='toc3_1_2_'></a>[Modeling](#toc0_)"
      ]
    },
    {
      "cell_type": "code",
      "execution_count": 27,
      "id": "f55cd60c",
      "metadata": {},
      "outputs": [],
      "source": [
        "#applying the parser to the text data to be used in model training\n",
        "text_data_cleaned = text_data.apply(parser_text)\n",
        "recipes['TextDataCleaned']= text_data_cleaned"
      ]
    },
    {
      "cell_type": "code",
      "execution_count": 28,
      "id": "b9e1679b",
      "metadata": {},
      "outputs": [
        {
          "data": {
            "text/plain": [
              "3391520.25"
            ]
          },
          "execution_count": 28,
          "metadata": {},
          "output_type": "execute_result"
        }
      ],
      "source": [
        "#vector size 100\n",
        "phrases_model_2=Word2Vec(sentences=text_data_cleaned,min_count=1, sg=0, window=20, workers=8, vector_size=100, compute_loss=True) #word2vec model, used min_count=1 to avoid any ingredient being missed out\n",
        "phrases_model.get_latest_training_loss()"
      ]
    },
    {
      "cell_type": "markdown",
      "id": "dc9b3726",
      "metadata": {},
      "source": [
        "### <a id='toc3_1_3_'></a>[Hyperparameter Evaluation](#toc0_)"
      ]
    },
    {
      "cell_type": "code",
      "execution_count": 29,
      "id": "025850b4",
      "metadata": {},
      "outputs": [
        {
          "data": {
            "text/plain": [
              "3266439.25"
            ]
          },
          "execution_count": 29,
          "metadata": {},
          "output_type": "execute_result"
        }
      ],
      "source": [
        "#vector size 200\n",
        "phrases_model=Word2Vec(sentences=ingredients_cleaned,min_count=1, sg=0, window=20, workers=8, vector_size=200, compute_loss=True)\n",
        "phrases_model.get_latest_training_loss()"
      ]
    },
    {
      "cell_type": "code",
      "execution_count": 30,
      "id": "0941520e",
      "metadata": {},
      "outputs": [
        {
          "data": {
            "text/plain": [
              "3359131.25"
            ]
          },
          "execution_count": 30,
          "metadata": {},
          "output_type": "execute_result"
        }
      ],
      "source": [
        "#vector size 300\n",
        "phrases_model=Word2Vec(sentences=ingredients_cleaned,min_count=1, sg=0, window=20, workers=8, vector_size=300, compute_loss=True)\n",
        "phrases_model.get_latest_training_loss()"
      ]
    },
    {
      "cell_type": "code",
      "execution_count": 31,
      "id": "126baec0",
      "metadata": {},
      "outputs": [],
      "source": [
        "    # train_time_values = []\n",
        "    # seed_val = 42\n",
        "\n",
        "    # hs_values = [0, 1]\n",
        "    # vector_values= [100,200,300]\n",
        "    # window_values= [10,15, 20, 25, 30]\n",
        "\n",
        "    # # Build vocabulary\n",
        "    # #w2v_model = Word2Vec(ingredients_cleaned, vector_size=vector, window=window, hs=hs_val, seed=seed_val)\n",
        "\n",
        "\n",
        "    # for data in text_data_cleaned:\n",
        "    #     for vector in vector_values:\n",
        "    #         for hs_val in hs_values:\n",
        "    #             for window in window_values:\n",
        "    #                 time_taken_list = []\n",
        "    #                 for i in range(3):\n",
        "    #                     start_time = time.time()\n",
        "    #                     w2v_model = Word2Vec(\n",
        "    #                         data,\n",
        "    #                         compute_loss=True,\n",
        "    #                         window= window,\n",
        "    #                         vector_size=vector,\n",
        "    #                         hs=hs_val,\n",
        "    #                         seed=seed_val,\n",
        "    #                     )\n",
        "    #                     time_taken_list.append(time.time() - start_time)\n",
        "\n",
        "    #                 time_taken_list = np.array(time_taken_list)\n",
        "    #                 time_mean = np.mean(time_taken_list)\n",
        "    #                 time_std = np.std(time_taken_list)\n",
        "\n",
        "    #                 model_result = {\n",
        "                        \n",
        "    #                     'compute_loss': w2v_model.get_latest_training_loss(),\n",
        "    #                     'vector': vector,\n",
        "    #                     'window': window,\n",
        "    #                     'hs_val': hs_val,\n",
        "    #                     'train_time_mean': time_mean,\n",
        "    #                     'train_time_std': time_std,\n",
        "    #                 }\n",
        "    #                 print(\"Word2vec model #%i: %s\" % (len(train_time_values), model_result))\n",
        "    #                 train_time_values.append(model_result)\n",
        "\n",
        "    # train_times_table = pd.DataFrame(train_time_values)\n",
        "    # train_times_table = train_times_table.sort_values(\n",
        "    #     by=['train_data',  'hs', 'compute_loss'],\n",
        "    #     ascending=[False, False, False],\n",
        "    # )\n",
        "    # print(train_times_table)"
      ]
    },
    {
      "cell_type": "code",
      "execution_count": 32,
      "id": "8cab2663",
      "metadata": {},
      "outputs": [],
      "source": [
        "#saving the model\n",
        "phrases_model_2.save('C:/Users/e312995/OneDrive - WESCO DISTRIBUTION/Documents/PERSONAL/BRAINSTATION/CAPSTONE/phrases_model_new(op2).bin')\n"
      ]
    },
    {
      "cell_type": "code",
      "execution_count": 33,
      "id": "6d860468",
      "metadata": {},
      "outputs": [],
      "source": [
        "def recommender_text(text_input):\n",
        "\n",
        "    user_input= parser_text(text_input)\n",
        "\n",
        "    # Mean Embeddings for User Input\n",
        "    user_mean_vector =np.mean([phrases_model_2.wv[user_text] for user_text in user_input if user_text in phrases_model_2.wv] or [np.zeros(200)], axis=0)\n",
        "\n",
        "\n",
        "\n",
        "    # check if user_mean_vector contains NaN values\n",
        "    if np.isnan(user_mean_vector).any():\n",
        "        print(\"User input vectors contain NaN values.\")\n",
        "\n",
        "\n",
        "    else:\n",
        "\n",
        "        # mean ingredient vectors for each recipe\n",
        "        text_vectors = [np.mean([phrases_model_2.wv[sub_text] for sub_text in text if sub_text in phrases_model_2.wv] or [np.zeros(200)], axis=0) for text in text_data_cleaned]\n",
        "\n",
        "\n",
        "\n",
        "\n",
        "\n",
        "        # Check if any recipe vector contains NaN values\n",
        "        if not text_vectors:\n",
        "            print('nothing obtained for recipe vectors')\n",
        "\n",
        "        else:\n",
        "            \n",
        "            # cosine similarity between user mean vector and recipe mean vectors\n",
        "            cosine_similarities_text= cosine_similarity([user_mean_vector], text_vectors)\n",
        "\n",
        "\n",
        "            # indices of top N most similar recipes\n",
        "            top_recipes = np.argsort(cosine_similarities_text[0])[::-1][:5]\n",
        "\n",
        "\n",
        "\n",
        "            recommendation= pd.DataFrame( columns=['title','ingredients', 'description', 'keywords', 'category', 'score'] ) #dataframe with columns\n",
        "\n",
        "    \n",
        "            for i in top_recipes: #defining the data for each recommendation\n",
        "\n",
        "                \n",
        "                title = recipes['Name'].iloc[i],\n",
        "                description= recipes['Description'].iloc[i,]\n",
        "                keywords = recipes['Keywords'].iloc[i]\n",
        "                category= recipes['RecipeCategory'].iloc[i]\n",
        "                ingredients = recipes['RecipeIngredientParts'].iloc[i]\n",
        "                score= cosine_similarities_text[0][i]\n",
        "                recommendation = recommendation.append(\n",
        "                                    {'title': title, \n",
        "                                    'description': description,\n",
        "                                    'ingredients': ingredients, \n",
        "                                    'keywords' : keywords, \n",
        "                                    'category' : category, \n",
        "                                    'score': score}, \n",
        "                                        ignore_index=True)\n",
        "\n",
        "\n",
        "\n",
        "\n",
        "    return recommendation\n",
        "\n",
        "       \n",
        "\n",
        "\n",
        "\n"
      ]
    },
    {
      "cell_type": "code",
      "execution_count": 34,
      "id": "1706f346",
      "metadata": {},
      "outputs": [
        {
          "name": "stderr",
          "output_type": "stream",
          "text": [
            "C:\\Users\\e312995\\AppData\\Local\\Temp\\ipykernel_14972\\2598723170.py:51: FutureWarning: The frame.append method is deprecated and will be removed from pandas in a future version. Use pandas.concat instead.\n",
            "  recommendation = recommendation.append(\n",
            "C:\\Users\\e312995\\AppData\\Local\\Temp\\ipykernel_14972\\2598723170.py:51: FutureWarning: The frame.append method is deprecated and will be removed from pandas in a future version. Use pandas.concat instead.\n",
            "  recommendation = recommendation.append(\n",
            "C:\\Users\\e312995\\AppData\\Local\\Temp\\ipykernel_14972\\2598723170.py:51: FutureWarning: The frame.append method is deprecated and will be removed from pandas in a future version. Use pandas.concat instead.\n",
            "  recommendation = recommendation.append(\n",
            "C:\\Users\\e312995\\AppData\\Local\\Temp\\ipykernel_14972\\2598723170.py:51: FutureWarning: The frame.append method is deprecated and will be removed from pandas in a future version. Use pandas.concat instead.\n",
            "  recommendation = recommendation.append(\n",
            "C:\\Users\\e312995\\AppData\\Local\\Temp\\ipykernel_14972\\2598723170.py:51: FutureWarning: The frame.append method is deprecated and will be removed from pandas in a future version. Use pandas.concat instead.\n",
            "  recommendation = recommendation.append(\n"
          ]
        },
        {
          "data": {
            "text/html": [
              "<div>\n",
              "<style scoped>\n",
              "    .dataframe tbody tr th:only-of-type {\n",
              "        vertical-align: middle;\n",
              "    }\n",
              "\n",
              "    .dataframe tbody tr th {\n",
              "        vertical-align: top;\n",
              "    }\n",
              "\n",
              "    .dataframe thead th {\n",
              "        text-align: right;\n",
              "    }\n",
              "</style>\n",
              "<table border=\"1\" class=\"dataframe\">\n",
              "  <thead>\n",
              "    <tr style=\"text-align: right;\">\n",
              "      <th></th>\n",
              "      <th>title</th>\n",
              "      <th>ingredients</th>\n",
              "      <th>description</th>\n",
              "      <th>keywords</th>\n",
              "      <th>category</th>\n",
              "      <th>score</th>\n",
              "    </tr>\n",
              "  </thead>\n",
              "  <tbody>\n",
              "    <tr>\n",
              "      <th>0</th>\n",
              "      <td>(Iberian Chickpea Soup (Crock Pot),)</td>\n",
              "      <td>canned chick-peas, onions, garlic cloves, pota...</td>\n",
              "      <td>Make and share this Iberian Chickpea Soup (Cro...</td>\n",
              "      <td>Easy</td>\n",
              "      <td>Beans</td>\n",
              "      <td>0.902276</td>\n",
              "    </tr>\n",
              "    <tr>\n",
              "      <th>1</th>\n",
              "      <td>(Vegetarian &amp;quot;chicken&amp;quot; Noodle Soup - ...</td>\n",
              "      <td>water, vegetable bouillon cubes, carrots, cele...</td>\n",
              "      <td>Make and share this Vegetarian &amp;quot;chicken&amp;q...</td>\n",
              "      <td>NaN</td>\n",
              "      <td>Easy</td>\n",
              "      <td>0.893679</td>\n",
              "    </tr>\n",
              "    <tr>\n",
              "      <th>2</th>\n",
              "      <td>(Kneophla Soup,)</td>\n",
              "      <td>butter, onion, fresh mushrooms, carrots, celer...</td>\n",
              "      <td>Make and share this Kneophla Soup recipe from ...</td>\n",
              "      <td>Inexpensive</td>\n",
              "      <td>&lt; 4 Hours</td>\n",
              "      <td>0.887930</td>\n",
              "    </tr>\n",
              "    <tr>\n",
              "      <th>3</th>\n",
              "      <td>(Browned-Flour Soup from Basle (Switzerland),)</td>\n",
              "      <td>butter, flour, hot water, onion, cloves, bay l...</td>\n",
              "      <td>From &amp;quot;The Swiss Cookbook&amp;quot;.  I haven'...</td>\n",
              "      <td>Inexpensive</td>\n",
              "      <td>&lt; 4 Hours</td>\n",
              "      <td>0.887922</td>\n",
              "    </tr>\n",
              "    <tr>\n",
              "      <th>4</th>\n",
              "      <td>(No Guilt Soup,)</td>\n",
              "      <td>zucchini with Italian-style tomato sauce, gree...</td>\n",
              "      <td>This is my go to soup when I am trying to watc...</td>\n",
              "      <td>Inexpensive</td>\n",
              "      <td>&lt; 15 Mins</td>\n",
              "      <td>0.865244</td>\n",
              "    </tr>\n",
              "  </tbody>\n",
              "</table>\n",
              "</div>"
            ],
            "text/plain": [
              "                                               title  \\\n",
              "0               (Iberian Chickpea Soup (Crock Pot),)   \n",
              "1  (Vegetarian &quot;chicken&quot; Noodle Soup - ...   \n",
              "2                                   (Kneophla Soup,)   \n",
              "3     (Browned-Flour Soup from Basle (Switzerland),)   \n",
              "4                                   (No Guilt Soup,)   \n",
              "\n",
              "                                         ingredients  \\\n",
              "0  canned chick-peas, onions, garlic cloves, pota...   \n",
              "1  water, vegetable bouillon cubes, carrots, cele...   \n",
              "2  butter, onion, fresh mushrooms, carrots, celer...   \n",
              "3  butter, flour, hot water, onion, cloves, bay l...   \n",
              "4  zucchini with Italian-style tomato sauce, gree...   \n",
              "\n",
              "                                         description     keywords   category  \\\n",
              "0  Make and share this Iberian Chickpea Soup (Cro...         Easy      Beans   \n",
              "1  Make and share this Vegetarian &quot;chicken&q...          NaN       Easy   \n",
              "2  Make and share this Kneophla Soup recipe from ...  Inexpensive  < 4 Hours   \n",
              "3  From &quot;The Swiss Cookbook&quot;.  I haven'...  Inexpensive  < 4 Hours   \n",
              "4  This is my go to soup when I am trying to watc...  Inexpensive  < 15 Mins   \n",
              "\n",
              "      score  \n",
              "0  0.902276  \n",
              "1  0.893679  \n",
              "2  0.887930  \n",
              "3  0.887922  \n",
              "4  0.865244  "
            ]
          },
          "execution_count": 34,
          "metadata": {},
          "output_type": "execute_result"
        }
      ],
      "source": [
        "# user Input Processing\n",
        "text_input = 'vegetarian soup'  # User's input\n",
        "\n",
        "recommender_text(text_input)"
      ]
    },
    {
      "cell_type": "markdown",
      "id": "d25fef8d",
      "metadata": {},
      "source": [
        "# <a id='toc4_'></a>[Option 3 : Search by Ingredients & Keywords both together](#toc0_)"
      ]
    },
    {
      "cell_type": "code",
      "execution_count": 35,
      "id": "48a942a0",
      "metadata": {},
      "outputs": [
        {
          "data": {
            "text/plain": [
              "'Low-Fat Berry Blue Frozen Dessert,Frozen Desserts,Dessert, Low Protein, Low Cholesterol, Healthy, Free Of..., Summer, Weeknight, Freezer, Easy,blueberries, granulated sugar, vanilla yogurt, lemon juice'"
            ]
          },
          "execution_count": 35,
          "metadata": {},
          "output_type": "execute_result"
        }
      ],
      "source": [
        "#combining the 4 columns data to one\n",
        "recipes['text_data_all']= recipes[['Name', 'RecipeCategory', 'Keywords', 'RecipeIngredientParts']].astype(str).agg(','.join, axis=1) \n",
        "#sanity check\n",
        "recipes['text_data_all'][0]"
      ]
    },
    {
      "cell_type": "code",
      "execution_count": 36,
      "id": "bd7d884b",
      "metadata": {},
      "outputs": [],
      "source": [
        "#parser\n",
        "def parser_text(input_keys): #function\n",
        "\n",
        "\n",
        "    # Defining measuring units\n",
        "    remove_ = {'oil', 'salt', 'pepper'}\n",
        "\n",
        "\n",
        "    # Defining measuring units\n",
        "    measuring_words = ['ml', 'mL', 'milliliter', 'millilitre', 'cc', 'cubic centimeter', 'l', 'L', 'liter', 'litre', 'dl',\n",
        "                   'dL', 'deciliter', 'decilitre', 'teaspoon', 't', 'tsp.', 'tablespoon', 'T', 'tbl', 'tbs', 'tbsp',\n",
        "                   'fluid ounce', 'fl oz', 'gill', 'cup', 'c', 'pint', 'p', 'pt', 'fl pt', 'quart', 'q', 'qt', 'fl qt',\n",
        "                   'gallon', 'g', 'gal', 'g', 'milligram', 'milligramme', 'g', 'gram', 'gramme', 'kg', 'kilogram',\n",
        "                   'kilogramme', 'pound', 'lb', 'ounce', 'oz', 'mm', 'milimeter', 'millimetre', 'cm', 'centimeter',\n",
        "                   'centimetre', 'm', 'meter', 'metre', 'inch', 'in', 'yard', '°C', 'degree celsius', '°F', 'Farenheit', 'tsp']\n",
        "\n",
        "    cleaned_ingredients_all_recipes = []\n",
        "    \n",
        "    for each_ingredient_list in input_keys:\n",
        "            comma_list = re.split(',', each_ingredient_list)  # splitting the ingredients by commas\n",
        "\n",
        "\n",
        "            cleaned_ingredients = []  # new list to store cleaned ingredients for a single recipe\n",
        "\n",
        "\n",
        "            lemmatizer = WordNetLemmatizer()  # lemmatize\n",
        "\n",
        "\n",
        "            for each_word_set in comma_list:\n",
        "                items = [word.lower() for word in re.findall(r'\\b\\w+\\b', each_word_set)]  # Extract individual words and convert to lowercase\n",
        "\n",
        "\n",
        "                items = [word for word in items if word.isalpha()]  # filtering only letters\n",
        "\n",
        "\n",
        "                \n",
        "\n",
        "\n",
        "                items = [lemmatizer.lemmatize(word) for word in items]  # lemmatizing\n",
        "\n",
        "\n",
        "                items = [word for word in items if word not in ENGLISH_STOP_WORDS]  # removing stop words\n",
        "\n",
        "\n",
        "                items = [word for word in items if word not in measuring_words]  # removing measuring words\n",
        "\n",
        "\n",
        "                items = [word for word in items if word not in remove_]\n",
        "\n",
        "\n",
        "                if items:\n",
        "                    cleaned_ingredients.extend(items)\n",
        "\n",
        "\n",
        "            cleaned_ingredients_all_recipes.append(cleaned_ingredients)\n",
        "\n",
        "    return(cleaned_ingredients_all_recipes)\n"
      ]
    },
    {
      "cell_type": "code",
      "execution_count": 37,
      "id": "0696914e",
      "metadata": {},
      "outputs": [],
      "source": [
        "text_data_all= recipes['text_data_all']\n",
        "text_data_all_cleaned=parser_text(text_data_all)"
      ]
    },
    {
      "cell_type": "code",
      "execution_count": 38,
      "id": "df305aa3",
      "metadata": {},
      "outputs": [
        {
          "data": {
            "text/plain": [
              "3359131.25"
            ]
          },
          "execution_count": 38,
          "metadata": {},
          "output_type": "execute_result"
        }
      ],
      "source": [
        "#vector size 100\n",
        "phrases_model_3=Word2Vec(sentences=text_data_all_cleaned,min_count=1, sg=0, window=35, workers=8, vector_size=200, compute_loss=True) #word2vec model, used min_count=1 to avoid any ingredient being missed out\n",
        "phrases_model.get_latest_training_loss()"
      ]
    },
    {
      "cell_type": "code",
      "execution_count": 39,
      "id": "b2ee106a",
      "metadata": {},
      "outputs": [
        {
          "data": {
            "text/plain": [
              "3359131.25"
            ]
          },
          "execution_count": 39,
          "metadata": {},
          "output_type": "execute_result"
        }
      ],
      "source": [
        "phrases_model_3=Word2Vec(sentences=text_data_all_cleaned,min_count=1, sg=0, window=35, workers=8, vector_size=100, compute_loss=True) #word2vec model, used min_count=1 to avoid any ingredient being missed out\n",
        "phrases_model.get_latest_training_loss()"
      ]
    },
    {
      "cell_type": "code",
      "execution_count": 40,
      "id": "f2f76728",
      "metadata": {},
      "outputs": [
        {
          "data": {
            "text/plain": [
              "3359131.25"
            ]
          },
          "execution_count": 40,
          "metadata": {},
          "output_type": "execute_result"
        }
      ],
      "source": [
        "phrases_model_3=Word2Vec(sentences=text_data_all_cleaned,min_count=1, sg=0, window=35, workers=8, vector_size=300, compute_loss=True) #word2vec model, used min_count=1 to avoid any ingredient being missed out\n",
        "phrases_model.get_latest_training_loss()"
      ]
    },
    {
      "cell_type": "code",
      "execution_count": 41,
      "id": "f5f08d87",
      "metadata": {},
      "outputs": [],
      "source": [
        "\n",
        "\n",
        "def recommender_text_all(text_input):\n",
        "\n",
        "    user_input= parser(text_input)\n",
        "\n",
        "    # Mean Embeddings for User Input\n",
        "    user_mean_vector =np.mean([phrases_model_3.wv[user_text] for user_text in user_input if user_text in phrases_model_3.wv] or [np.zeros(200)], axis=0)\n",
        "\n",
        "\n",
        "\n",
        "    # check if user_mean_vector contains NaN values\n",
        "    if np.isnan(user_mean_vector).any():\n",
        "        print(\"User input vectors contain NaN values.\")\n",
        "\n",
        "\n",
        "    else:\n",
        "\n",
        "        # mean ingredient vectors for each recipe\n",
        "        text_vectors = [np.mean([phrases_model_3.wv[sub_text] for sub_text in text if sub_text in phrases_model_3.wv] or [np.zeros(200)], axis=0) for text in text_data_all_cleaned]\n",
        "\n",
        "\n",
        "\n",
        "\n",
        "\n",
        "        # Check if any recipe vector contains NaN values\n",
        "        if not text_vectors:\n",
        "            print('nothing obtained for recipe vectors')\n",
        "\n",
        "        else:\n",
        "            \n",
        "            # cosine similarity between user mean vector and recipe mean vectors\n",
        "            cosine_similarities_text= cosine_similarity([user_mean_vector], text_vectors)\n",
        "\n",
        "\n",
        "            # indices of top N most similar recipes\n",
        "            top_recipes = np.argsort(cosine_similarities_text[0])[::-1][:5]\n",
        "\n",
        "\n",
        "\n",
        "            recommendation= pd.DataFrame( columns=['title','ingredients', 'description', 'keywords', 'category', 'score'] ) #dataframe with columns\n",
        "\n",
        "    \n",
        "            for i in top_recipes: #defining the data for each recommendation\n",
        "\n",
        "                \n",
        "                title = recipes['Name'].iloc[i],\n",
        "                description= recipes['Description'].iloc[i,]\n",
        "                keywords = recipes['Keywords'].iloc[i]\n",
        "                category= recipes['RecipeCategory'].iloc[i]\n",
        "                ingredients = recipes['RecipeIngredientParts'].iloc[i]\n",
        "                score= cosine_similarities_text[0][i]\n",
        "                recommendation = recommendation.append(\n",
        "                                    {'title': title, \n",
        "                                    'description': description,\n",
        "                                    'ingredients': ingredients, \n",
        "                                    'keywords' : keywords, \n",
        "                                    'category' : category, \n",
        "                                    'score': score}, \n",
        "                                        ignore_index=True)\n",
        "\n",
        "\n",
        "\n",
        "\n",
        "    return recommendation\n",
        "\n",
        "       \n",
        "\n",
        "\n",
        "\n"
      ]
    },
    {
      "cell_type": "code",
      "execution_count": 42,
      "id": "58c5c257",
      "metadata": {},
      "outputs": [
        {
          "name": "stderr",
          "output_type": "stream",
          "text": [
            "C:\\Users\\e312995\\AppData\\Local\\Temp\\ipykernel_14972\\308837719.py:51: FutureWarning: The frame.append method is deprecated and will be removed from pandas in a future version. Use pandas.concat instead.\n",
            "  recommendation = recommendation.append(\n",
            "C:\\Users\\e312995\\AppData\\Local\\Temp\\ipykernel_14972\\308837719.py:51: FutureWarning: The frame.append method is deprecated and will be removed from pandas in a future version. Use pandas.concat instead.\n",
            "  recommendation = recommendation.append(\n",
            "C:\\Users\\e312995\\AppData\\Local\\Temp\\ipykernel_14972\\308837719.py:51: FutureWarning: The frame.append method is deprecated and will be removed from pandas in a future version. Use pandas.concat instead.\n",
            "  recommendation = recommendation.append(\n",
            "C:\\Users\\e312995\\AppData\\Local\\Temp\\ipykernel_14972\\308837719.py:51: FutureWarning: The frame.append method is deprecated and will be removed from pandas in a future version. Use pandas.concat instead.\n",
            "  recommendation = recommendation.append(\n",
            "C:\\Users\\e312995\\AppData\\Local\\Temp\\ipykernel_14972\\308837719.py:51: FutureWarning: The frame.append method is deprecated and will be removed from pandas in a future version. Use pandas.concat instead.\n",
            "  recommendation = recommendation.append(\n"
          ]
        },
        {
          "data": {
            "text/html": [
              "<div>\n",
              "<style scoped>\n",
              "    .dataframe tbody tr th:only-of-type {\n",
              "        vertical-align: middle;\n",
              "    }\n",
              "\n",
              "    .dataframe tbody tr th {\n",
              "        vertical-align: top;\n",
              "    }\n",
              "\n",
              "    .dataframe thead th {\n",
              "        text-align: right;\n",
              "    }\n",
              "</style>\n",
              "<table border=\"1\" class=\"dataframe\">\n",
              "  <thead>\n",
              "    <tr style=\"text-align: right;\">\n",
              "      <th></th>\n",
              "      <th>title</th>\n",
              "      <th>ingredients</th>\n",
              "      <th>description</th>\n",
              "      <th>keywords</th>\n",
              "      <th>category</th>\n",
              "      <th>score</th>\n",
              "    </tr>\n",
              "  </thead>\n",
              "  <tbody>\n",
              "    <tr>\n",
              "      <th>0</th>\n",
              "      <td>(Maghero's Soup,)</td>\n",
              "      <td>cabbage, cabbage, carrots, celery ribs, onion,...</td>\n",
              "      <td>Make and share this Maghero's Soup recipe from...</td>\n",
              "      <td>Beans, European, &lt; 4 Hours</td>\n",
              "      <td>Clear Soup</td>\n",
              "      <td>0.779002</td>\n",
              "    </tr>\n",
              "    <tr>\n",
              "      <th>1</th>\n",
              "      <td>(Sausage Cabbage Soup,)</td>\n",
              "      <td>cabbage, chicken broth, pepper, salt, flour, m...</td>\n",
              "      <td>Make and share this Sausage Cabbage Soup recip...</td>\n",
              "      <td>&lt; 4 Hours, Easy</td>\n",
              "      <td>Clear Soup</td>\n",
              "      <td>0.754131</td>\n",
              "    </tr>\n",
              "    <tr>\n",
              "      <th>2</th>\n",
              "      <td>(Cabbage Soup,)</td>\n",
              "      <td>garlic clove, cabbage, onions, carrots, zucchi...</td>\n",
              "      <td>Make and share this Cabbage Soup recipe from F...</td>\n",
              "      <td>Greens, Onions, Vegetable, Free Of..., Savory,...</td>\n",
              "      <td>Clear Soup</td>\n",
              "      <td>0.752026</td>\n",
              "    </tr>\n",
              "    <tr>\n",
              "      <th>3</th>\n",
              "      <td>(Autumn Harvest Root Vegetable Soup,)</td>\n",
              "      <td>carrots, parsnips, cabbage, onion, celery ribs...</td>\n",
              "      <td>Make and share this Autumn Harvest Root Vegeta...</td>\n",
              "      <td>Vegetable, &lt; 60 Mins</td>\n",
              "      <td>Clear Soup</td>\n",
              "      <td>0.736904</td>\n",
              "    </tr>\n",
              "    <tr>\n",
              "      <th>4</th>\n",
              "      <td>(Diet Cabbage Soup,)</td>\n",
              "      <td>carrots, zucchini, bell peppers, celery ribs, ...</td>\n",
              "      <td>My mom wanted to try this diet, and made a hug...</td>\n",
              "      <td>Weeknight, Stove Top, &lt; 4 Hours</td>\n",
              "      <td>Vegetable</td>\n",
              "      <td>0.731426</td>\n",
              "    </tr>\n",
              "  </tbody>\n",
              "</table>\n",
              "</div>"
            ],
            "text/plain": [
              "                                   title  \\\n",
              "0                      (Maghero's Soup,)   \n",
              "1                (Sausage Cabbage Soup,)   \n",
              "2                        (Cabbage Soup,)   \n",
              "3  (Autumn Harvest Root Vegetable Soup,)   \n",
              "4                   (Diet Cabbage Soup,)   \n",
              "\n",
              "                                         ingredients  \\\n",
              "0  cabbage, cabbage, carrots, celery ribs, onion,...   \n",
              "1  cabbage, chicken broth, pepper, salt, flour, m...   \n",
              "2  garlic clove, cabbage, onions, carrots, zucchi...   \n",
              "3  carrots, parsnips, cabbage, onion, celery ribs...   \n",
              "4  carrots, zucchini, bell peppers, celery ribs, ...   \n",
              "\n",
              "                                         description  \\\n",
              "0  Make and share this Maghero's Soup recipe from...   \n",
              "1  Make and share this Sausage Cabbage Soup recip...   \n",
              "2  Make and share this Cabbage Soup recipe from F...   \n",
              "3  Make and share this Autumn Harvest Root Vegeta...   \n",
              "4  My mom wanted to try this diet, and made a hug...   \n",
              "\n",
              "                                            keywords    category     score  \n",
              "0                         Beans, European, < 4 Hours  Clear Soup  0.779002  \n",
              "1                                    < 4 Hours, Easy  Clear Soup  0.754131  \n",
              "2  Greens, Onions, Vegetable, Free Of..., Savory,...  Clear Soup  0.752026  \n",
              "3                               Vegetable, < 60 Mins  Clear Soup  0.736904  \n",
              "4                    Weeknight, Stove Top, < 4 Hours   Vegetable  0.731426  "
            ]
          },
          "execution_count": 42,
          "metadata": {},
          "output_type": "execute_result"
        }
      ],
      "source": [
        "user_input= 'soup, cabbage, carrot, onion'\n",
        "recommender_text_all(user_input)"
      ]
    },
    {
      "cell_type": "markdown",
      "id": "2439d012",
      "metadata": {},
      "source": []
    }
  ],
  "metadata": {
    "colab": {
      "provenance": []
    },
    "kernelspec": {
      "display_name": "base",
      "language": "python",
      "name": "python3"
    },
    "language_info": {
      "codemirror_mode": {
        "name": "ipython",
        "version": 3
      },
      "file_extension": ".py",
      "mimetype": "text/x-python",
      "name": "python",
      "nbconvert_exporter": "python",
      "pygments_lexer": "ipython3",
      "version": "3.11.3"
    }
  },
  "nbformat": 4,
  "nbformat_minor": 5
}
