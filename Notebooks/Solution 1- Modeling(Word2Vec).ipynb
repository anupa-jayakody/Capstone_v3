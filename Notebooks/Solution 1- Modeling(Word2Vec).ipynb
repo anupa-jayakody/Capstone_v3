{
  "cells": [
    {
      "cell_type": "markdown",
      "id": "aafd4316",
      "metadata": {},
      "source": [
        "**Table of contents**<a id='toc0_'></a>    \n",
        "- [Libraries](#toc1_1_)    \n",
        "- [Option 1- Search by Ingredients](#toc2_)    \n",
        "  - [Tokenization](#toc2_1_)    \n",
        "  - [Modeling](#toc2_2_)    \n",
        "    - [Word2vec](#toc2_2_1_)    \n",
        "    - [Hyperparameter Evaluation](#toc2_2_2_)    \n",
        "    - [Word Embeddings](#toc2_2_3_)    \n",
        "  - [Vectorisation & Recommendation](#toc2_3_)    \n",
        "- [Option 2 : Search by Keywords](#toc3_)    \n",
        "    - [Tokenization](#toc3_1_1_)    \n",
        "    - [Modeling](#toc3_1_2_)    \n",
        "      - [Word2Vec](#toc3_1_2_1_)    \n",
        "      - [Hyperparameter Evaluation](#toc3_1_2_2_)    \n",
        "    - [Vectorization & Recommendation](#toc3_1_3_)    \n",
        "- [Option 3 : Search by Ingredients & Keywords both together](#toc4_)    \n",
        "  - [Tokenization](#toc4_1_)    \n",
        "  - [Modeling](#toc4_2_)    \n",
        "  - [Vectorization & Recommendation](#toc4_3_)    \n",
        "\n",
        "<!-- vscode-jupyter-toc-config\n",
        "\tnumbering=false\n",
        "\tanchor=true\n",
        "\tflat=false\n",
        "\tminLevel=1\n",
        "\tmaxLevel=6\n",
        "\t/vscode-jupyter-toc-config -->\n",
        "<!-- THIS CELL WILL BE REPLACED ON TOC UPDATE. DO NOT WRITE YOUR TEXT IN THIS CELL -->"
      ]
    },
    {
      "cell_type": "markdown",
      "id": "eedb265b",
      "metadata": {},
      "source": [
        "## <a id='toc1_1_'></a>[Importing Dataset & Libraries](#toc0_)\n"
      ]
    },
    {
      "cell_type": "markdown",
      "id": "8d811087",
      "metadata": {},
      "source": [
        "In thi section, I will explore Word2Vec vectorization for modeling and recommendations."
      ]
    },
    {
      "cell_type": "code",
      "execution_count": 2,
      "id": "3ba7adee",
      "metadata": {
        "id": "3ba7adee"
      },
      "outputs": [],
      "source": [
        "#importing the basic libraries\n",
        "import numpy as np\n",
        "import pandas as pd\n",
        "import matplotlib.pyplot as plt\n"
      ]
    },
    {
      "cell_type": "code",
      "execution_count": 3,
      "id": "-3Uc8d669LhS",
      "metadata": {
        "colab": {
          "base_uri": "https://localhost:8080/",
          "height": 461
        },
        "id": "-3Uc8d669LhS",
        "outputId": "52eba7d2-1481-4222-ab35-6038ed585fe4"
      },
      "outputs": [
        {
          "name": "stderr",
          "output_type": "stream",
          "text": [
            "[nltk_data] Downloading package stopwords to\n",
            "[nltk_data]     C:\\Users\\e312995\\AppData\\Roaming\\nltk_data...\n",
            "[nltk_data]   Package stopwords is already up-to-date!\n"
          ]
        }
      ],
      "source": [
        "#importing the word processing libraries\n",
        "\n",
        "\n",
        " #importing the regex library\n",
        "import re\n",
        "\n",
        "#importing the nltk library\n",
        "import nltk\n",
        "\n",
        "\n",
        "#lemmatizer\n",
        "from nltk.stem import WordNetLemmatizer\n",
        "\n",
        "#  nltk stopwords\n",
        "nltk.download('stopwords')\n",
        "from nltk.corpus import stopwords\n",
        "\n",
        "#defining the stop words\n",
        "ENGLISH_STOP_WORDS = stopwords.words('english')\n",
        "\n",
        "#library to handle punctuation\n",
        "import string\n",
        "\n",
        "#counter library\n",
        "from collections import Counter\n",
        "\n",
        "import spacy\n",
        "\n",
        "#speech tagging library\n",
        "from nltk import pos_tag\n",
        "\n",
        "#library for word embedding\n",
        "from gensim.models import Word2Vec\n",
        "from gensim.models.phrases import Phrases, Phraser\n",
        "from sklearn.feature_extraction.text import TfidfVectorizer\n",
        "from nltk.tokenize import word_tokenize\n",
        "from collections import defaultdict\n",
        "from sklearn.metrics.pairwise import cosine_similarity\n",
        "\n",
        "import string"
      ]
    },
    {
      "cell_type": "code",
      "execution_count": 4,
      "id": "62c380af",
      "metadata": {
        "colab": {
          "base_uri": "https://localhost:8080/",
          "height": 339
        },
        "id": "62c380af",
        "outputId": "4a48149b-66c2-435e-f5b9-f4fcaf3b832a"
      },
      "outputs": [],
      "source": [
        "#loading the cleaned dataset\n",
        "recipes = pd.read_csv('../Docs/Datasets/recipes_cleaned.csv')"
      ]
    },
    {
      "cell_type": "code",
      "execution_count": 5,
      "id": "e5c557af",
      "metadata": {},
      "outputs": [
        {
          "data": {
            "text/plain": [
              "(521766, 32)"
            ]
          },
          "execution_count": 5,
          "metadata": {},
          "output_type": "execute_result"
        }
      ],
      "source": [
        "#checking\n",
        "recipes.shape"
      ]
    },
    {
      "cell_type": "code",
      "execution_count": 6,
      "id": "57c11c39",
      "metadata": {},
      "outputs": [
        {
          "data": {
            "text/plain": [
              "Index(['Unnamed: 0', 'RecipeId', 'Name', 'AuthorId', 'AuthorName', 'CookTime',\n",
              "       'PrepTime', 'TotalTime', 'DatePublished', 'Description', 'Images',\n",
              "       'RecipeCategory', 'Keywords', 'RecipeIngredientQuantities',\n",
              "       'RecipeIngredientParts', 'AggregatedRating', 'ReviewCount', 'Calories',\n",
              "       'FatContent', 'SaturatedFatContent', 'CholesterolContent',\n",
              "       'SodiumContent', 'CarbohydrateContent', 'FiberContent', 'SugarContent',\n",
              "       'ProteinContent', 'RecipeServings', 'RecipeYield', 'RecipeInstructions',\n",
              "       'length of ingredients', 'length_of_titles', 'Vegan/Not'],\n",
              "      dtype='object')"
            ]
          },
          "execution_count": 6,
          "metadata": {},
          "output_type": "execute_result"
        }
      ],
      "source": [
        "recipes.columns"
      ]
    },
    {
      "cell_type": "markdown",
      "id": "192c2644",
      "metadata": {},
      "source": [
        "# <a id='toc2_'></a>[Option 1- Search by Ingredients](#toc0_)"
      ]
    },
    {
      "cell_type": "markdown",
      "id": "709cd08b",
      "metadata": {},
      "source": [
        "## <a id='toc2_1_'></a>[Tokenization](#toc0_)"
      ]
    },
    {
      "cell_type": "markdown",
      "id": "8c62f2a1",
      "metadata": {
        "id": "8c62f2a1"
      },
      "source": [
        "As the next step, I will be refining the ingredients data to avoid biases from different words and to have more consistency for comparsion of the input data vs the recipe data in the database"
      ]
    },
    {
      "cell_type": "markdown",
      "id": "NgAIBeBk9LhX",
      "metadata": {
        "id": "NgAIBeBk9LhX"
      },
      "source": [
        "In Sprint 1, I followed a process where I had multiple lines of codes for each data cleaning step, here I am creating one parser function which can be used to clean both ingredients and title columns. Furthermore in Sprint 1, my ingredients were cleaned in a way that an example of 'red cabbage' would produce 2 tokens red and cabbage seperately, but in the project context, these words should remain in the original form as red cabbage to make sense. So I have changed my cleaning steps to incorporate that."
      ]
    },
    {
      "cell_type": "markdown",
      "id": "_u4AMZOe9LhX",
      "metadata": {
        "id": "_u4AMZOe9LhX"
      },
      "source": [
        "As the recipes will usually contain alot of measuring terms and this will repeat, I will remove them from the list for the cleaning purpose to remove the biases from them."
      ]
    },
    {
      "cell_type": "markdown",
      "id": "8VPE8eel9Lhc",
      "metadata": {
        "id": "8VPE8eel9Lhc"
      },
      "source": [
        "Next I will\n",
        "- break each ingredient list to tokens/words\n",
        "- lower case\n",
        "- remove stop words\n",
        "- remove verbs\n",
        "- remove measuring word\n",
        "- remove characters and numbers\n",
        "\n",
        "All this is done to remove any impact from those words/tokens to the tool as the recommendation engine should only map for the true ingredients."
      ]
    },
    {
      "cell_type": "code",
      "execution_count": 7,
      "id": "it4Ec-TQ9Lhc",
      "metadata": {
        "id": "it4Ec-TQ9Lhc"
      },
      "outputs": [],
      "source": [
        "def parser(input_keys): #function\n",
        "    \n",
        "    remove_= { 'oil', 'salt', 'pepper'}\n",
        "\n",
        "#defining measuring units\n",
        "\n",
        "    measurment_url= 'https://en.wikibooks.org/wiki/Cookbook:Units_of_measurement' #data source\n",
        "\n",
        "\n",
        "    measuring_words= ['ml', 'mL', 'milliliter', 'millilitre', 'cc' , 'cubic centimeter', 'l', 'L', 'liter', 'litre', 'dl', 'dL', 'deciliter', 'decilitre', 'teaspoon', 't' , 'tsp.',\n",
        "'tablespoon' , 'T', 'tbl', 'tbs', 'tbsp', 'fluid ounce', 'fl oz',  'gill', 'cup',  'c', 'pint', 'p', 'pt', 'fl pt',\n",
        "'quart', 'q', 'qt', 'fl qt', 'gallon' , 'g' , 'gal' , 'g', 'milligram', 'milligramme', 'g' , 'gram' , 'gramme', 'kg',\n",
        "'kilogram', 'kilogramme', 'pound', 'lb', 'ounce', 'oz', 'mm', 'millimeter', 'millimetre', 'cm' , 'centimeter', 'centimetre', 'm' , 'meter',\n",
        "'metre', 'inch', 'in', 'yard', '°C' , 'degree celsius','°F' ,'Farenheit', 'tsp']\n",
        "\n",
        "\n",
        "\n",
        "    ingredients_list = re.split(',', input_keys) #splitting the ingredients by commas\n",
        "\n",
        "    cleaned_ingredients = [] #new list to store cleaned ingredients\n",
        "\n",
        "    lemmatizer = WordNetLemmatizer() #lemmatizer\n",
        "\n",
        "    for ingredient in ingredients_list:\n",
        "        items = re.split(' ', ingredient)  #splitting each ingredient by space to process and clean each individual word\n",
        "\n",
        "        items = [word for word in items if word.isalpha()] #filtering only letters\n",
        "\n",
        "        items = [word.lower() for word in items] #lowercasing\n",
        "\n",
        "        items = [lemmatizer.lemmatize(word) for word in items] #lemmatizing\n",
        "\n",
        "        items = [word for word in items if word not in ENGLISH_STOP_WORDS] #removing stop words\n",
        "\n",
        "        items = [word for word in items if word not in measuring_words] #removing measuring words\n",
        "\n",
        "        items = [word for word in items if word not in remove_]\n",
        "\n",
        "        if items:\n",
        "            cleaned_ingredients.append(' '.join(items) ) #joining the individual words of the ingredient seperated by space\n",
        "    \n",
        "\n",
        "    return cleaned_ingredients #return the list\n"
      ]
    },
    {
      "cell_type": "markdown",
      "id": "Rwhw4k0J9Lhc",
      "metadata": {
        "id": "Rwhw4k0J9Lhc"
      },
      "source": [
        "Perfect, I have my ingredients seperated by a comma in original form."
      ]
    },
    {
      "cell_type": "markdown",
      "id": "a9978cef",
      "metadata": {},
      "source": [
        "## <a id='toc2_2_'></a>[Modeling](#toc0_)"
      ]
    },
    {
      "cell_type": "markdown",
      "id": "0836154d",
      "metadata": {},
      "source": [
        "### <a id='toc2_2_1_'></a>[Word2vec](#toc0_)"
      ]
    },
    {
      "cell_type": "markdown",
      "id": "UDLVxtyp9Lhh",
      "metadata": {
        "id": "UDLVxtyp9Lhh"
      },
      "source": [
        "Since this is a text analysis, I will use Word2vec which will enable creating embeddings for each word which then can be  converted to a vector for further analysis."
      ]
    },
    {
      "cell_type": "code",
      "execution_count": 8,
      "id": "b5d5b5e9",
      "metadata": {},
      "outputs": [
        {
          "data": {
            "text/plain": [
              "0         blueberries, granulated sugar, vanilla yogurt,...\n",
              "1         saffron, milk, hot green chili peppers, onions...\n",
              "2         sugar, lemons, rind of, lemon, zest of, fresh ...\n",
              "3         extra firm tofu, eggplant, zucchini, mushrooms...\n",
              "4         plain tomato juice, cabbage, onion, carrots, c...\n",
              "                                ...                        \n",
              "521761    fresh ginger, unsalted butter, dark brown suga...\n",
              "521762    Dijon mustard, garlic, peppercorns, shallot, c...\n",
              "521763            half-and-half, heavy cream, brandy, sugar\n",
              "521764    wasabi paste, dill, English cucumber, smoked s...\n",
              "521765    hard-boiled eggs, breakfast sausage, panko bre...\n",
              "Name: RecipeIngredientParts, Length: 521766, dtype: object"
            ]
          },
          "execution_count": 8,
          "metadata": {},
          "output_type": "execute_result"
        }
      ],
      "source": [
        "ingredients= recipes['RecipeIngredientParts']\n",
        "ingredients"
      ]
    },
    {
      "cell_type": "code",
      "execution_count": 9,
      "id": "51qjy3W19Lhi",
      "metadata": {
        "id": "51qjy3W19Lhi",
        "outputId": "fb3c78cb-474c-4147-9835-8296bd0caa79"
      },
      "outputs": [],
      "source": [
        "#getting the parsed ingredients for the model\n",
        "ingredients= recipes['RecipeIngredientParts']\n",
        "ingredients_cleaned = ingredients.apply(parser)\n",
        "\n",
        "#word2vec model with starting parameters\n",
        "phrases_model=Word2Vec(sentences=ingredients_cleaned,min_count=1, sg=0, window=15, workers=8, vector_size=300, compute_loss=True)  #used min_count=1 to avoid any ingredient being missed out"
      ]
    },
    {
      "cell_type": "markdown",
      "id": "c53a61ae",
      "metadata": {},
      "source": [
        "### <a id='toc2_2_2_'></a>[Hyperparameter Evaluation](#toc0_)"
      ]
    },
    {
      "cell_type": "markdown",
      "id": "860c6314",
      "metadata": {},
      "source": [
        "Now I will check different options with the model to check which gives the lowest compute loss"
      ]
    },
    {
      "cell_type": "code",
      "execution_count": 10,
      "id": "16474b49",
      "metadata": {},
      "outputs": [
        {
          "data": {
            "text/plain": [
              "3379186.0"
            ]
          },
          "execution_count": 10,
          "metadata": {},
          "output_type": "execute_result"
        }
      ],
      "source": [
        "#loss with vector size 300\n",
        "phrases_model.get_latest_training_loss()"
      ]
    },
    {
      "cell_type": "code",
      "execution_count": 11,
      "id": "0916e482",
      "metadata": {},
      "outputs": [
        {
          "data": {
            "text/plain": [
              "3237827.5"
            ]
          },
          "execution_count": 11,
          "metadata": {},
          "output_type": "execute_result"
        }
      ],
      "source": [
        "#vector size 200\n",
        "phrases_model=Word2Vec(sentences=ingredients_cleaned,min_count=1, sg=0, window=15, workers=8, vector_size=200, compute_loss=True)\n",
        "phrases_model.get_latest_training_loss()"
      ]
    },
    {
      "cell_type": "code",
      "execution_count": 12,
      "id": "c2be8978",
      "metadata": {},
      "outputs": [
        {
          "data": {
            "text/plain": [
              "3303009.75"
            ]
          },
          "execution_count": 12,
          "metadata": {},
          "output_type": "execute_result"
        }
      ],
      "source": [
        "#vector size 100\n",
        "phrases_model=Word2Vec(sentences=ingredients_cleaned,min_count=1, sg=0, window=15, workers=8, vector_size=100, compute_loss=True)\n",
        "phrases_model.get_latest_training_loss()"
      ]
    },
    {
      "cell_type": "markdown",
      "id": "012d1b77",
      "metadata": {},
      "source": [
        "I am also going to iterate through hs, window, vector sizes to see if I can pick the best hyperparamters"
      ]
    },
    {
      "cell_type": "code",
      "execution_count": 12,
      "id": "1f3bb3ba",
      "metadata": {},
      "outputs": [
        {
          "name": "stdout",
          "output_type": "stream",
          "text": [
            "Word2vec model #0: {'compute_loss': 35.260963439941406, 'vector': 100, 'window': 10, 'hs_val': 0, 'train_time_mean': 0.012732823689778646, 'train_time_std': 0.00567042264213011}\n",
            "Word2vec model #1: {'compute_loss': 43.018375396728516, 'vector': 100, 'window': 13, 'hs_val': 0, 'train_time_mean': 0.006684621175130208, 'train_time_std': 0.0009971383159784793}\n",
            "Word2vec model #2: {'compute_loss': 40.21577072143555, 'vector': 100, 'window': 15, 'hs_val': 0, 'train_time_mean': 0.008651812871297201, 'train_time_std': 0.0019429537774844315}\n",
            "Word2vec model #3: {'compute_loss': 38.78705978393555, 'vector': 100, 'window': 18, 'hs_val': 0, 'train_time_mean': 0.007415930430094401, 'train_time_std': 0.0006218066954818849}\n",
            "Word2vec model #4: {'compute_loss': 51.48100662231445, 'vector': 100, 'window': 10, 'hs_val': 1, 'train_time_mean': 0.009589592615763346, 'train_time_std': 0.003002809766429137}\n",
            "Word2vec model #5: {'compute_loss': 63.46973419189453, 'vector': 100, 'window': 13, 'hs_val': 1, 'train_time_mean': 0.007491191228230794, 'train_time_std': 0.006151371299613775}\n",
            "Word2vec model #6: {'compute_loss': 63.500179290771484, 'vector': 100, 'window': 15, 'hs_val': 1, 'train_time_mean': 0.006377458572387695, 'train_time_std': 0.007303295576221297}\n",
            "Word2vec model #7: {'compute_loss': 60.64885711669922, 'vector': 100, 'window': 18, 'hs_val': 1, 'train_time_mean': 0.006206989288330078, 'train_time_std': 0.008069341349286116}\n",
            "Word2vec model #8: {'compute_loss': 35.260963439941406, 'vector': 200, 'window': 10, 'hs_val': 0, 'train_time_mean': 0.00543967882792155, 'train_time_std': 0.0076928675734004364}\n",
            "Word2vec model #9: {'compute_loss': 43.018375396728516, 'vector': 200, 'window': 13, 'hs_val': 0, 'train_time_mean': 0.010784387588500977, 'train_time_std': 0.007628956233289532}\n",
            "Word2vec model #10: {'compute_loss': 40.209678649902344, 'vector': 200, 'window': 15, 'hs_val': 0, 'train_time_mean': 0.007525126139322917, 'train_time_std': 0.006812679690093879}\n",
            "Word2vec model #11: {'compute_loss': 38.78705978393555, 'vector': 200, 'window': 18, 'hs_val': 0, 'train_time_mean': 0.0046473344167073565, 'train_time_std': 0.006572323360990801}\n",
            "Word2vec model #12: {'compute_loss': 51.48100662231445, 'vector': 200, 'window': 10, 'hs_val': 1, 'train_time_mean': 0.010745922724405924, 'train_time_std': 0.0076819565092796326}\n",
            "Word2vec model #13: {'compute_loss': 63.46973419189453, 'vector': 200, 'window': 13, 'hs_val': 1, 'train_time_mean': 0.006433169047037761, 'train_time_std': 0.006885606810469192}\n",
            "Word2vec model #14: {'compute_loss': 63.500179290771484, 'vector': 200, 'window': 15, 'hs_val': 1, 'train_time_mean': 0.010432720184326172, 'train_time_std': 0.007377197607552487}\n",
            "Word2vec model #15: {'compute_loss': 60.64885711669922, 'vector': 200, 'window': 18, 'hs_val': 1, 'train_time_mean': 0.005350669225056966, 'train_time_std': 0.0075669889858479}\n",
            "Word2vec model #16: {'compute_loss': 35.260963439941406, 'vector': 300, 'window': 10, 'hs_val': 0, 'train_time_mean': 0.0052280426025390625, 'train_time_std': 0.007393568753175075}\n",
            "Word2vec model #17: {'compute_loss': 43.018375396728516, 'vector': 300, 'window': 13, 'hs_val': 0, 'train_time_mean': 0.010778109232584635, 'train_time_std': 0.007628121948734933}\n",
            "Word2vec model #18: {'compute_loss': 40.221858978271484, 'vector': 300, 'window': 15, 'hs_val': 0, 'train_time_mean': 0.005250612894694011, 'train_time_std': 0.007425487966447325}\n",
            "Word2vec model #19: {'compute_loss': 38.78705978393555, 'vector': 300, 'window': 18, 'hs_val': 0, 'train_time_mean': 0.005594094594319661, 'train_time_std': 0.007911244444484884}\n",
            "Word2vec model #20: {'compute_loss': 51.48100662231445, 'vector': 300, 'window': 10, 'hs_val': 1, 'train_time_mean': 0.011753161748250326, 'train_time_std': 0.00835618114861129}\n",
            "Word2vec model #21: {'compute_loss': 63.46973419189453, 'vector': 300, 'window': 13, 'hs_val': 1, 'train_time_mean': 0.005260070164998372, 'train_time_std': 0.007438862566374782}\n",
            "Word2vec model #22: {'compute_loss': 63.51235580444336, 'vector': 300, 'window': 15, 'hs_val': 1, 'train_time_mean': 0.005342006683349609, 'train_time_std': 0.007554738301880733}\n",
            "Word2vec model #23: {'compute_loss': 60.64885711669922, 'vector': 300, 'window': 18, 'hs_val': 1, 'train_time_mean': 0.011157592137654623, 'train_time_std': 0.007912736655462008}\n",
            "Word2vec model #24: {'compute_loss': 506.5211486816406, 'vector': 100, 'window': 10, 'hs_val': 0, 'train_time_mean': 0.005388816197713216, 'train_time_std': 0.007620936951941845}\n",
            "Word2vec model #25: {'compute_loss': 444.29071044921875, 'vector': 100, 'window': 13, 'hs_val': 0, 'train_time_mean': 0.011400222778320312, 'train_time_std': 0.008141299206885708}\n",
            "Word2vec model #26: {'compute_loss': 549.046142578125, 'vector': 100, 'window': 15, 'hs_val': 0, 'train_time_mean': 0.010713497797648111, 'train_time_std': 0.007577048634481919}\n",
            "Word2vec model #27: {'compute_loss': 478.2265930175781, 'vector': 100, 'window': 18, 'hs_val': 0, 'train_time_mean': 0.01051489512125651, 'train_time_std': 0.0074355255083202575}\n",
            "Word2vec model #28: {'compute_loss': 855.756103515625, 'vector': 100, 'window': 10, 'hs_val': 1, 'train_time_mean': 0.01222848892211914, 'train_time_std': 0.005361976735602624}\n",
            "Word2vec model #29: {'compute_loss': 749.67138671875, 'vector': 100, 'window': 13, 'hs_val': 1, 'train_time_mean': 0.010472615559895834, 'train_time_std': 0.007405282556903889}\n",
            "Word2vec model #30: {'compute_loss': 932.3141479492188, 'vector': 100, 'window': 15, 'hs_val': 1, 'train_time_mean': 0.010647773742675781, 'train_time_std': 0.007531735973723125}\n",
            "Word2vec model #31: {'compute_loss': 812.5990600585938, 'vector': 100, 'window': 18, 'hs_val': 1, 'train_time_mean': 0.006906668345133464, 'train_time_std': 0.009767504044500684}\n",
            "Word2vec model #32: {'compute_loss': 506.5271911621094, 'vector': 200, 'window': 10, 'hs_val': 0, 'train_time_mean': 0.010594765345255533, 'train_time_std': 0.007492361085788243}\n",
            "Word2vec model #33: {'compute_loss': 444.2176818847656, 'vector': 200, 'window': 13, 'hs_val': 0, 'train_time_mean': 0.011437654495239258, 'train_time_std': 0.008087823463407764}\n",
            "Word2vec model #34: {'compute_loss': 548.9976196289062, 'vector': 200, 'window': 15, 'hs_val': 0, 'train_time_mean': 0.011364301045735678, 'train_time_std': 0.008103811356952486}\n",
            "Word2vec model #35: {'compute_loss': 478.18402099609375, 'vector': 200, 'window': 18, 'hs_val': 0, 'train_time_mean': 0.016707499821980793, 'train_time_std': 0.01403392868936103}\n",
            "Word2vec model #36: {'compute_loss': 855.7255249023438, 'vector': 200, 'window': 10, 'hs_val': 1, 'train_time_mean': 0.010674635569254557, 'train_time_std': 0.007551426303409591}\n",
            "Word2vec model #37: {'compute_loss': 749.6165161132812, 'vector': 200, 'window': 13, 'hs_val': 1, 'train_time_mean': 0.011342446009318033, 'train_time_std': 0.008067313300779163}\n",
            "Word2vec model #38: {'compute_loss': 932.2653198242188, 'vector': 200, 'window': 15, 'hs_val': 1, 'train_time_mean': 0.010725100835164389, 'train_time_std': 0.007586043683054548}\n",
            "Word2vec model #39: {'compute_loss': 812.6112060546875, 'vector': 200, 'window': 18, 'hs_val': 1, 'train_time_mean': 0.011076927185058594, 'train_time_std': 0.007861261117790567}\n",
            "Word2vec model #40: {'compute_loss': 506.4664001464844, 'vector': 300, 'window': 10, 'hs_val': 0, 'train_time_mean': 0.011536518732706705, 'train_time_std': 0.008254789718288856}\n",
            "Word2vec model #41: {'compute_loss': 444.1872863769531, 'vector': 300, 'window': 13, 'hs_val': 0, 'train_time_mean': 0.005279858907063802, 'train_time_std': 0.007466848073786016}\n",
            "Word2vec model #42: {'compute_loss': 548.9307250976562, 'vector': 300, 'window': 15, 'hs_val': 0, 'train_time_mean': 0.010840574900309244, 'train_time_std': 0.0076654644933086165}\n",
            "Word2vec model #43: {'compute_loss': 478.11114501953125, 'vector': 300, 'window': 18, 'hs_val': 0, 'train_time_mean': 0.0052598317464192705, 'train_time_std': 0.007438525391586695}\n",
            "Word2vec model #44: {'compute_loss': 855.6646728515625, 'vector': 300, 'window': 10, 'hs_val': 1, 'train_time_mean': 0.012082258860270182, 'train_time_std': 0.008685978356932914}\n",
            "Word2vec model #45: {'compute_loss': 749.5922241210938, 'vector': 300, 'window': 13, 'hs_val': 1, 'train_time_mean': 0.01098179817199707, 'train_time_std': 0.007767243006788802}\n",
            "Word2vec model #46: {'compute_loss': 932.2227172851562, 'vector': 300, 'window': 15, 'hs_val': 1, 'train_time_mean': 0.010474205017089844, 'train_time_std': 0.0074063850893185115}\n",
            "Word2vec model #47: {'compute_loss': 812.4954833984375, 'vector': 300, 'window': 18, 'hs_val': 1, 'train_time_mean': 0.011820316314697266, 'train_time_std': 0.008463898430318622}\n",
            "Word2vec model #48: {'compute_loss': 13.399166107177734, 'vector': 100, 'window': 10, 'hs_val': 0, 'train_time_mean': 0.011298418045043945, 'train_time_std': 0.007994384767138096}\n",
            "Word2vec model #49: {'compute_loss': 10.578289031982422, 'vector': 100, 'window': 13, 'hs_val': 0, 'train_time_mean': 0.010632594426472982, 'train_time_std': 0.007522294390090703}\n",
            "Word2vec model #50: {'compute_loss': 14.104385375976562, 'vector': 100, 'window': 15, 'hs_val': 0, 'train_time_mean': 0.006014585494995117, 'train_time_std': 0.00850590837907459}\n",
            "Word2vec model #51: {'compute_loss': 11.988727569580078, 'vector': 100, 'window': 18, 'hs_val': 0, 'train_time_mean': 0.005273739496866862, 'train_time_std': 0.007458193920891779}\n",
            "Word2vec model #52: {'compute_loss': 16.220043182373047, 'vector': 100, 'window': 10, 'hs_val': 1, 'train_time_mean': 0.00531760851542155, 'train_time_std': 0.007520234081899814}\n",
            "Word2vec model #53: {'compute_loss': 13.399166107177734, 'vector': 100, 'window': 13, 'hs_val': 1, 'train_time_mean': 0.010633071263631185, 'train_time_std': 0.007520741945897128}\n",
            "Word2vec model #54: {'compute_loss': 16.925262451171875, 'vector': 100, 'window': 15, 'hs_val': 1, 'train_time_mean': 0.0052403608957926435, 'train_time_std': 0.007410989450559577}\n",
            "Word2vec model #55: {'compute_loss': 14.80960464477539, 'vector': 100, 'window': 18, 'hs_val': 1, 'train_time_mean': 0.006868124008178711, 'train_time_std': 0.009712994120426595}\n",
            "Word2vec model #56: {'compute_loss': 13.399166107177734, 'vector': 200, 'window': 10, 'hs_val': 0, 'train_time_mean': 0.004859129587809245, 'train_time_std': 0.006871846964408221}\n",
            "Word2vec model #57: {'compute_loss': 10.578289031982422, 'vector': 200, 'window': 13, 'hs_val': 0, 'train_time_mean': 0.010419289271036783, 'train_time_std': 0.007367551904735049}\n",
            "Word2vec model #58: {'compute_loss': 14.104385375976562, 'vector': 200, 'window': 15, 'hs_val': 0, 'train_time_mean': 0.005223433176676433, 'train_time_std': 0.00738705004060539}\n",
            "Word2vec model #59: {'compute_loss': 11.988727569580078, 'vector': 200, 'window': 18, 'hs_val': 0, 'train_time_mean': 0.005247036616007487, 'train_time_std': 0.007420430344626017}\n",
            "Word2vec model #60: {'compute_loss': 16.220043182373047, 'vector': 200, 'window': 10, 'hs_val': 1, 'train_time_mean': 0.007581551869710286, 'train_time_std': 0.006671163207991099}\n",
            "Word2vec model #61: {'compute_loss': 13.399166107177734, 'vector': 200, 'window': 13, 'hs_val': 1, 'train_time_mean': 0.010416905085245768, 'train_time_std': 0.007365876649984862}\n",
            "Word2vec model #62: {'compute_loss': 16.925262451171875, 'vector': 200, 'window': 15, 'hs_val': 1, 'train_time_mean': 0.00520777702331543, 'train_time_std': 0.0073649088961876665}\n",
            "Word2vec model #63: {'compute_loss': 14.80960464477539, 'vector': 200, 'window': 18, 'hs_val': 1, 'train_time_mean': 0.005220492680867513, 'train_time_std': 0.007382891551552315}\n",
            "Word2vec model #64: {'compute_loss': 13.399166107177734, 'vector': 300, 'window': 10, 'hs_val': 0, 'train_time_mean': 0.010561704635620117, 'train_time_std': 0.007469002374835816}\n",
            "Word2vec model #65: {'compute_loss': 10.578289031982422, 'vector': 300, 'window': 13, 'hs_val': 0, 'train_time_mean': 0.007139841715494792, 'train_time_std': 0.0065387973480844136}\n",
            "Word2vec model #66: {'compute_loss': 14.104385375976562, 'vector': 300, 'window': 15, 'hs_val': 0, 'train_time_mean': 0.005288044611612956, 'train_time_std': 0.007478424408177008}\n",
            "Word2vec model #67: {'compute_loss': 11.988727569580078, 'vector': 300, 'window': 18, 'hs_val': 0, 'train_time_mean': 0.005222797393798828, 'train_time_std': 0.007386150907837157}\n",
            "Word2vec model #68: {'compute_loss': 16.220043182373047, 'vector': 300, 'window': 10, 'hs_val': 1, 'train_time_mean': 0.005311806996663411, 'train_time_std': 0.0075120294953896945}\n",
            "Word2vec model #69: {'compute_loss': 13.399166107177734, 'vector': 300, 'window': 13, 'hs_val': 1, 'train_time_mean': 0.012275060017903646, 'train_time_std': 0.008928759759781897}\n",
            "Word2vec model #70: {'compute_loss': 16.925262451171875, 'vector': 300, 'window': 15, 'hs_val': 1, 'train_time_mean': 0.005304654439290364, 'train_time_std': 0.007305888757035351}\n",
            "Word2vec model #71: {'compute_loss': 14.80960464477539, 'vector': 300, 'window': 18, 'hs_val': 1, 'train_time_mean': 0.005747000376383464, 'train_time_std': 0.008127485875244776}\n",
            "Word2vec model #72: {'compute_loss': 259.2165832519531, 'vector': 100, 'window': 10, 'hs_val': 0, 'train_time_mean': 0.01041849454243978, 'train_time_std': 0.007367007832472252}\n",
            "Word2vec model #73: {'compute_loss': 298.7336730957031, 'vector': 100, 'window': 13, 'hs_val': 0, 'train_time_mean': 0.005255937576293945, 'train_time_std': 0.0074330182033812715}\n",
            "Word2vec model #74: {'compute_loss': 230.24774169921875, 'vector': 100, 'window': 15, 'hs_val': 0, 'train_time_mean': 0.00660856564839681, 'train_time_std': 0.009345923167795716}\n",
            "Word2vec model #75: {'compute_loss': 289.65704345703125, 'vector': 100, 'window': 18, 'hs_val': 0, 'train_time_mean': 0.005285978317260742, 'train_time_std': 0.007475502226680253}\n",
            "Word2vec model #76: {'compute_loss': 424.62939453125, 'vector': 100, 'window': 10, 'hs_val': 1, 'train_time_mean': 0.010607242584228516, 'train_time_std': 0.0075016697815615055}\n",
            "Word2vec model #77: {'compute_loss': 489.5895690917969, 'vector': 100, 'window': 13, 'hs_val': 1, 'train_time_mean': 0.005249977111816406, 'train_time_std': 0.007424588833679093}\n",
            "Word2vec model #78: {'compute_loss': 376.5035400390625, 'vector': 100, 'window': 15, 'hs_val': 1, 'train_time_mean': 0.0053862730662028, 'train_time_std': 0.007617340420868914}\n",
            "Word2vec model #79: {'compute_loss': 480.5307922363281, 'vector': 100, 'window': 18, 'hs_val': 1, 'train_time_mean': 0.012115955352783203, 'train_time_std': 0.008808457354650075}\n",
            "Word2vec model #80: {'compute_loss': 259.3140869140625, 'vector': 200, 'window': 10, 'hs_val': 0, 'train_time_mean': 0.005279064178466797, 'train_time_std': 0.0074657241578257256}\n",
            "Word2vec model #81: {'compute_loss': 298.849365234375, 'vector': 200, 'window': 13, 'hs_val': 0, 'train_time_mean': 0.011229594548543295, 'train_time_std': 0.007941461987356936}\n",
            "Word2vec model #82: {'compute_loss': 230.27816772460938, 'vector': 200, 'window': 15, 'hs_val': 0, 'train_time_mean': 0.007639567057291667, 'train_time_std': 0.0064761413731671885}\n",
            "Word2vec model #83: {'compute_loss': 289.693603515625, 'vector': 200, 'window': 18, 'hs_val': 0, 'train_time_mean': 0.0039037863413492837, 'train_time_std': 0.005520787588543003}\n",
            "Word2vec model #84: {'compute_loss': 424.7266540527344, 'vector': 200, 'window': 10, 'hs_val': 1, 'train_time_mean': 0.010596911112467447, 'train_time_std': 0.007493839343873056}\n",
            "Word2vec model #85: {'compute_loss': 489.6990051269531, 'vector': 200, 'window': 13, 'hs_val': 1, 'train_time_mean': 0.0052712758382161455, 'train_time_std': 0.0074547097814148785}\n",
            "Word2vec model #86: {'compute_loss': 376.52789306640625, 'vector': 200, 'window': 15, 'hs_val': 1, 'train_time_mean': 0.0052979787190755205, 'train_time_std': 0.00749247335768064}\n",
            "Word2vec model #87: {'compute_loss': 480.5915222167969, 'vector': 200, 'window': 18, 'hs_val': 1, 'train_time_mean': 0.012114127477010092, 'train_time_std': 0.008806454204527308}\n",
            "Word2vec model #88: {'compute_loss': 259.2897033691406, 'vector': 300, 'window': 10, 'hs_val': 0, 'train_time_mean': 0.005212545394897461, 'train_time_std': 0.00737165239194941}\n",
            "Word2vec model #89: {'compute_loss': 298.81890869140625, 'vector': 300, 'window': 13, 'hs_val': 0, 'train_time_mean': 0.0052947998046875, 'train_time_std': 0.007487977693839477}\n",
            "Word2vec model #90: {'compute_loss': 230.29034423828125, 'vector': 300, 'window': 15, 'hs_val': 0, 'train_time_mean': 0.010780413945515951, 'train_time_std': 0.007622969441061464}\n",
            "Word2vec model #91: {'compute_loss': 289.693603515625, 'vector': 300, 'window': 18, 'hs_val': 0, 'train_time_mean': 0.005269686381022136, 'train_time_std': 0.007452461949494296}\n",
            "Word2vec model #92: {'compute_loss': 424.66583251953125, 'vector': 300, 'window': 10, 'hs_val': 1, 'train_time_mean': 0.0068064530690511065, 'train_time_std': 0.006733882080919885}\n",
            "Word2vec model #93: {'compute_loss': 489.68084716796875, 'vector': 300, 'window': 13, 'hs_val': 1, 'train_time_mean': 0.010898590087890625, 'train_time_std': 0.007720311387848567}\n",
            "Word2vec model #94: {'compute_loss': 376.5339660644531, 'vector': 300, 'window': 15, 'hs_val': 1, 'train_time_mean': 0.005474090576171875, 'train_time_std': 0.007741533134481016}\n",
            "Word2vec model #95: {'compute_loss': 480.5673522949219, 'vector': 300, 'window': 18, 'hs_val': 1, 'train_time_mean': 0.010857979456583658, 'train_time_std': 0.007677759640659429}\n",
            "Word2vec model #96: {'compute_loss': 12.693946838378906, 'vector': 100, 'window': 10, 'hs_val': 0, 'train_time_mean': 0.006102561950683594, 'train_time_std': 0.005368819702058416}\n",
            "Word2vec model #97: {'compute_loss': 10.578289031982422, 'vector': 100, 'window': 13, 'hs_val': 0, 'train_time_mean': 0.005231380462646484, 'train_time_std': 0.007398289200208295}\n",
            "Word2vec model #98: {'compute_loss': 9.167850494384766, 'vector': 100, 'window': 15, 'hs_val': 0, 'train_time_mean': 0.010752042134602865, 'train_time_std': 0.007602890751953766}\n",
            "Word2vec model #99: {'compute_loss': 17.630481719970703, 'vector': 100, 'window': 18, 'hs_val': 0, 'train_time_mean': 0.005421161651611328, 'train_time_std': 0.0076666803315256675}\n",
            "Word2vec model #100: {'compute_loss': 15.514823913574219, 'vector': 100, 'window': 10, 'hs_val': 1, 'train_time_mean': 0.005273977915445964, 'train_time_std': 0.007458531095679865}\n",
            "Word2vec model #101: {'compute_loss': 13.399166107177734, 'vector': 100, 'window': 13, 'hs_val': 1, 'train_time_mean': 0.006638129552205403, 'train_time_std': 0.006690410034954804}\n",
            "Word2vec model #102: {'compute_loss': 11.28350830078125, 'vector': 100, 'window': 15, 'hs_val': 1, 'train_time_mean': 0.010564247767130533, 'train_time_std': 0.0074703664039571125}\n",
            "Word2vec model #103: {'compute_loss': 21.861797332763672, 'vector': 100, 'window': 18, 'hs_val': 1, 'train_time_mean': 0.005377769470214844, 'train_time_std': 0.007605314520093806}\n",
            "Word2vec model #104: {'compute_loss': 12.693946838378906, 'vector': 200, 'window': 10, 'hs_val': 0, 'train_time_mean': 0.00531315803527832, 'train_time_std': 0.007513940152522188}\n",
            "Word2vec model #105: {'compute_loss': 10.578289031982422, 'vector': 200, 'window': 13, 'hs_val': 0, 'train_time_mean': 0.010590632756551107, 'train_time_std': 0.007488893371087118}\n",
            "Word2vec model #106: {'compute_loss': 9.167850494384766, 'vector': 200, 'window': 15, 'hs_val': 0, 'train_time_mean': 0.006777763366699219, 'train_time_std': 0.006640815262824106}\n",
            "Word2vec model #107: {'compute_loss': 17.630481719970703, 'vector': 200, 'window': 18, 'hs_val': 0, 'train_time_mean': 0.005277156829833984, 'train_time_std': 0.007463026759521028}\n",
            "Word2vec model #108: {'compute_loss': 15.514823913574219, 'vector': 200, 'window': 10, 'hs_val': 1, 'train_time_mean': 0.005217234293619792, 'train_time_std': 0.007378283496115123}\n",
            "Word2vec model #109: {'compute_loss': 13.399166107177734, 'vector': 200, 'window': 13, 'hs_val': 1, 'train_time_mean': 0.00523988405863444, 'train_time_std': 0.007410315100983403}\n",
            "Word2vec model #110: {'compute_loss': 11.28350830078125, 'vector': 200, 'window': 15, 'hs_val': 1, 'train_time_mean': 0.01237797737121582, 'train_time_std': 0.009021364136438038}\n",
            "Word2vec model #111: {'compute_loss': 21.861797332763672, 'vector': 200, 'window': 18, 'hs_val': 1, 'train_time_mean': 0.005264838536580403, 'train_time_std': 0.0074456060621365255}\n",
            "Word2vec model #112: {'compute_loss': 12.693946838378906, 'vector': 300, 'window': 10, 'hs_val': 0, 'train_time_mean': 0.00537109375, 'train_time_std': 0.007595873626027366}\n",
            "Word2vec model #113: {'compute_loss': 10.578289031982422, 'vector': 300, 'window': 13, 'hs_val': 0, 'train_time_mean': 0.005336761474609375, 'train_time_std': 0.007547320456542816}\n",
            "Word2vec model #114: {'compute_loss': 9.167850494384766, 'vector': 300, 'window': 15, 'hs_val': 0, 'train_time_mean': 0.01044313112894694, 'train_time_std': 0.007384424249642846}\n",
            "Word2vec model #115: {'compute_loss': 17.630481719970703, 'vector': 300, 'window': 18, 'hs_val': 0, 'train_time_mean': 0.006876309712727864, 'train_time_std': 0.006513923035719294}\n",
            "Word2vec model #116: {'compute_loss': 15.514823913574219, 'vector': 300, 'window': 10, 'hs_val': 1, 'train_time_mean': 0.005220095316569011, 'train_time_std': 0.00738232959357217}\n",
            "Word2vec model #117: {'compute_loss': 13.399166107177734, 'vector': 300, 'window': 13, 'hs_val': 1, 'train_time_mean': 0.005323489507039388, 'train_time_std': 0.007528551060005965}\n",
            "Word2vec model #118: {'compute_loss': 11.28350830078125, 'vector': 300, 'window': 15, 'hs_val': 1, 'train_time_mean': 0.011128822962443033, 'train_time_std': 0.00787769510148501}\n",
            "Word2vec model #119: {'compute_loss': 21.861797332763672, 'vector': 300, 'window': 18, 'hs_val': 1, 'train_time_mean': 0.005925655364990234, 'train_time_std': 0.008380142183118082}\n",
            "Word2vec model #120: {'compute_loss': 137.6331024169922, 'vector': 100, 'window': 10, 'hs_val': 0, 'train_time_mean': 0.011017958323160807, 'train_time_std': 0.007820321312671233}\n",
            "Word2vec model #121: {'compute_loss': 180.05567932128906, 'vector': 100, 'window': 13, 'hs_val': 0, 'train_time_mean': 0.005564371744791667, 'train_time_std': 0.007869209987570017}\n",
            "Word2vec model #122: {'compute_loss': 122.18548583984375, 'vector': 100, 'window': 15, 'hs_val': 0, 'train_time_mean': 0.010653257369995117, 'train_time_std': 0.00753365891750064}\n",
            "Word2vec model #123: {'compute_loss': 136.9583740234375, 'vector': 100, 'window': 18, 'hs_val': 0, 'train_time_mean': 0.005427042643229167, 'train_time_std': 0.007674997309631817}\n",
            "Word2vec model #124: {'compute_loss': 221.65122985839844, 'vector': 100, 'window': 10, 'hs_val': 1, 'train_time_mean': 0.006545305252075195, 'train_time_std': 0.009256459457356592}\n",
            "Word2vec model #125: {'compute_loss': 291.632568359375, 'vector': 100, 'window': 13, 'hs_val': 1, 'train_time_mean': 0.0052258968353271484, 'train_time_std': 0.00739053418008229}\n",
            "Word2vec model #126: {'compute_loss': 190.74964904785156, 'vector': 100, 'window': 15, 'hs_val': 1, 'train_time_mean': 0.01044313112894694, 'train_time_std': 0.007384603589540779}\n",
            "Word2vec model #127: {'compute_loss': 218.15565490722656, 'vector': 100, 'window': 18, 'hs_val': 1, 'train_time_mean': 0.005245208740234375, 'train_time_std': 0.00741784533791735}\n",
            "Word2vec model #128: {'compute_loss': 137.6269989013672, 'vector': 200, 'window': 10, 'hs_val': 0, 'train_time_mean': 0.01061264673868815, 'train_time_std': 0.007504564637724612}\n",
            "Word2vec model #129: {'compute_loss': 180.0374298095703, 'vector': 200, 'window': 13, 'hs_val': 0, 'train_time_mean': 0.007123629252115886, 'train_time_std': 0.006504381505817053}\n",
            "Word2vec model #130: {'compute_loss': 122.19767761230469, 'vector': 200, 'window': 15, 'hs_val': 0, 'train_time_mean': 0.005282481511433919, 'train_time_std': 0.007470556996454975}\n",
            "Word2vec model #131: {'compute_loss': 136.92794799804688, 'vector': 200, 'window': 18, 'hs_val': 0, 'train_time_mean': 0.0052309830983479815, 'train_time_std': 0.00739772724222815}\n",
            "Word2vec model #132: {'compute_loss': 221.6330108642578, 'vector': 200, 'window': 10, 'hs_val': 1, 'train_time_mean': 0.010521252950032553, 'train_time_std': 0.0074396497379676995}\n",
            "Word2vec model #133: {'compute_loss': 291.5838317871094, 'vector': 200, 'window': 13, 'hs_val': 1, 'train_time_mean': 0.0070874691009521484, 'train_time_std': 0.010023194925466775}\n",
            "Word2vec model #134: {'compute_loss': 190.72528076171875, 'vector': 200, 'window': 15, 'hs_val': 1, 'train_time_mean': 0.005397399266560872, 'train_time_std': 0.007633075244312982}\n",
            "Word2vec model #135: {'compute_loss': 218.11912536621094, 'vector': 200, 'window': 18, 'hs_val': 1, 'train_time_mean': 0.010565757751464844, 'train_time_std': 0.00747212228817048}\n",
            "Word2vec model #136: {'compute_loss': 137.6269989013672, 'vector': 300, 'window': 10, 'hs_val': 0, 'train_time_mean': 0.005605856577555339, 'train_time_std': 0.007927878400697181}\n",
            "Word2vec model #137: {'compute_loss': 180.0435028076172, 'vector': 300, 'window': 13, 'hs_val': 0, 'train_time_mean': 0.005212148030598958, 'train_time_std': 0.007371090433969265}\n",
            "Word2vec model #138: {'compute_loss': 122.17938232421875, 'vector': 300, 'window': 15, 'hs_val': 0, 'train_time_mean': 0.011772950490315756, 'train_time_std': 0.00847823399975031}\n",
            "Word2vec model #139: {'compute_loss': 136.92181396484375, 'vector': 300, 'window': 18, 'hs_val': 0, 'train_time_mean': 0.005276123682657878, 'train_time_std': 0.00746156566877265}\n",
            "Word2vec model #140: {'compute_loss': 221.65127563476562, 'vector': 300, 'window': 10, 'hs_val': 1, 'train_time_mean': 0.006165107091267903, 'train_time_std': 0.008718778061953612}\n",
            "Word2vec model #141: {'compute_loss': 291.6142578125, 'vector': 300, 'window': 13, 'hs_val': 1, 'train_time_mean': 0.009926716486612955, 'train_time_std': 0.0071386686540345174}\n",
            "Word2vec model #142: {'compute_loss': 190.72525024414062, 'vector': 300, 'window': 15, 'hs_val': 1, 'train_time_mean': 0.0067984263102213545, 'train_time_std': 0.009614426690709117}\n",
            "Word2vec model #143: {'compute_loss': 218.11300659179688, 'vector': 300, 'window': 18, 'hs_val': 1, 'train_time_mean': 0.01045846939086914, 'train_time_std': 0.007395292762167764}\n",
            "Word2vec model #144: {'compute_loss': 151.06268310546875, 'vector': 100, 'window': 10, 'hs_val': 0, 'train_time_mean': 0.0052220821380615234, 'train_time_std': 0.0073851393834728956}\n",
            "Word2vec model #145: {'compute_loss': 153.91403198242188, 'vector': 100, 'window': 13, 'hs_val': 0, 'train_time_mean': 0.011562108993530273, 'train_time_std': 0.008290697107332734}\n",
            "Word2vec model #146: {'compute_loss': 127.08537292480469, 'vector': 100, 'window': 15, 'hs_val': 0, 'train_time_mean': 0.006048123041788737, 'train_time_std': 0.00855333763259885}\n",
            "Word2vec model #147: {'compute_loss': 240.88699340820312, 'vector': 100, 'window': 18, 'hs_val': 0, 'train_time_mean': 0.010511398315429688, 'train_time_std': 0.007433283128262809}\n",
            "Word2vec model #148: {'compute_loss': 242.94163513183594, 'vector': 100, 'window': 10, 'hs_val': 1, 'train_time_mean': 0.005303621292114258, 'train_time_std': 0.007500453160998702}\n",
            "Word2vec model #149: {'compute_loss': 246.449462890625, 'vector': 100, 'window': 13, 'hs_val': 1, 'train_time_mean': 0.010613441467285156, 'train_time_std': 0.0075054982510961}\n",
            "Word2vec model #150: {'compute_loss': 204.11834716796875, 'vector': 100, 'window': 15, 'hs_val': 1, 'train_time_mean': 0.006940682729085286, 'train_time_std': 0.009815607647601119}\n",
            "Word2vec model #151: {'compute_loss': 388.0059814453125, 'vector': 100, 'window': 18, 'hs_val': 1, 'train_time_mean': 0.010456085205078125, 'train_time_std': 0.007393712698407309}\n",
            "Word2vec model #152: {'compute_loss': 151.11141967773438, 'vector': 200, 'window': 10, 'hs_val': 0, 'train_time_mean': 0.0052178700764973955, 'train_time_std': 0.007379182628883357}\n",
            "Word2vec model #153: {'compute_loss': 153.9201202392578, 'vector': 200, 'window': 13, 'hs_val': 0, 'train_time_mean': 0.005360762278238933, 'train_time_std': 0.007581262718543589}\n",
            "Word2vec model #154: {'compute_loss': 127.0975570678711, 'vector': 200, 'window': 15, 'hs_val': 0, 'train_time_mean': 0.005244811375935872, 'train_time_std': 0.007417283379937204}\n",
            "Word2vec model #155: {'compute_loss': 240.9418487548828, 'vector': 200, 'window': 18, 'hs_val': 0, 'train_time_mean': 0.01223317782084147, 'train_time_std': 0.008913681908015733}\n",
            "Word2vec model #156: {'compute_loss': 242.9781951904297, 'vector': 200, 'window': 10, 'hs_val': 1, 'train_time_mean': 0.005282402038574219, 'train_time_std': 0.007470444604858946}\n",
            "Word2vec model #157: {'compute_loss': 246.45550537109375, 'vector': 200, 'window': 13, 'hs_val': 1, 'train_time_mean': 0.005241552988688151, 'train_time_std': 0.007412675324500013}\n",
            "Word2vec model #158: {'compute_loss': 204.11219787597656, 'vector': 200, 'window': 15, 'hs_val': 1, 'train_time_mean': 0.010456720987955729, 'train_time_std': 0.007394082291674148}\n",
            "Word2vec model #159: {'compute_loss': 388.07904052734375, 'vector': 200, 'window': 18, 'hs_val': 1, 'train_time_mean': 0.007091522216796875, 'train_time_std': 0.010028926896864257}\n",
            "Word2vec model #160: {'compute_loss': 151.09312438964844, 'vector': 300, 'window': 10, 'hs_val': 0, 'train_time_mean': 0.00521389643351237, 'train_time_std': 0.007373563049081903}\n",
            "Word2vec model #161: {'compute_loss': 153.9627685546875, 'vector': 300, 'window': 13, 'hs_val': 0, 'train_time_mean': 0.010784228642781576, 'train_time_std': 0.007632059238749185}\n",
            "Word2vec model #162: {'compute_loss': 127.10973358154297, 'vector': 300, 'window': 15, 'hs_val': 0, 'train_time_mean': 0.005258083343505859, 'train_time_std': 0.0074360527764740555}\n",
            "Word2vec model #163: {'compute_loss': 240.9600830078125, 'vector': 300, 'window': 18, 'hs_val': 0, 'train_time_mean': 0.005229949951171875, 'train_time_std': 0.007396266151479772}\n",
            "Word2vec model #164: {'compute_loss': 242.9659881591797, 'vector': 300, 'window': 10, 'hs_val': 1, 'train_time_mean': 0.012161016464233398, 'train_time_std': 0.008825254385645041}\n",
            "Word2vec model #165: {'compute_loss': 246.51039123535156, 'vector': 300, 'window': 13, 'hs_val': 1, 'train_time_mean': 0.0052725474039713545, 'train_time_std': 0.007456508046951343}\n",
            "Word2vec model #166: {'compute_loss': 204.16098022460938, 'vector': 300, 'window': 15, 'hs_val': 1, 'train_time_mean': 0.005216360092163086, 'train_time_std': 0.007377047188558804}\n",
            "Word2vec model #167: {'compute_loss': 388.0972595214844, 'vector': 300, 'window': 18, 'hs_val': 1, 'train_time_mean': 0.010503689448038736, 'train_time_std': 0.00742772954597902}\n",
            "Word2vec model #168: {'compute_loss': 59.986263275146484, 'vector': 100, 'window': 10, 'hs_val': 0, 'train_time_mean': 0.00710304578145345, 'train_time_std': 0.01004522367828847}\n",
            "Word2vec model #169: {'compute_loss': 43.018375396728516, 'vector': 100, 'window': 13, 'hs_val': 0, 'train_time_mean': 0.005252281824747722, 'train_time_std': 0.007427848189963935}\n",
            "Word2vec model #170: {'compute_loss': 63.49408721923828, 'vector': 100, 'window': 15, 'hs_val': 0, 'train_time_mean': 0.00526579221089681, 'train_time_std': 0.007446954761288874}\n",
            "Word2vec model #171: {'compute_loss': 43.04882049560547, 'vector': 100, 'window': 18, 'hs_val': 0, 'train_time_mean': 0.010452667872111002, 'train_time_std': 0.007391184204852441}\n",
            "Word2vec model #172: {'compute_loss': 86.81497955322266, 'vector': 100, 'window': 10, 'hs_val': 1, 'train_time_mean': 0.005253156026204427, 'train_time_std': 0.007429084497520255}\n",
            "Word2vec model #173: {'compute_loss': 64.17495727539062, 'vector': 100, 'window': 13, 'hs_val': 1, 'train_time_mean': 0.0070781707763671875, 'train_time_std': 0.006699103558055704}\n",
            "Word2vec model #174: {'compute_loss': 93.13140869140625, 'vector': 100, 'window': 15, 'hs_val': 1, 'train_time_mean': 0.010486125946044922, 'train_time_std': 0.007414881181088362}\n",
            "Word2vec model #175: {'compute_loss': 63.51844024658203, 'vector': 100, 'window': 18, 'hs_val': 1, 'train_time_mean': 0.005344072977701823, 'train_time_std': 0.007557660483377488}\n",
            "Word2vec model #176: {'compute_loss': 59.98626708984375, 'vector': 200, 'window': 10, 'hs_val': 0, 'train_time_mean': 0.0053967634836832685, 'train_time_std': 0.007632176111544749}\n",
            "Word2vec model #177: {'compute_loss': 43.018375396728516, 'vector': 200, 'window': 13, 'hs_val': 0, 'train_time_mean': 0.010497331619262695, 'train_time_std': 0.007422830939936848}\n",
            "Word2vec model #178: {'compute_loss': 63.506263732910156, 'vector': 200, 'window': 15, 'hs_val': 0, 'train_time_mean': 0.00684364636739095, 'train_time_std': 0.006587543521762325}\n",
            "Word2vec model #179: {'compute_loss': 43.03664016723633, 'vector': 200, 'window': 18, 'hs_val': 0, 'train_time_mean': 0.005246400833129883, 'train_time_std': 0.007419531211857786}\n",
            "Word2vec model #180: {'compute_loss': 86.81494140625, 'vector': 200, 'window': 10, 'hs_val': 1, 'train_time_mean': 0.00522462526957194, 'train_time_std': 0.007388735914545825}\n",
            "Word2vec model #181: {'compute_loss': 64.17495727539062, 'vector': 200, 'window': 13, 'hs_val': 1, 'train_time_mean': 0.010552008946736654, 'train_time_std': 0.007462315801673067}\n",
            "Word2vec model #182: {'compute_loss': 93.16184997558594, 'vector': 200, 'window': 15, 'hs_val': 1, 'train_time_mean': 0.007160743077596028, 'train_time_std': 0.00660819874559769}\n",
            "Word2vec model #183: {'compute_loss': 63.50626754760742, 'vector': 200, 'window': 18, 'hs_val': 1, 'train_time_mean': 0.005296627680460612, 'train_time_std': 0.007490562700548146}\n",
            "Word2vec model #184: {'compute_loss': 59.98017501831055, 'vector': 300, 'window': 10, 'hs_val': 0, 'train_time_mean': 0.010630448659261068, 'train_time_std': 0.007521160513487314}\n",
            "Word2vec model #185: {'compute_loss': 43.018375396728516, 'vector': 300, 'window': 13, 'hs_val': 0, 'train_time_mean': 0.0052064259847005205, 'train_time_std': 0.007362998239055173}\n",
            "Word2vec model #186: {'compute_loss': 63.49408721923828, 'vector': 300, 'window': 15, 'hs_val': 0, 'train_time_mean': 0.005738417307535808, 'train_time_std': 0.008115347582873638}\n",
            "Word2vec model #187: {'compute_loss': 43.06708526611328, 'vector': 300, 'window': 18, 'hs_val': 0, 'train_time_mean': 0.0064915815989176435, 'train_time_std': 0.006850526523616437}\n",
            "Word2vec model #188: {'compute_loss': 86.80887603759766, 'vector': 300, 'window': 10, 'hs_val': 1, 'train_time_mean': 0.010451316833496094, 'train_time_std': 0.007390201528031559}\n",
            "Word2vec model #189: {'compute_loss': 64.17495727539062, 'vector': 300, 'window': 13, 'hs_val': 1, 'train_time_mean': 0.005216439565022786, 'train_time_std': 0.007377159580154833}\n",
            "Word2vec model #190: {'compute_loss': 93.13749694824219, 'vector': 300, 'window': 15, 'hs_val': 1, 'train_time_mean': 0.010543346405029297, 'train_time_std': 0.007455272656887757}\n",
            "Word2vec model #191: {'compute_loss': 63.54888153076172, 'vector': 300, 'window': 18, 'hs_val': 1, 'train_time_mean': 0.007222811381022136, 'train_time_std': 0.00644965050034184}\n"
          ]
        },
        {
          "ename": "RuntimeError",
          "evalue": "you must first build vocabulary before training the model",
          "output_type": "error",
          "traceback": [
            "\u001b[1;31m---------------------------------------------------------------------------\u001b[0m",
            "\u001b[1;31mRuntimeError\u001b[0m                              Traceback (most recent call last)",
            "Cell \u001b[1;32mIn[12], line 19\u001b[0m\n\u001b[0;32m     17\u001b[0m \u001b[38;5;28;01mfor\u001b[39;00m i \u001b[38;5;129;01min\u001b[39;00m \u001b[38;5;28mrange\u001b[39m(\u001b[38;5;241m3\u001b[39m):\n\u001b[0;32m     18\u001b[0m     start_time \u001b[38;5;241m=\u001b[39m time\u001b[38;5;241m.\u001b[39mtime()\n\u001b[1;32m---> 19\u001b[0m     w2v_model \u001b[38;5;241m=\u001b[39m Word2Vec(\n\u001b[0;32m     20\u001b[0m         data,\n\u001b[0;32m     21\u001b[0m         compute_loss\u001b[38;5;241m=\u001b[39m\u001b[38;5;28;01mTrue\u001b[39;00m,\n\u001b[0;32m     22\u001b[0m         window\u001b[38;5;241m=\u001b[39m window,\n\u001b[0;32m     23\u001b[0m         vector_size\u001b[38;5;241m=\u001b[39mvector,\n\u001b[0;32m     24\u001b[0m         hs\u001b[38;5;241m=\u001b[39mhs_val,\n\u001b[0;32m     25\u001b[0m         seed\u001b[38;5;241m=\u001b[39mseed_val,\n\u001b[0;32m     26\u001b[0m     )\n\u001b[0;32m     27\u001b[0m     time_taken_list\u001b[38;5;241m.\u001b[39mappend(time\u001b[38;5;241m.\u001b[39mtime() \u001b[38;5;241m-\u001b[39m start_time)\n\u001b[0;32m     29\u001b[0m time_taken_list \u001b[38;5;241m=\u001b[39m np\u001b[38;5;241m.\u001b[39marray(time_taken_list)\n",
            "File \u001b[1;32mc:\\Users\\e312995\\AppData\\Local\\anaconda3\\Lib\\site-packages\\gensim\\models\\word2vec.py:430\u001b[0m, in \u001b[0;36mWord2Vec.__init__\u001b[1;34m(self, sentences, corpus_file, vector_size, alpha, window, min_count, max_vocab_size, sample, seed, workers, min_alpha, sg, hs, negative, ns_exponent, cbow_mean, hashfxn, epochs, null_word, trim_rule, sorted_vocab, batch_words, compute_loss, callbacks, comment, max_final_vocab, shrink_windows)\u001b[0m\n\u001b[0;32m    428\u001b[0m     \u001b[38;5;28mself\u001b[39m\u001b[38;5;241m.\u001b[39m_check_corpus_sanity(corpus_iterable\u001b[38;5;241m=\u001b[39mcorpus_iterable, corpus_file\u001b[38;5;241m=\u001b[39mcorpus_file, passes\u001b[38;5;241m=\u001b[39m(epochs \u001b[38;5;241m+\u001b[39m \u001b[38;5;241m1\u001b[39m))\n\u001b[0;32m    429\u001b[0m     \u001b[38;5;28mself\u001b[39m\u001b[38;5;241m.\u001b[39mbuild_vocab(corpus_iterable\u001b[38;5;241m=\u001b[39mcorpus_iterable, corpus_file\u001b[38;5;241m=\u001b[39mcorpus_file, trim_rule\u001b[38;5;241m=\u001b[39mtrim_rule)\n\u001b[1;32m--> 430\u001b[0m     \u001b[38;5;28mself\u001b[39m\u001b[38;5;241m.\u001b[39mtrain(\n\u001b[0;32m    431\u001b[0m         corpus_iterable\u001b[38;5;241m=\u001b[39mcorpus_iterable, corpus_file\u001b[38;5;241m=\u001b[39mcorpus_file, total_examples\u001b[38;5;241m=\u001b[39m\u001b[38;5;28mself\u001b[39m\u001b[38;5;241m.\u001b[39mcorpus_count,\n\u001b[0;32m    432\u001b[0m         total_words\u001b[38;5;241m=\u001b[39m\u001b[38;5;28mself\u001b[39m\u001b[38;5;241m.\u001b[39mcorpus_total_words, epochs\u001b[38;5;241m=\u001b[39m\u001b[38;5;28mself\u001b[39m\u001b[38;5;241m.\u001b[39mepochs, start_alpha\u001b[38;5;241m=\u001b[39m\u001b[38;5;28mself\u001b[39m\u001b[38;5;241m.\u001b[39malpha,\n\u001b[0;32m    433\u001b[0m         end_alpha\u001b[38;5;241m=\u001b[39m\u001b[38;5;28mself\u001b[39m\u001b[38;5;241m.\u001b[39mmin_alpha, compute_loss\u001b[38;5;241m=\u001b[39m\u001b[38;5;28mself\u001b[39m\u001b[38;5;241m.\u001b[39mcompute_loss, callbacks\u001b[38;5;241m=\u001b[39mcallbacks)\n\u001b[0;32m    434\u001b[0m \u001b[38;5;28;01melse\u001b[39;00m:\n\u001b[0;32m    435\u001b[0m     \u001b[38;5;28;01mif\u001b[39;00m trim_rule \u001b[38;5;129;01mis\u001b[39;00m \u001b[38;5;129;01mnot\u001b[39;00m \u001b[38;5;28;01mNone\u001b[39;00m:\n",
            "File \u001b[1;32mc:\\Users\\e312995\\AppData\\Local\\anaconda3\\Lib\\site-packages\\gensim\\models\\word2vec.py:1045\u001b[0m, in \u001b[0;36mWord2Vec.train\u001b[1;34m(self, corpus_iterable, corpus_file, total_examples, total_words, epochs, start_alpha, end_alpha, word_count, queue_factor, report_delay, compute_loss, callbacks, **kwargs)\u001b[0m\n\u001b[0;32m   1042\u001b[0m \u001b[38;5;28mself\u001b[39m\u001b[38;5;241m.\u001b[39mmin_alpha \u001b[38;5;241m=\u001b[39m end_alpha \u001b[38;5;129;01mor\u001b[39;00m \u001b[38;5;28mself\u001b[39m\u001b[38;5;241m.\u001b[39mmin_alpha\n\u001b[0;32m   1043\u001b[0m \u001b[38;5;28mself\u001b[39m\u001b[38;5;241m.\u001b[39mepochs \u001b[38;5;241m=\u001b[39m epochs\n\u001b[1;32m-> 1045\u001b[0m \u001b[38;5;28mself\u001b[39m\u001b[38;5;241m.\u001b[39m_check_training_sanity(epochs\u001b[38;5;241m=\u001b[39mepochs, total_examples\u001b[38;5;241m=\u001b[39mtotal_examples, total_words\u001b[38;5;241m=\u001b[39mtotal_words)\n\u001b[0;32m   1046\u001b[0m \u001b[38;5;28mself\u001b[39m\u001b[38;5;241m.\u001b[39m_check_corpus_sanity(corpus_iterable\u001b[38;5;241m=\u001b[39mcorpus_iterable, corpus_file\u001b[38;5;241m=\u001b[39mcorpus_file, passes\u001b[38;5;241m=\u001b[39mepochs)\n\u001b[0;32m   1048\u001b[0m \u001b[38;5;28mself\u001b[39m\u001b[38;5;241m.\u001b[39madd_lifecycle_event(\n\u001b[0;32m   1049\u001b[0m     \u001b[38;5;124m\"\u001b[39m\u001b[38;5;124mtrain\u001b[39m\u001b[38;5;124m\"\u001b[39m,\n\u001b[0;32m   1050\u001b[0m     msg\u001b[38;5;241m=\u001b[39m(\n\u001b[1;32m   (...)\u001b[0m\n\u001b[0;32m   1054\u001b[0m     ),\n\u001b[0;32m   1055\u001b[0m )\n",
            "File \u001b[1;32mc:\\Users\\e312995\\AppData\\Local\\anaconda3\\Lib\\site-packages\\gensim\\models\\word2vec.py:1543\u001b[0m, in \u001b[0;36mWord2Vec._check_training_sanity\u001b[1;34m(self, epochs, total_examples, total_words, **kwargs)\u001b[0m\n\u001b[0;32m   1540\u001b[0m     logger\u001b[38;5;241m.\u001b[39mwarning(\u001b[38;5;124m\"\u001b[39m\u001b[38;5;124mEffective \u001b[39m\u001b[38;5;124m'\u001b[39m\u001b[38;5;124malpha\u001b[39m\u001b[38;5;124m'\u001b[39m\u001b[38;5;124m higher than previous training cycles\u001b[39m\u001b[38;5;124m\"\u001b[39m)\n\u001b[0;32m   1542\u001b[0m \u001b[38;5;28;01mif\u001b[39;00m \u001b[38;5;129;01mnot\u001b[39;00m \u001b[38;5;28mself\u001b[39m\u001b[38;5;241m.\u001b[39mwv\u001b[38;5;241m.\u001b[39mkey_to_index:  \u001b[38;5;66;03m# should be set by `build_vocab`\u001b[39;00m\n\u001b[1;32m-> 1543\u001b[0m     \u001b[38;5;28;01mraise\u001b[39;00m \u001b[38;5;167;01mRuntimeError\u001b[39;00m(\u001b[38;5;124m\"\u001b[39m\u001b[38;5;124myou must first build vocabulary before training the model\u001b[39m\u001b[38;5;124m\"\u001b[39m)\n\u001b[0;32m   1544\u001b[0m \u001b[38;5;28;01mif\u001b[39;00m \u001b[38;5;129;01mnot\u001b[39;00m \u001b[38;5;28mlen\u001b[39m(\u001b[38;5;28mself\u001b[39m\u001b[38;5;241m.\u001b[39mwv\u001b[38;5;241m.\u001b[39mvectors):\n\u001b[0;32m   1545\u001b[0m     \u001b[38;5;28;01mraise\u001b[39;00m \u001b[38;5;167;01mRuntimeError\u001b[39;00m(\u001b[38;5;124m\"\u001b[39m\u001b[38;5;124myou must initialize vectors before training the model\u001b[39m\u001b[38;5;124m\"\u001b[39m)\n",
            "\u001b[1;31mRuntimeError\u001b[0m: you must first build vocabulary before training the model"
          ]
        }
      ],
      "source": [
        "import time\n",
        "\n",
        "train_time_values = []\n",
        "seed_val = 42\n",
        "\n",
        "hs_values = [0, 1]\n",
        "vector_values= [100,200,300]\n",
        "window_values= [10,13,15,18]\n",
        "\n",
        "\n",
        "\n",
        "for data in ingredients_cleaned:\n",
        "    for vector in vector_values:\n",
        "        for hs_val in hs_values:\n",
        "            for window in window_values:\n",
        "                time_taken_list = []\n",
        "                for i in range(3):\n",
        "                    start_time = time.time()\n",
        "                    w2v_model = Word2Vec(\n",
        "                        data,\n",
        "                        compute_loss=True,\n",
        "                        window= window,\n",
        "                        vector_size=vector,\n",
        "                        hs=hs_val,\n",
        "                        seed=seed_val,\n",
        "                    )\n",
        "                    time_taken_list.append(time.time() - start_time)\n",
        "\n",
        "                time_taken_list = np.array(time_taken_list)\n",
        "                time_mean = np.mean(time_taken_list)\n",
        "                time_std = np.std(time_taken_list)\n",
        "\n",
        "                model_result = {\n",
        "                \n",
        "                    'compute_loss': w2v_model.get_latest_training_loss(),\n",
        "                    'vector': vector,\n",
        "                    'window': window,\n",
        "                    'hs_val': hs_val,\n",
        "                    'train_time_mean': time_mean,\n",
        "                    'train_time_std': time_std,\n",
        "                }\n",
        "                print(\"Word2vec model #%i: %s\" % (len(train_time_values), model_result))\n",
        "                train_time_values.append(model_result)\n",
        "\n",
        "train_times_table = pd.DataFrame(train_time_values)\n",
        "train_times_table = train_times_table.sort_values(\n",
        "    by=['train_data',  'hs', 'compute_loss'],\n",
        "    ascending=[False, False, False],\n",
        ")\n",
        "print(train_times_table)"
      ]
    },
    {
      "cell_type": "markdown",
      "id": "ed8d7e5e",
      "metadata": {},
      "source": [
        "As per above, vector size 300, window size=15 and hs_val=0 gives the lowest loss factor, Combining with the earlier training losses, I will proceed with below. \n",
        "\n",
        "Final model selection:\n",
        " - vector size= 300\n",
        " - hs= 0\n",
        " - window= 15"
      ]
    },
    {
      "cell_type": "code",
      "execution_count": 13,
      "id": "3ffbeb36",
      "metadata": {},
      "outputs": [],
      "source": [
        "#final model\n",
        "phrases_model=Word2Vec(sentences=ingredients_cleaned,min_count=1, sg=0, window=15, workers=8, vector_size=300, compute_loss=True, hs=0)"
      ]
    },
    {
      "cell_type": "code",
      "execution_count": 14,
      "id": "0f12d5d2",
      "metadata": {},
      "outputs": [],
      "source": [
        "#saving the model\n",
        "phrases_model.save('../Models/Word2Vec/phrases_model_new(op1).bin')\n"
      ]
    },
    {
      "cell_type": "markdown",
      "id": "12d3f056",
      "metadata": {},
      "source": [
        "### <a id='toc2_2_3_'></a>[Word Embeddings](#toc0_)"
      ]
    },
    {
      "cell_type": "markdown",
      "id": "512edd47",
      "metadata": {},
      "source": [
        "Checking similar words to different ingredients if the model has been trained well.  "
      ]
    },
    {
      "cell_type": "code",
      "execution_count": 15,
      "id": "20e70481",
      "metadata": {},
      "outputs": [],
      "source": [
        "#getting the word embeddings to compare different ingredients\n",
        "embeddings= {word: phrases_model.wv[word] for word in phrases_model.wv.index_to_key} "
      ]
    },
    {
      "cell_type": "code",
      "execution_count": 16,
      "id": "a279c375",
      "metadata": {},
      "outputs": [
        {
          "name": "stdout",
          "output_type": "stream",
          "text": [
            "[('yellow onion', 0.7783803343772888), ('spanish onion', 0.7026346325874329), ('sweet onion', 0.6776735186576843), ('cooking onion', 0.5974043011665344), ('small onion', 0.5848987698554993)]\n"
          ]
        }
      ],
      "source": [
        "print(phrases_model.wv.most_similar(u'onion', topn=5)) #checking the most similar results for onion"
      ]
    },
    {
      "cell_type": "code",
      "execution_count": 17,
      "id": "nqCREoUv9Lhi",
      "metadata": {
        "id": "nqCREoUv9Lhi",
        "outputId": "6754aa52-9dbe-457d-b543-f220392af1b5"
      },
      "outputs": [
        {
          "name": "stdout",
          "output_type": "stream",
          "text": [
            "[('garlic clove', 0.9395226836204529), ('minced garlic clove', 0.8867267966270447), ('fresh garlic', 0.8198416829109192), ('fresh garlic clove', 0.7923763394355774), ('bulb garlic', 0.6134870052337646)]\n"
          ]
        }
      ],
      "source": [
        "print(phrases_model.wv.most_similar(u'garlic', topn=5)) #again checkin the most similar words to garlic"
      ]
    },
    {
      "cell_type": "code",
      "execution_count": 21,
      "id": "216956d7",
      "metadata": {},
      "outputs": [
        {
          "data": {
            "text/plain": [
              "[('penne', 0.7471584677696228),\n",
              " ('dry pasta', 0.7409198880195618),\n",
              " ('rigatoni pasta', 0.7240394353866577),\n",
              " ('pasta shell', 0.7223595976829529),\n",
              " ('penne pasta', 0.714836597442627),\n",
              " ('parmigiano', 0.6961620450019836),\n",
              " ('pecorino romano cheese', 0.659299373626709),\n",
              " ('parmesan cheese', 0.6543958187103271),\n",
              " ('ziti pasta', 0.6520697474479675),\n",
              " ('farfalle pasta', 0.64471036195755)]"
            ]
          },
          "execution_count": 21,
          "metadata": {},
          "output_type": "execute_result"
        }
      ],
      "source": [
        "phrases_model.wv.most_similar(['cheese', 'pasta'], topn=10) #checking for cheese pasta"
      ]
    },
    {
      "cell_type": "markdown",
      "id": "RclKh9Gk9Lhi",
      "metadata": {
        "id": "RclKh9Gk9Lhi"
      },
      "source": [
        "I will try to use a tile map to show the similarity of a few ingredients"
      ]
    },
    {
      "cell_type": "code",
      "execution_count": 18,
      "id": "0Q7LfVBv9Lhi",
      "metadata": {
        "id": "0Q7LfVBv9Lhi",
        "outputId": "d40edfe7-67f0-459f-b5e3-e275cabbec6f"
      },
      "outputs": [
        {
          "data": {
            "image/png": "[encoded data removed]",
            "text/plain": [
              "<Figure size 2000x500 with 4 Axes>"
            ]
          },
          "metadata": {},
          "output_type": "display_data"
        }
      ],
      "source": [
        "word_list = ['onion', 'garlic', 'tuna', 'chicken'] #example\n",
        "\n",
        "plt.subplots(len(word_list), 1, figsize=(20, 5)) #plot\n",
        "\n",
        "for i, word in enumerate(word_list): #for loop to get each word in the list\n",
        "    plt.subplot(len(word_list), 1, i + 1) #subplot\n",
        "    plt.imshow(np.tile(embeddings[word], (10, 1))) #data\n",
        "    plt.xticks([]) #no xticks\n",
        "    plt.yticks([]) #no yticks\n",
        "    plt.title(f\"\\\"{word}\\\" embedding vector\") #title\n",
        "\n",
        "plt.tight_layout()\n",
        "plt.show()"
      ]
    },
    {
      "cell_type": "markdown",
      "id": "dDqvkyL39Lhi",
      "metadata": {
        "id": "dDqvkyL39Lhi"
      },
      "source": [
        "It is visible that words represent different distributions. Looks good. "
      ]
    },
    {
      "cell_type": "markdown",
      "id": "9c03dfbe",
      "metadata": {},
      "source": [
        "## <a id='toc2_3_'></a>[Vectorisation & Recommendation](#toc0_)"
      ]
    },
    {
      "cell_type": "code",
      "execution_count": 19,
      "id": "242d95fe",
      "metadata": {},
      "outputs": [],
      "source": [
        "# user Input Processing\n",
        "user_input = 'egg', 'rice'  # User's input\n",
        "\n",
        "def recommender(user_input):\n",
        "\n",
        "    #parsing the user input\n",
        "    user_input = ','.join(map(str, user_input)) #converting to str, mapping and joining by the ','\n",
        "    \n",
        "    user_input.split(',')\n",
        "\n",
        "    user_input=parser(user_input)\n",
        "    \n",
        "\n",
        "\n",
        "# mean Embeddings for User Input\n",
        "    user_mean_vector =np.mean([phrases_model.wv[ingredient] for ingredient in user_input if ingredient in phrases_model.wv] or [np.zeros(300)], axis=0)\n",
        "\n",
        "\n",
        "\n",
        "# check if user_mean_vector contains NaN values\n",
        "    if np.isnan(user_mean_vector).any():\n",
        "        print(\"User input vectors contain NaN values.\")\n",
        "\n",
        "\n",
        "    else:\n",
        "\n",
        "    # mean ingredient vectors for each recipe\n",
        "        recipe_vectors = [np.mean([phrases_model.wv[sub_ingredient] for sub_ingredient in ingredient if sub_ingredient in phrases_model.wv] or [np.zeros(300)], axis=0) for ingredient in ingredients_cleaned]\n",
        "\n",
        "\n",
        "\n",
        "\n",
        "\n",
        "    # Check if any recipe vector contains NaN values\n",
        "        if not recipe_vectors:\n",
        "            print('nothing obtained for recipe vectors')\n",
        "\n",
        "        else:\n",
        "        \n",
        "        # cosine similarity between user mean vector and recipe mean vectors\n",
        "            cosine_similarities = cosine_similarity([user_mean_vector], recipe_vectors)\n",
        "\n",
        "\n",
        "        # indices of top N most similar recipes\n",
        "            top_recipes = np.argsort(cosine_similarities[0])[::-1][:5]\n",
        "\n",
        "\n",
        "\n",
        "            recommendation= pd.DataFrame( columns=['Title','Ingredients', 'Category', 'Calories', 'Time', 'Score'] ) #dataframe with columns\n",
        "\n",
        "    \n",
        "            for i in top_recipes: #defining the data for each recommendation\n",
        "\n",
        "            \n",
        "                title = recipes['Name'].iloc[i]\n",
        "                calories = recipes['Calories'].iloc[i]\n",
        "                time= recipes['TotalTime'].iloc[i]\n",
        "                ingredients = recipes['RecipeIngredientParts'].iloc[i]\n",
        "                category= recipes['RecipeCategory'].iloc[i]\n",
        "                score= cosine_similarities[0][i]\n",
        "                \n",
        "                recommendation = pd.concat([recommendation,pd.DataFrame(\n",
        "                                    {'Title': [title], \n",
        "                                    'Ingredients': [ingredients], \n",
        "                                    'Category' : [category],\n",
        "                                    'Calories': [calories], \n",
        "                                     'Time': [time],\n",
        "                                     'Score': [score]})], \n",
        "                                        ignore_index=True)\n",
        "\n",
        "\n",
        "\n",
        "\n",
        "    return recommendation  \n"
      ]
    },
    {
      "cell_type": "code",
      "execution_count": 20,
      "id": "1f6ada1c",
      "metadata": {},
      "outputs": [
        {
          "name": "stderr",
          "output_type": "stream",
          "text": [
            "C:\\Users\\e312995\\AppData\\Local\\Temp\\ipykernel_30044\\3972358604.py:62: FutureWarning: The behavior of DataFrame concatenation with empty or all-NA entries is deprecated. In a future version, this will no longer exclude empty or all-NA columns when determining the result dtypes. To retain the old behavior, exclude the relevant entries before the concat operation.\n",
            "  recommendation = pd.concat([recommendation,pd.DataFrame(\n"
          ]
        },
        {
          "data": {
            "text/html": [
              "<div>\n",
              "<style scoped>\n",
              "    .dataframe tbody tr th:only-of-type {\n",
              "        vertical-align: middle;\n",
              "    }\n",
              "\n",
              "    .dataframe tbody tr th {\n",
              "        vertical-align: top;\n",
              "    }\n",
              "\n",
              "    .dataframe thead th {\n",
              "        text-align: right;\n",
              "    }\n",
              "</style>\n",
              "<table border=\"1\" class=\"dataframe\">\n",
              "  <thead>\n",
              "    <tr style=\"text-align: right;\">\n",
              "      <th></th>\n",
              "      <th>Title</th>\n",
              "      <th>Ingredients</th>\n",
              "      <th>Category</th>\n",
              "      <th>Calories</th>\n",
              "      <th>Time</th>\n",
              "      <th>Score</th>\n",
              "    </tr>\n",
              "  </thead>\n",
              "  <tbody>\n",
              "    <tr>\n",
              "      <th>0</th>\n",
              "      <td>Tibetan Cabbage Salad (Tangtse)</td>\n",
              "      <td>white cabbage, daikon radish, carrot, salt</td>\n",
              "      <td>Vegetable</td>\n",
              "      <td>52.5</td>\n",
              "      <td>PT10M</td>\n",
              "      <td>0.885739</td>\n",
              "    </tr>\n",
              "    <tr>\n",
              "      <th>1</th>\n",
              "      <td>Vinegret. Russian Vegetarian Salad</td>\n",
              "      <td>carrot, beet, pickled cucumbers, cabbage, kidn...</td>\n",
              "      <td>Potato</td>\n",
              "      <td>65.8</td>\n",
              "      <td>PT50M</td>\n",
              "      <td>0.879665</td>\n",
              "    </tr>\n",
              "    <tr>\n",
              "      <th>2</th>\n",
              "      <td>Et-Su-Put (Boiled Pork With Vegetables)</td>\n",
              "      <td>water, potatoes, carrot, cabbage</td>\n",
              "      <td>Pork</td>\n",
              "      <td>548.9</td>\n",
              "      <td>PT3H10M</td>\n",
              "      <td>0.877808</td>\n",
              "    </tr>\n",
              "    <tr>\n",
              "      <th>3</th>\n",
              "      <td>Coleslaw With Herbed Vinaigrette</td>\n",
              "      <td>cabbage, carrot, onion, Herbed Vinaigrette</td>\n",
              "      <td>&lt; 60 Mins</td>\n",
              "      <td>44.9</td>\n",
              "      <td>PT35M</td>\n",
              "      <td>0.871626</td>\n",
              "    </tr>\n",
              "    <tr>\n",
              "      <th>4</th>\n",
              "      <td>Easy Ramen Stir-Fry</td>\n",
              "      <td>onion, cabbage, carrot</td>\n",
              "      <td>Lunch/Snacks</td>\n",
              "      <td>34.0</td>\n",
              "      <td>PT20M</td>\n",
              "      <td>0.870758</td>\n",
              "    </tr>\n",
              "  </tbody>\n",
              "</table>\n",
              "</div>"
            ],
            "text/plain": [
              "                                     Title  \\\n",
              "0          Tibetan Cabbage Salad (Tangtse)   \n",
              "1       Vinegret. Russian Vegetarian Salad   \n",
              "2  Et-Su-Put (Boiled Pork With Vegetables)   \n",
              "3         Coleslaw With Herbed Vinaigrette   \n",
              "4                      Easy Ramen Stir-Fry   \n",
              "\n",
              "                                         Ingredients      Category  Calories  \\\n",
              "0         white cabbage, daikon radish, carrot, salt     Vegetable      52.5   \n",
              "1  carrot, beet, pickled cucumbers, cabbage, kidn...        Potato      65.8   \n",
              "2                   water, potatoes, carrot, cabbage          Pork     548.9   \n",
              "3         cabbage, carrot, onion, Herbed Vinaigrette     < 60 Mins      44.9   \n",
              "4                             onion, cabbage, carrot  Lunch/Snacks      34.0   \n",
              "\n",
              "      Time     Score  \n",
              "0    PT10M  0.885739  \n",
              "1    PT50M  0.879665  \n",
              "2  PT3H10M  0.877808  \n",
              "3    PT35M  0.871626  \n",
              "4    PT20M  0.870758  "
            ]
          },
          "execution_count": 20,
          "metadata": {},
          "output_type": "execute_result"
        }
      ],
      "source": [
        "user_input = 'cabbage', 'carrot'\n",
        "\n",
        "\n",
        "recommender(user_input)\n",
        "\n"
      ]
    },
    {
      "cell_type": "markdown",
      "id": "e1a463ba",
      "metadata": {},
      "source": [
        "# <a id='toc3_'></a>[Option 2 : Search by Keywords](#toc0_)"
      ]
    },
    {
      "cell_type": "markdown",
      "id": "6044cc0d",
      "metadata": {},
      "source": [
        "I now will give the option to the user to search recipes using keywords present in the recipe database. For that I wil use the columns containing key attributes, 'Title', 'RecipeCategory', 'Keywords' and follow the same process as earlier."
      ]
    },
    {
      "cell_type": "markdown",
      "id": "9569b9f7",
      "metadata": {},
      "source": [
        "### <a id='toc3_1_1_'></a>[Tokenization](#toc0_)"
      ]
    },
    {
      "cell_type": "code",
      "execution_count": 22,
      "id": "bd967a66",
      "metadata": {},
      "outputs": [],
      "source": [
        "#combining the 3 columns data to one\n",
        "recipes['text_data']= recipes[['Name', 'RecipeCategory', 'Keywords']].astype(str).agg(','.join, axis=1) "
      ]
    },
    {
      "cell_type": "code",
      "execution_count": 23,
      "id": "2237b109",
      "metadata": {},
      "outputs": [
        {
          "data": {
            "text/plain": [
              "0         Low-Fat Berry Blue Frozen Dessert,Frozen Desse...\n",
              "1         Biryani,Chicken Breast,Chicken Thigh & Leg, Ch...\n",
              "2         Best Lemonade,Beverages,Low Protein, Low Chole...\n",
              "3         Carina's Tofu-Vegetable Kebabs,Soy/Tofu,Beans,...\n",
              "4         Cabbage Soup,Vegetable,Low Protein, Vegan, Low...\n",
              "                                ...                        \n",
              "521761     Meg's Fresh Ginger Gingerbread,Dessert,< 4 Hours\n",
              "521762    Roast Prime Rib au Poivre with Mixed Peppercor...\n",
              "521763    Kirshwasser Ice Cream,Ice Cream,Dessert, < 4 H...\n",
              "521764    Quick & Easy Asian Cucumber Salmon Rolls,Canad...\n",
              "521765          Spicy Baked Scotch Eggs,Breakfast,< 60 Mins\n",
              "Name: text_data, Length: 521766, dtype: object"
            ]
          },
          "execution_count": 23,
          "metadata": {},
          "output_type": "execute_result"
        }
      ],
      "source": [
        "#sanity check\n",
        "recipes['text_data']"
      ]
    },
    {
      "cell_type": "code",
      "execution_count": 24,
      "id": "ceae0790",
      "metadata": {},
      "outputs": [],
      "source": [
        "#parser\n",
        "\n",
        "text_data= recipes['text_data']\n",
        "\n",
        "def parser_text(input_keys): #function\n",
        "\n",
        "\n",
        "#defining measuring units\n",
        "\n",
        "    measurment_url= 'https://en.wikibooks.org/wiki/Cookbook:Units_of_measurement' #data source\n",
        "\n",
        "    remove_= ['mins']#removing the word mins to avoid biases and give results based on true mins in digit format\n",
        "\n",
        "\n",
        "    measuring_words= ['ml', 'mL', 'milliliter', 'millilitre', 'cc' , 'cubic centimeter', 'l', 'L', 'liter', 'litre', 'dl', 'dL', 'deciliter', 'decilitre', 'teaspoon', 't' , 'tsp.',\n",
        "'tablespoon' , 'T', 'tbl', 'tbs', 'tbsp', 'fluid ounce', 'fl oz',  'gill', 'cup',  'c', 'pint', 'p', 'pt', 'fl pt',\n",
        "'quart', 'q', 'qt', 'fl qt', 'gallon' , 'g' , 'gal' , 'g', 'milligram', 'milligramme', 'g' , 'gram' , 'gramme', 'kg',\n",
        "'kilogram', 'kilogramme', 'pound', 'lb', 'ounce', 'oz', 'mm', 'millimeter', 'millimetre', 'cm' , 'centimeter', 'centimetre', 'm' , 'meter',\n",
        "'metre', 'inch', 'in', 'yard', '°C' , 'degree celsius','°F' ,'Farenheit', 'tsp']\n",
        "\n",
        "\n",
        "\n",
        "    ingredients_list = re.split(',', input_keys) #splitting the ingredients by commas\n",
        "    ingredients_list = re.split(' ', input_keys) #splitting the ingredients by commas\n",
        "\n",
        "    cleaned_ingredients = [] #new list to store cleaned ingredients\n",
        "\n",
        "    lemmatizer = WordNetLemmatizer() #lemmatizer\n",
        "\n",
        "    for ingredient in ingredients_list:\n",
        "        items = re.split(',', ingredient)  #splitting each ingredient by space to process and clean each individual word\n",
        "\n",
        "        items = [word for word in items if word.isalpha()] #filtering only letters\n",
        "\n",
        "\n",
        "        items = [word.lower() for word in items] #lowercasing\n",
        "\n",
        "        items = [lemmatizer.lemmatize(word) for word in items] #lemmatizing\n",
        "\n",
        "        items = [word for word in items if word not in ENGLISH_STOP_WORDS] #removing stop words\n",
        "\n",
        "        items = [word for word in items if word not in measuring_words] #removing measuring words\n",
        "\n",
        "        if items:\n",
        "            cleaned_ingredients.append(','.join(items) ) #joining the individual words of the ingredient seperated by space\n",
        "        #cleaned_ingredients= ' '.join(cleaned_ingredients) #joining the ingreidents back seprated by commas\n",
        "\n",
        "\n",
        "    return cleaned_ingredients #return the list\n"
      ]
    },
    {
      "cell_type": "markdown",
      "id": "ba6ff863",
      "metadata": {},
      "source": [
        "### <a id='toc3_1_2_'></a>[Modeling](#toc0_)"
      ]
    },
    {
      "cell_type": "markdown",
      "id": "5baeedea",
      "metadata": {},
      "source": [
        "#### <a id='toc3_1_2_1_'></a>[Word2Vec](#toc0_)"
      ]
    },
    {
      "cell_type": "code",
      "execution_count": 25,
      "id": "f55cd60c",
      "metadata": {},
      "outputs": [],
      "source": [
        "#applying the parser to the text data to be used in model training\n",
        "text_data_cleaned = text_data.apply(parser_text)\n",
        "recipes['TextDataCleaned']= text_data_cleaned"
      ]
    },
    {
      "cell_type": "code",
      "execution_count": 26,
      "id": "b9e1679b",
      "metadata": {},
      "outputs": [
        {
          "data": {
            "text/plain": [
              "3185942.0"
            ]
          },
          "execution_count": 26,
          "metadata": {},
          "output_type": "execute_result"
        }
      ],
      "source": [
        "#vector size 100\n",
        "phrases_model_2=Word2Vec(sentences=text_data_cleaned,min_count=1, sg=0, window=20, workers=8, vector_size=100, compute_loss=True) #word2vec model, used min_count=1 to avoid any ingredient being missed out\n",
        "phrases_model_2.get_latest_training_loss()"
      ]
    },
    {
      "cell_type": "markdown",
      "id": "241c69b5",
      "metadata": {},
      "source": [
        "#### <a id='toc3_1_2_2_'></a>[Hyperparameter Evaluation](#toc0_)"
      ]
    },
    {
      "cell_type": "code",
      "execution_count": 27,
      "id": "025850b4",
      "metadata": {},
      "outputs": [
        {
          "data": {
            "text/plain": [
              "3151367.75"
            ]
          },
          "execution_count": 27,
          "metadata": {},
          "output_type": "execute_result"
        }
      ],
      "source": [
        "#vector size 200\n",
        "phrases_model_2=Word2Vec(sentences=text_data_cleaned,min_count=1, sg=0, window=20, workers=8, vector_size=200, compute_loss=True)\n",
        "phrases_model_2.get_latest_training_loss()"
      ]
    },
    {
      "cell_type": "code",
      "execution_count": 28,
      "id": "0941520e",
      "metadata": {},
      "outputs": [
        {
          "data": {
            "text/plain": [
              "3166027.0"
            ]
          },
          "execution_count": 28,
          "metadata": {},
          "output_type": "execute_result"
        }
      ],
      "source": [
        "#vector size 300\n",
        "phrases_model_2=Word2Vec(sentences=text_data_cleaned,min_count=1, sg=0, window=20, workers=8, vector_size=300, compute_loss=True)\n",
        "phrases_model_2.get_latest_training_loss()"
      ]
    },
    {
      "cell_type": "code",
      "execution_count": 55,
      "id": "126baec0",
      "metadata": {},
      "outputs": [
        {
          "name": "stdout",
          "output_type": "stream",
          "text": [
            "Word2vec model #0: {'compute_loss': 75.53761291503906, 'vector': 100, 'window': 10, 'hs_val': 0, 'train_time_mean': 0.016642332077026367, 'train_time_std': 0.0067546619758141295}\n",
            "Word2vec model #1: {'compute_loss': 81.18545532226562, 'vector': 100, 'window': 15, 'hs_val': 0, 'train_time_mean': 0.011443376541137695, 'train_time_std': 0.0010282996909788563}\n",
            "Word2vec model #2: {'compute_loss': 114.36109924316406, 'vector': 100, 'window': 20, 'hs_val': 0, 'train_time_mean': 0.0111234982808431, 'train_time_std': 0.0022528345037700977}\n",
            "Word2vec model #3: {'compute_loss': 101.71585083007812, 'vector': 100, 'window': 25, 'hs_val': 0, 'train_time_mean': 0.0075329939524332685, 'train_time_std': 0.0013193936297923024}\n",
            "Word2vec model #4: {'compute_loss': 81.18545532226562, 'vector': 100, 'window': 30, 'hs_val': 0, 'train_time_mean': 0.0063122908274332685, 'train_time_std': 0.00047024643778554833}\n",
            "Word2vec model #5: {'compute_loss': 112.95668029785156, 'vector': 100, 'window': 10, 'hs_val': 1, 'train_time_mean': 0.009024222691853842, 'train_time_std': 0.0012556163709483465}\n",
            "Word2vec model #6: {'compute_loss': 122.12449645996094, 'vector': 100, 'window': 15, 'hs_val': 1, 'train_time_mean': 0.00802938143412272, 'train_time_std': 0.004747058484981659}\n",
            "Word2vec model #7: {'compute_loss': 170.17660522460938, 'vector': 100, 'window': 20, 'hs_val': 1, 'train_time_mean': 0.008960564931233725, 'train_time_std': 0.003753844262228361}\n",
            "Word2vec model #8: {'compute_loss': 149.74977111816406, 'vector': 100, 'window': 25, 'hs_val': 1, 'train_time_mean': 0.008451302846272787, 'train_time_std': 0.0007722753867504514}\n",
            "Word2vec model #9: {'compute_loss': 122.12449645996094, 'vector': 100, 'window': 30, 'hs_val': 1, 'train_time_mean': 0.010477304458618164, 'train_time_std': 0.0025272700094662328}\n",
            "Word2vec model #10: {'compute_loss': 75.543701171875, 'vector': 200, 'window': 10, 'hs_val': 0, 'train_time_mean': 0.008599122365315756, 'train_time_std': 0.0003712758517823118}\n",
            "Word2vec model #11: {'compute_loss': 81.18544006347656, 'vector': 200, 'window': 15, 'hs_val': 0, 'train_time_mean': 0.006289879480997722, 'train_time_std': 0.006344047030515599}\n",
            "Word2vec model #12: {'compute_loss': 114.37327575683594, 'vector': 200, 'window': 20, 'hs_val': 0, 'train_time_mean': 0.008442163467407227, 'train_time_std': 0.0021253553093383473}\n",
            "Word2vec model #13: {'compute_loss': 101.70974731445312, 'vector': 200, 'window': 25, 'hs_val': 0, 'train_time_mean': 0.006519873936971028, 'train_time_std': 0.006605194610369268}\n",
            "Word2vec model #14: {'compute_loss': 81.18544006347656, 'vector': 200, 'window': 30, 'hs_val': 0, 'train_time_mean': 0.006456216176350911, 'train_time_std': 0.009130468478208024}\n",
            "Word2vec model #15: {'compute_loss': 112.9627685546875, 'vector': 200, 'window': 10, 'hs_val': 1, 'train_time_mean': 0.006421248118082683, 'train_time_std': 0.0006691415346575942}\n",
            "Word2vec model #16: {'compute_loss': 122.13667297363281, 'vector': 200, 'window': 15, 'hs_val': 1, 'train_time_mean': 0.003984848658243815, 'train_time_std': 0.005635427016492633}\n",
            "Word2vec model #17: {'compute_loss': 170.1826934814453, 'vector': 200, 'window': 20, 'hs_val': 1, 'train_time_mean': 0.009923060735066732, 'train_time_std': 0.005021021015124862}\n",
            "Word2vec model #18: {'compute_loss': 149.7558135986328, 'vector': 200, 'window': 25, 'hs_val': 1, 'train_time_mean': 0.006483157475789388, 'train_time_std': 0.007239900543042368}\n",
            "Word2vec model #19: {'compute_loss': 122.13667297363281, 'vector': 200, 'window': 30, 'hs_val': 1, 'train_time_mean': 0.007429043451944987, 'train_time_std': 0.00822037504056019}\n",
            "Word2vec model #20: {'compute_loss': 75.53761291503906, 'vector': 300, 'window': 10, 'hs_val': 0, 'train_time_mean': 0.009434143702189127, 'train_time_std': 0.0010089511137178575}\n",
            "Word2vec model #21: {'compute_loss': 81.19764709472656, 'vector': 300, 'window': 15, 'hs_val': 0, 'train_time_mean': 0.006314277648925781, 'train_time_std': 0.00026891086281308224}\n",
            "Word2vec model #22: {'compute_loss': 114.36720275878906, 'vector': 300, 'window': 20, 'hs_val': 0, 'train_time_mean': 0.0043888092041015625, 'train_time_std': 0.0026545120805730317}\n",
            "Word2vec model #23: {'compute_loss': 101.734130859375, 'vector': 300, 'window': 25, 'hs_val': 0, 'train_time_mean': 0.00546725591023763, 'train_time_std': 0.0077318674572225176}\n",
            "Word2vec model #24: {'compute_loss': 81.19764709472656, 'vector': 300, 'window': 30, 'hs_val': 0, 'train_time_mean': 0.009627024332682291, 'train_time_std': 0.004296232673196491}\n",
            "Word2vec model #25: {'compute_loss': 112.95059204101562, 'vector': 300, 'window': 10, 'hs_val': 1, 'train_time_mean': 0.007069985071818034, 'train_time_std': 0.006794015595210368}\n",
            "Word2vec model #26: {'compute_loss': 122.14277648925781, 'vector': 300, 'window': 15, 'hs_val': 1, 'train_time_mean': 0.008192857106526693, 'train_time_std': 0.011586449634634842}\n",
            "Word2vec model #27: {'compute_loss': 170.18881225585938, 'vector': 300, 'window': 20, 'hs_val': 1, 'train_time_mean': 0.011787494023640951, 'train_time_std': 0.0037227521353803837}\n",
            "Word2vec model #28: {'compute_loss': 149.7741241455078, 'vector': 300, 'window': 25, 'hs_val': 1, 'train_time_mean': 0.013493220011393229, 'train_time_std': 0.0020446857069749296}\n",
            "Word2vec model #29: {'compute_loss': 122.14277648925781, 'vector': 300, 'window': 30, 'hs_val': 1, 'train_time_mean': 0.01092998186747233, 'train_time_std': 0.003501961456569061}\n",
            "Word2vec model #30: {'compute_loss': 76.95411682128906, 'vector': 100, 'window': 10, 'hs_val': 0, 'train_time_mean': 0.009001731872558594, 'train_time_std': 0.007450946081733897}\n",
            "Word2vec model #31: {'compute_loss': 89.67240905761719, 'vector': 100, 'window': 15, 'hs_val': 0, 'train_time_mean': 0.010535717010498047, 'train_time_std': 0.0017122556412658735}\n",
            "Word2vec model #32: {'compute_loss': 120.74456787109375, 'vector': 100, 'window': 20, 'hs_val': 0, 'train_time_mean': 0.012987534205118815, 'train_time_std': 0.0028493858494852992}\n",
            "Word2vec model #33: {'compute_loss': 93.186279296875, 'vector': 100, 'window': 25, 'hs_val': 0, 'train_time_mean': 0.011355876922607422, 'train_time_std': 0.00633673575254856}\n",
            "Word2vec model #34: {'compute_loss': 89.67240905761719, 'vector': 100, 'window': 30, 'hs_val': 0, 'train_time_mean': 0.01101978619893392, 'train_time_std': 0.010058262307807334}\n",
            "Word2vec model #35: {'compute_loss': 119.31591796875, 'vector': 100, 'window': 10, 'hs_val': 1, 'train_time_mean': 0.025491635004679363, 'train_time_std': 0.020511008505997238}\n",
            "Word2vec model #36: {'compute_loss': 137.6880645751953, 'vector': 100, 'window': 15, 'hs_val': 1, 'train_time_mean': 0.02926945686340332, 'train_time_std': 0.021153379798404766}\n",
            "Word2vec model #37: {'compute_loss': 186.42091369628906, 'vector': 100, 'window': 20, 'hs_val': 1, 'train_time_mean': 0.019124666849772137, 'train_time_std': 0.006818037530822957}\n",
            "Word2vec model #38: {'compute_loss': 145.43313598632812, 'vector': 100, 'window': 25, 'hs_val': 1, 'train_time_mean': 0.009303092956542969, 'train_time_std': 0.004532617040767201}\n",
            "Word2vec model #39: {'compute_loss': 137.6880645751953, 'vector': 100, 'window': 30, 'hs_val': 1, 'train_time_mean': 0.0167392094930013, 'train_time_std': 0.004406873406831652}\n",
            "Word2vec model #40: {'compute_loss': 76.91758728027344, 'vector': 200, 'window': 10, 'hs_val': 0, 'train_time_mean': 0.01410818099975586, 'train_time_std': 0.011023426244914846}\n",
            "Word2vec model #41: {'compute_loss': 89.69065856933594, 'vector': 200, 'window': 15, 'hs_val': 0, 'train_time_mean': 0.008101145426432291, 'train_time_std': 0.005871958215992013}\n",
            "Word2vec model #42: {'compute_loss': 120.72627258300781, 'vector': 200, 'window': 20, 'hs_val': 0, 'train_time_mean': 0.01106421152750651, 'train_time_std': 0.007826546333040968}\n",
            "Word2vec model #43: {'compute_loss': 93.19236755371094, 'vector': 200, 'window': 25, 'hs_val': 0, 'train_time_mean': 0.017183701197306316, 'train_time_std': 0.0006780989142752201}\n",
            "Word2vec model #44: {'compute_loss': 89.69065856933594, 'vector': 200, 'window': 30, 'hs_val': 0, 'train_time_mean': 0.01541900634765625, 'train_time_std': 0.00334538685737418}\n",
            "Word2vec model #45: {'compute_loss': 119.27931213378906, 'vector': 200, 'window': 10, 'hs_val': 1, 'train_time_mean': 0.011841376622517904, 'train_time_std': 0.006990762257445979}\n",
            "Word2vec model #46: {'compute_loss': 137.73068237304688, 'vector': 200, 'window': 15, 'hs_val': 1, 'train_time_mean': 0.011251131693522135, 'train_time_std': 0.00830484703484274}\n",
            "Word2vec model #47: {'compute_loss': 186.41476440429688, 'vector': 200, 'window': 20, 'hs_val': 1, 'train_time_mean': 0.01766053835550944, 'train_time_std': 0.002452570952930938}\n",
            "Word2vec model #48: {'compute_loss': 145.451416015625, 'vector': 200, 'window': 25, 'hs_val': 1, 'train_time_mean': 0.010063568751017252, 'train_time_std': 0.007117685617734164}\n",
            "Word2vec model #49: {'compute_loss': 137.73068237304688, 'vector': 200, 'window': 30, 'hs_val': 1, 'train_time_mean': 0.01662103335062663, 'train_time_std': 0.005229368843645002}\n",
            "Word2vec model #50: {'compute_loss': 76.93585205078125, 'vector': 300, 'window': 10, 'hs_val': 0, 'train_time_mean': 0.012735287348429361, 'train_time_std': 0.0008808165520421686}\n",
            "Word2vec model #51: {'compute_loss': 89.70285034179688, 'vector': 300, 'window': 15, 'hs_val': 0, 'train_time_mean': 0.010382652282714844, 'train_time_std': 0.002609504066071496}\n",
            "Word2vec model #52: {'compute_loss': 120.72628784179688, 'vector': 300, 'window': 20, 'hs_val': 0, 'train_time_mean': 0.01176126797993978, 'train_time_std': 0.003855032451568526}\n",
            "Word2vec model #53: {'compute_loss': 93.19236755371094, 'vector': 300, 'window': 25, 'hs_val': 0, 'train_time_mean': 0.015184640884399414, 'train_time_std': 0.0018233644507411435}\n",
            "Word2vec model #54: {'compute_loss': 89.70285034179688, 'vector': 300, 'window': 30, 'hs_val': 0, 'train_time_mean': 0.010653972625732422, 'train_time_std': 0.007533657280178939}\n",
            "Word2vec model #55: {'compute_loss': 119.30368041992188, 'vector': 300, 'window': 10, 'hs_val': 1, 'train_time_mean': 0.011131048202514648, 'train_time_std': 0.007226775087926454}\n",
            "Word2vec model #56: {'compute_loss': 137.74288940429688, 'vector': 300, 'window': 15, 'hs_val': 1, 'train_time_mean': 0.017031749089558918, 'train_time_std': 0.0005640755951811062}\n",
            "Word2vec model #57: {'compute_loss': 186.40870666503906, 'vector': 300, 'window': 20, 'hs_val': 1, 'train_time_mean': 0.012351195017496744, 'train_time_std': 0.00893697928463795}\n",
            "Word2vec model #58: {'compute_loss': 145.451416015625, 'vector': 300, 'window': 25, 'hs_val': 1, 'train_time_mean': 0.015447696050008139, 'train_time_std': 0.0044103150216686215}\n",
            "Word2vec model #59: {'compute_loss': 137.74288940429688, 'vector': 300, 'window': 30, 'hs_val': 1, 'train_time_mean': 0.010881423950195312, 'train_time_std': 0.007045360404302337}\n",
            "Word2vec model #60: {'compute_loss': 28.938350677490234, 'vector': 100, 'window': 10, 'hs_val': 0, 'train_time_mean': 0.01463643709818522, 'train_time_std': 0.006633797805190531}\n",
            "Word2vec model #61: {'compute_loss': 43.07927322387695, 'vector': 100, 'window': 15, 'hs_val': 0, 'train_time_mean': 0.007886171340942383, 'train_time_std': 0.005693903644350309}\n",
            "Word2vec model #62: {'compute_loss': 25.393983840942383, 'vector': 100, 'window': 20, 'hs_val': 0, 'train_time_mean': 0.013974587122599283, 'train_time_std': 0.005504904232762845}\n",
            "Word2vec model #63: {'compute_loss': 35.30968475341797, 'vector': 100, 'window': 25, 'hs_val': 0, 'train_time_mean': 0.007707357406616211, 'train_time_std': 0.006821117100456724}\n",
            "Word2vec model #64: {'compute_loss': 43.07927322387695, 'vector': 100, 'window': 30, 'hs_val': 0, 'train_time_mean': 0.013427495956420898, 'train_time_std': 0.002928175152724913}\n",
            "Word2vec model #65: {'compute_loss': 39.534912109375, 'vector': 100, 'window': 10, 'hs_val': 1, 'train_time_mean': 0.008845090866088867, 'train_time_std': 0.0068502752120391175}\n",
            "Word2vec model #66: {'compute_loss': 58.63671875, 'vector': 100, 'window': 15, 'hs_val': 1, 'train_time_mean': 0.010064284006754557, 'train_time_std': 0.008547979492668929}\n",
            "Word2vec model #67: {'compute_loss': 35.27314376831055, 'vector': 100, 'window': 20, 'hs_val': 1, 'train_time_mean': 0.00959324836730957, 'train_time_std': 0.0020842047178099036}\n",
            "Word2vec model #68: {'compute_loss': 47.33494567871094, 'vector': 100, 'window': 25, 'hs_val': 1, 'train_time_mean': 0.007949908574422201, 'train_time_std': 0.005057319337754685}\n",
            "Word2vec model #69: {'compute_loss': 58.63671875, 'vector': 100, 'window': 30, 'hs_val': 1, 'train_time_mean': 0.010510603586832682, 'train_time_std': 0.007432535169783718}\n",
            "Word2vec model #70: {'compute_loss': 28.938350677490234, 'vector': 200, 'window': 10, 'hs_val': 0, 'train_time_mean': 0.01353891690572103, 'train_time_std': 0.0102164573570054}\n",
            "Word2vec model #71: {'compute_loss': 43.085365295410156, 'vector': 200, 'window': 15, 'hs_val': 0, 'train_time_mean': 0.015953938166300457, 'train_time_std': 0.0008747289756594733}\n",
            "Word2vec model #72: {'compute_loss': 25.393983840942383, 'vector': 200, 'window': 20, 'hs_val': 0, 'train_time_mean': 0.010349035263061523, 'train_time_std': 0.006313875035417055}\n",
            "Word2vec model #73: {'compute_loss': 35.315773010253906, 'vector': 200, 'window': 25, 'hs_val': 0, 'train_time_mean': 0.01683632532755534, 'train_time_std': 0.008688615403601326}\n",
            "Word2vec model #74: {'compute_loss': 43.085365295410156, 'vector': 200, 'window': 30, 'hs_val': 0, 'train_time_mean': 0.011126995086669922, 'train_time_std': 0.008669951982735943}\n",
            "Word2vec model #75: {'compute_loss': 39.5288200378418, 'vector': 200, 'window': 10, 'hs_val': 1, 'train_time_mean': 0.010693073272705078, 'train_time_std': 0.007564990572260474}\n",
            "Word2vec model #76: {'compute_loss': 58.63063049316406, 'vector': 200, 'window': 15, 'hs_val': 1, 'train_time_mean': 0.012064297993977865, 'train_time_std': 0.0028490641412739705}\n",
            "Word2vec model #77: {'compute_loss': 35.267051696777344, 'vector': 200, 'window': 20, 'hs_val': 1, 'train_time_mean': 0.007949749628702799, 'train_time_std': 0.006025480086962668}\n",
            "Word2vec model #78: {'compute_loss': 47.3227653503418, 'vector': 200, 'window': 25, 'hs_val': 1, 'train_time_mean': 0.007592201232910156, 'train_time_std': 0.006180113659964245}\n",
            "Word2vec model #79: {'compute_loss': 58.63063049316406, 'vector': 200, 'window': 30, 'hs_val': 1, 'train_time_mean': 0.01133879025777181, 'train_time_std': 0.008019080689188399}\n",
            "Word2vec model #80: {'compute_loss': 28.944440841674805, 'vector': 300, 'window': 10, 'hs_val': 0, 'train_time_mean': 0.008176883061726889, 'train_time_std': 0.010723271750188059}\n",
            "Word2vec model #81: {'compute_loss': 43.085365295410156, 'vector': 300, 'window': 15, 'hs_val': 0, 'train_time_mean': 0.010937690734863281, 'train_time_std': 0.007702757623052196}\n",
            "Word2vec model #82: {'compute_loss': 25.393983840942383, 'vector': 300, 'window': 20, 'hs_val': 0, 'train_time_mean': 0.008721590042114258, 'train_time_std': 0.0065286309490011395}\n",
            "Word2vec model #83: {'compute_loss': 35.32186508178711, 'vector': 300, 'window': 25, 'hs_val': 0, 'train_time_mean': 0.011296510696411133, 'train_time_std': 0.007989973080691999}\n",
            "Word2vec model #84: {'compute_loss': 43.085365295410156, 'vector': 300, 'window': 30, 'hs_val': 0, 'train_time_mean': 0.007684071858723958, 'train_time_std': 0.010866918636856859}\n",
            "Word2vec model #85: {'compute_loss': 39.54100036621094, 'vector': 300, 'window': 10, 'hs_val': 1, 'train_time_mean': 0.008781909942626953, 'train_time_std': 0.002593631323108033}\n",
            "Word2vec model #86: {'compute_loss': 58.6428108215332, 'vector': 300, 'window': 15, 'hs_val': 1, 'train_time_mean': 0.010762453079223633, 'train_time_std': 0.007621945696181405}\n",
            "Word2vec model #87: {'compute_loss': 35.27314376831055, 'vector': 300, 'window': 20, 'hs_val': 1, 'train_time_mean': 0.00812967618306478, 'train_time_std': 0.009756393524042556}\n",
            "Word2vec model #88: {'compute_loss': 47.34712219238281, 'vector': 300, 'window': 25, 'hs_val': 1, 'train_time_mean': 0.010416110356648764, 'train_time_std': 0.007365302282852373}\n",
            "Word2vec model #89: {'compute_loss': 58.6428108215332, 'vector': 300, 'window': 30, 'hs_val': 1, 'train_time_mean': 0.009485960006713867, 'train_time_std': 0.006009152769316016}\n",
            "Word2vec model #90: {'compute_loss': 2.8208770751953125, 'vector': 100, 'window': 10, 'hs_val': 0, 'train_time_mean': 0.010817845662434896, 'train_time_std': 0.00730077090886425}\n",
            "Word2vec model #91: {'compute_loss': 2.1156578063964844, 'vector': 100, 'window': 15, 'hs_val': 0, 'train_time_mean': 0.008576154708862305, 'train_time_std': 0.009170146356470345}\n"
          ]
        },
        {
          "name": "stderr",
          "output_type": "stream",
          "text": [
            "Exception in thread Thread-21365 (_worker_loop):\n",
            "Traceback (most recent call last):\n",
            "  File \"c:\\Users\\e312995\\AppData\\Local\\anaconda3\\Lib\\threading.py\", line 1045, in _bootstrap_inner\n",
            "    self.run()\n",
            "  File \"c:\\Users\\e312995\\AppData\\Local\\anaconda3\\Lib\\threading.py\", line 982, in run\n",
            "    self._target(*self._args, **self._kwargs)\n",
            "  File \"c:\\Users\\e312995\\AppData\\Local\\anaconda3\\Lib\\site-packages\\gensim\\models\\word2vec.py\", line 1166, in _worker_loop\n",
            "    tally, raw_tally = self._do_train_job(data_iterable, alpha, thread_private_mem)\n",
            "                       ^^^^^^^^^^^^^^^^^^^^^^^^^^^^^^^^^^^^^^^^^^^^^^^^^^^^^^^^^^^^\n",
            "  File \"c:\\Users\\e312995\\AppData\\Local\\anaconda3\\Lib\\site-packages\\gensim\\models\\word2vec.py\", line 957, in _do_train_job\n",
            "    tally += train_batch_cbow(self, sentences, alpha, work, neu1, self.compute_loss)\n",
            "             ^^^^^^^^^^^^^^^^^^^^^^^^^^^^^^^^^^^^^^^^^^^^^^^^^^^^^^^^^^^^^^^^^^^^^^^\n",
            "  File \"gensim\\models\\word2vec_inner.pyx\", line 649, in gensim.models.word2vec_inner.train_batch_cbow\n",
            "TypeError: Cannot convert list to numpy.ndarray\n"
          ]
        },
        {
          "name": "stdout",
          "output_type": "stream",
          "text": [
            "Word2vec model #92: {'compute_loss': 1.4104385375976562, 'vector': 100, 'window': 20, 'hs_val': 0, 'train_time_mean': 0.011245965957641602, 'train_time_std': 0.00472805980847306}\n",
            "Word2vec model #93: {'compute_loss': 1.4104385375976562, 'vector': 100, 'window': 25, 'hs_val': 0, 'train_time_mean': 0.00864561398824056, 'train_time_std': 0.006790837919685372}\n",
            "Word2vec model #94: {'compute_loss': 2.1156578063964844, 'vector': 100, 'window': 30, 'hs_val': 0, 'train_time_mean': 0.010761260986328125, 'train_time_std': 0.0076187747740493784}\n"
          ]
        }
      ],
      "source": [
        "import time\n",
        "\n",
        "train_time_values = []\n",
        "seed_val = 42\n",
        "\n",
        "hs_values = [0, 1]\n",
        "vector_values= [100,200,300]\n",
        "window_values= [10,15, 20, 25, 30]\n",
        "\n",
        "for data in text_data_cleaned:\n",
        "    for vector in vector_values:\n",
        "        for hs_val in hs_values:\n",
        "            for window in window_values:\n",
        "                time_taken_list = []\n",
        "                for i in range(3):\n",
        "                    start_time = time.time()\n",
        "                    w2v_model = Word2Vec(\n",
        "                        data,\n",
        "                        compute_loss=True,\n",
        "                        window= window,\n",
        "                        vector_size=vector,\n",
        "                        hs=hs_val,\n",
        "                        seed=seed_val,\n",
        "                    )\n",
        "                    time_taken_list.append(time.time() - start_time)\n",
        "\n",
        "                time_taken_list = np.array(time_taken_list)\n",
        "                time_mean = np.mean(time_taken_list)\n",
        "                time_std = np.std(time_taken_list)\n",
        "\n",
        "                model_result = {\n",
        "                    \n",
        "                    'compute_loss': w2v_model.get_latest_training_loss(),\n",
        "                    'vector': vector,\n",
        "                    'window': window,\n",
        "                    'hs_val': hs_val,\n",
        "                    'train_time_mean': time_mean,\n",
        "                    'train_time_std': time_std,\n",
        "                }\n",
        "                print(\"Word2vec model #%i: %s\" % (len(train_time_values), model_result))\n",
        "                train_time_values.append(model_result)\n",
        "\n",
        "train_times_table = pd.DataFrame(train_time_values)\n",
        "train_times_table = train_times_table.sort_values(\n",
        "    by=['train_data',  'hs', 'compute_loss'],\n",
        "    ascending=[False, False, False],\n",
        ")\n",
        "print(train_times_table)"
      ]
    },
    {
      "cell_type": "markdown",
      "id": "1d220f70",
      "metadata": {},
      "source": [
        "I will select hs=0, vector size= 100 & window=20 for the final model"
      ]
    },
    {
      "cell_type": "code",
      "execution_count": 29,
      "id": "8cab2663",
      "metadata": {},
      "outputs": [],
      "source": [
        "#final model\n",
        "phrases_model_2=Word2Vec(sentences=text_data_cleaned,min_count=1, sg=0, window=20, workers=8, vector_size=100, compute_loss=True)\n",
        "\n",
        "#saving the model\n",
        "phrases_model_2.save('../Models/Word2Vec/phrases_model_new(op2).bin')\n"
      ]
    },
    {
      "cell_type": "markdown",
      "id": "bf380ee4",
      "metadata": {},
      "source": [
        "### <a id='toc3_1_3_'></a>[Vectorization & Recommendation](#toc0_)"
      ]
    },
    {
      "cell_type": "code",
      "execution_count": 30,
      "id": "6d860468",
      "metadata": {},
      "outputs": [],
      "source": [
        "def recommender_text(text_input):\n",
        "\n",
        "    user_input= parser_text(text_input)\n",
        "\n",
        "    # Mean Embeddings for User Input\n",
        "    user_mean_vector =np.mean([phrases_model_2.wv[user_text] for user_text in user_input if user_text in phrases_model_2.wv] or [np.zeros(100)], axis=0)\n",
        "\n",
        "\n",
        "\n",
        "    # check if user_mean_vector contains NaN values\n",
        "    if np.isnan(user_mean_vector).any():\n",
        "        print(\"User input vectors contain NaN values.\")\n",
        "\n",
        "\n",
        "    else:\n",
        "\n",
        "        # mean ingredient vectors for each recipe\n",
        "        text_vectors = [np.mean([phrases_model_2.wv[sub_text] for sub_text in text if sub_text in phrases_model_2.wv] or [np.zeros(100)], axis=0) for text in text_data_cleaned]\n",
        "\n",
        "\n",
        "\n",
        "\n",
        "\n",
        "        # Check if any recipe vector contains NaN values\n",
        "        if not text_vectors:\n",
        "            print('nothing obtained for recipe vectors')\n",
        "\n",
        "        else:\n",
        "            \n",
        "            # cosine similarity between user mean vector and recipe mean vectors\n",
        "            cosine_similarities_text= cosine_similarity([user_mean_vector], text_vectors)\n",
        "\n",
        "\n",
        "            # indices of top N most similar recipes\n",
        "            top_recipes = np.argsort(cosine_similarities_text[0])[::-1][:5]\n",
        "\n",
        "\n",
        "\n",
        "            recommendation= pd.DataFrame( columns=['title','ingredients', 'description', 'keywords', 'category', 'score'] ) #dataframe with columns\n",
        "\n",
        "    \n",
        "            for i in top_recipes: #defining the data for each recommendation\n",
        "\n",
        "                \n",
        "                title = recipes['Name'].iloc[i],\n",
        "                description= recipes['Description'].iloc[i,]\n",
        "                keywords = recipes['Keywords'].iloc[i]\n",
        "                category= recipes['RecipeCategory'].iloc[i]\n",
        "                ingredients = recipes['RecipeIngredientParts'].iloc[i]\n",
        "                score= cosine_similarities_text[0][i]\n",
        "                # recommendation = recommendation.concat([\n",
        "                #                     {'title': title, \n",
        "                #                     'description': description,\n",
        "                #                     'ingredients': ingredients, \n",
        "                #                     'keywords' : keywords, \n",
        "                #                     'category' : category, \n",
        "                #                     'score': score}], \n",
        "                #                         ignore_index=True)\n",
        "                recommendation = pd.concat([recommendation,pd.DataFrame(\n",
        "                                    {'title': [title], \n",
        "                                    'description': [description],\n",
        "                                    'ingredients': [ingredients], \n",
        "                                    'keywords' : [keywords], \n",
        "                                    'category' : [category], \n",
        "                                    'score': [score]})], \n",
        "                                        ignore_index=True)\n",
        "\n",
        "\n",
        "\n",
        "\n",
        "    return recommendation\n",
        "\n",
        "       \n",
        "\n",
        "\n",
        "\n"
      ]
    },
    {
      "cell_type": "code",
      "execution_count": 31,
      "id": "1706f346",
      "metadata": {},
      "outputs": [
        {
          "name": "stderr",
          "output_type": "stream",
          "text": [
            "C:\\Users\\e312995\\AppData\\Local\\Temp\\ipykernel_30044\\3192812213.py:59: FutureWarning: The behavior of DataFrame concatenation with empty or all-NA entries is deprecated. In a future version, this will no longer exclude empty or all-NA columns when determining the result dtypes. To retain the old behavior, exclude the relevant entries before the concat operation.\n",
            "  recommendation = pd.concat([recommendation,pd.DataFrame(\n"
          ]
        },
        {
          "data": {
            "text/html": [
              "<div>\n",
              "<style scoped>\n",
              "    .dataframe tbody tr th:only-of-type {\n",
              "        vertical-align: middle;\n",
              "    }\n",
              "\n",
              "    .dataframe tbody tr th {\n",
              "        vertical-align: top;\n",
              "    }\n",
              "\n",
              "    .dataframe thead th {\n",
              "        text-align: right;\n",
              "    }\n",
              "</style>\n",
              "<table border=\"1\" class=\"dataframe\">\n",
              "  <thead>\n",
              "    <tr style=\"text-align: right;\">\n",
              "      <th></th>\n",
              "      <th>title</th>\n",
              "      <th>ingredients</th>\n",
              "      <th>description</th>\n",
              "      <th>keywords</th>\n",
              "      <th>category</th>\n",
              "      <th>score</th>\n",
              "    </tr>\n",
              "  </thead>\n",
              "  <tbody>\n",
              "    <tr>\n",
              "      <th>0</th>\n",
              "      <td>(Cabbage Soup,)</td>\n",
              "      <td>butter, onion, turnip, cabbage, salt, pepper, ...</td>\n",
              "      <td>Make and share this Cabbage Soup recipe from F...</td>\n",
              "      <td>Inexpensive</td>\n",
              "      <td>&lt; 30 Mins</td>\n",
              "      <td>0.983764</td>\n",
              "    </tr>\n",
              "    <tr>\n",
              "      <th>1</th>\n",
              "      <td>(Cabbage and Mushroom Soup,)</td>\n",
              "      <td>vegetable broth, onions, garlic cloves, cabbag...</td>\n",
              "      <td>Make and share this Cabbage and Mushroom Soup ...</td>\n",
              "      <td>Easy</td>\n",
              "      <td>&lt; 4 Hours</td>\n",
              "      <td>0.855485</td>\n",
              "    </tr>\n",
              "    <tr>\n",
              "      <th>2</th>\n",
              "      <td>(Ukrainian Pea Soup Horokhivka,)</td>\n",
              "      <td>water, salt pork, ham fat, onion, celery, carr...</td>\n",
              "      <td>Make and share this Ukrainian Pea Soup Horokhi...</td>\n",
              "      <td>NaN</td>\n",
              "      <td>European</td>\n",
              "      <td>0.820917</td>\n",
              "    </tr>\n",
              "    <tr>\n",
              "      <th>3</th>\n",
              "      <td>(Cabbage Soup,)</td>\n",
              "      <td>lean ground beef, onion, cabbage, diced tomato...</td>\n",
              "      <td>Make and share this Cabbage Soup recipe from F...</td>\n",
              "      <td>NaN</td>\n",
              "      <td>&lt; 4 Hours</td>\n",
              "      <td>0.819991</td>\n",
              "    </tr>\n",
              "    <tr>\n",
              "      <th>4</th>\n",
              "      <td>(Pea Soup With Doughboys,)</td>\n",
              "      <td>salt pork, ham bone, water, onion, celery, pot...</td>\n",
              "      <td>This recipe is from Extending the Table and is...</td>\n",
              "      <td>NaN</td>\n",
              "      <td>Canadian</td>\n",
              "      <td>0.812112</td>\n",
              "    </tr>\n",
              "  </tbody>\n",
              "</table>\n",
              "</div>"
            ],
            "text/plain": [
              "                              title  \\\n",
              "0                   (Cabbage Soup,)   \n",
              "1      (Cabbage and Mushroom Soup,)   \n",
              "2  (Ukrainian Pea Soup Horokhivka,)   \n",
              "3                   (Cabbage Soup,)   \n",
              "4        (Pea Soup With Doughboys,)   \n",
              "\n",
              "                                         ingredients  \\\n",
              "0  butter, onion, turnip, cabbage, salt, pepper, ...   \n",
              "1  vegetable broth, onions, garlic cloves, cabbag...   \n",
              "2  water, salt pork, ham fat, onion, celery, carr...   \n",
              "3  lean ground beef, onion, cabbage, diced tomato...   \n",
              "4  salt pork, ham bone, water, onion, celery, pot...   \n",
              "\n",
              "                                         description     keywords   category  \\\n",
              "0  Make and share this Cabbage Soup recipe from F...  Inexpensive  < 30 Mins   \n",
              "1  Make and share this Cabbage and Mushroom Soup ...         Easy  < 4 Hours   \n",
              "2  Make and share this Ukrainian Pea Soup Horokhi...          NaN   European   \n",
              "3  Make and share this Cabbage Soup recipe from F...          NaN  < 4 Hours   \n",
              "4  This recipe is from Extending the Table and is...          NaN   Canadian   \n",
              "\n",
              "      score  \n",
              "0  0.983764  \n",
              "1  0.855485  \n",
              "2  0.820917  \n",
              "3  0.819991  \n",
              "4  0.812112  "
            ]
          },
          "execution_count": 31,
          "metadata": {},
          "output_type": "execute_result"
        }
      ],
      "source": [
        "# user Input Processing\n",
        "text_input = 'cabbage soup'  # user's input\n",
        "\n",
        "recommender_text(text_input)"
      ]
    },
    {
      "cell_type": "markdown",
      "id": "214da573",
      "metadata": {},
      "source": [
        "# <a id='toc4_'></a>[Option 3 : Search by Ingredients & Keywords both together](#toc0_)"
      ]
    },
    {
      "cell_type": "markdown",
      "id": "962d7636",
      "metadata": {},
      "source": [
        "## <a id='toc4_1_'></a>[Tokenization](#toc0_)"
      ]
    },
    {
      "cell_type": "code",
      "execution_count": 32,
      "id": "48a942a0",
      "metadata": {},
      "outputs": [
        {
          "data": {
            "text/plain": [
              "'Low-Fat Berry Blue Frozen Dessert,Frozen Desserts,Dessert, Low Protein, Low Cholesterol, Healthy, Free Of..., Summer, Weeknight, Freezer, Easy,blueberries, granulated sugar, vanilla yogurt, lemon juice'"
            ]
          },
          "execution_count": 32,
          "metadata": {},
          "output_type": "execute_result"
        }
      ],
      "source": [
        "#combining the 4 columns data to one\n",
        "recipes['text_data_all']= recipes[['Name', 'RecipeCategory', 'Keywords', 'RecipeIngredientParts']].astype(str).agg(','.join, axis=1) \n",
        "#sanity check\n",
        "recipes['text_data_all'][0]"
      ]
    },
    {
      "cell_type": "code",
      "execution_count": 33,
      "id": "bd7d884b",
      "metadata": {},
      "outputs": [],
      "source": [
        "#parser\n",
        "def parser_text(input_keys): #function\n",
        "\n",
        "\n",
        "    # Defining measuring units\n",
        "    remove_ = {'oil', 'salt', 'pepper' , 'mins'}\n",
        "\n",
        "\n",
        "    # Defining measuring units\n",
        "    measuring_words = ['ml', 'mL', 'milliliter', 'millilitre', 'cc', 'cubic centimeter', 'l', 'L', 'liter', 'litre', 'dl',\n",
        "                   'dL', 'deciliter', 'decilitre', 'teaspoon', 't', 'tsp.', 'tablespoon', 'T', 'tbl', 'tbs', 'tbsp',\n",
        "                   'fluid ounce', 'fl oz', 'gill', 'cup', 'c', 'pint', 'p', 'pt', 'fl pt', 'quart', 'q', 'qt', 'fl qt',\n",
        "                   'gallon', 'g', 'gal', 'g', 'milligram', 'milligramme', 'g', 'gram', 'gramme', 'kg', 'kilogram',\n",
        "                   'kilogramme', 'pound', 'lb', 'ounce', 'oz', 'mm', 'milimeter', 'millimetre', 'cm', 'centimeter',\n",
        "                   'centimetre', 'm', 'meter', 'metre', 'inch', 'in', 'yard', '°C', 'degree celsius', '°F', 'Farenheit', 'tsp']\n",
        "\n",
        "    cleaned_ingredients_all_recipes = []\n",
        "    \n",
        "    for each_ingredient_list in input_keys:\n",
        "            comma_list = re.split(',', each_ingredient_list)  # splitting the ingredients by commas\n",
        "\n",
        "\n",
        "            cleaned_ingredients = []  # new list to store cleaned ingredients for a single recipe\n",
        "\n",
        "\n",
        "            lemmatizer = WordNetLemmatizer()  # lemmatize\n",
        "\n",
        "\n",
        "            for each_word_set in comma_list:\n",
        "                items = [word.lower() for word in re.findall(r'\\b\\w+\\b', each_word_set)]  # Extract individual words and convert to lowercase\n",
        "\n",
        "\n",
        "                items = [word for word in items if word.isalpha()]  # filtering only letters\n",
        "\n",
        "                items = [lemmatizer.lemmatize(word) for word in items]  # lemmatizing\n",
        "\n",
        "\n",
        "                items = [word for word in items if word not in ENGLISH_STOP_WORDS]  # removing stop words\n",
        "\n",
        "\n",
        "                items = [word for word in items if word not in measuring_words]  # removing measuring words\n",
        "\n",
        "\n",
        "                items = [word for word in items if word not in remove_]\n",
        "\n",
        "\n",
        "                if items:\n",
        "                    cleaned_ingredients.extend(items)\n",
        "\n",
        "\n",
        "            cleaned_ingredients_all_recipes.append(cleaned_ingredients)\n",
        "\n",
        "    return(cleaned_ingredients_all_recipes)\n"
      ]
    },
    {
      "cell_type": "markdown",
      "id": "58f7813f",
      "metadata": {},
      "source": [
        "## <a id='toc4_2_'></a>[Modeling](#toc0_)"
      ]
    },
    {
      "cell_type": "code",
      "execution_count": 34,
      "id": "0696914e",
      "metadata": {},
      "outputs": [],
      "source": [
        "text_data_all= recipes['text_data_all']\n",
        "text_data_all_cleaned=parser_text(text_data_all)"
      ]
    },
    {
      "cell_type": "code",
      "execution_count": 35,
      "id": "df305aa3",
      "metadata": {},
      "outputs": [
        {
          "data": {
            "text/plain": [
              "8143415.0"
            ]
          },
          "execution_count": 35,
          "metadata": {},
          "output_type": "execute_result"
        }
      ],
      "source": [
        "#vector size 100\n",
        "phrases_model_3=Word2Vec(sentences=text_data_all_cleaned,min_count=1, sg=0, window=35, workers=8, vector_size=200, compute_loss=True) #word2vec model, used min_count=1 to avoid any ingredient being missed out\n",
        "phrases_model_3.get_latest_training_loss()"
      ]
    },
    {
      "cell_type": "code",
      "execution_count": 36,
      "id": "b2ee106a",
      "metadata": {},
      "outputs": [
        {
          "data": {
            "text/plain": [
              "8377434.0"
            ]
          },
          "execution_count": 36,
          "metadata": {},
          "output_type": "execute_result"
        }
      ],
      "source": [
        "phrases_model_3=Word2Vec(sentences=text_data_all_cleaned,min_count=1, sg=0, window=35, workers=8, vector_size=100, compute_loss=True) #word2vec model, used min_count=1 to avoid any ingredient being missed out\n",
        "phrases_model_3.get_latest_training_loss()"
      ]
    },
    {
      "cell_type": "code",
      "execution_count": 37,
      "id": "f2f76728",
      "metadata": {},
      "outputs": [
        {
          "data": {
            "text/plain": [
              "7979320.0"
            ]
          },
          "execution_count": 37,
          "metadata": {},
          "output_type": "execute_result"
        }
      ],
      "source": [
        "phrases_model_3=Word2Vec(sentences=text_data_all_cleaned,min_count=1, sg=0, window=35, workers=8, vector_size=300, compute_loss=True) #word2vec model, used min_count=1 to avoid any ingredient being missed out\n",
        "phrases_model_3.get_latest_training_loss()"
      ]
    },
    {
      "cell_type": "code",
      "execution_count": null,
      "id": "5ad3884b",
      "metadata": {},
      "outputs": [],
      "source": [
        "import time   \n",
        "train_time_values = []\n",
        "seed_val = 42\n",
        "\n",
        "hs_values = [0, 1]\n",
        "vector_values= [100,200,300]\n",
        "window_values= [10, 20, 25, 30]\n",
        "\n",
        "\n",
        "for data in text_data_all_cleaned:\n",
        "    for vector in vector_values:\n",
        "        for hs_val in hs_values:\n",
        "            for window in window_values:\n",
        "                time_taken_list = []\n",
        "                for i in range(3):\n",
        "                    start_time = time.time()\n",
        "                    w2v_model = Word2Vec(\n",
        "                        data,\n",
        "                        compute_loss=True,\n",
        "                        window= window,\n",
        "                        vector_size=vector,\n",
        "                        hs=hs_val,\n",
        "                        seed=seed_val,\n",
        "                    )\n",
        "                    time_taken_list.append(time.time() - start_time)\n",
        "\n",
        "                time_taken_list = np.array(time_taken_list)\n",
        "                time_mean = np.mean(time_taken_list)\n",
        "                time_std = np.std(time_taken_list)\n",
        "\n",
        "                model_result = {\n",
        "                    \n",
        "                    'compute_loss': w2v_model.get_latest_training_loss(),\n",
        "                    'vector': vector,\n",
        "                    'window': window,\n",
        "                    'hs_val': hs_val,\n",
        "                    'train_time_mean': time_mean,\n",
        "                    'train_time_std': time_std,\n",
        "                }\n",
        "                print(\"Word2vec model #%i: %s\" % (len(train_time_values), model_result))\n",
        "                train_time_values.append(model_result)\n",
        "\n",
        "train_times_table = pd.DataFrame(train_time_values)\n",
        "train_times_table = train_times_table.sort_values(\n",
        "    by=['train_data',  'hs', 'compute_loss'],\n",
        "    ascending=[False, False, False],\n",
        ")\n",
        "print(train_times_table)"
      ]
    },
    {
      "cell_type": "code",
      "execution_count": 38,
      "id": "61abb40f",
      "metadata": {},
      "outputs": [],
      "source": [
        "phrases_model_3=Word2Vec(sentences=text_data_all_cleaned,min_count=1, sg=0, window=30, workers=8, vector_size=100, compute_loss=True) #word2vec model, used min_count=1 to avoid any ingredient being missed out\n"
      ]
    },
    {
      "cell_type": "markdown",
      "id": "5aa117de",
      "metadata": {},
      "source": [
        "## <a id='toc4_3_'></a>[Vectorization & Recommendation](#toc0_)"
      ]
    },
    {
      "cell_type": "code",
      "execution_count": 39,
      "id": "f5f08d87",
      "metadata": {},
      "outputs": [],
      "source": [
        "def recommender_text_all(text_input):\n",
        "\n",
        "    user_input= parser(text_input)\n",
        "\n",
        "    # Mean Embeddings for User Input\n",
        "    user_mean_vector =np.mean([phrases_model_3.wv[user_text] for user_text in user_input if user_text in phrases_model_3.wv] or [np.zeros(100)], axis=0)\n",
        "\n",
        "\n",
        "\n",
        "    # check if user_mean_vector contains NaN values\n",
        "    if np.isnan(user_mean_vector).any():\n",
        "        print(\"User input vectors contain NaN values.\")\n",
        "\n",
        "\n",
        "    else:\n",
        "\n",
        "        # mean ingredient vectors for each recipe\n",
        "        text_vectors = [np.mean([phrases_model_3.wv[sub_text] for sub_text in text if sub_text in phrases_model_3.wv] or [np.zeros(100)], axis=0) for text in text_data_all_cleaned]\n",
        "\n",
        "\n",
        "\n",
        "\n",
        "\n",
        "        # Check if any recipe vector contains NaN values\n",
        "        if not text_vectors:\n",
        "            print('nothing obtained for recipe vectors')\n",
        "\n",
        "        else:\n",
        "            \n",
        "            # cosine similarity between user mean vector and recipe mean vectors\n",
        "            cosine_similarities_text= cosine_similarity([user_mean_vector], text_vectors)\n",
        "\n",
        "\n",
        "            # indices of top N most similar recipes\n",
        "            top_recipes = np.argsort(cosine_similarities_text[0])[::-1][:5]\n",
        "\n",
        "\n",
        "\n",
        "            recommendation= pd.DataFrame( columns=['title','ingredients', 'description', 'keywords', 'category', 'score'] ) #dataframe with columns\n",
        "\n",
        "    \n",
        "            for i in top_recipes: #defining the data for each recommendation\n",
        "\n",
        "                \n",
        "                title = recipes['Name'].iloc[i],\n",
        "                description= recipes['Description'].iloc[i,]\n",
        "                keywords = recipes['Keywords'].iloc[i]\n",
        "                category= recipes['RecipeCategory'].iloc[i]\n",
        "                ingredients = recipes['RecipeIngredientParts'].iloc[i]\n",
        "                score= cosine_similarities_text[0][i]\n",
        "                recommendation = pd.concat([recommendation,pd.DataFrame(\n",
        "                                    {'title': [title], \n",
        "                                    'description': [description],\n",
        "                                    'ingredients': [ingredients], \n",
        "                                    'keywords' : [keywords], \n",
        "                                    'category' : [category], \n",
        "                                    'score': [score]})], \n",
        "                                        ignore_index=True)\n",
        "\n",
        "\n",
        "\n",
        "\n",
        "    return recommendation\n",
        "\n",
        "       \n",
        "\n",
        "\n",
        "\n"
      ]
    },
    {
      "cell_type": "code",
      "execution_count": 40,
      "id": "58c5c257",
      "metadata": {},
      "outputs": [
        {
          "name": "stderr",
          "output_type": "stream",
          "text": [
            "C:\\Users\\e312995\\AppData\\Local\\Temp\\ipykernel_30044\\1809556674.py:51: FutureWarning: The behavior of DataFrame concatenation with empty or all-NA entries is deprecated. In a future version, this will no longer exclude empty or all-NA columns when determining the result dtypes. To retain the old behavior, exclude the relevant entries before the concat operation.\n",
            "  recommendation = pd.concat([recommendation,pd.DataFrame(\n"
          ]
        },
        {
          "data": {
            "text/html": [
              "<div>\n",
              "<style scoped>\n",
              "    .dataframe tbody tr th:only-of-type {\n",
              "        vertical-align: middle;\n",
              "    }\n",
              "\n",
              "    .dataframe tbody tr th {\n",
              "        vertical-align: top;\n",
              "    }\n",
              "\n",
              "    .dataframe thead th {\n",
              "        text-align: right;\n",
              "    }\n",
              "</style>\n",
              "<table border=\"1\" class=\"dataframe\">\n",
              "  <thead>\n",
              "    <tr style=\"text-align: right;\">\n",
              "      <th></th>\n",
              "      <th>title</th>\n",
              "      <th>ingredients</th>\n",
              "      <th>description</th>\n",
              "      <th>keywords</th>\n",
              "      <th>category</th>\n",
              "      <th>score</th>\n",
              "    </tr>\n",
              "  </thead>\n",
              "  <tbody>\n",
              "    <tr>\n",
              "      <th>0</th>\n",
              "      <td>(Maghero's Soup,)</td>\n",
              "      <td>cabbage, cabbage, carrots, celery ribs, onion,...</td>\n",
              "      <td>Make and share this Maghero's Soup recipe from...</td>\n",
              "      <td>Beans, European, &lt; 4 Hours</td>\n",
              "      <td>Clear Soup</td>\n",
              "      <td>0.803425</td>\n",
              "    </tr>\n",
              "    <tr>\n",
              "      <th>1</th>\n",
              "      <td>(Sausage Cabbage Soup,)</td>\n",
              "      <td>cabbage, chicken broth, pepper, salt, flour, m...</td>\n",
              "      <td>Make and share this Sausage Cabbage Soup recip...</td>\n",
              "      <td>&lt; 4 Hours, Easy</td>\n",
              "      <td>Clear Soup</td>\n",
              "      <td>0.801862</td>\n",
              "    </tr>\n",
              "    <tr>\n",
              "      <th>2</th>\n",
              "      <td>(Cabbage Soup,)</td>\n",
              "      <td>butter, onion, turnip, cabbage, salt, pepper, ...</td>\n",
              "      <td>Make and share this Cabbage Soup recipe from F...</td>\n",
              "      <td>Inexpensive</td>\n",
              "      <td>&lt; 30 Mins</td>\n",
              "      <td>0.788275</td>\n",
              "    </tr>\n",
              "    <tr>\n",
              "      <th>3</th>\n",
              "      <td>(Diet Cabbage Soup,)</td>\n",
              "      <td>carrots, zucchini, bell peppers, celery ribs, ...</td>\n",
              "      <td>My mom wanted to try this diet, and made a hug...</td>\n",
              "      <td>Weeknight, Stove Top, &lt; 4 Hours</td>\n",
              "      <td>Vegetable</td>\n",
              "      <td>0.786210</td>\n",
              "    </tr>\n",
              "    <tr>\n",
              "      <th>4</th>\n",
              "      <td>(Autumn Harvest Root Vegetable Soup,)</td>\n",
              "      <td>carrots, parsnips, cabbage, onion, celery ribs...</td>\n",
              "      <td>Make and share this Autumn Harvest Root Vegeta...</td>\n",
              "      <td>Vegetable, &lt; 60 Mins</td>\n",
              "      <td>Clear Soup</td>\n",
              "      <td>0.781178</td>\n",
              "    </tr>\n",
              "  </tbody>\n",
              "</table>\n",
              "</div>"
            ],
            "text/plain": [
              "                                   title  \\\n",
              "0                      (Maghero's Soup,)   \n",
              "1                (Sausage Cabbage Soup,)   \n",
              "2                        (Cabbage Soup,)   \n",
              "3                   (Diet Cabbage Soup,)   \n",
              "4  (Autumn Harvest Root Vegetable Soup,)   \n",
              "\n",
              "                                         ingredients  \\\n",
              "0  cabbage, cabbage, carrots, celery ribs, onion,...   \n",
              "1  cabbage, chicken broth, pepper, salt, flour, m...   \n",
              "2  butter, onion, turnip, cabbage, salt, pepper, ...   \n",
              "3  carrots, zucchini, bell peppers, celery ribs, ...   \n",
              "4  carrots, parsnips, cabbage, onion, celery ribs...   \n",
              "\n",
              "                                         description  \\\n",
              "0  Make and share this Maghero's Soup recipe from...   \n",
              "1  Make and share this Sausage Cabbage Soup recip...   \n",
              "2  Make and share this Cabbage Soup recipe from F...   \n",
              "3  My mom wanted to try this diet, and made a hug...   \n",
              "4  Make and share this Autumn Harvest Root Vegeta...   \n",
              "\n",
              "                          keywords    category     score  \n",
              "0       Beans, European, < 4 Hours  Clear Soup  0.803425  \n",
              "1                  < 4 Hours, Easy  Clear Soup  0.801862  \n",
              "2                      Inexpensive   < 30 Mins  0.788275  \n",
              "3  Weeknight, Stove Top, < 4 Hours   Vegetable  0.786210  \n",
              "4             Vegetable, < 60 Mins  Clear Soup  0.781178  "
            ]
          },
          "execution_count": 40,
          "metadata": {},
          "output_type": "execute_result"
        }
      ],
      "source": [
        "user_input= 'soup, cabbage, carrot, onion'\n",
        "recommender_text_all(user_input)"
      ]
    },
    {
      "cell_type": "code",
      "execution_count": 41,
      "id": "03e9d1e9",
      "metadata": {},
      "outputs": [],
      "source": [
        "recipes.to_csv('../Docs/Datasets/recipes_streamlit.csv')"
      ]
    },
    {
      "cell_type": "markdown",
      "id": "2439d012",
      "metadata": {},
      "source": []
    }
  ],
  "metadata": {
    "colab": {
      "provenance": []
    },
    "kernelspec": {
      "display_name": "base",
      "language": "python",
      "name": "python3"
    },
    "language_info": {
      "codemirror_mode": {
        "name": "ipython",
        "version": 3
      },
      "file_extension": ".py",
      "mimetype": "text/x-python",
      "name": "python",
      "nbconvert_exporter": "python",
      "pygments_lexer": "ipython3",
      "version": "3.11.7"
    }
  },
  "nbformat": 4,
  "nbformat_minor": 5
}
