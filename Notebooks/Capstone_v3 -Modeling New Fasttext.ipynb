{
  "cells": [
    {
      "cell_type": "markdown",
      "id": "97f20224",
      "metadata": {},
      "source": [
        "**Table of contents**<a id='toc0_'></a>    \n",
        "- [Libraries](#toc1_1_)    \n",
        "- [Option 1- Search by Ingredients](#toc2_)    \n",
        "  - [Tokenization](#toc2_1_)    \n",
        "  - [Modeling](#toc2_2_)    \n",
        "    - [Word2vec](#toc2_2_1_)    \n",
        "    - [Hyperparameter Evaluation](#toc2_2_2_)    \n",
        "    - [Word Embeddings](#toc2_2_3_)    \n",
        "    - [Vectorisation](#toc2_2_4_)    \n",
        "- [Option 2 : Search by Keywords](#toc3_)    \n",
        "    - [Tokenization](#toc3_1_1_)    \n",
        "    - [Modeling](#toc3_1_2_)    \n",
        "    - [Hyperparameter Evaluation](#toc3_1_3_)    \n",
        "- [Option 3 : Search by Ingredients & Keywords both together](#toc4_)    \n",
        "\n",
        "<!-- vscode-jupyter-toc-config\n",
        "\tnumbering=false\n",
        "\tanchor=true\n",
        "\tflat=false\n",
        "\tminLevel=1\n",
        "\tmaxLevel=6\n",
        "\t/vscode-jupyter-toc-config -->\n",
        "<!-- THIS CELL WILL BE REPLACED ON TOC UPDATE. DO NOT WRITE YOUR TEXT IN THIS CELL -->"
      ]
    },
    {
      "cell_type": "markdown",
      "id": "a9411a64",
      "metadata": {},
      "source": [
        "## <a id='toc1_1_'></a>[Libraries](#toc0_)\n"
      ]
    },
    {
      "cell_type": "code",
      "execution_count": 5,
      "id": "3ba7adee",
      "metadata": {
        "id": "3ba7adee"
      },
      "outputs": [],
      "source": [
        "#importing the basic libraries\n",
        "import numpy as np\n",
        "import pandas as pd\n",
        "import matplotlib.pyplot as plt\n"
      ]
    },
    {
      "cell_type": "code",
      "execution_count": 6,
      "id": "-3Uc8d669LhS",
      "metadata": {
        "colab": {
          "base_uri": "https://localhost:8080/",
          "height": 461
        },
        "id": "-3Uc8d669LhS",
        "outputId": "52eba7d2-1481-4222-ab35-6038ed585fe4"
      },
      "outputs": [
        {
          "name": "stderr",
          "output_type": "stream",
          "text": [
            "[nltk_data] Downloading package stopwords to\n",
            "[nltk_data]     /Users/anupajayakody/nltk_data...\n",
            "[nltk_data]   Package stopwords is already up-to-date!\n"
          ]
        }
      ],
      "source": [
        "#importing the word processing libraries\n",
        "\n",
        "\n",
        " #importing the regex library\n",
        "import re\n",
        "\n",
        "#importing the nltk library\n",
        "import nltk\n",
        "\n",
        "\n",
        "#lemmatizer\n",
        "from nltk.stem import WordNetLemmatizer\n",
        "\n",
        "#  nltk stopwords\n",
        "nltk.download('stopwords')\n",
        "from nltk.corpus import stopwords\n",
        "\n",
        "#defining the stop words\n",
        "ENGLISH_STOP_WORDS = stopwords.words('english')\n",
        "\n",
        "#library to handle punctuation\n",
        "import string\n",
        "\n",
        "#counter library\n",
        "from collections import Counter\n",
        "\n",
        "import spacy\n",
        "\n",
        "#speech tagging library\n",
        "from nltk import pos_tag\n",
        "\n",
        "#library for word embedding\n",
        "from gensim.models import Word2Vec\n",
        "from gensim.models.phrases import Phrases, Phraser\n",
        "from sklearn.feature_extraction.text import TfidfVectorizer\n",
        "from nltk.tokenize import word_tokenize\n",
        "from collections import defaultdict\n",
        "from sklearn.metrics.pairwise import cosine_similarity\n",
        "\n",
        "import string"
      ]
    },
    {
      "cell_type": "code",
      "execution_count": 7,
      "id": "62c380af",
      "metadata": {
        "colab": {
          "base_uri": "https://localhost:8080/",
          "height": 339
        },
        "id": "62c380af",
        "outputId": "4a48149b-66c2-435e-f5b9-f4fcaf3b832a"
      },
      "outputs": [],
      "source": [
        "#loading the cleaned dataset\n",
        "recipes = pd.read_csv('/Users/anupajayakody/BrainStation/CAPSTONE/DATA/RECIPES/recipe_sample_3.csv')"
      ]
    },
    {
      "cell_type": "code",
      "execution_count": 8,
      "id": "e5c557af",
      "metadata": {},
      "outputs": [
        {
          "data": {
            "text/plain": [
              "(521766, 32)"
            ]
          },
          "execution_count": 8,
          "metadata": {},
          "output_type": "execute_result"
        }
      ],
      "source": [
        "#checking\n",
        "recipes.shape"
      ]
    },
    {
      "cell_type": "code",
      "execution_count": 9,
      "id": "57c11c39",
      "metadata": {},
      "outputs": [
        {
          "data": {
            "text/plain": [
              "Index(['Unnamed: 0', 'RecipeId', 'Name', 'AuthorId', 'AuthorName', 'CookTime',\n",
              "       'PrepTime', 'TotalTime', 'DatePublished', 'Description', 'Images',\n",
              "       'RecipeCategory', 'Keywords', 'RecipeIngredientQuantities',\n",
              "       'RecipeIngredientParts', 'AggregatedRating', 'ReviewCount', 'Calories',\n",
              "       'FatContent', 'SaturatedFatContent', 'CholesterolContent',\n",
              "       'SodiumContent', 'CarbohydrateContent', 'FiberContent', 'SugarContent',\n",
              "       'ProteinContent', 'RecipeServings', 'RecipeYield', 'RecipeInstructions',\n",
              "       'length of ingredients', 'length_of_titles', 'Vegan/Not'],\n",
              "      dtype='object')"
            ]
          },
          "execution_count": 9,
          "metadata": {},
          "output_type": "execute_result"
        }
      ],
      "source": [
        "recipes.columns"
      ]
    },
    {
      "cell_type": "code",
      "execution_count": 10,
      "id": "2176754d",
      "metadata": {},
      "outputs": [],
      "source": [
        "recipes=recipes.drop('Unnamed: 0', axis=1)"
      ]
    },
    {
      "cell_type": "markdown",
      "id": "9f1e4b05",
      "metadata": {},
      "source": [
        "# <a id='toc2_'></a>[Option 1- Search by Ingredients](#toc0_)"
      ]
    },
    {
      "cell_type": "markdown",
      "id": "232d2946",
      "metadata": {},
      "source": [
        "## <a id='toc2_1_'></a>[Tokenization](#toc0_)"
      ]
    },
    {
      "cell_type": "markdown",
      "id": "8c62f2a1",
      "metadata": {
        "id": "8c62f2a1"
      },
      "source": [
        "As the next step, I will be refining the ingredients data to avoid biases from different words and to have more consistency for comparsion of the input data vs the recipe data in the database"
      ]
    },
    {
      "cell_type": "markdown",
      "id": "NgAIBeBk9LhX",
      "metadata": {
        "id": "NgAIBeBk9LhX"
      },
      "source": [
        "In Sprint 1, I followed a process where I had multiple lines of codes for each data cleaning step, here I am creating one parser function which can be used to clean both ingredients and title columns. Furthermore in Sprint 1, my ingredients were cleaned in a way that an example of 'red cabbage' would produce 2 tokens red and cabbage seperately, but in the project context, these words should remain in the original form as red cabbage to make sense. So I have changed my cleaning steps to incorporate that."
      ]
    },
    {
      "cell_type": "markdown",
      "id": "_u4AMZOe9LhX",
      "metadata": {
        "id": "_u4AMZOe9LhX"
      },
      "source": [
        "As the recipes will usually contain alot of measuring terms and this will repeat, I will remove them from the list for the cleaning purpose to remove the biases from them."
      ]
    },
    {
      "cell_type": "markdown",
      "id": "8VPE8eel9Lhc",
      "metadata": {
        "id": "8VPE8eel9Lhc"
      },
      "source": [
        "Next I will\n",
        "- break each ingredient list to tokens/words\n",
        "- lower case\n",
        "- remove stop words\n",
        "- remove verbs\n",
        "- remove measuring word\n",
        "- remove characters and numbers\n",
        "\n",
        "All this is done to remove any impact from those words/tokens to the tool as the recommendation engine should only map for the true ingredients."
      ]
    },
    {
      "cell_type": "code",
      "execution_count": 11,
      "id": "it4Ec-TQ9Lhc",
      "metadata": {
        "id": "it4Ec-TQ9Lhc"
      },
      "outputs": [],
      "source": [
        "def parser(input_keys): #function\n",
        "    \n",
        "    remove_= { 'oil', 'salt', 'pepper'}\n",
        "\n",
        "#defining measuring units\n",
        "\n",
        "    measurment_url= 'https://en.wikibooks.org/wiki/Cookbook:Units_of_measurement' #data source\n",
        "\n",
        "\n",
        "    measuring_words= ['ml', 'mL', 'milliliter', 'millilitre', 'cc' , 'cubic centimeter', 'l', 'L', 'liter', 'litre', 'dl', 'dL', 'deciliter', 'decilitre', 'teaspoon', 't' , 'tsp.',\n",
        "'tablespoon' , 'T', 'tbl', 'tbs', 'tbsp', 'fluid ounce', 'fl oz',  'gill', 'cup',  'c', 'pint', 'p', 'pt', 'fl pt',\n",
        "'quart', 'q', 'qt', 'fl qt', 'gallon' , 'g' , 'gal' , 'g', 'milligram', 'milligramme', 'g' , 'gram' , 'gramme', 'kg',\n",
        "'kilogram', 'kilogramme', 'pound', 'lb', 'ounce', 'oz', 'mm', 'millimeter', 'millimetre', 'cm' , 'centimeter', 'centimetre', 'm' , 'meter',\n",
        "'metre', 'inch', 'in', 'yard', '°C' , 'degree celsius','°F' ,'Farenheit', 'tsp']\n",
        "\n",
        "\n",
        "\n",
        "    ingredients_list = re.split(',', input_keys) #splitting the ingredients by commas\n",
        "\n",
        "    cleaned_ingredients = [] #new list to store cleaned ingredients\n",
        "\n",
        "    lemmatizer = WordNetLemmatizer() #lemmatizer\n",
        "\n",
        "    for ingredient in ingredients_list:\n",
        "        items = re.split(' ', ingredient)  #splitting each ingredient by space to process and clean each individual word\n",
        "\n",
        "        items = [word for word in items if word.isalpha()] #filtering only letters\n",
        "\n",
        "        #tagged_items= pos_tag(items) #tagging the words to identify verbs\n",
        "\n",
        "        #items= [word for word, pos in tagged_items if not pos.startswith('VB')] #filtering to remove any word which is a verb\n",
        "\n",
        "        items = [word.lower() for word in items] #lowercasing\n",
        "\n",
        "        items = [lemmatizer.lemmatize(word) for word in items] #lemmatizing\n",
        "\n",
        "        items = [word for word in items if word not in ENGLISH_STOP_WORDS] #removing stop words\n",
        "\n",
        "        items = [word for word in items if word not in measuring_words] #removing measuring words\n",
        "\n",
        "        items = [word for word in items if word not in remove_]\n",
        "\n",
        "        if items:\n",
        "            cleaned_ingredients.append(' '.join(items) ) #joining the individual words of the ingredient seperated by space\n",
        "    #cleaned_ingredients= ' '.join(cleaned_ingredients) #joining the ingreidents back seprated by commas\n",
        "\n",
        "\n",
        "    return cleaned_ingredients #return the list\n"
      ]
    },
    {
      "cell_type": "code",
      "execution_count": 76,
      "id": "28478038",
      "metadata": {},
      "outputs": [],
      "source": [
        "# def parser_new(input_keys):\n",
        "\n",
        "#     remove_= { 'oil', 'salt', 'pepper'}\n",
        "\n",
        "#     #defining measuring units\n",
        "\n",
        "#     measuring_words= ['ml', 'mL', 'milliliter', 'millilitre', 'cc' , 'cubic centimeter', 'l', 'L', 'liter', 'litre', 'dl', 'dL', 'deciliter', 'decilitre', 'teaspoon', 't' , 'tsp.','tablespoon' , 'T', 'tbl', 'tbs', 'tbsp', 'fluid ounce', 'fl oz',  'gill', 'cup',  'c', 'pint', 'p', 'pt', 'fl pt','quart', 'q', 'qt', 'fl qt', 'gallon' , 'g' , 'gal' , 'g', 'milligram', 'milligramme', 'g' , 'gram' , 'gramme', 'kg','kilogram', 'kilogramme', 'pound', 'lb', 'ounce', 'oz', 'mm', 'milimeter', 'millimetre', 'cm' , 'centimeter', 'centimetre', 'm' , 'meter','metre', 'inch', 'in', 'yard', '°C' , 'degree celsius','°F' ,'Farenheit', 'tsp']\n",
        "\n",
        "\n",
        "#     ingredients_list = re.split(',', input_keys)\n",
        "#     ingredients_cleaned = []\n",
        "#     lemmatizer = WordNetLemmatizer()\n",
        "#     for ingredient in ingredients_list:\n",
        "#         items = [lemmatizer.lemmatize(word.lower()) for word in ingredient.split() \n",
        "#                  if word.isalpha() and \n",
        "#                     word.lower() not in ENGLISH_STOP_WORDS and \n",
        "#                     word.lower() not in measuring_words and \n",
        "#                     word.lower() not in remove_]\n",
        "#         if items:\n",
        "#             ingredients_cleaned.append(' '.join(items))\n",
        "\n",
        "#     return ingredients_cleaned"
      ]
    },
    {
      "cell_type": "markdown",
      "id": "Rwhw4k0J9Lhc",
      "metadata": {
        "id": "Rwhw4k0J9Lhc"
      },
      "source": [
        "Perfect, I have my ingredients seperated by a comma in original form."
      ]
    },
    {
      "cell_type": "markdown",
      "id": "81021012",
      "metadata": {},
      "source": [
        "## <a id='toc2_2_'></a>[Modeling](#toc0_)"
      ]
    },
    {
      "cell_type": "markdown",
      "id": "327777fc",
      "metadata": {},
      "source": [
        "### <a id='toc2_2_1_'></a>[Word2vec](#toc0_)"
      ]
    },
    {
      "cell_type": "markdown",
      "id": "UDLVxtyp9Lhh",
      "metadata": {
        "id": "UDLVxtyp9Lhh"
      },
      "source": [
        "Since this is a text analysis, I will use Word2vec which will enable creating embeddings for each word which then can be  converted to a vector for further analysis."
      ]
    },
    {
      "cell_type": "code",
      "execution_count": 12,
      "id": "b5d5b5e9",
      "metadata": {},
      "outputs": [
        {
          "data": {
            "text/plain": [
              "0         blueberries, granulated sugar, vanilla yogurt,...\n",
              "1         saffron, milk, hot green chili peppers, onions...\n",
              "2         sugar, lemons, rind of, lemon, zest of, fresh ...\n",
              "3         extra firm tofu, eggplant, zucchini, mushrooms...\n",
              "4         plain tomato juice, cabbage, onion, carrots, c...\n",
              "                                ...                        \n",
              "521761    fresh ginger, unsalted butter, dark brown suga...\n",
              "521762    Dijon mustard, garlic, peppercorns, shallot, c...\n",
              "521763            half-and-half, heavy cream, brandy, sugar\n",
              "521764    wasabi paste, dill, English cucumber, smoked s...\n",
              "521765    hard-boiled eggs, breakfast sausage, panko bre...\n",
              "Name: RecipeIngredientParts, Length: 521766, dtype: object"
            ]
          },
          "execution_count": 12,
          "metadata": {},
          "output_type": "execute_result"
        }
      ],
      "source": [
        "ingredients= recipes['RecipeIngredientParts']\n",
        "ingredients"
      ]
    },
    {
      "cell_type": "code",
      "execution_count": 13,
      "metadata": {},
      "outputs": [],
      "source": [
        "#getting the parsed ingredients for the model\n",
        "ingredients= recipes['RecipeIngredientParts']\n",
        "ingredients_cleaned = ingredients.apply(parser)"
      ]
    },
    {
      "cell_type": "code",
      "execution_count": 1,
      "metadata": {},
      "outputs": [
        {
          "data": {
            "text/plain": [
              "'cc.en.300.bin'"
            ]
          },
          "execution_count": 1,
          "metadata": {},
          "output_type": "execute_result"
        }
      ],
      "source": [
        "import fasttext.util\n",
        "fasttext.util.download_model('en', if_exists='ignore')\n"
      ]
    },
    {
      "cell_type": "code",
      "execution_count": 14,
      "id": "85b69a8e",
      "metadata": {},
      "outputs": [
        {
          "name": "stderr",
          "output_type": "stream",
          "text": [
            "Warning : `load_model` does not return WordVectorModel or SupervisedModel any more, but a `FastText` object which is very similar.\n"
          ]
        }
      ],
      "source": [
        "\n",
        "\n",
        "fasttext_model = fasttext.load_model('cc.en.300.bin')\n",
        "\n",
        "#X_train_word_embeddings = [[fasttext_model.get_word_vector(token) for token in sentence_token.get_tokens()] for sentence_token in df_train['sentence_token']]"
      ]
    },
    {
      "cell_type": "code",
      "execution_count": 30,
      "id": "51qjy3W19Lhi",
      "metadata": {
        "id": "51qjy3W19Lhi",
        "outputId": "fb3c78cb-474c-4147-9835-8296bd0caa79"
      },
      "outputs": [
        {
          "ename": "TypeError",
          "evalue": "can only concatenate list (not \"str\") to list",
          "output_type": "error",
          "traceback": [
            "\u001b[0;31m---------------------------------------------------------------------------\u001b[0m",
            "\u001b[0;31mTypeError\u001b[0m                                 Traceback (most recent call last)",
            "\u001b[1;32m/Users/anupajayakody/BrainStation/CAPSTONE/CAPSTONE_GITHUB/Capstone/Notebooks/Capstone_v3 -Modelingy Glove New.ipynb Cell 25\u001b[0m line \u001b[0;36m3\n\u001b[1;32m      <a href='vscode-notebook-cell:/Users/anupajayakody/BrainStation/CAPSTONE/CAPSTONE_GITHUB/Capstone/Notebooks/Capstone_v3%20-Modelingy%20Glove%20New.ipynb#X33sZmlsZQ%3D%3D?line=0'>1</a>\u001b[0m \u001b[39mwith\u001b[39;00m \u001b[39mopen\u001b[39m(\u001b[39m'\u001b[39m\u001b[39mingredients_cleaned.txt\u001b[39m\u001b[39m'\u001b[39m, \u001b[39m'\u001b[39m\u001b[39mw\u001b[39m\u001b[39m'\u001b[39m) \u001b[39mas\u001b[39;00m f:\n\u001b[1;32m      <a href='vscode-notebook-cell:/Users/anupajayakody/BrainStation/CAPSTONE/CAPSTONE_GITHUB/Capstone/Notebooks/Capstone_v3%20-Modelingy%20Glove%20New.ipynb#X33sZmlsZQ%3D%3D?line=1'>2</a>\u001b[0m     \u001b[39mfor\u001b[39;00m sentence \u001b[39min\u001b[39;00m ingredients_cleaned:\n\u001b[0;32m----> <a href='vscode-notebook-cell:/Users/anupajayakody/BrainStation/CAPSTONE/CAPSTONE_GITHUB/Capstone/Notebooks/Capstone_v3%20-Modelingy%20Glove%20New.ipynb#X33sZmlsZQ%3D%3D?line=2'>3</a>\u001b[0m         f\u001b[39m.\u001b[39mwrite(sentence \u001b[39m+\u001b[39;49m \u001b[39m'\u001b[39;49m\u001b[39m\\n\u001b[39;49;00m\u001b[39m'\u001b[39;49m)\n\u001b[1;32m      <a href='vscode-notebook-cell:/Users/anupajayakody/BrainStation/CAPSTONE/CAPSTONE_GITHUB/Capstone/Notebooks/Capstone_v3%20-Modelingy%20Glove%20New.ipynb#X33sZmlsZQ%3D%3D?line=5'>6</a>\u001b[0m fasttext_train \u001b[39m=\u001b[39m fasttext\u001b[39m.\u001b[39mtrain_unsupervised(ingredients_cleaned\u001b[39m.\u001b[39mtxt, model\u001b[39m=\u001b[39m\u001b[39m'\u001b[39m\u001b[39mskipgram\u001b[39m\u001b[39m'\u001b[39m, dim\u001b[39m=\u001b[39m\u001b[39m100\u001b[39m, epoch\u001b[39m=\u001b[39m\u001b[39m10\u001b[39m)\n",
            "\u001b[0;31mTypeError\u001b[0m: can only concatenate list (not \"str\") to list"
          ]
        }
      ],
      "source": [
        "with open('ingredients_cleaned.txt', 'w') as f:\n",
        "    for sentence in ingredients_cleaned:\n",
        "        f.write(sentence + '\\n')\n",
        "\n",
        "\n",
        "fasttext_train = fasttext.train_unsupervised(ingredients_cleaned.txt, model='skipgram', dim=100, epoch=10)"
      ]
    },
    {
      "cell_type": "markdown",
      "id": "752ed809",
      "metadata": {},
      "source": [
        "### <a id='toc2_2_2_'></a>[Hyperparameter Evaluation](#toc0_)"
      ]
    },
    {
      "cell_type": "markdown",
      "id": "860c6314",
      "metadata": {},
      "source": [
        "Now I will check different options with the model to check which gives the lowest compute loss"
      ]
    },
    {
      "cell_type": "code",
      "execution_count": 14,
      "id": "16474b49",
      "metadata": {},
      "outputs": [
        {
          "data": {
            "text/plain": [
              "3315334.5"
            ]
          },
          "execution_count": 14,
          "metadata": {},
          "output_type": "execute_result"
        }
      ],
      "source": [
        "#loss with vector size 300\n",
        "phrases_model.get_latest_training_loss()"
      ]
    },
    {
      "cell_type": "code",
      "execution_count": 15,
      "id": "0916e482",
      "metadata": {},
      "outputs": [
        {
          "data": {
            "text/plain": [
              "3356238.25"
            ]
          },
          "execution_count": 15,
          "metadata": {},
          "output_type": "execute_result"
        }
      ],
      "source": [
        "#vector size 200\n",
        "phrases_model=Word2Vec(sentences=ingredients_cleaned,min_count=1, sg=0, window=15, workers=8, vector_size=200, compute_loss=True)\n",
        "phrases_model.get_latest_training_loss()"
      ]
    },
    {
      "cell_type": "code",
      "execution_count": 16,
      "id": "c2be8978",
      "metadata": {},
      "outputs": [
        {
          "data": {
            "text/plain": [
              "3339500.75"
            ]
          },
          "execution_count": 16,
          "metadata": {},
          "output_type": "execute_result"
        }
      ],
      "source": [
        "#vector size 100\n",
        "phrases_model=Word2Vec(sentences=ingredients_cleaned,min_count=1, sg=0, window=15, workers=8, vector_size=100, compute_loss=True)\n",
        "phrases_model.get_latest_training_loss()"
      ]
    },
    {
      "cell_type": "markdown",
      "id": "012d1b77",
      "metadata": {},
      "source": [
        "I am also going to iterate through hs, window, vector sizes to see if I can pick the best hyperparamters"
      ]
    },
    {
      "cell_type": "code",
      "execution_count": 63,
      "id": "1f3bb3ba",
      "metadata": {},
      "outputs": [
        {
          "name": "stdout",
          "output_type": "stream",
          "text": [
            "Word2vec model #0: {'compute_loss': 35.260963439941406, 'vector': 100, 'window': 10, 'hs_val': 0, 'train_time_mean': 0.01226965586344401, 'train_time_std': 0.0011047697882260541}\n",
            "Word2vec model #1: {'compute_loss': 43.018375396728516, 'vector': 100, 'window': 13, 'hs_val': 0, 'train_time_mean': 0.010471741358439127, 'train_time_std': 0.00017854239014103535}\n",
            "Word2vec model #2: {'compute_loss': 40.21577072143555, 'vector': 100, 'window': 15, 'hs_val': 0, 'train_time_mean': 0.008660713831583658, 'train_time_std': 0.00605768689186961}\n",
            "Word2vec model #3: {'compute_loss': 38.78705978393555, 'vector': 100, 'window': 18, 'hs_val': 0, 'train_time_mean': 0.010653972625732422, 'train_time_std': 0.0050531135646420455}\n",
            "Word2vec model #4: {'compute_loss': 51.48100662231445, 'vector': 100, 'window': 10, 'hs_val': 1, 'train_time_mean': 0.006104946136474609, 'train_time_std': 0.0069778311424303135}\n",
            "Word2vec model #5: {'compute_loss': 63.46973419189453, 'vector': 100, 'window': 13, 'hs_val': 1, 'train_time_mean': 0.01038066546122233, 'train_time_std': 0.006213821861428521}\n",
            "Word2vec model #6: {'compute_loss': 63.500179290771484, 'vector': 100, 'window': 15, 'hs_val': 1, 'train_time_mean': 0.012270847956339518, 'train_time_std': 0.004533110322773769}\n",
            "Word2vec model #7: {'compute_loss': 60.64885711669922, 'vector': 100, 'window': 18, 'hs_val': 1, 'train_time_mean': 0.004181623458862305, 'train_time_std': 0.004223576647633059}\n",
            "Word2vec model #8: {'compute_loss': 35.260963439941406, 'vector': 200, 'window': 10, 'hs_val': 0, 'train_time_mean': 0.011151711146036783, 'train_time_std': 0.008694938500264145}\n",
            "Word2vec model #9: {'compute_loss': 43.018375396728516, 'vector': 200, 'window': 13, 'hs_val': 0, 'train_time_mean': 0.011369148890177408, 'train_time_std': 0.008041699924511215}\n",
            "Word2vec model #10: {'compute_loss': 40.209678649902344, 'vector': 200, 'window': 15, 'hs_val': 0, 'train_time_mean': 0.00916894276936849, 'train_time_std': 0.006785241591705047}\n",
            "Word2vec model #11: {'compute_loss': 38.78705978393555, 'vector': 200, 'window': 18, 'hs_val': 0, 'train_time_mean': 0.007233540217081706, 'train_time_std': 0.006952540370343001}\n",
            "Word2vec model #12: {'compute_loss': 51.48100662231445, 'vector': 200, 'window': 10, 'hs_val': 1, 'train_time_mean': 0.014226118723551432, 'train_time_std': 0.0027858742821218314}\n",
            "Word2vec model #13: {'compute_loss': 63.46973419189453, 'vector': 200, 'window': 13, 'hs_val': 1, 'train_time_mean': 0.008254130681355795, 'train_time_std': 0.0007672818438835305}\n",
            "Word2vec model #14: {'compute_loss': 63.500179290771484, 'vector': 200, 'window': 15, 'hs_val': 1, 'train_time_mean': 0.005236466725667317, 'train_time_std': 0.007405482262354155}\n",
            "Word2vec model #15: {'compute_loss': 60.64885711669922, 'vector': 200, 'window': 18, 'hs_val': 1, 'train_time_mean': 0.016988754272460938, 'train_time_std': 0.002998501614770705}\n",
            "Word2vec model #16: {'compute_loss': 35.260963439941406, 'vector': 300, 'window': 10, 'hs_val': 0, 'train_time_mean': 0.010900497436523438, 'train_time_std': 0.005988354444093521}\n",
            "Word2vec model #17: {'compute_loss': 43.018375396728516, 'vector': 300, 'window': 13, 'hs_val': 0, 'train_time_mean': 0.013338804244995117, 'train_time_std': 0.009820434857452025}\n",
            "Word2vec model #18: {'compute_loss': 40.221858978271484, 'vector': 300, 'window': 15, 'hs_val': 0, 'train_time_mean': 0.008509079615275065, 'train_time_std': 0.0004106137555794243}\n",
            "Word2vec model #19: {'compute_loss': 38.78705978393555, 'vector': 300, 'window': 18, 'hs_val': 0, 'train_time_mean': 0.005566120147705078, 'train_time_std': 0.007871682602682657}\n",
            "Word2vec model #20: {'compute_loss': 51.48100662231445, 'vector': 300, 'window': 10, 'hs_val': 1, 'train_time_mean': 0.011100212732950846, 'train_time_std': 0.007854339473981533}\n",
            "Word2vec model #21: {'compute_loss': 63.46973419189453, 'vector': 300, 'window': 13, 'hs_val': 1, 'train_time_mean': 0.011303981145222982, 'train_time_std': 0.007995842875069247}\n",
            "Word2vec model #22: {'compute_loss': 63.51235580444336, 'vector': 300, 'window': 15, 'hs_val': 1, 'train_time_mean': 0.010955254236857096, 'train_time_std': 0.005043897984227785}\n",
            "Word2vec model #23: {'compute_loss': 60.64885711669922, 'vector': 300, 'window': 18, 'hs_val': 1, 'train_time_mean': 0.011778910954793295, 'train_time_std': 0.00837895479789728}\n",
            "Word2vec model #24: {'compute_loss': 506.5211486816406, 'vector': 100, 'window': 10, 'hs_val': 0, 'train_time_mean': 0.008154074350992838, 'train_time_std': 0.0010427288156240743}\n",
            "Word2vec model #25: {'compute_loss': 444.29071044921875, 'vector': 100, 'window': 13, 'hs_val': 0, 'train_time_mean': 0.007044076919555664, 'train_time_std': 0.007034142710630742}\n",
            "Word2vec model #26: {'compute_loss': 549.046142578125, 'vector': 100, 'window': 15, 'hs_val': 0, 'train_time_mean': 0.01682122548421224, 'train_time_std': 0.0005725685370632604}\n",
            "Word2vec model #27: {'compute_loss': 478.2265930175781, 'vector': 100, 'window': 18, 'hs_val': 0, 'train_time_mean': 0.005421161651611328, 'train_time_std': 0.0076666803315256675}\n",
            "Word2vec model #28: {'compute_loss': 855.756103515625, 'vector': 100, 'window': 10, 'hs_val': 1, 'train_time_mean': 0.01773532231648763, 'train_time_std': 0.00171585868120011}\n",
            "Word2vec model #29: {'compute_loss': 749.67138671875, 'vector': 100, 'window': 13, 'hs_val': 1, 'train_time_mean': 0.009896198908487955, 'train_time_std': 0.0004890515575814333}\n",
            "Word2vec model #30: {'compute_loss': 932.3141479492188, 'vector': 100, 'window': 15, 'hs_val': 1, 'train_time_mean': 0.006878773371378581, 'train_time_std': 0.006691046679907071}\n",
            "Word2vec model #31: {'compute_loss': 812.5990600585938, 'vector': 100, 'window': 18, 'hs_val': 1, 'train_time_mean': 0.009906848271687826, 'train_time_std': 0.007136189425407896}\n",
            "Word2vec model #32: {'compute_loss': 506.5271911621094, 'vector': 200, 'window': 10, 'hs_val': 0, 'train_time_mean': 0.011153062184651693, 'train_time_std': 0.007886415437639594}\n",
            "Word2vec model #33: {'compute_loss': 444.2176818847656, 'vector': 200, 'window': 13, 'hs_val': 0, 'train_time_mean': 0.005582888921101888, 'train_time_std': 0.007895397229444786}\n",
            "Word2vec model #34: {'compute_loss': 548.9976196289062, 'vector': 200, 'window': 15, 'hs_val': 0, 'train_time_mean': 0.011089722315470377, 'train_time_std': 0.007864277098854922}\n",
            "Word2vec model #35: {'compute_loss': 478.18402099609375, 'vector': 200, 'window': 18, 'hs_val': 0, 'train_time_mean': 0.01295320192972819, 'train_time_std': 0.005660738184730172}\n",
            "Word2vec model #36: {'compute_loss': 855.7255249023438, 'vector': 200, 'window': 10, 'hs_val': 1, 'train_time_mean': 0.00924539566040039, 'train_time_std': 0.006627949938792065}\n",
            "Word2vec model #37: {'compute_loss': 749.6165161132812, 'vector': 200, 'window': 13, 'hs_val': 1, 'train_time_mean': 0.01111761728922526, 'train_time_std': 0.007861614678799601}\n",
            "Word2vec model #38: {'compute_loss': 932.2653198242188, 'vector': 200, 'window': 15, 'hs_val': 1, 'train_time_mean': 0.005508104960123698, 'train_time_std': 0.007789636737581449}\n",
            "Word2vec model #39: {'compute_loss': 812.6112060546875, 'vector': 200, 'window': 18, 'hs_val': 1, 'train_time_mean': 0.011300404866536459, 'train_time_std': 0.008145100600871787}\n",
            "Word2vec model #40: {'compute_loss': 506.4664001464844, 'vector': 300, 'window': 10, 'hs_val': 0, 'train_time_mean': 0.01215815544128418, 'train_time_std': 0.0028638487278682162}\n",
            "Word2vec model #41: {'compute_loss': 444.1872863769531, 'vector': 300, 'window': 13, 'hs_val': 0, 'train_time_mean': 0.009851535161336264, 'train_time_std': 0.0013453505774059244}\n",
            "Word2vec model #42: {'compute_loss': 548.9307250976562, 'vector': 300, 'window': 15, 'hs_val': 0, 'train_time_mean': 0.0056149959564208984, 'train_time_std': 0.007940803434240523}\n",
            "Word2vec model #43: {'compute_loss': 478.11114501953125, 'vector': 300, 'window': 18, 'hs_val': 0, 'train_time_mean': 0.011988083521525065, 'train_time_std': 0.009083073742728565}\n",
            "Word2vec model #44: {'compute_loss': 855.6646728515625, 'vector': 300, 'window': 10, 'hs_val': 1, 'train_time_mean': 0.016016642252604168, 'train_time_std': 0.001549561288567254}\n",
            "Word2vec model #45: {'compute_loss': 749.5922241210938, 'vector': 300, 'window': 13, 'hs_val': 1, 'train_time_mean': 0.010650316874186197, 'train_time_std': 0.006979062804903131}\n",
            "Word2vec model #46: {'compute_loss': 932.2227172851562, 'vector': 300, 'window': 15, 'hs_val': 1, 'train_time_mean': 0.012880166371663412, 'train_time_std': 0.0054564506131789415}\n",
            "Word2vec model #47: {'compute_loss': 812.4954833984375, 'vector': 300, 'window': 18, 'hs_val': 1, 'train_time_mean': 0.0041417280832926435, 'train_time_std': 0.003480981975937288}\n",
            "Word2vec model #48: {'compute_loss': 13.399166107177734, 'vector': 100, 'window': 10, 'hs_val': 0, 'train_time_mean': 0.022020578384399414, 'train_time_std': 0.00896338113159221}\n",
            "Word2vec model #49: {'compute_loss': 10.578289031982422, 'vector': 100, 'window': 13, 'hs_val': 0, 'train_time_mean': 0.031699577967325844, 'train_time_std': 0.025981644743121958}\n",
            "Word2vec model #50: {'compute_loss': 14.104385375976562, 'vector': 100, 'window': 15, 'hs_val': 0, 'train_time_mean': 0.006792227427164714, 'train_time_std': 0.006648873254618442}\n",
            "Word2vec model #51: {'compute_loss': 11.988727569580078, 'vector': 100, 'window': 18, 'hs_val': 0, 'train_time_mean': 0.010458151499430338, 'train_time_std': 0.007395215247505645}\n",
            "Word2vec model #52: {'compute_loss': 16.220043182373047, 'vector': 100, 'window': 10, 'hs_val': 1, 'train_time_mean': 0.005231380462646484, 'train_time_std': 0.007398289200208295}\n",
            "Word2vec model #53: {'compute_loss': 13.399166107177734, 'vector': 100, 'window': 13, 'hs_val': 1, 'train_time_mean': 0.010559876759847006, 'train_time_std': 0.007467133324014149}\n",
            "Word2vec model #54: {'compute_loss': 16.925262451171875, 'vector': 100, 'window': 15, 'hs_val': 1, 'train_time_mean': 0.005373477935791016, 'train_time_std': 0.007599245373908238}\n",
            "Word2vec model #55: {'compute_loss': 14.80960464477539, 'vector': 100, 'window': 18, 'hs_val': 1, 'train_time_mean': 0.011040290196736654, 'train_time_std': 0.007829826708816103}\n",
            "Word2vec model #56: {'compute_loss': 13.399166107177734, 'vector': 200, 'window': 10, 'hs_val': 0, 'train_time_mean': 0.010313669840494791, 'train_time_std': 0.0018330930493375883}\n",
            "Word2vec model #57: {'compute_loss': 10.578289031982422, 'vector': 200, 'window': 13, 'hs_val': 0, 'train_time_mean': 0.0077288150787353516, 'train_time_std': 0.00640623959866587}\n",
            "Word2vec model #58: {'compute_loss': 14.104385375976562, 'vector': 200, 'window': 15, 'hs_val': 0, 'train_time_mean': 0.008218129475911459, 'train_time_std': 0.006630982784536767}\n",
            "Word2vec model #59: {'compute_loss': 11.988727569580078, 'vector': 200, 'window': 18, 'hs_val': 0, 'train_time_mean': 0.006062746047973633, 'train_time_std': 0.008574017686268195}\n",
            "Word2vec model #60: {'compute_loss': 16.220043182373047, 'vector': 200, 'window': 10, 'hs_val': 1, 'train_time_mean': 0.010616302490234375, 'train_time_std': 0.007510541856967798}\n",
            "Word2vec model #61: {'compute_loss': 13.399166107177734, 'vector': 200, 'window': 13, 'hs_val': 1, 'train_time_mean': 0.009128093719482422, 'train_time_std': 0.0061039149661603455}\n",
            "Word2vec model #62: {'compute_loss': 16.925262451171875, 'vector': 200, 'window': 15, 'hs_val': 1, 'train_time_mean': 0.011230786641438803, 'train_time_std': 0.004539148093159442}\n",
            "Word2vec model #63: {'compute_loss': 14.80960464477539, 'vector': 200, 'window': 18, 'hs_val': 1, 'train_time_mean': 0.00501243273417155, 'train_time_std': 0.00406686330841894}\n",
            "Word2vec model #64: {'compute_loss': 13.399166107177734, 'vector': 300, 'window': 10, 'hs_val': 0, 'train_time_mean': 0.011615673700968424, 'train_time_std': 0.008323116174503228}\n",
            "Word2vec model #65: {'compute_loss': 10.578289031982422, 'vector': 300, 'window': 13, 'hs_val': 0, 'train_time_mean': 0.012562990188598633, 'train_time_std': 0.008074642383706953}\n",
            "Word2vec model #66: {'compute_loss': 14.104385375976562, 'vector': 300, 'window': 15, 'hs_val': 0, 'train_time_mean': 0.011130650838216146, 'train_time_std': 0.007904304701259612}\n",
            "Word2vec model #67: {'compute_loss': 11.988727569580078, 'vector': 300, 'window': 18, 'hs_val': 0, 'train_time_mean': 0.00977166493733724, 'train_time_std': 0.007365322109675618}\n",
            "Word2vec model #68: {'compute_loss': 16.220043182373047, 'vector': 300, 'window': 10, 'hs_val': 1, 'train_time_mean': 0.009367863337198893, 'train_time_std': 0.008788211148730513}\n",
            "Word2vec model #69: {'compute_loss': 13.399166107177734, 'vector': 300, 'window': 13, 'hs_val': 1, 'train_time_mean': 0.006360212961832683, 'train_time_std': 0.003524759095304595}\n",
            "Word2vec model #70: {'compute_loss': 16.925262451171875, 'vector': 300, 'window': 15, 'hs_val': 1, 'train_time_mean': 0.010618209838867188, 'train_time_std': 0.0075092677812427355}\n",
            "Word2vec model #71: {'compute_loss': 14.80960464477539, 'vector': 300, 'window': 18, 'hs_val': 1, 'train_time_mean': 0.00541838010152181, 'train_time_std': 0.007314057932620997}\n",
            "Word2vec model #72: {'compute_loss': 259.2165832519531, 'vector': 100, 'window': 10, 'hs_val': 0, 'train_time_mean': 0.012592792510986328, 'train_time_std': 0.009122896145732742}\n",
            "Word2vec model #73: {'compute_loss': 298.7336730957031, 'vector': 100, 'window': 13, 'hs_val': 0, 'train_time_mean': 0.010759274164835611, 'train_time_std': 0.007610630903924533}\n",
            "Word2vec model #74: {'compute_loss': 230.24774169921875, 'vector': 100, 'window': 15, 'hs_val': 0, 'train_time_mean': 0.011344353357950846, 'train_time_std': 0.009434360734864693}\n",
            "Word2vec model #75: {'compute_loss': 289.65704345703125, 'vector': 100, 'window': 18, 'hs_val': 0, 'train_time_mean': 0.00816202163696289, 'train_time_std': 0.001814723209298065}\n",
            "Word2vec model #76: {'compute_loss': 424.62939453125, 'vector': 100, 'window': 10, 'hs_val': 1, 'train_time_mean': 0.010529279708862305, 'train_time_std': 0.0074453578674557215}\n",
            "Word2vec model #77: {'compute_loss': 489.5895690917969, 'vector': 100, 'window': 13, 'hs_val': 1, 'train_time_mean': 0.01067503293355306, 'train_time_std': 0.00755316358781772}\n",
            "Word2vec model #78: {'compute_loss': 376.5035400390625, 'vector': 100, 'window': 15, 'hs_val': 1, 'train_time_mean': 0.006624142328898112, 'train_time_std': 0.006667801174358608}\n",
            "Word2vec model #79: {'compute_loss': 480.5307922363281, 'vector': 100, 'window': 18, 'hs_val': 1, 'train_time_mean': 0.013417561848958334, 'train_time_std': 0.00531377765149057}\n",
            "Word2vec model #80: {'compute_loss': 259.3140869140625, 'vector': 200, 'window': 10, 'hs_val': 0, 'train_time_mean': 0.019371430079142254, 'train_time_std': 0.00829287667825911}\n",
            "Word2vec model #81: {'compute_loss': 298.849365234375, 'vector': 200, 'window': 13, 'hs_val': 0, 'train_time_mean': 0.014172554016113281, 'train_time_std': 0.0029480580290946485}\n",
            "Word2vec model #82: {'compute_loss': 230.27816772460938, 'vector': 200, 'window': 15, 'hs_val': 0, 'train_time_mean': 0.012325048446655273, 'train_time_std': 0.0057523102434748905}\n",
            "Word2vec model #83: {'compute_loss': 289.693603515625, 'vector': 200, 'window': 18, 'hs_val': 0, 'train_time_mean': 0.010536432266235352, 'train_time_std': 0.007451066392955588}\n",
            "Word2vec model #84: {'compute_loss': 424.7266540527344, 'vector': 200, 'window': 10, 'hs_val': 1, 'train_time_mean': 0.010541995366414389, 'train_time_std': 0.009196041512129102}\n",
            "Word2vec model #85: {'compute_loss': 489.6990051269531, 'vector': 200, 'window': 13, 'hs_val': 1, 'train_time_mean': 0.011126836140950521, 'train_time_std': 0.00319458660811742}\n",
            "Word2vec model #86: {'compute_loss': 376.52789306640625, 'vector': 200, 'window': 15, 'hs_val': 1, 'train_time_mean': 0.016186952590942383, 'train_time_std': 0.00045377517793920586}\n",
            "Word2vec model #87: {'compute_loss': 480.5915222167969, 'vector': 200, 'window': 18, 'hs_val': 1, 'train_time_mean': 0.01051942507425944, 'train_time_std': 0.007375432303625849}\n",
            "Word2vec model #88: {'compute_loss': 259.2897033691406, 'vector': 300, 'window': 10, 'hs_val': 0, 'train_time_mean': 0.005307833353678386, 'train_time_std': 0.007506409915588242}\n",
            "Word2vec model #89: {'compute_loss': 298.81890869140625, 'vector': 300, 'window': 13, 'hs_val': 0, 'train_time_mean': 0.012674331665039062, 'train_time_std': 0.009288723716605881}\n",
            "Word2vec model #90: {'compute_loss': 230.29034423828125, 'vector': 300, 'window': 15, 'hs_val': 0, 'train_time_mean': 0.008077700932820639, 'train_time_std': 9.79832357855722e-05}\n",
            "Word2vec model #91: {'compute_loss': 289.693603515625, 'vector': 300, 'window': 18, 'hs_val': 0, 'train_time_mean': 0.007655938466389974, 'train_time_std': 0.006424834023297113}\n",
            "Word2vec model #92: {'compute_loss': 424.66583251953125, 'vector': 300, 'window': 10, 'hs_val': 1, 'train_time_mean': 0.010575215021769205, 'train_time_std': 0.007479158283091636}\n",
            "Word2vec model #93: {'compute_loss': 489.68084716796875, 'vector': 300, 'window': 13, 'hs_val': 1, 'train_time_mean': 0.010875463485717773, 'train_time_std': 0.007704098956242739}\n",
            "Word2vec model #94: {'compute_loss': 376.5339660644531, 'vector': 300, 'window': 15, 'hs_val': 1, 'train_time_mean': 0.005292733510335286, 'train_time_std': 0.007485055512342722}\n",
            "Word2vec model #95: {'compute_loss': 480.5673522949219, 'vector': 300, 'window': 18, 'hs_val': 1, 'train_time_mean': 0.01506193478902181, 'train_time_std': 0.0009605412088795815}\n",
            "Word2vec model #96: {'compute_loss': 12.693946838378906, 'vector': 100, 'window': 10, 'hs_val': 0, 'train_time_mean': 0.008672475814819336, 'train_time_std': 0.0008723742216673808}\n",
            "Word2vec model #97: {'compute_loss': 10.578289031982422, 'vector': 100, 'window': 13, 'hs_val': 0, 'train_time_mean': 0.005613565444946289, 'train_time_std': 0.007938780385512}\n",
            "Word2vec model #98: {'compute_loss': 9.167850494384766, 'vector': 100, 'window': 15, 'hs_val': 0, 'train_time_mean': 0.012598673502604166, 'train_time_std': 0.0032553842301920196}\n",
            "Word2vec model #99: {'compute_loss': 17.630481719970703, 'vector': 100, 'window': 18, 'hs_val': 0, 'train_time_mean': 0.007047971089680989, 'train_time_std': 0.009967336302240337}\n",
            "Word2vec model #100: {'compute_loss': 15.514823913574219, 'vector': 100, 'window': 10, 'hs_val': 1, 'train_time_mean': 0.012129465738932291, 'train_time_std': 0.008593168370633772}\n",
            "Word2vec model #101: {'compute_loss': 13.399166107177734, 'vector': 100, 'window': 13, 'hs_val': 1, 'train_time_mean': 0.013164281845092773, 'train_time_std': 0.009438715764351516}\n",
            "Word2vec model #102: {'compute_loss': 11.28350830078125, 'vector': 100, 'window': 15, 'hs_val': 1, 'train_time_mean': 0.010461091995239258, 'train_time_std': 0.00037603137639296544}\n",
            "Word2vec model #103: {'compute_loss': 21.861797332763672, 'vector': 100, 'window': 18, 'hs_val': 1, 'train_time_mean': 0.008688608805338541, 'train_time_std': 0.006684623543857904}\n",
            "Word2vec model #104: {'compute_loss': 12.693946838378906, 'vector': 200, 'window': 10, 'hs_val': 0, 'train_time_mean': 0.010657628377278646, 'train_time_std': 0.007541706192988272}\n",
            "Word2vec model #105: {'compute_loss': 10.578289031982422, 'vector': 200, 'window': 13, 'hs_val': 0, 'train_time_mean': 0.005213101704915364, 'train_time_std': 0.007372439133121613}\n",
            "Word2vec model #106: {'compute_loss': 9.167850494384766, 'vector': 200, 'window': 15, 'hs_val': 0, 'train_time_mean': 0.010433594385782877, 'train_time_std': 0.007377748092042113}\n",
            "Word2vec model #107: {'compute_loss': 17.630481719970703, 'vector': 200, 'window': 18, 'hs_val': 0, 'train_time_mean': 0.009953816731770834, 'train_time_std': 0.007412637841226873}\n",
            "Word2vec model #108: {'compute_loss': 15.514823913574219, 'vector': 200, 'window': 10, 'hs_val': 1, 'train_time_mean': 0.008456707000732422, 'train_time_std': 0.0006839590645605707}\n",
            "Word2vec model #109: {'compute_loss': 13.399166107177734, 'vector': 200, 'window': 13, 'hs_val': 1, 'train_time_mean': 0.00715486208597819, 'train_time_std': 0.006842884481276137}\n",
            "Word2vec model #110: {'compute_loss': 11.28350830078125, 'vector': 200, 'window': 15, 'hs_val': 1, 'train_time_mean': 0.010418256123860678, 'train_time_std': 0.007366821716411388}\n",
            "Word2vec model #111: {'compute_loss': 21.861797332763672, 'vector': 200, 'window': 18, 'hs_val': 1, 'train_time_mean': 0.011734326680501303, 'train_time_std': 0.008429145029133448}\n",
            "Word2vec model #112: {'compute_loss': 12.693946838378906, 'vector': 300, 'window': 10, 'hs_val': 0, 'train_time_mean': 0.011345386505126953, 'train_time_std': 0.008085793150926111}\n",
            "Word2vec model #113: {'compute_loss': 10.578289031982422, 'vector': 300, 'window': 13, 'hs_val': 0, 'train_time_mean': 0.005520343780517578, 'train_time_std': 0.007806945043369923}\n",
            "Word2vec model #114: {'compute_loss': 9.167850494384766, 'vector': 300, 'window': 15, 'hs_val': 0, 'train_time_mean': 0.014171282450358072, 'train_time_std': 0.0073499021911769625}\n",
            "Word2vec model #115: {'compute_loss': 17.630481719970703, 'vector': 300, 'window': 18, 'hs_val': 0, 'train_time_mean': 0.008994340896606445, 'train_time_std': 0.005275443860347157}\n",
            "Word2vec model #116: {'compute_loss': 15.514823913574219, 'vector': 300, 'window': 10, 'hs_val': 1, 'train_time_mean': 0.0050898392995198565, 'train_time_std': 0.007198119767680556}\n",
            "Word2vec model #117: {'compute_loss': 13.399166107177734, 'vector': 300, 'window': 13, 'hs_val': 1, 'train_time_mean': 0.010745922724405924, 'train_time_std': 0.007604045186210971}\n",
            "Word2vec model #118: {'compute_loss': 11.28350830078125, 'vector': 300, 'window': 15, 'hs_val': 1, 'train_time_mean': 0.005217075347900391, 'train_time_std': 0.007378058712923066}\n",
            "Word2vec model #119: {'compute_loss': 21.861797332763672, 'vector': 300, 'window': 18, 'hs_val': 1, 'train_time_mean': 0.010793606440226236, 'train_time_std': 0.0076458197660331665}\n",
            "Word2vec model #120: {'compute_loss': 137.6331024169922, 'vector': 100, 'window': 10, 'hs_val': 0, 'train_time_mean': 0.010014851888020834, 'train_time_std': 0.00912539181597663}\n",
            "Word2vec model #121: {'compute_loss': 180.05567932128906, 'vector': 100, 'window': 13, 'hs_val': 0, 'train_time_mean': 0.0069798628489176435, 'train_time_std': 0.0014907952392954173}\n",
            "Word2vec model #122: {'compute_loss': 122.18548583984375, 'vector': 100, 'window': 15, 'hs_val': 0, 'train_time_mean': 0.00552670160929362, 'train_time_std': 0.007815936371052247}\n",
            "Word2vec model #123: {'compute_loss': 136.9583740234375, 'vector': 100, 'window': 18, 'hs_val': 0, 'train_time_mean': 0.011953592300415039, 'train_time_std': 0.008617936059669432}\n",
            "Word2vec model #124: {'compute_loss': 221.65122985839844, 'vector': 100, 'window': 10, 'hs_val': 1, 'train_time_mean': 0.01075434684753418, 'train_time_std': 0.007605490507372045}\n",
            "Word2vec model #125: {'compute_loss': 291.632568359375, 'vector': 100, 'window': 13, 'hs_val': 1, 'train_time_mean': 0.01066748301188151, 'train_time_std': 0.007544585540702282}\n",
            "Word2vec model #126: {'compute_loss': 190.74964904785156, 'vector': 100, 'window': 15, 'hs_val': 1, 'train_time_mean': 0.01444697380065918, 'train_time_std': 0.010726908102590577}\n",
            "Word2vec model #127: {'compute_loss': 218.15565490722656, 'vector': 100, 'window': 18, 'hs_val': 1, 'train_time_mean': 0.012792269388834635, 'train_time_std': 0.003849154637521017}\n",
            "Word2vec model #128: {'compute_loss': 137.6269989013672, 'vector': 200, 'window': 10, 'hs_val': 0, 'train_time_mean': 0.005231936772664388, 'train_time_std': 0.0073990759413804985}\n",
            "Word2vec model #129: {'compute_loss': 180.0374298095703, 'vector': 200, 'window': 13, 'hs_val': 0, 'train_time_mean': 0.005219777425130208, 'train_time_std': 0.007381880027188053}\n",
            "Word2vec model #130: {'compute_loss': 122.19767761230469, 'vector': 200, 'window': 15, 'hs_val': 0, 'train_time_mean': 0.01058506965637207, 'train_time_std': 0.0074851201535167744}\n",
            "Word2vec model #131: {'compute_loss': 136.92794799804688, 'vector': 200, 'window': 18, 'hs_val': 0, 'train_time_mean': 0.01343687375386556, 'train_time_std': 0.01019721527362016}\n",
            "Word2vec model #132: {'compute_loss': 221.6330108642578, 'vector': 200, 'window': 10, 'hs_val': 1, 'train_time_mean': 0.009797096252441406, 'train_time_std': 0.0006325494580613924}\n",
            "Word2vec model #133: {'compute_loss': 291.5838317871094, 'vector': 200, 'window': 13, 'hs_val': 1, 'train_time_mean': 0.012018044789632162, 'train_time_std': 0.00558161842749976}\n",
            "Word2vec model #134: {'compute_loss': 190.72528076171875, 'vector': 200, 'window': 15, 'hs_val': 1, 'train_time_mean': 0.016614913940429688, 'train_time_std': 0.012043136643511903}\n",
            "Word2vec model #135: {'compute_loss': 218.11912536621094, 'vector': 200, 'window': 18, 'hs_val': 1, 'train_time_mean': 0.016109466552734375, 'train_time_std': 0.0003882696642643928}\n",
            "Word2vec model #136: {'compute_loss': 137.6269989013672, 'vector': 300, 'window': 10, 'hs_val': 0, 'train_time_mean': 0.017628590265909832, 'train_time_std': 0.006650491015866696}\n",
            "Word2vec model #137: {'compute_loss': 180.0435028076172, 'vector': 300, 'window': 13, 'hs_val': 0, 'train_time_mean': 0.02126630147298177, 'train_time_std': 0.007084058271992804}\n",
            "Word2vec model #138: {'compute_loss': 122.17938232421875, 'vector': 300, 'window': 15, 'hs_val': 0, 'train_time_mean': 0.026295264561971027, 'train_time_std': 0.005234778952612799}\n",
            "Word2vec model #139: {'compute_loss': 136.92181396484375, 'vector': 300, 'window': 18, 'hs_val': 0, 'train_time_mean': 0.019225676854451496, 'train_time_std': 0.002323525101949781}\n",
            "Word2vec model #140: {'compute_loss': 221.65127563476562, 'vector': 300, 'window': 10, 'hs_val': 1, 'train_time_mean': 0.019795020421346027, 'train_time_std': 0.0021134296132418935}\n",
            "Word2vec model #141: {'compute_loss': 291.6142578125, 'vector': 300, 'window': 13, 'hs_val': 1, 'train_time_mean': 0.015820900599161785, 'train_time_std': 0.005040854987820498}\n",
            "Word2vec model #142: {'compute_loss': 190.72525024414062, 'vector': 300, 'window': 15, 'hs_val': 1, 'train_time_mean': 0.010652860005696615, 'train_time_std': 0.0012534618104582933}\n",
            "Word2vec model #143: {'compute_loss': 218.11300659179688, 'vector': 300, 'window': 18, 'hs_val': 1, 'train_time_mean': 0.003011941909790039, 'train_time_std': 0.004259529097904995}\n",
            "Word2vec model #144: {'compute_loss': 151.06268310546875, 'vector': 100, 'window': 10, 'hs_val': 0, 'train_time_mean': 0.0064512888590494795, 'train_time_std': 0.008775174176717773}\n",
            "Word2vec model #145: {'compute_loss': 153.91403198242188, 'vector': 100, 'window': 13, 'hs_val': 0, 'train_time_mean': 0.005316495895385742, 'train_time_std': 0.007518660599555408}\n",
            "Word2vec model #146: {'compute_loss': 127.08537292480469, 'vector': 100, 'window': 15, 'hs_val': 0, 'train_time_mean': 0.016248623530069988, 'train_time_std': 0.007865327554054469}\n",
            "Word2vec model #147: {'compute_loss': 240.88699340820312, 'vector': 100, 'window': 18, 'hs_val': 0, 'train_time_mean': 0.008816242218017578, 'train_time_std': 0.006277492317930746}\n",
            "Word2vec model #148: {'compute_loss': 242.94163513183594, 'vector': 100, 'window': 10, 'hs_val': 1, 'train_time_mean': 0.009680430094401041, 'train_time_std': 0.0018638548593319152}\n",
            "Word2vec model #149: {'compute_loss': 246.449462890625, 'vector': 100, 'window': 13, 'hs_val': 1, 'train_time_mean': 0.008671124776204428, 'train_time_std': 0.005856798803951081}\n",
            "Word2vec model #150: {'compute_loss': 204.11834716796875, 'vector': 100, 'window': 15, 'hs_val': 1, 'train_time_mean': 0.005325158437093099, 'train_time_std': 0.007530911283522575}\n",
            "Word2vec model #151: {'compute_loss': 388.0059814453125, 'vector': 100, 'window': 18, 'hs_val': 1, 'train_time_mean': 0.011923074722290039, 'train_time_std': 0.005667758503028701}\n",
            "Word2vec model #152: {'compute_loss': 151.11141967773438, 'vector': 200, 'window': 10, 'hs_val': 0, 'train_time_mean': 0.0054467519124348955, 'train_time_std': 0.007702870425447023}\n",
            "Word2vec model #153: {'compute_loss': 153.9201202392578, 'vector': 200, 'window': 13, 'hs_val': 0, 'train_time_mean': 0.010839621225992838, 'train_time_std': 0.007675131261476789}\n",
            "Word2vec model #154: {'compute_loss': 127.0975570678711, 'vector': 200, 'window': 15, 'hs_val': 0, 'train_time_mean': 0.013832966486612955, 'train_time_std': 0.009781394588640835}\n",
            "Word2vec model #155: {'compute_loss': 240.9418487548828, 'vector': 200, 'window': 18, 'hs_val': 0, 'train_time_mean': 0.008517106374104818, 'train_time_std': 0.0008554033630107819}\n",
            "Word2vec model #156: {'compute_loss': 242.9781951904297, 'vector': 200, 'window': 10, 'hs_val': 1, 'train_time_mean': 0.0057677427927653, 'train_time_std': 0.008156820081808357}\n",
            "Word2vec model #157: {'compute_loss': 246.45550537109375, 'vector': 200, 'window': 13, 'hs_val': 1, 'train_time_mean': 0.010733842849731445, 'train_time_std': 0.007406918392688421}\n",
            "Word2vec model #158: {'compute_loss': 204.11219787597656, 'vector': 200, 'window': 15, 'hs_val': 1, 'train_time_mean': 0.011548519134521484, 'train_time_std': 0.008198289487600782}\n",
            "Word2vec model #159: {'compute_loss': 388.07904052734375, 'vector': 200, 'window': 18, 'hs_val': 1, 'train_time_mean': 0.012913227081298828, 'train_time_std': 0.0026677304391319093}\n",
            "Word2vec model #160: {'compute_loss': 151.09312438964844, 'vector': 300, 'window': 10, 'hs_val': 0, 'train_time_mean': 0.010640621185302734, 'train_time_std': 0.008357229902923}\n",
            "Word2vec model #161: {'compute_loss': 153.9627685546875, 'vector': 300, 'window': 13, 'hs_val': 0, 'train_time_mean': 0.009311834971110025, 'train_time_std': 0.004964990004017277}\n",
            "Word2vec model #162: {'compute_loss': 127.10973358154297, 'vector': 300, 'window': 15, 'hs_val': 0, 'train_time_mean': 0.010458946228027344, 'train_time_std': 0.007395748107785393}\n",
            "Word2vec model #163: {'compute_loss': 240.9600830078125, 'vector': 300, 'window': 18, 'hs_val': 0, 'train_time_mean': 0.007039864857991536, 'train_time_std': 0.006801063115345942}\n",
            "Word2vec model #164: {'compute_loss': 242.9659881591797, 'vector': 300, 'window': 10, 'hs_val': 1, 'train_time_mean': 0.010660250981648764, 'train_time_std': 0.00754153348590681}\n",
            "Word2vec model #165: {'compute_loss': 246.51039123535156, 'vector': 300, 'window': 13, 'hs_val': 1, 'train_time_mean': 0.01274871826171875, 'train_time_std': 0.009296599107797187}\n",
            "Word2vec model #166: {'compute_loss': 204.16098022460938, 'vector': 300, 'window': 15, 'hs_val': 1, 'train_time_mean': 0.012367804845174154, 'train_time_std': 0.002829765841736296}\n",
            "Word2vec model #167: {'compute_loss': 388.0972595214844, 'vector': 300, 'window': 18, 'hs_val': 1, 'train_time_mean': 0.008082151412963867, 'train_time_std': 0.006673448474109775}\n",
            "Word2vec model #168: {'compute_loss': 59.986263275146484, 'vector': 100, 'window': 10, 'hs_val': 0, 'train_time_mean': 0.010832945505777994, 'train_time_std': 0.007660584060266333}\n",
            "Word2vec model #169: {'compute_loss': 43.018375396728516, 'vector': 100, 'window': 13, 'hs_val': 0, 'train_time_mean': 0.011240084966023764, 'train_time_std': 0.007599189527809344}\n",
            "Word2vec model #170: {'compute_loss': 63.49408721923828, 'vector': 100, 'window': 15, 'hs_val': 0, 'train_time_mean': 0.010614713033040365, 'train_time_std': 0.007505739021974591}\n",
            "Word2vec model #171: {'compute_loss': 43.04882049560547, 'vector': 100, 'window': 18, 'hs_val': 0, 'train_time_mean': 0.012135664621988932, 'train_time_std': 0.010118877951858877}\n",
            "Word2vec model #172: {'compute_loss': 86.81497955322266, 'vector': 100, 'window': 10, 'hs_val': 1, 'train_time_mean': 0.010402599970499674, 'train_time_std': 0.00500719332333288}\n",
            "Word2vec model #173: {'compute_loss': 64.17495727539062, 'vector': 100, 'window': 13, 'hs_val': 1, 'train_time_mean': 0.005583047866821289, 'train_time_std': 0.007895622012636844}\n",
            "Word2vec model #174: {'compute_loss': 93.13140869140625, 'vector': 100, 'window': 15, 'hs_val': 1, 'train_time_mean': 0.01395877202351888, 'train_time_std': 0.0032656821897356562}\n",
            "Word2vec model #175: {'compute_loss': 63.51844024658203, 'vector': 100, 'window': 18, 'hs_val': 1, 'train_time_mean': 0.009544054667154947, 'train_time_std': 0.0021847323096900397}\n",
            "Word2vec model #176: {'compute_loss': 59.98626708984375, 'vector': 200, 'window': 10, 'hs_val': 0, 'train_time_mean': 0.010691324869791666, 'train_time_std': 0.007562804165981926}\n",
            "Word2vec model #177: {'compute_loss': 43.018375396728516, 'vector': 200, 'window': 13, 'hs_val': 0, 'train_time_mean': 0.009720325469970703, 'train_time_std': 0.008259870821641537}\n",
            "Word2vec model #178: {'compute_loss': 63.506263732910156, 'vector': 200, 'window': 15, 'hs_val': 0, 'train_time_mean': 0.005556424458821614, 'train_time_std': 0.00399555340230111}\n",
            "Word2vec model #179: {'compute_loss': 43.03664016723633, 'vector': 200, 'window': 18, 'hs_val': 0, 'train_time_mean': 0.01103520393371582, 'train_time_std': 0.007804945608590786}\n",
            "Word2vec model #180: {'compute_loss': 86.81494140625, 'vector': 200, 'window': 10, 'hs_val': 1, 'train_time_mean': 0.011667569478352865, 'train_time_std': 0.008375506665814688}\n",
            "Word2vec model #181: {'compute_loss': 64.17495727539062, 'vector': 200, 'window': 13, 'hs_val': 1, 'train_time_mean': 0.010487635930379232, 'train_time_std': 0.007416206856168715}\n",
            "Word2vec model #182: {'compute_loss': 93.16184997558594, 'vector': 200, 'window': 15, 'hs_val': 1, 'train_time_mean': 0.01327061653137207, 'train_time_std': 0.0022977684371680877}\n",
            "Word2vec model #183: {'compute_loss': 63.50626754760742, 'vector': 200, 'window': 18, 'hs_val': 1, 'train_time_mean': 0.00900427500406901, 'train_time_std': 0.0008673846017133014}\n",
            "Word2vec model #184: {'compute_loss': 59.98017501831055, 'vector': 300, 'window': 10, 'hs_val': 0, 'train_time_mean': 0.005256096522013347, 'train_time_std': 0.007433242986573329}\n",
            "Word2vec model #185: {'compute_loss': 43.018375396728516, 'vector': 300, 'window': 13, 'hs_val': 0, 'train_time_mean': 0.010557095209757486, 'train_time_std': 0.007466583568380958}\n",
            "Word2vec model #186: {'compute_loss': 63.49408721923828, 'vector': 300, 'window': 15, 'hs_val': 0, 'train_time_mean': 0.012638489405314127, 'train_time_std': 0.008952973927032861}\n",
            "Word2vec model #187: {'compute_loss': 43.06708526611328, 'vector': 300, 'window': 18, 'hs_val': 0, 'train_time_mean': 0.010467131932576498, 'train_time_std': 0.007401433423117832}\n",
            "Word2vec model #188: {'compute_loss': 86.80887603759766, 'vector': 300, 'window': 10, 'hs_val': 1, 'train_time_mean': 0.011972427368164062, 'train_time_std': 0.008510986705288808}\n",
            "Word2vec model #189: {'compute_loss': 64.17495727539062, 'vector': 300, 'window': 13, 'hs_val': 1, 'train_time_mean': 0.010008573532104492, 'train_time_std': 0.0012038145907647838}\n",
            "Word2vec model #190: {'compute_loss': 93.13749694824219, 'vector': 300, 'window': 15, 'hs_val': 1, 'train_time_mean': 0.006874561309814453, 'train_time_std': 0.009648687062578943}\n",
            "Word2vec model #191: {'compute_loss': 63.54888153076172, 'vector': 300, 'window': 18, 'hs_val': 1, 'train_time_mean': 0.010212977727254232, 'train_time_std': 0.007232064281110995}\n"
          ]
        },
        {
          "ename": "RuntimeError",
          "evalue": "you must first build vocabulary before training the model",
          "output_type": "error",
          "traceback": [
            "\u001b[1;31m---------------------------------------------------------------------------\u001b[0m",
            "\u001b[1;31mRuntimeError\u001b[0m                              Traceback (most recent call last)",
            "Cell \u001b[1;32mIn[63], line 21\u001b[0m\n\u001b[0;32m     19\u001b[0m \u001b[38;5;28;01mfor\u001b[39;00m i \u001b[38;5;129;01min\u001b[39;00m \u001b[38;5;28mrange\u001b[39m(\u001b[38;5;241m3\u001b[39m):\n\u001b[0;32m     20\u001b[0m     start_time \u001b[38;5;241m=\u001b[39m time\u001b[38;5;241m.\u001b[39mtime()\n\u001b[1;32m---> 21\u001b[0m     w2v_model \u001b[38;5;241m=\u001b[39m Word2Vec(\n\u001b[0;32m     22\u001b[0m         data,\n\u001b[0;32m     23\u001b[0m         compute_loss\u001b[38;5;241m=\u001b[39m\u001b[38;5;28;01mTrue\u001b[39;00m,\n\u001b[0;32m     24\u001b[0m         window\u001b[38;5;241m=\u001b[39m window,\n\u001b[0;32m     25\u001b[0m         vector_size\u001b[38;5;241m=\u001b[39mvector,\n\u001b[0;32m     26\u001b[0m         hs\u001b[38;5;241m=\u001b[39mhs_val,\n\u001b[0;32m     27\u001b[0m         seed\u001b[38;5;241m=\u001b[39mseed_val,\n\u001b[0;32m     28\u001b[0m     )\n\u001b[0;32m     29\u001b[0m     time_taken_list\u001b[38;5;241m.\u001b[39mappend(time\u001b[38;5;241m.\u001b[39mtime() \u001b[38;5;241m-\u001b[39m start_time)\n\u001b[0;32m     31\u001b[0m time_taken_list \u001b[38;5;241m=\u001b[39m np\u001b[38;5;241m.\u001b[39marray(time_taken_list)\n",
            "File \u001b[1;32mc:\\Users\\e312995\\AppData\\Local\\anaconda3\\Lib\\site-packages\\gensim\\models\\word2vec.py:430\u001b[0m, in \u001b[0;36mWord2Vec.__init__\u001b[1;34m(self, sentences, corpus_file, vector_size, alpha, window, min_count, max_vocab_size, sample, seed, workers, min_alpha, sg, hs, negative, ns_exponent, cbow_mean, hashfxn, epochs, null_word, trim_rule, sorted_vocab, batch_words, compute_loss, callbacks, comment, max_final_vocab, shrink_windows)\u001b[0m\n\u001b[0;32m    428\u001b[0m     \u001b[38;5;28mself\u001b[39m\u001b[38;5;241m.\u001b[39m_check_corpus_sanity(corpus_iterable\u001b[38;5;241m=\u001b[39mcorpus_iterable, corpus_file\u001b[38;5;241m=\u001b[39mcorpus_file, passes\u001b[38;5;241m=\u001b[39m(epochs \u001b[38;5;241m+\u001b[39m \u001b[38;5;241m1\u001b[39m))\n\u001b[0;32m    429\u001b[0m     \u001b[38;5;28mself\u001b[39m\u001b[38;5;241m.\u001b[39mbuild_vocab(corpus_iterable\u001b[38;5;241m=\u001b[39mcorpus_iterable, corpus_file\u001b[38;5;241m=\u001b[39mcorpus_file, trim_rule\u001b[38;5;241m=\u001b[39mtrim_rule)\n\u001b[1;32m--> 430\u001b[0m     \u001b[38;5;28mself\u001b[39m\u001b[38;5;241m.\u001b[39mtrain(\n\u001b[0;32m    431\u001b[0m         corpus_iterable\u001b[38;5;241m=\u001b[39mcorpus_iterable, corpus_file\u001b[38;5;241m=\u001b[39mcorpus_file, total_examples\u001b[38;5;241m=\u001b[39m\u001b[38;5;28mself\u001b[39m\u001b[38;5;241m.\u001b[39mcorpus_count,\n\u001b[0;32m    432\u001b[0m         total_words\u001b[38;5;241m=\u001b[39m\u001b[38;5;28mself\u001b[39m\u001b[38;5;241m.\u001b[39mcorpus_total_words, epochs\u001b[38;5;241m=\u001b[39m\u001b[38;5;28mself\u001b[39m\u001b[38;5;241m.\u001b[39mepochs, start_alpha\u001b[38;5;241m=\u001b[39m\u001b[38;5;28mself\u001b[39m\u001b[38;5;241m.\u001b[39malpha,\n\u001b[0;32m    433\u001b[0m         end_alpha\u001b[38;5;241m=\u001b[39m\u001b[38;5;28mself\u001b[39m\u001b[38;5;241m.\u001b[39mmin_alpha, compute_loss\u001b[38;5;241m=\u001b[39m\u001b[38;5;28mself\u001b[39m\u001b[38;5;241m.\u001b[39mcompute_loss, callbacks\u001b[38;5;241m=\u001b[39mcallbacks)\n\u001b[0;32m    434\u001b[0m \u001b[38;5;28;01melse\u001b[39;00m:\n\u001b[0;32m    435\u001b[0m     \u001b[38;5;28;01mif\u001b[39;00m trim_rule \u001b[38;5;129;01mis\u001b[39;00m \u001b[38;5;129;01mnot\u001b[39;00m \u001b[38;5;28;01mNone\u001b[39;00m:\n",
            "File \u001b[1;32mc:\\Users\\e312995\\AppData\\Local\\anaconda3\\Lib\\site-packages\\gensim\\models\\word2vec.py:1045\u001b[0m, in \u001b[0;36mWord2Vec.train\u001b[1;34m(self, corpus_iterable, corpus_file, total_examples, total_words, epochs, start_alpha, end_alpha, word_count, queue_factor, report_delay, compute_loss, callbacks, **kwargs)\u001b[0m\n\u001b[0;32m   1042\u001b[0m \u001b[38;5;28mself\u001b[39m\u001b[38;5;241m.\u001b[39mmin_alpha \u001b[38;5;241m=\u001b[39m end_alpha \u001b[38;5;129;01mor\u001b[39;00m \u001b[38;5;28mself\u001b[39m\u001b[38;5;241m.\u001b[39mmin_alpha\n\u001b[0;32m   1043\u001b[0m \u001b[38;5;28mself\u001b[39m\u001b[38;5;241m.\u001b[39mepochs \u001b[38;5;241m=\u001b[39m epochs\n\u001b[1;32m-> 1045\u001b[0m \u001b[38;5;28mself\u001b[39m\u001b[38;5;241m.\u001b[39m_check_training_sanity(epochs\u001b[38;5;241m=\u001b[39mepochs, total_examples\u001b[38;5;241m=\u001b[39mtotal_examples, total_words\u001b[38;5;241m=\u001b[39mtotal_words)\n\u001b[0;32m   1046\u001b[0m \u001b[38;5;28mself\u001b[39m\u001b[38;5;241m.\u001b[39m_check_corpus_sanity(corpus_iterable\u001b[38;5;241m=\u001b[39mcorpus_iterable, corpus_file\u001b[38;5;241m=\u001b[39mcorpus_file, passes\u001b[38;5;241m=\u001b[39mepochs)\n\u001b[0;32m   1048\u001b[0m \u001b[38;5;28mself\u001b[39m\u001b[38;5;241m.\u001b[39madd_lifecycle_event(\n\u001b[0;32m   1049\u001b[0m     \u001b[38;5;124m\"\u001b[39m\u001b[38;5;124mtrain\u001b[39m\u001b[38;5;124m\"\u001b[39m,\n\u001b[0;32m   1050\u001b[0m     msg\u001b[38;5;241m=\u001b[39m(\n\u001b[1;32m   (...)\u001b[0m\n\u001b[0;32m   1054\u001b[0m     ),\n\u001b[0;32m   1055\u001b[0m )\n",
            "File \u001b[1;32mc:\\Users\\e312995\\AppData\\Local\\anaconda3\\Lib\\site-packages\\gensim\\models\\word2vec.py:1543\u001b[0m, in \u001b[0;36mWord2Vec._check_training_sanity\u001b[1;34m(self, epochs, total_examples, total_words, **kwargs)\u001b[0m\n\u001b[0;32m   1540\u001b[0m     logger\u001b[38;5;241m.\u001b[39mwarning(\u001b[38;5;124m\"\u001b[39m\u001b[38;5;124mEffective \u001b[39m\u001b[38;5;124m'\u001b[39m\u001b[38;5;124malpha\u001b[39m\u001b[38;5;124m'\u001b[39m\u001b[38;5;124m higher than previous training cycles\u001b[39m\u001b[38;5;124m\"\u001b[39m)\n\u001b[0;32m   1542\u001b[0m \u001b[38;5;28;01mif\u001b[39;00m \u001b[38;5;129;01mnot\u001b[39;00m \u001b[38;5;28mself\u001b[39m\u001b[38;5;241m.\u001b[39mwv\u001b[38;5;241m.\u001b[39mkey_to_index:  \u001b[38;5;66;03m# should be set by `build_vocab`\u001b[39;00m\n\u001b[1;32m-> 1543\u001b[0m     \u001b[38;5;28;01mraise\u001b[39;00m \u001b[38;5;167;01mRuntimeError\u001b[39;00m(\u001b[38;5;124m\"\u001b[39m\u001b[38;5;124myou must first build vocabulary before training the model\u001b[39m\u001b[38;5;124m\"\u001b[39m)\n\u001b[0;32m   1544\u001b[0m \u001b[38;5;28;01mif\u001b[39;00m \u001b[38;5;129;01mnot\u001b[39;00m \u001b[38;5;28mlen\u001b[39m(\u001b[38;5;28mself\u001b[39m\u001b[38;5;241m.\u001b[39mwv\u001b[38;5;241m.\u001b[39mvectors):\n\u001b[0;32m   1545\u001b[0m     \u001b[38;5;28;01mraise\u001b[39;00m \u001b[38;5;167;01mRuntimeError\u001b[39;00m(\u001b[38;5;124m\"\u001b[39m\u001b[38;5;124myou must initialize vectors before training the model\u001b[39m\u001b[38;5;124m\"\u001b[39m)\n",
            "\u001b[1;31mRuntimeError\u001b[0m: you must first build vocabulary before training the model"
          ]
        }
      ],
      "source": [
        "# import time\n",
        "\n",
        "# train_time_values = []\n",
        "# seed_val = 42\n",
        "\n",
        "# hs_values = [0, 1]\n",
        "# vector_values= [100,200,300]\n",
        "# window_values= [10,13,15,18]\n",
        "\n",
        "# # Build vocabulary\n",
        "# #w2v_model = Word2Vec(ingredients_cleaned, vector_size=vector, window=window, hs=hs_val, seed=seed_val)\n",
        "\n",
        "\n",
        "# for data in ingredients_cleaned:\n",
        "#     for vector in vector_values:\n",
        "#         for hs_val in hs_values:\n",
        "#             for window in window_values:\n",
        "#                 time_taken_list = []\n",
        "#                 for i in range(3):\n",
        "#                     start_time = time.time()\n",
        "#                     w2v_model = Word2Vec(\n",
        "#                         data,\n",
        "#                         compute_loss=True,\n",
        "#                         window= window,\n",
        "#                         vector_size=vector,\n",
        "#                         hs=hs_val,\n",
        "#                         seed=seed_val,\n",
        "#                     )\n",
        "#                     time_taken_list.append(time.time() - start_time)\n",
        "\n",
        "#                 time_taken_list = np.array(time_taken_list)\n",
        "#                 time_mean = np.mean(time_taken_list)\n",
        "#                 time_std = np.std(time_taken_list)\n",
        "\n",
        "#                 model_result = {\n",
        "                    \n",
        "#                     'compute_loss': w2v_model.get_latest_training_loss(),\n",
        "#                     'vector': vector,\n",
        "#                     'window': window,\n",
        "#                     'hs_val': hs_val,\n",
        "#                     'train_time_mean': time_mean,\n",
        "#                     'train_time_std': time_std,\n",
        "#                 }\n",
        "#                 print(\"Word2vec model #%i: %s\" % (len(train_time_values), model_result))\n",
        "#                 train_time_values.append(model_result)\n",
        "\n",
        "# train_times_table = pd.DataFrame(train_time_values)\n",
        "# train_times_table = train_times_table.sort_values(\n",
        "#     by=['train_data',  'hs', 'compute_loss'],\n",
        "#     ascending=[False, False, False],\n",
        "# )\n",
        "# print(train_times_table)"
      ]
    },
    {
      "cell_type": "markdown",
      "id": "ed8d7e5e",
      "metadata": {},
      "source": [
        "As per above, vector sizes 100,200,300 gives similar compute losses with hs_val=0, Combining with the earlier training losses, I will proceed with below. \n",
        "\n",
        "Final model selection:\n",
        " - vector size= 200\n",
        " - hs= 0\n",
        " - window= 15"
      ]
    },
    {
      "cell_type": "code",
      "execution_count": 17,
      "id": "3ffbeb36",
      "metadata": {},
      "outputs": [],
      "source": [
        "#final model\n",
        "phrases_model=Word2Vec(sentences=ingredients_cleaned,min_count=1, sg=0, window=15, workers=8, vector_size=200, compute_loss=True, hs=0)"
      ]
    },
    {
      "cell_type": "code",
      "execution_count": 18,
      "id": "0f12d5d2",
      "metadata": {},
      "outputs": [],
      "source": [
        "#saving the model\n",
        "phrases_model.save('C:/Users/e312995/OneDrive - WESCO DISTRIBUTION/Documents/PERSONAL/BRAINSTATION/CAPSTONE/phrases_model_new(op1).bin')\n"
      ]
    },
    {
      "cell_type": "markdown",
      "id": "bb399da1",
      "metadata": {},
      "source": [
        "### <a id='toc2_2_3_'></a>[Word Embeddings](#toc0_)"
      ]
    },
    {
      "cell_type": "markdown",
      "id": "512edd47",
      "metadata": {},
      "source": [
        "Checking similar words to different ingredients if the model has been trained well.  "
      ]
    },
    {
      "cell_type": "code",
      "execution_count": 19,
      "id": "20e70481",
      "metadata": {},
      "outputs": [],
      "source": [
        "#getting the word embeddings to compare different ingredients\n",
        "embeddings_fasttext= [[fasttext_model.get_word_vector(word) for word in each_ingredient] for each_ingredient in ingredients_cleaned]\n",
        "\n"
      ]
    },
    {
      "cell_type": "code",
      "execution_count": 27,
      "id": "a279c375",
      "metadata": {},
      "outputs": [
        {
          "name": "stdout",
          "output_type": "stream",
          "text": [
            "[(0.7958936095237732, 'onions'), (0.6938650012016296, 'onion.'), (0.6936769485473633, 'garlic'), (0.662224531173706, 'leek'), (0.6499784588813782, 'tomato')]\n"
          ]
        }
      ],
      "source": [
        "print(fasttext_model.get_nearest_neighbors('onion', k=5)) #checking the most similar results for onion"
      ]
    },
    {
      "cell_type": "code",
      "execution_count": 22,
      "id": "nqCREoUv9Lhi",
      "metadata": {
        "id": "nqCREoUv9Lhi",
        "outputId": "6754aa52-9dbe-457d-b543-f220392af1b5"
      },
      "outputs": [
        {
          "name": "stdout",
          "output_type": "stream",
          "text": [
            "[(0.7676408290863037, 'Garlic'), (0.752762496471405, 'onions'), (0.7393237352371216, 'garlics'), (0.7099553346633911, 'garlic.'), (0.6936771869659424, 'onion'), (0.6884515881538391, 'garlicky'), (0.6884226202964783, 'parsley'), (0.682985246181488, 'oregano'), (0.6782285571098328, 'GARLIC'), (0.6725571155548096, 'rosemary')]\n"
          ]
        }
      ],
      "source": [
        "print(fasttext_model.get_nearest_neighbors(u'garlic'))#again checkin the most similar words to garlic"
      ]
    },
    {
      "cell_type": "code",
      "execution_count": 24,
      "id": "216956d7",
      "metadata": {},
      "outputs": [
        {
          "ename": "TypeError",
          "evalue": "getNN(): incompatible function arguments. The following argument types are supported:\n    1. (self: fasttext_pybind.fasttext, arg0: str, arg1: int, arg2: str) -> List[Tuple[float, str]]\n\nInvoked with: <fasttext_pybind.fasttext object at 0x3cbd176f0>, ('cheese', 'pasta'), 10, 'strict'",
          "output_type": "error",
          "traceback": [
            "\u001b[0;31m---------------------------------------------------------------------------\u001b[0m",
            "\u001b[0;31mTypeError\u001b[0m                                 Traceback (most recent call last)",
            "\u001b[1;32m/Users/anupajayakody/BrainStation/CAPSTONE/CAPSTONE_GITHUB/Capstone/Notebooks/Capstone_v3 -Modelingy Glove New.ipynb Cell 41\u001b[0m line \u001b[0;36m1\n\u001b[0;32m----> <a href='vscode-notebook-cell:/Users/anupajayakody/BrainStation/CAPSTONE/CAPSTONE_GITHUB/Capstone/Notebooks/Capstone_v3%20-Modelingy%20Glove%20New.ipynb#X55sZmlsZQ%3D%3D?line=0'>1</a>\u001b[0m \u001b[39mprint\u001b[39m(fasttext_model\u001b[39m.\u001b[39;49mget_nearest_neighbors((\u001b[39m'\u001b[39;49m\u001b[39mcheese\u001b[39;49m\u001b[39m'\u001b[39;49m, \u001b[39m'\u001b[39;49m\u001b[39mpasta\u001b[39;49m\u001b[39m'\u001b[39;49m)))\u001b[39m#checking for cheese pasta\u001b[39;00m\n",
            "File \u001b[0;32m/opt/homebrew/lib/python3.11/site-packages/fasttext/FastText.py:145\u001b[0m, in \u001b[0;36m_FastText.get_nearest_neighbors\u001b[0;34m(self, word, k, on_unicode_error)\u001b[0m\n\u001b[1;32m    144\u001b[0m \u001b[39mdef\u001b[39;00m \u001b[39mget_nearest_neighbors\u001b[39m(\u001b[39mself\u001b[39m, word, k\u001b[39m=\u001b[39m\u001b[39m10\u001b[39m, on_unicode_error\u001b[39m=\u001b[39m\u001b[39m'\u001b[39m\u001b[39mstrict\u001b[39m\u001b[39m'\u001b[39m):\n\u001b[0;32m--> 145\u001b[0m     \u001b[39mreturn\u001b[39;00m \u001b[39mself\u001b[39;49m\u001b[39m.\u001b[39;49mf\u001b[39m.\u001b[39;49mgetNN(word, k, on_unicode_error)\n",
            "\u001b[0;31mTypeError\u001b[0m: getNN(): incompatible function arguments. The following argument types are supported:\n    1. (self: fasttext_pybind.fasttext, arg0: str, arg1: int, arg2: str) -> List[Tuple[float, str]]\n\nInvoked with: <fasttext_pybind.fasttext object at 0x3cbd176f0>, ('cheese', 'pasta'), 10, 'strict'"
          ]
        }
      ],
      "source": [
        "print(fasttext_model.get_nearest_neighbors(('cheese', 'pasta')))#checking for cheese pasta"
      ]
    },
    {
      "cell_type": "markdown",
      "id": "RclKh9Gk9Lhi",
      "metadata": {
        "id": "RclKh9Gk9Lhi"
      },
      "source": [
        "I will try to use a tile map to show the similarity of a few ingredients"
      ]
    },
    {
      "cell_type": "code",
      "execution_count": 23,
      "id": "0Q7LfVBv9Lhi",
      "metadata": {
        "id": "0Q7LfVBv9Lhi",
        "outputId": "d40edfe7-67f0-459f-b5e3-e275cabbec6f"
      },
      "outputs": [
        {
          "data": {
            "image/png": "[encoded data removed]",
            "text/plain": [
              "<Figure size 2000x500 with 4 Axes>"
            ]
          },
          "metadata": {},
          "output_type": "display_data"
        }
      ],
      "source": [
        "word_list = ['onion', 'garlic', 'tuna', 'chicken'] #example\n",
        "\n",
        "plt.subplots(len(word_list), 1, figsize=(20, 5)) #plot\n",
        "\n",
        "for i, word in enumerate(word_list): #for loop to get each word in the list\n",
        "    plt.subplot(len(word_list), 1, i + 1) #subplot\n",
        "    plt.imshow(np.tile(embeddings[word], (10, 1))) #data\n",
        "    plt.xticks([]) #no xticks\n",
        "    plt.yticks([]) #no yticks\n",
        "    plt.title(f\"\\\"{word}\\\" embedding vector\") #title\n",
        "\n",
        "plt.tight_layout()\n",
        "plt.show()"
      ]
    },
    {
      "cell_type": "markdown",
      "id": "dDqvkyL39Lhi",
      "metadata": {
        "id": "dDqvkyL39Lhi"
      },
      "source": [
        "It is visible that words represent different distributions. Looks good. "
      ]
    },
    {
      "cell_type": "markdown",
      "id": "6da95313",
      "metadata": {},
      "source": [
        "### <a id='toc2_2_4_'></a>[Vectorisation](#toc0_)"
      ]
    },
    {
      "cell_type": "code",
      "execution_count": 24,
      "id": "242d95fe",
      "metadata": {},
      "outputs": [],
      "source": [
        "# user Input Processing\n",
        "user_input = 'egg', 'rice'  # User's input\n",
        "\n",
        "def recommender(user_input):\n",
        "\n",
        "    #parsing the user input\n",
        "    user_input = ','.join(map(str, user_input)) #converting to str, mapping and joining by the ','\n",
        "    \n",
        "    user_input.split(',')\n",
        "\n",
        "    user_input=parser(user_input)\n",
        "    \n",
        "\n",
        "\n",
        "# mean Embeddings for User Input\n",
        "    user_mean_vector =np.mean([phrases_model.wv[ingredient] for ingredient in user_input if ingredient in phrases_model.wv] or [np.zeros(200)], axis=0)\n",
        "\n",
        "\n",
        "\n",
        "# check if user_mean_vector contains NaN values\n",
        "    if np.isnan(user_mean_vector).any():\n",
        "        print(\"User input vectors contain NaN values.\")\n",
        "\n",
        "\n",
        "    else:\n",
        "\n",
        "    # mean ingredient vectors for each recipe\n",
        "        recipe_vectors = [np.mean([phrases_model.wv[sub_ingredient] for sub_ingredient in ingredient if sub_ingredient in phrases_model.wv] or [np.zeros(200)], axis=0) for ingredient in ingredients_cleaned]\n",
        "\n",
        "\n",
        "\n",
        "\n",
        "\n",
        "    # Check if any recipe vector contains NaN values\n",
        "        if not recipe_vectors:\n",
        "            print('nothing obtained for recipe vectors')\n",
        "\n",
        "        else:\n",
        "        \n",
        "        # cosine similarity between user mean vector and recipe mean vectors\n",
        "            cosine_similarities = cosine_similarity([user_mean_vector], recipe_vectors)\n",
        "\n",
        "\n",
        "        # indices of top N most similar recipes\n",
        "            top_recipes = np.argsort(cosine_similarities[0])[::-1][:5]\n",
        "\n",
        "\n",
        "\n",
        "            recommendation= pd.DataFrame( columns=['title','ingredients', 'calories', 'time', 'score'] ) #dataframe with columns\n",
        "\n",
        "    \n",
        "            for i in top_recipes: #defining the data for each recommendation\n",
        "\n",
        "            \n",
        "                title = recipes['Name'].iloc[i]\n",
        "                calories = recipes['Calories'].iloc[i]\n",
        "                time= recipes['TotalTime'].iloc[i]\n",
        "                ingredients = recipes['RecipeIngredientParts'].iloc[i]\n",
        "                score= cosine_similarities[0][i]\n",
        "                recommendation = recommendation.append(\n",
        "                                {'title': title, \n",
        "                                'ingredients': ingredients, \n",
        "                                'calories' : calories, \n",
        "                                'time' : time, \n",
        "                                'score': score}, \n",
        "                                     ignore_index=True)\n",
        "\n",
        "\n",
        "\n",
        "\n",
        "    return recommendation  \n"
      ]
    },
    {
      "cell_type": "code",
      "execution_count": 25,
      "id": "1f6ada1c",
      "metadata": {},
      "outputs": [
        {
          "name": "stderr",
          "output_type": "stream",
          "text": [
            "C:\\Users\\e312995\\AppData\\Local\\Temp\\ipykernel_36612\\4256167343.py:60: FutureWarning: The frame.append method is deprecated and will be removed from pandas in a future version. Use pandas.concat instead.\n",
            "  recommendation = recommendation.append(\n",
            "C:\\Users\\e312995\\AppData\\Local\\Temp\\ipykernel_36612\\4256167343.py:60: FutureWarning: The frame.append method is deprecated and will be removed from pandas in a future version. Use pandas.concat instead.\n",
            "  recommendation = recommendation.append(\n",
            "C:\\Users\\e312995\\AppData\\Local\\Temp\\ipykernel_36612\\4256167343.py:60: FutureWarning: The frame.append method is deprecated and will be removed from pandas in a future version. Use pandas.concat instead.\n",
            "  recommendation = recommendation.append(\n",
            "C:\\Users\\e312995\\AppData\\Local\\Temp\\ipykernel_36612\\4256167343.py:60: FutureWarning: The frame.append method is deprecated and will be removed from pandas in a future version. Use pandas.concat instead.\n",
            "  recommendation = recommendation.append(\n",
            "C:\\Users\\e312995\\AppData\\Local\\Temp\\ipykernel_36612\\4256167343.py:60: FutureWarning: The frame.append method is deprecated and will be removed from pandas in a future version. Use pandas.concat instead.\n",
            "  recommendation = recommendation.append(\n"
          ]
        },
        {
          "data": {
            "text/html": [
              "<div>\n",
              "<style scoped>\n",
              "    .dataframe tbody tr th:only-of-type {\n",
              "        vertical-align: middle;\n",
              "    }\n",
              "\n",
              "    .dataframe tbody tr th {\n",
              "        vertical-align: top;\n",
              "    }\n",
              "\n",
              "    .dataframe thead th {\n",
              "        text-align: right;\n",
              "    }\n",
              "</style>\n",
              "<table border=\"1\" class=\"dataframe\">\n",
              "  <thead>\n",
              "    <tr style=\"text-align: right;\">\n",
              "      <th></th>\n",
              "      <th>title</th>\n",
              "      <th>ingredients</th>\n",
              "      <th>calories</th>\n",
              "      <th>time</th>\n",
              "      <th>score</th>\n",
              "    </tr>\n",
              "  </thead>\n",
              "  <tbody>\n",
              "    <tr>\n",
              "      <th>0</th>\n",
              "      <td>Fdfds</td>\n",
              "      <td>egg, salt, rice, egg</td>\n",
              "      <td>7.2</td>\n",
              "      <td>PT1H</td>\n",
              "      <td>0.932441</td>\n",
              "    </tr>\n",
              "    <tr>\n",
              "      <th>1</th>\n",
              "      <td>Basic Chicken and Rice Dinner for Cats</td>\n",
              "      <td>chicken livers, rice, hard-boiled eggs</td>\n",
              "      <td>552.8</td>\n",
              "      <td>PT1H5M</td>\n",
              "      <td>0.928371</td>\n",
              "    </tr>\n",
              "    <tr>\n",
              "      <th>2</th>\n",
              "      <td>Rice Case for Quiches or Pies (Gluten-Free)</td>\n",
              "      <td>rice, fresh herb, egg</td>\n",
              "      <td>1743.5</td>\n",
              "      <td>PT25M</td>\n",
              "      <td>0.916540</td>\n",
              "    </tr>\n",
              "    <tr>\n",
              "      <th>3</th>\n",
              "      <td>Loco Moco Maui Style</td>\n",
              "      <td>white rice, eggs</td>\n",
              "      <td>266.5</td>\n",
              "      <td>PT10M</td>\n",
              "      <td>0.906431</td>\n",
              "    </tr>\n",
              "    <tr>\n",
              "      <th>4</th>\n",
              "      <td>Miso-egg Congee</td>\n",
              "      <td>miso, egg, rice</td>\n",
              "      <td>249.0</td>\n",
              "      <td>PT35M</td>\n",
              "      <td>0.895424</td>\n",
              "    </tr>\n",
              "  </tbody>\n",
              "</table>\n",
              "</div>"
            ],
            "text/plain": [
              "                                         title  \\\n",
              "0                                        Fdfds   \n",
              "1       Basic Chicken and Rice Dinner for Cats   \n",
              "2  Rice Case for Quiches or Pies (Gluten-Free)   \n",
              "3                         Loco Moco Maui Style   \n",
              "4                              Miso-egg Congee   \n",
              "\n",
              "                              ingredients  calories    time     score  \n",
              "0                    egg, salt, rice, egg       7.2    PT1H  0.932441  \n",
              "1  chicken livers, rice, hard-boiled eggs     552.8  PT1H5M  0.928371  \n",
              "2                   rice, fresh herb, egg    1743.5   PT25M  0.916540  \n",
              "3                        white rice, eggs     266.5   PT10M  0.906431  \n",
              "4                         miso, egg, rice     249.0   PT35M  0.895424  "
            ]
          },
          "execution_count": 25,
          "metadata": {},
          "output_type": "execute_result"
        }
      ],
      "source": [
        "user_input = 'egg', 'rice'\n",
        "\n",
        "\n",
        "recommender(user_input)\n",
        "\n"
      ]
    },
    {
      "cell_type": "markdown",
      "id": "49a8a177",
      "metadata": {},
      "source": [
        "# <a id='toc3_'></a>[Option 2 : Search by Keywords](#toc0_)"
      ]
    },
    {
      "cell_type": "markdown",
      "id": "6044cc0d",
      "metadata": {},
      "source": [
        "I now will give the option to the user to search recipes using keywords present in the recipe database. For that I wil use the columns containing key attributes, 'Title', 'RecipeCategory', 'Keywords' and follow the same process as earlier."
      ]
    },
    {
      "cell_type": "markdown",
      "id": "96a51292",
      "metadata": {},
      "source": [
        "### <a id='toc3_1_1_'></a>[Tokenization](#toc0_)"
      ]
    },
    {
      "cell_type": "code",
      "execution_count": 26,
      "id": "bd967a66",
      "metadata": {},
      "outputs": [],
      "source": [
        "#combining the 3 columns data to one\n",
        "recipes['text_data']= recipes[['Name', 'RecipeCategory', 'Keywords']].astype(str).agg(','.join, axis=1) "
      ]
    },
    {
      "cell_type": "code",
      "execution_count": 27,
      "id": "2237b109",
      "metadata": {},
      "outputs": [
        {
          "data": {
            "text/plain": [
              "0         Low-Fat Berry Blue Frozen Dessert,Frozen Desse...\n",
              "1         Biryani,Chicken Breast,Chicken Thigh & Leg, Ch...\n",
              "2         Best Lemonade,Beverages,Low Protein, Low Chole...\n",
              "3         Carina's Tofu-Vegetable Kebabs,Soy/Tofu,Beans,...\n",
              "4         Cabbage Soup,Vegetable,Low Protein, Vegan, Low...\n",
              "                                ...                        \n",
              "521761     Meg's Fresh Ginger Gingerbread,Dessert,< 4 Hours\n",
              "521762    Roast Prime Rib au Poivre with Mixed Peppercor...\n",
              "521763    Kirshwasser Ice Cream,Ice Cream,Dessert, < 4 H...\n",
              "521764    Quick & Easy Asian Cucumber Salmon Rolls,Canad...\n",
              "521765          Spicy Baked Scotch Eggs,Breakfast,< 60 Mins\n",
              "Name: text_data, Length: 521766, dtype: object"
            ]
          },
          "execution_count": 27,
          "metadata": {},
          "output_type": "execute_result"
        }
      ],
      "source": [
        "#sanity check\n",
        "recipes['text_data']"
      ]
    },
    {
      "cell_type": "code",
      "execution_count": 28,
      "id": "ceae0790",
      "metadata": {},
      "outputs": [],
      "source": [
        "#parser\n",
        "\n",
        "text_data= recipes['text_data']\n",
        "\n",
        "def parser_text(input_keys): #function\n",
        "\n",
        "\n",
        "#defining measuring units\n",
        "\n",
        "    measurment_url= 'https://en.wikibooks.org/wiki/Cookbook:Units_of_measurement' #data source\n",
        "\n",
        "\n",
        "    measuring_words= ['ml', 'mL', 'milliliter', 'millilitre', 'cc' , 'cubic centimeter', 'l', 'L', 'liter', 'litre', 'dl', 'dL', 'deciliter', 'decilitre', 'teaspoon', 't' , 'tsp.',\n",
        "'tablespoon' , 'T', 'tbl', 'tbs', 'tbsp', 'fluid ounce', 'fl oz',  'gill', 'cup',  'c', 'pint', 'p', 'pt', 'fl pt',\n",
        "'quart', 'q', 'qt', 'fl qt', 'gallon' , 'g' , 'gal' , 'g', 'milligram', 'milligramme', 'g' , 'gram' , 'gramme', 'kg',\n",
        "'kilogram', 'kilogramme', 'pound', 'lb', 'ounce', 'oz', 'mm', 'millimeter', 'millimetre', 'cm' , 'centimeter', 'centimetre', 'm' , 'meter',\n",
        "'metre', 'inch', 'in', 'yard', '°C' , 'degree celsius','°F' ,'Farenheit', 'tsp']\n",
        "\n",
        "\n",
        "\n",
        "    ingredients_list = re.split(',', input_keys) #splitting the ingredients by commas\n",
        "    ingredients_list = re.split(' ', input_keys) #splitting the ingredients by commas\n",
        "\n",
        "    cleaned_ingredients = [] #new list to store cleaned ingredients\n",
        "\n",
        "    lemmatizer = WordNetLemmatizer() #lemmatizer\n",
        "\n",
        "    for ingredient in ingredients_list:\n",
        "        items = re.split(',', ingredient)  #splitting each ingredient by space to process and clean each individual word\n",
        "\n",
        "        items = [word for word in items if word.isalpha()] #filtering only letters\n",
        "\n",
        "        #tagged_items= pos_tag(items) #tagging the words to identify verbs\n",
        "\n",
        "        #items= [word for word, pos in tagged_items if not pos.startswith('VB')] #filtering to remove any word which is a verb\n",
        "\n",
        "        items = [word.lower() for word in items] #lowercasing\n",
        "\n",
        "        items = [lemmatizer.lemmatize(word) for word in items] #lemmatizing\n",
        "\n",
        "        items = [word for word in items if word not in ENGLISH_STOP_WORDS] #removing stop words\n",
        "\n",
        "        items = [word for word in items if word not in measuring_words] #removing measuring words\n",
        "\n",
        "        if items:\n",
        "            cleaned_ingredients.append(','.join(items) ) #joining the individual words of the ingredient seperated by space\n",
        "        #cleaned_ingredients= ' '.join(cleaned_ingredients) #joining the ingreidents back seprated by commas\n",
        "\n",
        "\n",
        "    return cleaned_ingredients #return the list\n"
      ]
    },
    {
      "cell_type": "markdown",
      "id": "bc837aee",
      "metadata": {},
      "source": [
        "### <a id='toc3_1_2_'></a>[Modeling](#toc0_)"
      ]
    },
    {
      "cell_type": "code",
      "execution_count": 29,
      "id": "f55cd60c",
      "metadata": {},
      "outputs": [],
      "source": [
        "#applying the parser to the text data to be used in model training\n",
        "text_data_cleaned = text_data.apply(parser_text)\n",
        "recipes['TextDataCleaned']= text_data_cleaned"
      ]
    },
    {
      "cell_type": "code",
      "execution_count": 30,
      "id": "b9e1679b",
      "metadata": {},
      "outputs": [
        {
          "data": {
            "text/plain": [
              "3188649.25"
            ]
          },
          "execution_count": 30,
          "metadata": {},
          "output_type": "execute_result"
        }
      ],
      "source": [
        "#vector size 100\n",
        "phrases_model_2=Word2Vec(sentences=text_data_cleaned,min_count=1, sg=0, window=20, workers=8, vector_size=100, compute_loss=True) #word2vec model, used min_count=1 to avoid any ingredient being missed out\n",
        "phrases_model.get_latest_training_loss()"
      ]
    },
    {
      "cell_type": "markdown",
      "id": "dc9b3726",
      "metadata": {},
      "source": [
        "### <a id='toc3_1_3_'></a>[Hyperparameter Evaluation](#toc0_)"
      ]
    },
    {
      "cell_type": "code",
      "execution_count": 32,
      "id": "025850b4",
      "metadata": {},
      "outputs": [
        {
          "data": {
            "text/plain": [
              "3305846.25"
            ]
          },
          "execution_count": 32,
          "metadata": {},
          "output_type": "execute_result"
        }
      ],
      "source": [
        "#vector size 200\n",
        "phrases_model=Word2Vec(sentences=ingredients_cleaned,min_count=1, sg=0, window=20, workers=8, vector_size=200, compute_loss=True)\n",
        "phrases_model.get_latest_training_loss()"
      ]
    },
    {
      "cell_type": "code",
      "execution_count": 31,
      "id": "0941520e",
      "metadata": {},
      "outputs": [
        {
          "data": {
            "text/plain": [
              "3310564.0"
            ]
          },
          "execution_count": 31,
          "metadata": {},
          "output_type": "execute_result"
        }
      ],
      "source": [
        "#vector size 300\n",
        "phrases_model=Word2Vec(sentences=ingredients_cleaned,min_count=1, sg=0, window=20, workers=8, vector_size=300, compute_loss=True)\n",
        "phrases_model.get_latest_training_loss()"
      ]
    },
    {
      "cell_type": "code",
      "execution_count": null,
      "id": "126baec0",
      "metadata": {},
      "outputs": [
        {
          "name": "stdout",
          "output_type": "stream",
          "text": [
            "Word2vec model #0: {'compute_loss': 75.53761291503906, 'vector': 100, 'window': 10, 'hs_val': 0, 'train_time_mean': 0.011549552281697592, 'train_time_std': 0.0027214500992850414}\n",
            "Word2vec model #1: {'compute_loss': 81.18545532226562, 'vector': 100, 'window': 15, 'hs_val': 0, 'train_time_mean': 0.010249614715576172, 'train_time_std': 0.006727796609299254}\n",
            "Word2vec model #2: {'compute_loss': 114.36109924316406, 'vector': 100, 'window': 20, 'hs_val': 0, 'train_time_mean': 0.010811249415079752, 'train_time_std': 0.007653346982726625}\n",
            "Word2vec model #3: {'compute_loss': 101.71585083007812, 'vector': 100, 'window': 25, 'hs_val': 0, 'train_time_mean': 0.011138995488484701, 'train_time_std': 0.006241894029654272}\n",
            "Word2vec model #4: {'compute_loss': 81.18545532226562, 'vector': 100, 'window': 30, 'hs_val': 0, 'train_time_mean': 0.016483783721923828, 'train_time_std': 0.01326678854530074}\n",
            "Word2vec model #5: {'compute_loss': 112.95668029785156, 'vector': 100, 'window': 10, 'hs_val': 1, 'train_time_mean': 0.005836089452107747, 'train_time_std': 0.004314180002552775}\n",
            "Word2vec model #6: {'compute_loss': 122.12449645996094, 'vector': 100, 'window': 15, 'hs_val': 1, 'train_time_mean': 0.011219183603922525, 'train_time_std': 0.007933245221962626}\n",
            "Word2vec model #7: {'compute_loss': 170.17660522460938, 'vector': 100, 'window': 20, 'hs_val': 1, 'train_time_mean': 0.010987281799316406, 'train_time_std': 0.007250525147685264}\n",
            "Word2vec model #8: {'compute_loss': 149.74977111816406, 'vector': 100, 'window': 25, 'hs_val': 1, 'train_time_mean': 0.011264642079671225, 'train_time_std': 0.007968786831000012}\n",
            "Word2vec model #9: {'compute_loss': 122.12449645996094, 'vector': 100, 'window': 30, 'hs_val': 1, 'train_time_mean': 0.005409638086954753, 'train_time_std': 0.007650383550101455}\n",
            "Word2vec model #10: {'compute_loss': 75.543701171875, 'vector': 200, 'window': 10, 'hs_val': 0, 'train_time_mean': 0.014253060022989908, 'train_time_std': 0.008561752708057452}\n",
            "Word2vec model #11: {'compute_loss': 81.18544006347656, 'vector': 200, 'window': 15, 'hs_val': 0, 'train_time_mean': 0.007637580235799153, 'train_time_std': 0.0069031862687879255}\n",
            "Word2vec model #12: {'compute_loss': 114.37327575683594, 'vector': 200, 'window': 20, 'hs_val': 0, 'train_time_mean': 0.011126518249511719, 'train_time_std': 0.007567015777858938}\n",
            "Word2vec model #13: {'compute_loss': 101.70974731445312, 'vector': 200, 'window': 25, 'hs_val': 0, 'train_time_mean': 0.005486647288004558, 'train_time_std': 0.007759291006653605}\n",
            "Word2vec model #14: {'compute_loss': 81.18544006347656, 'vector': 200, 'window': 30, 'hs_val': 0, 'train_time_mean': 0.011154810587565104, 'train_time_std': 0.00827491787847621}\n",
            "Word2vec model #15: {'compute_loss': 112.9627685546875, 'vector': 200, 'window': 10, 'hs_val': 1, 'train_time_mean': 0.01109933853149414, 'train_time_std': 0.007873146570967268}\n",
            "Word2vec model #16: {'compute_loss': 122.13667297363281, 'vector': 200, 'window': 15, 'hs_val': 1, 'train_time_mean': 0.012598673502604166, 'train_time_std': 0.0032545746385776674}\n",
            "Word2vec model #17: {'compute_loss': 170.1826934814453, 'vector': 200, 'window': 20, 'hs_val': 1, 'train_time_mean': 0.004022916158040364, 'train_time_std': 0.0029469291830958705}\n",
            "Word2vec model #18: {'compute_loss': 149.7558135986328, 'vector': 200, 'window': 25, 'hs_val': 1, 'train_time_mean': 0.01116943359375, 'train_time_std': 0.007898000394687701}\n",
            "Word2vec model #19: {'compute_loss': 122.13667297363281, 'vector': 200, 'window': 30, 'hs_val': 1, 'train_time_mean': 0.005509694417317708, 'train_time_std': 0.007791884569502031}\n",
            "Word2vec model #20: {'compute_loss': 75.53761291503906, 'vector': 300, 'window': 10, 'hs_val': 0, 'train_time_mean': 0.011136452356974283, 'train_time_std': 0.007875517079706835}\n",
            "Word2vec model #21: {'compute_loss': 81.19764709472656, 'vector': 300, 'window': 15, 'hs_val': 0, 'train_time_mean': 0.005541801452636719, 'train_time_std': 0.007837290774297767}\n",
            "Word2vec model #22: {'compute_loss': 114.36720275878906, 'vector': 300, 'window': 20, 'hs_val': 0, 'train_time_mean': 0.011883179346720377, 'train_time_std': 0.008447063167790559}\n",
            "Word2vec model #23: {'compute_loss': 101.734130859375, 'vector': 300, 'window': 25, 'hs_val': 0, 'train_time_mean': 0.007453521092732747, 'train_time_std': 0.0009593017630814139}\n",
            "Word2vec model #24: {'compute_loss': 81.19764709472656, 'vector': 300, 'window': 30, 'hs_val': 0, 'train_time_mean': 0.008046865463256836, 'train_time_std': 0.006400627308714203}\n",
            "Word2vec model #25: {'compute_loss': 112.95059204101562, 'vector': 300, 'window': 10, 'hs_val': 1, 'train_time_mean': 0.005830844243367513, 'train_time_std': 0.007686401594591476}\n",
            "Word2vec model #26: {'compute_loss': 122.14277648925781, 'vector': 300, 'window': 15, 'hs_val': 1, 'train_time_mean': 0.006219704945882161, 'train_time_std': 0.00879599108842557}\n",
            "Word2vec model #27: {'compute_loss': 170.18881225585938, 'vector': 300, 'window': 20, 'hs_val': 1, 'train_time_mean': 0.010460853576660156, 'train_time_std': 0.007450316388849747}\n",
            "Word2vec model #28: {'compute_loss': 149.7741241455078, 'vector': 300, 'window': 25, 'hs_val': 1, 'train_time_mean': 0.005538066228230794, 'train_time_std': 0.007832008369284403}\n",
            "Word2vec model #29: {'compute_loss': 122.14277648925781, 'vector': 300, 'window': 30, 'hs_val': 1, 'train_time_mean': 0.028066317240397137, 'train_time_std': 0.007455574636327916}\n",
            "Word2vec model #30: {'compute_loss': 76.95411682128906, 'vector': 100, 'window': 10, 'hs_val': 0, 'train_time_mean': 0.023161013921101887, 'train_time_std': 0.007998705585008375}\n",
            "Word2vec model #31: {'compute_loss': 89.67240905761719, 'vector': 100, 'window': 15, 'hs_val': 0, 'train_time_mean': 0.01568762461344401, 'train_time_std': 0.0015561494552990746}\n",
            "Word2vec model #32: {'compute_loss': 120.74456787109375, 'vector': 100, 'window': 20, 'hs_val': 0, 'train_time_mean': 0.022221724192301433, 'train_time_std': 0.006088239010329895}\n",
            "Word2vec model #33: {'compute_loss': 93.186279296875, 'vector': 100, 'window': 25, 'hs_val': 0, 'train_time_mean': 0.02735622723897298, 'train_time_std': 0.007507911805615113}\n",
            "Word2vec model #34: {'compute_loss': 89.67240905761719, 'vector': 100, 'window': 30, 'hs_val': 0, 'train_time_mean': 0.024861971537272137, 'train_time_std': 0.010621774581011136}\n",
            "Word2vec model #35: {'compute_loss': 119.31591796875, 'vector': 100, 'window': 10, 'hs_val': 1, 'train_time_mean': 0.020684162775675457, 'train_time_std': 0.0038523995695116625}\n",
            "Word2vec model #36: {'compute_loss': 137.6880645751953, 'vector': 100, 'window': 15, 'hs_val': 1, 'train_time_mean': 0.01606130599975586, 'train_time_std': 0.0023330483000761956}\n",
            "Word2vec model #37: {'compute_loss': 186.42091369628906, 'vector': 100, 'window': 20, 'hs_val': 1, 'train_time_mean': 0.012911796569824219, 'train_time_std': 0.009501206893087345}\n",
            "Word2vec model #38: {'compute_loss': 145.43313598632812, 'vector': 100, 'window': 25, 'hs_val': 1, 'train_time_mean': 0.00626063346862793, 'train_time_std': 0.0011729986200583872}\n",
            "Word2vec model #39: {'compute_loss': 137.6880645751953, 'vector': 100, 'window': 30, 'hs_val': 1, 'train_time_mean': 0.0023359457651774087, 'train_time_std': 0.003303526182081889}\n",
            "Word2vec model #40: {'compute_loss': 76.91758728027344, 'vector': 200, 'window': 10, 'hs_val': 0, 'train_time_mean': 0.011250575383504232, 'train_time_std': 0.008432693946014253}\n",
            "Word2vec model #41: {'compute_loss': 89.69065856933594, 'vector': 200, 'window': 15, 'hs_val': 0, 'train_time_mean': 0.005460580190022786, 'train_time_std': 0.0077224265631560774}\n",
            "Word2vec model #42: {'compute_loss': 120.72627258300781, 'vector': 200, 'window': 20, 'hs_val': 0, 'train_time_mean': 0.005575497945149739, 'train_time_std': 0.007884944811014085}\n",
            "Word2vec model #43: {'compute_loss': 93.19236755371094, 'vector': 200, 'window': 25, 'hs_val': 0, 'train_time_mean': 0.005526940027872722, 'train_time_std': 0.007816273545840335}\n",
            "Word2vec model #44: {'compute_loss': 89.69065856933594, 'vector': 200, 'window': 30, 'hs_val': 0, 'train_time_mean': 0.011571486790974935, 'train_time_std': 0.008183854669501167}\n",
            "Word2vec model #45: {'compute_loss': 119.27931213378906, 'vector': 200, 'window': 10, 'hs_val': 1, 'train_time_mean': 0.005073865254720052, 'train_time_std': 0.0020479227260119075}\n",
            "Word2vec model #46: {'compute_loss': 137.73068237304688, 'vector': 200, 'window': 15, 'hs_val': 1, 'train_time_mean': 0.00831755002339681, 'train_time_std': 0.00792007462885781}\n",
            "Word2vec model #47: {'compute_loss': 186.41476440429688, 'vector': 200, 'window': 20, 'hs_val': 1, 'train_time_mean': 0.00645748774210612, 'train_time_std': 0.00037090663911847077}\n",
            "Word2vec model #48: {'compute_loss': 145.451416015625, 'vector': 200, 'window': 25, 'hs_val': 1, 'train_time_mean': 0.0018564860026041667, 'train_time_std': 0.002625467683238625}\n",
            "Word2vec model #49: {'compute_loss': 137.73068237304688, 'vector': 200, 'window': 30, 'hs_val': 1, 'train_time_mean': 0.011151552200317383, 'train_time_std': 0.007885346404975615}\n",
            "Word2vec model #50: {'compute_loss': 76.93585205078125, 'vector': 300, 'window': 10, 'hs_val': 0, 'train_time_mean': 0.00554807980855306, 'train_time_std': 0.007846169710384062}\n",
            "Word2vec model #51: {'compute_loss': 89.70285034179688, 'vector': 300, 'window': 15, 'hs_val': 0, 'train_time_mean': 0.005545298258463542, 'train_time_std': 0.007842236004523044}\n",
            "Word2vec model #52: {'compute_loss': 120.72628784179688, 'vector': 300, 'window': 20, 'hs_val': 0, 'train_time_mean': 0.005576531092325847, 'train_time_std': 0.00788640590176246}\n",
            "Word2vec model #53: {'compute_loss': 93.19236755371094, 'vector': 300, 'window': 25, 'hs_val': 0, 'train_time_mean': 0.005487600962320964, 'train_time_std': 0.007760639705805954}\n",
            "Word2vec model #54: {'compute_loss': 89.70285034179688, 'vector': 300, 'window': 30, 'hs_val': 0, 'train_time_mean': 0.011551777521769205, 'train_time_std': 0.008180132490225011}\n",
            "Word2vec model #55: {'compute_loss': 119.30368041992188, 'vector': 300, 'window': 10, 'hs_val': 1, 'train_time_mean': 0.006628672281901042, 'train_time_std': 0.0009257844968773406}\n",
            "Word2vec model #56: {'compute_loss': 137.74288940429688, 'vector': 300, 'window': 15, 'hs_val': 1, 'train_time_mean': 0.004101912180582683, 'train_time_std': 0.0029004903368095355}\n",
            "Word2vec model #57: {'compute_loss': 186.40870666503906, 'vector': 300, 'window': 20, 'hs_val': 1, 'train_time_mean': 0.005529006322224935, 'train_time_std': 0.007819195727337091}\n",
            "Word2vec model #58: {'compute_loss': 145.451416015625, 'vector': 300, 'window': 25, 'hs_val': 1, 'train_time_mean': 0.0055650075276692705, 'train_time_std': 0.00787010912033825}\n",
            "Word2vec model #59: {'compute_loss': 137.74288940429688, 'vector': 300, 'window': 30, 'hs_val': 1, 'train_time_mean': 0.011349121729532877, 'train_time_std': 0.008030048161418515}\n",
            "Word2vec model #60: {'compute_loss': 28.938350677490234, 'vector': 100, 'window': 10, 'hs_val': 0, 'train_time_mean': 0.005405028661092122, 'train_time_std': 0.007643864837531771}\n",
            "Word2vec model #61: {'compute_loss': 43.07927322387695, 'vector': 100, 'window': 15, 'hs_val': 0, 'train_time_mean': 0.005510568618774414, 'train_time_std': 0.00779312087705835}\n",
            "Word2vec model #62: {'compute_loss': 25.393983840942383, 'vector': 100, 'window': 20, 'hs_val': 0, 'train_time_mean': 0.005549510320027669, 'train_time_std': 0.007848192759112586}\n",
            "Word2vec model #63: {'compute_loss': 35.30968475341797, 'vector': 100, 'window': 25, 'hs_val': 0, 'train_time_mean': 0.011820316314697266, 'train_time_std': 0.008404965115923861}\n",
            "Word2vec model #64: {'compute_loss': 43.07927322387695, 'vector': 100, 'window': 30, 'hs_val': 0, 'train_time_mean': 0.006846507390340169, 'train_time_std': 0.0010608680971067187}\n",
            "Word2vec model #65: {'compute_loss': 39.534912109375, 'vector': 100, 'window': 10, 'hs_val': 1, 'train_time_mean': 0.0035096009572347007, 'train_time_std': 0.0025723889521407604}\n",
            "Word2vec model #66: {'compute_loss': 58.63671875, 'vector': 100, 'window': 15, 'hs_val': 1, 'train_time_mean': 0.005661169687906901, 'train_time_std': 0.007238610187724787}\n",
            "Word2vec model #67: {'compute_loss': 35.27314376831055, 'vector': 100, 'window': 20, 'hs_val': 1, 'train_time_mean': 0.011057217915852865, 'train_time_std': 0.00781868059204744}\n",
            "Word2vec model #68: {'compute_loss': 47.33494567871094, 'vector': 100, 'window': 25, 'hs_val': 1, 'train_time_mean': 0.007762749989827474, 'train_time_std': 0.006814018674869045}\n",
            "Word2vec model #69: {'compute_loss': 58.63671875, 'vector': 100, 'window': 30, 'hs_val': 1, 'train_time_mean': 0.00884707768758138, 'train_time_std': 0.006747147208745383}\n",
            "Word2vec model #70: {'compute_loss': 28.938350677490234, 'vector': 200, 'window': 10, 'hs_val': 0, 'train_time_mean': 0.00586549441019694, 'train_time_std': 0.00829506174492409}\n",
            "Word2vec model #71: {'compute_loss': 43.085365295410156, 'vector': 200, 'window': 15, 'hs_val': 0, 'train_time_mean': 0.00980830192565918, 'train_time_std': 0.003634661959222321}\n",
            "Word2vec model #72: {'compute_loss': 25.393983840942383, 'vector': 200, 'window': 20, 'hs_val': 0, 'train_time_mean': 0.006537516911824544, 'train_time_std': 0.0015260837503529086}\n",
            "Word2vec model #73: {'compute_loss': 35.315773010253906, 'vector': 200, 'window': 25, 'hs_val': 0, 'train_time_mean': 0.005647818247477214, 'train_time_std': 0.00798722116340052}\n",
            "Word2vec model #74: {'compute_loss': 43.085365295410156, 'vector': 200, 'window': 30, 'hs_val': 0, 'train_time_mean': 0.00564885139465332, 'train_time_std': 0.007988682254148899}\n",
            "Word2vec model #75: {'compute_loss': 39.5288200378418, 'vector': 200, 'window': 10, 'hs_val': 1, 'train_time_mean': 0.010933876037597656, 'train_time_std': 0.007734371965769271}\n",
            "Word2vec model #76: {'compute_loss': 58.63063049316406, 'vector': 200, 'window': 15, 'hs_val': 1, 'train_time_mean': 0.005651394526163737, 'train_time_std': 0.007992278785221827}\n",
            "Word2vec model #77: {'compute_loss': 35.267051696777344, 'vector': 200, 'window': 20, 'hs_val': 1, 'train_time_mean': 0.005456209182739258, 'train_time_std': 0.0077162450253744795}\n",
            "Word2vec model #78: {'compute_loss': 47.3227653503418, 'vector': 200, 'window': 25, 'hs_val': 1, 'train_time_mean': 0.011169672012329102, 'train_time_std': 0.007898293065443866}\n",
            "Word2vec model #79: {'compute_loss': 58.63063049316406, 'vector': 200, 'window': 30, 'hs_val': 1, 'train_time_mean': 0.00798360506693522, 'train_time_std': 0.006966636232225151}\n",
            "Word2vec model #80: {'compute_loss': 28.944440841674805, 'vector': 300, 'window': 10, 'hs_val': 0, 'train_time_mean': 0.007199923197428386, 'train_time_std': 0.0010990856926109862}\n",
            "Word2vec model #81: {'compute_loss': 43.085365295410156, 'vector': 300, 'window': 15, 'hs_val': 0, 'train_time_mean': 0.006974935531616211, 'train_time_std': 0.007128511989945768}\n",
            "Word2vec model #82: {'compute_loss': 25.393983840942383, 'vector': 300, 'window': 20, 'hs_val': 0, 'train_time_mean': 0.005544503529866536, 'train_time_std': 0.007841112088562755}\n",
            "Word2vec model #83: {'compute_loss': 35.32186508178711, 'vector': 300, 'window': 25, 'hs_val': 0, 'train_time_mean': 0.005708614985148112, 'train_time_std': 0.008073200734362745}\n",
            "Word2vec model #84: {'compute_loss': 43.085365295410156, 'vector': 300, 'window': 30, 'hs_val': 0, 'train_time_mean': 0.011031786600748697, 'train_time_std': 0.008270313384265971}\n",
            "Word2vec model #85: {'compute_loss': 39.54100036621094, 'vector': 300, 'window': 10, 'hs_val': 1, 'train_time_mean': 0.006712198257446289, 'train_time_std': 0.004746266135961812}\n",
            "Word2vec model #86: {'compute_loss': 58.6428108215332, 'vector': 300, 'window': 15, 'hs_val': 1, 'train_time_mean': 0.012170871098836264, 'train_time_std': 0.009309490363587417}\n",
            "Word2vec model #87: {'compute_loss': 35.27314376831055, 'vector': 300, 'window': 20, 'hs_val': 1, 'train_time_mean': 0.007693767547607422, 'train_time_std': 0.00046069198680254414}\n",
            "Word2vec model #88: {'compute_loss': 47.34712219238281, 'vector': 300, 'window': 25, 'hs_val': 1, 'train_time_mean': 0.006830930709838867, 'train_time_std': 0.007225771070443883}\n",
            "Word2vec model #89: {'compute_loss': 58.6428108215332, 'vector': 300, 'window': 30, 'hs_val': 1, 'train_time_mean': 0.0054937998453776045, 'train_time_std': 0.00776940625029622}\n",
            "Word2vec model #90: {'compute_loss': 2.8208770751953125, 'vector': 100, 'window': 10, 'hs_val': 0, 'train_time_mean': 0.022333621978759766, 'train_time_std': 0.007901382271328292}\n",
            "Word2vec model #91: {'compute_loss': 2.1156578063964844, 'vector': 100, 'window': 15, 'hs_val': 0, 'train_time_mean': 0.02286696434020996, 'train_time_std': 0.008707775025949981}\n",
            "Word2vec model #92: {'compute_loss': 1.4104385375976562, 'vector': 100, 'window': 20, 'hs_val': 0, 'train_time_mean': 0.02202018102010091, 'train_time_std': 0.008764499468925485}\n",
            "Word2vec model #93: {'compute_loss': 1.4104385375976562, 'vector': 100, 'window': 25, 'hs_val': 0, 'train_time_mean': 0.0161285400390625, 'train_time_std': 0.004411465023103072}\n"
          ]
        },
        {
          "name": "stderr",
          "output_type": "stream",
          "text": [
            "Exception in thread Thread-17992 (_worker_loop):\n",
            "Traceback (most recent call last):\n",
            "  File \"c:\\Users\\e312995\\AppData\\Local\\anaconda3\\Lib\\threading.py\", line 1038, in _bootstrap_inner\n",
            "    self.run()\n",
            "  File \"c:\\Users\\e312995\\AppData\\Local\\anaconda3\\Lib\\threading.py\", line 975, in run\n",
            "    self._target(*self._args, **self._kwargs)\n",
            "  File \"c:\\Users\\e312995\\AppData\\Local\\anaconda3\\Lib\\site-packages\\gensim\\models\\word2vec.py\", line 1166, in _worker_loop\n",
            "    tally, raw_tally = self._do_train_job(data_iterable, alpha, thread_private_mem)\n",
            "                       ^^^^^^^^^^^^^^^^^^^^^^^^^^^^^^^^^^^^^^^^^^^^^^^^^^^^^^^^^^^^\n",
            "  File \"c:\\Users\\e312995\\AppData\\Local\\anaconda3\\Lib\\site-packages\\gensim\\models\\word2vec.py\", line 957, in _do_train_job\n",
            "    tally += train_batch_cbow(self, sentences, alpha, work, neu1, self.compute_loss)\n",
            "             ^^^^^^^^^^^^^^^^^^^^^^^^^^^^^^^^^^^^^^^^^^^^^^^^^^^^^^^^^^^^^^^^^^^^^^^\n",
            "  File \"gensim\\models\\word2vec_inner.pyx\", line 649, in gensim.models.word2vec_inner.train_batch_cbow\n",
            "TypeError: Cannot convert list to numpy.ndarray\n"
          ]
        },
        {
          "name": "stdout",
          "output_type": "stream",
          "text": [
            "Word2vec model #94: {'compute_loss': 2.1156578063964844, 'vector': 100, 'window': 30, 'hs_val': 0, 'train_time_mean': 0.02231136957804362, 'train_time_std': 0.009484271586677128}\n"
          ]
        }
      ],
      "source": [
        "    # train_time_values = []\n",
        "    # seed_val = 42\n",
        "\n",
        "    # hs_values = [0, 1]\n",
        "    # vector_values= [100,200,300]\n",
        "    # window_values= [10,15, 20, 25, 30]\n",
        "\n",
        "    # # Build vocabulary\n",
        "    # #w2v_model = Word2Vec(ingredients_cleaned, vector_size=vector, window=window, hs=hs_val, seed=seed_val)\n",
        "\n",
        "\n",
        "    # for data in text_data_cleaned:\n",
        "    #     for vector in vector_values:\n",
        "    #         for hs_val in hs_values:\n",
        "    #             for window in window_values:\n",
        "    #                 time_taken_list = []\n",
        "    #                 for i in range(3):\n",
        "    #                     start_time = time.time()\n",
        "    #                     w2v_model = Word2Vec(\n",
        "    #                         data,\n",
        "    #                         compute_loss=True,\n",
        "    #                         window= window,\n",
        "    #                         vector_size=vector,\n",
        "    #                         hs=hs_val,\n",
        "    #                         seed=seed_val,\n",
        "    #                     )\n",
        "    #                     time_taken_list.append(time.time() - start_time)\n",
        "\n",
        "    #                 time_taken_list = np.array(time_taken_list)\n",
        "    #                 time_mean = np.mean(time_taken_list)\n",
        "    #                 time_std = np.std(time_taken_list)\n",
        "\n",
        "    #                 model_result = {\n",
        "                        \n",
        "    #                     'compute_loss': w2v_model.get_latest_training_loss(),\n",
        "    #                     'vector': vector,\n",
        "    #                     'window': window,\n",
        "    #                     'hs_val': hs_val,\n",
        "    #                     'train_time_mean': time_mean,\n",
        "    #                     'train_time_std': time_std,\n",
        "    #                 }\n",
        "    #                 print(\"Word2vec model #%i: %s\" % (len(train_time_values), model_result))\n",
        "    #                 train_time_values.append(model_result)\n",
        "\n",
        "    # train_times_table = pd.DataFrame(train_time_values)\n",
        "    # train_times_table = train_times_table.sort_values(\n",
        "    #     by=['train_data',  'hs', 'compute_loss'],\n",
        "    #     ascending=[False, False, False],\n",
        "    # )\n",
        "    # print(train_times_table)"
      ]
    },
    {
      "cell_type": "code",
      "execution_count": 33,
      "id": "8cab2663",
      "metadata": {},
      "outputs": [],
      "source": [
        "#saving the model\n",
        "phrases_model_2.save('C:/Users/e312995/OneDrive - WESCO DISTRIBUTION/Documents/PERSONAL/BRAINSTATION/CAPSTONE/phrases_model_new(op2).bin')\n"
      ]
    },
    {
      "cell_type": "code",
      "execution_count": 34,
      "id": "6d860468",
      "metadata": {},
      "outputs": [],
      "source": [
        "\n",
        "\n",
        "def recommender_text(text_input):\n",
        "\n",
        "    user_input= parser_text(text_input)\n",
        "\n",
        "    # Mean Embeddings for User Input\n",
        "    user_mean_vector =np.mean([phrases_model_2.wv[user_text] for user_text in user_input if user_text in phrases_model_2.wv] or [np.zeros(200)], axis=0)\n",
        "\n",
        "\n",
        "\n",
        "    # check if user_mean_vector contains NaN values\n",
        "    if np.isnan(user_mean_vector).any():\n",
        "        print(\"User input vectors contain NaN values.\")\n",
        "\n",
        "\n",
        "    else:\n",
        "\n",
        "        # mean ingredient vectors for each recipe\n",
        "        text_vectors = [np.mean([phrases_model_2.wv[sub_text] for sub_text in text if sub_text in phrases_model_2.wv] or [np.zeros(200)], axis=0) for text in text_data_cleaned]\n",
        "\n",
        "\n",
        "\n",
        "\n",
        "\n",
        "        # Check if any recipe vector contains NaN values\n",
        "        if not text_vectors:\n",
        "            print('nothing obtained for recipe vectors')\n",
        "\n",
        "        else:\n",
        "            \n",
        "            # cosine similarity between user mean vector and recipe mean vectors\n",
        "            cosine_similarities_text= cosine_similarity([user_mean_vector], text_vectors)\n",
        "\n",
        "\n",
        "            # indices of top N most similar recipes\n",
        "            top_recipes = np.argsort(cosine_similarities_text[0])[::-1][:5]\n",
        "\n",
        "\n",
        "\n",
        "            recommendation= pd.DataFrame( columns=['title','ingredients', 'description', 'keywords', 'category', 'score'] ) #dataframe with columns\n",
        "\n",
        "    \n",
        "            for i in top_recipes: #defining the data for each recommendation\n",
        "\n",
        "                \n",
        "                title = recipes['Name'].iloc[i],\n",
        "                description= recipes['Description'].iloc[i,]\n",
        "                keywords = recipes['Keywords'].iloc[i]\n",
        "                category= recipes['RecipeCategory'].iloc[i]\n",
        "                ingredients = recipes['RecipeIngredientParts'].iloc[i]\n",
        "                score= cosine_similarities_text[0][i]\n",
        "                recommendation = recommendation.append(\n",
        "                                    {'title': title, \n",
        "                                    'description': description,\n",
        "                                    'ingredients': ingredients, \n",
        "                                    'keywords' : keywords, \n",
        "                                    'category' : category, \n",
        "                                    'score': score}, \n",
        "                                        ignore_index=True)\n",
        "\n",
        "\n",
        "\n",
        "\n",
        "    return recommendation\n",
        "\n",
        "       \n",
        "\n",
        "\n",
        "\n"
      ]
    },
    {
      "cell_type": "code",
      "execution_count": 35,
      "id": "1706f346",
      "metadata": {},
      "outputs": [
        {
          "name": "stderr",
          "output_type": "stream",
          "text": [
            "C:\\Users\\e312995\\AppData\\Local\\Temp\\ipykernel_36612\\4165945805.py:51: FutureWarning: The frame.append method is deprecated and will be removed from pandas in a future version. Use pandas.concat instead.\n",
            "  recommendation = recommendation.append(\n",
            "C:\\Users\\e312995\\AppData\\Local\\Temp\\ipykernel_36612\\4165945805.py:51: FutureWarning: The frame.append method is deprecated and will be removed from pandas in a future version. Use pandas.concat instead.\n",
            "  recommendation = recommendation.append(\n",
            "C:\\Users\\e312995\\AppData\\Local\\Temp\\ipykernel_36612\\4165945805.py:51: FutureWarning: The frame.append method is deprecated and will be removed from pandas in a future version. Use pandas.concat instead.\n",
            "  recommendation = recommendation.append(\n",
            "C:\\Users\\e312995\\AppData\\Local\\Temp\\ipykernel_36612\\4165945805.py:51: FutureWarning: The frame.append method is deprecated and will be removed from pandas in a future version. Use pandas.concat instead.\n",
            "  recommendation = recommendation.append(\n",
            "C:\\Users\\e312995\\AppData\\Local\\Temp\\ipykernel_36612\\4165945805.py:51: FutureWarning: The frame.append method is deprecated and will be removed from pandas in a future version. Use pandas.concat instead.\n",
            "  recommendation = recommendation.append(\n"
          ]
        },
        {
          "data": {
            "text/html": [
              "<div>\n",
              "<style scoped>\n",
              "    .dataframe tbody tr th:only-of-type {\n",
              "        vertical-align: middle;\n",
              "    }\n",
              "\n",
              "    .dataframe tbody tr th {\n",
              "        vertical-align: top;\n",
              "    }\n",
              "\n",
              "    .dataframe thead th {\n",
              "        text-align: right;\n",
              "    }\n",
              "</style>\n",
              "<table border=\"1\" class=\"dataframe\">\n",
              "  <thead>\n",
              "    <tr style=\"text-align: right;\">\n",
              "      <th></th>\n",
              "      <th>title</th>\n",
              "      <th>ingredients</th>\n",
              "      <th>description</th>\n",
              "      <th>keywords</th>\n",
              "      <th>category</th>\n",
              "      <th>score</th>\n",
              "    </tr>\n",
              "  </thead>\n",
              "  <tbody>\n",
              "    <tr>\n",
              "      <th>0</th>\n",
              "      <td>(Iberian Chickpea Soup (Crock Pot),)</td>\n",
              "      <td>canned chick-peas, onions, garlic cloves, pota...</td>\n",
              "      <td>Make and share this Iberian Chickpea Soup (Cro...</td>\n",
              "      <td>Easy</td>\n",
              "      <td>Beans</td>\n",
              "      <td>0.897303</td>\n",
              "    </tr>\n",
              "    <tr>\n",
              "      <th>1</th>\n",
              "      <td>(Browned-Flour Soup from Basle (Switzerland),)</td>\n",
              "      <td>butter, flour, hot water, onion, cloves, bay l...</td>\n",
              "      <td>From &amp;quot;The Swiss Cookbook&amp;quot;.  I haven'...</td>\n",
              "      <td>Inexpensive</td>\n",
              "      <td>&lt; 4 Hours</td>\n",
              "      <td>0.889652</td>\n",
              "    </tr>\n",
              "    <tr>\n",
              "      <th>2</th>\n",
              "      <td>(Kneophla Soup,)</td>\n",
              "      <td>butter, onion, fresh mushrooms, carrots, celer...</td>\n",
              "      <td>Make and share this Kneophla Soup recipe from ...</td>\n",
              "      <td>Inexpensive</td>\n",
              "      <td>&lt; 4 Hours</td>\n",
              "      <td>0.888637</td>\n",
              "    </tr>\n",
              "    <tr>\n",
              "      <th>3</th>\n",
              "      <td>(Vegetarian &amp;quot;chicken&amp;quot; Noodle Soup - ...</td>\n",
              "      <td>water, vegetable bouillon cubes, carrots, cele...</td>\n",
              "      <td>Make and share this Vegetarian &amp;quot;chicken&amp;q...</td>\n",
              "      <td>NaN</td>\n",
              "      <td>Easy</td>\n",
              "      <td>0.886604</td>\n",
              "    </tr>\n",
              "    <tr>\n",
              "      <th>4</th>\n",
              "      <td>(No Guilt Soup,)</td>\n",
              "      <td>zucchini with Italian-style tomato sauce, gree...</td>\n",
              "      <td>This is my go to soup when I am trying to watc...</td>\n",
              "      <td>Inexpensive</td>\n",
              "      <td>&lt; 15 Mins</td>\n",
              "      <td>0.863729</td>\n",
              "    </tr>\n",
              "  </tbody>\n",
              "</table>\n",
              "</div>"
            ],
            "text/plain": [
              "                                               title  \\\n",
              "0               (Iberian Chickpea Soup (Crock Pot),)   \n",
              "1     (Browned-Flour Soup from Basle (Switzerland),)   \n",
              "2                                   (Kneophla Soup,)   \n",
              "3  (Vegetarian &quot;chicken&quot; Noodle Soup - ...   \n",
              "4                                   (No Guilt Soup,)   \n",
              "\n",
              "                                         ingredients  \\\n",
              "0  canned chick-peas, onions, garlic cloves, pota...   \n",
              "1  butter, flour, hot water, onion, cloves, bay l...   \n",
              "2  butter, onion, fresh mushrooms, carrots, celer...   \n",
              "3  water, vegetable bouillon cubes, carrots, cele...   \n",
              "4  zucchini with Italian-style tomato sauce, gree...   \n",
              "\n",
              "                                         description     keywords   category  \\\n",
              "0  Make and share this Iberian Chickpea Soup (Cro...         Easy      Beans   \n",
              "1  From &quot;The Swiss Cookbook&quot;.  I haven'...  Inexpensive  < 4 Hours   \n",
              "2  Make and share this Kneophla Soup recipe from ...  Inexpensive  < 4 Hours   \n",
              "3  Make and share this Vegetarian &quot;chicken&q...          NaN       Easy   \n",
              "4  This is my go to soup when I am trying to watc...  Inexpensive  < 15 Mins   \n",
              "\n",
              "      score  \n",
              "0  0.897303  \n",
              "1  0.889652  \n",
              "2  0.888637  \n",
              "3  0.886604  \n",
              "4  0.863729  "
            ]
          },
          "execution_count": 35,
          "metadata": {},
          "output_type": "execute_result"
        }
      ],
      "source": [
        "# user Input Processing\n",
        "text_input = 'vegetarian soup'  # User's input\n",
        "\n",
        "recommender_text(text_input)"
      ]
    },
    {
      "cell_type": "code",
      "execution_count": 37,
      "id": "c048fbff",
      "metadata": {},
      "outputs": [
        {
          "data": {
            "text/plain": [
              "0                        Low-Fat Berry Blue Frozen Dessert\n",
              "1                                                  Biryani\n",
              "2                                            Best Lemonade\n",
              "3                           Carina's Tofu-Vegetable Kebabs\n",
              "4                                             Cabbage Soup\n",
              "                                ...                       \n",
              "521761                      Meg's Fresh Ginger Gingerbread\n",
              "521762    Roast Prime Rib au Poivre with Mixed Peppercorns\n",
              "521763                               Kirshwasser Ice Cream\n",
              "521764            Quick & Easy Asian Cucumber Salmon Rolls\n",
              "521765                             Spicy Baked Scotch Eggs\n",
              "Name: Name, Length: 521766, dtype: object"
            ]
          },
          "execution_count": 37,
          "metadata": {},
          "output_type": "execute_result"
        }
      ],
      "source": [
        "recipes['Name']"
      ]
    },
    {
      "cell_type": "markdown",
      "id": "d25fef8d",
      "metadata": {},
      "source": [
        "# <a id='toc4_'></a>[Option 3 : Search by Ingredients & Keywords both together](#toc0_)"
      ]
    },
    {
      "cell_type": "code",
      "execution_count": 73,
      "id": "48a942a0",
      "metadata": {},
      "outputs": [
        {
          "data": {
            "text/plain": [
              "'Low-Fat Berry Blue Frozen Dessert,Frozen Desserts,Dessert, Low Protein, Low Cholesterol, Healthy, Free Of..., Summer, Weeknight, Freezer, Easy,blueberries, granulated sugar, vanilla yogurt, lemon juice'"
            ]
          },
          "execution_count": 73,
          "metadata": {},
          "output_type": "execute_result"
        }
      ],
      "source": [
        "#combining the 4 columns data to one\n",
        "recipes['text_data_all']= recipes[['Name', 'RecipeCategory', 'Keywords', 'RecipeIngredientParts']].astype(str).agg(','.join, axis=1) \n",
        "#sanity check\n",
        "recipes['text_data_all'][0]"
      ]
    },
    {
      "cell_type": "code",
      "execution_count": 74,
      "id": "bd7d884b",
      "metadata": {},
      "outputs": [],
      "source": [
        "#parser\n",
        "def parser_text(input_keys): #function\n",
        "\n",
        "\n",
        "    # Defining measuring units\n",
        "    remove_ = {'oil', 'salt', 'pepper'}\n",
        "\n",
        "\n",
        "    # Defining measuring units\n",
        "    measuring_words = ['ml', 'mL', 'milliliter', 'millilitre', 'cc', 'cubic centimeter', 'l', 'L', 'liter', 'litre', 'dl',\n",
        "                   'dL', 'deciliter', 'decilitre', 'teaspoon', 't', 'tsp.', 'tablespoon', 'T', 'tbl', 'tbs', 'tbsp',\n",
        "                   'fluid ounce', 'fl oz', 'gill', 'cup', 'c', 'pint', 'p', 'pt', 'fl pt', 'quart', 'q', 'qt', 'fl qt',\n",
        "                   'gallon', 'g', 'gal', 'g', 'milligram', 'milligramme', 'g', 'gram', 'gramme', 'kg', 'kilogram',\n",
        "                   'kilogramme', 'pound', 'lb', 'ounce', 'oz', 'mm', 'milimeter', 'millimetre', 'cm', 'centimeter',\n",
        "                   'centimetre', 'm', 'meter', 'metre', 'inch', 'in', 'yard', '°C', 'degree celsius', '°F', 'Farenheit', 'tsp']\n",
        "\n",
        "    cleaned_ingredients_all_recipes = []\n",
        "    \n",
        "    for each_ingredient_list in input_keys:\n",
        "            comma_list = re.split(',', each_ingredient_list)  # splitting the ingredients by commas\n",
        "\n",
        "\n",
        "            cleaned_ingredients = []  # new list to store cleaned ingredients for a single recipe\n",
        "\n",
        "\n",
        "            lemmatizer = WordNetLemmatizer()  # lemmatize\n",
        "\n",
        "\n",
        "            for each_word_set in comma_list:\n",
        "                items = [word.lower() for word in re.findall(r'\\b\\w+\\b', each_word_set)]  # Extract individual words and convert to lowercase\n",
        "\n",
        "\n",
        "                items = [word for word in items if word.isalpha()]  # filtering only letters\n",
        "\n",
        "\n",
        "                \n",
        "\n",
        "\n",
        "                items = [lemmatizer.lemmatize(word) for word in items]  # lemmatizing\n",
        "\n",
        "\n",
        "                items = [word for word in items if word not in ENGLISH_STOP_WORDS]  # removing stop words\n",
        "\n",
        "\n",
        "                items = [word for word in items if word not in measuring_words]  # removing measuring words\n",
        "\n",
        "\n",
        "                items = [word for word in items if word not in remove_]\n",
        "\n",
        "\n",
        "                if items:\n",
        "                    cleaned_ingredients.extend(items)\n",
        "\n",
        "\n",
        "            cleaned_ingredients_all_recipes.append(cleaned_ingredients)\n",
        "\n",
        "    return(cleaned_ingredients_all_recipes)\n"
      ]
    },
    {
      "cell_type": "code",
      "execution_count": 75,
      "id": "0696914e",
      "metadata": {},
      "outputs": [],
      "source": [
        "text_data_all= recipes['text_data_all']\n",
        "text_data_all_cleaned=parser_text(text_data_all)"
      ]
    },
    {
      "cell_type": "code",
      "execution_count": 76,
      "id": "df305aa3",
      "metadata": {},
      "outputs": [
        {
          "data": {
            "text/plain": [
              "3305846.25"
            ]
          },
          "execution_count": 76,
          "metadata": {},
          "output_type": "execute_result"
        }
      ],
      "source": [
        "#vector size 100\n",
        "phrases_model_2=Word2Vec(sentences=text_data_all_cleaned,min_count=1, sg=0, window=35, workers=8, vector_size=200, compute_loss=True) #word2vec model, used min_count=1 to avoid any ingredient being missed out\n",
        "phrases_model.get_latest_training_loss()"
      ]
    },
    {
      "cell_type": "code",
      "execution_count": 59,
      "id": "b2ee106a",
      "metadata": {},
      "outputs": [
        {
          "data": {
            "text/plain": [
              "3305846.25"
            ]
          },
          "execution_count": 59,
          "metadata": {},
          "output_type": "execute_result"
        }
      ],
      "source": [
        "phrases_model_2=Word2Vec(sentences=text_data_all_cleaned,min_count=1, sg=0, window=35, workers=8, vector_size=100, compute_loss=True) #word2vec model, used min_count=1 to avoid any ingredient being missed out\n",
        "phrases_model.get_latest_training_loss()"
      ]
    },
    {
      "cell_type": "code",
      "execution_count": null,
      "id": "f2f76728",
      "metadata": {},
      "outputs": [],
      "source": [
        "phrases_model_2=Word2Vec(sentences=text_data_all_cleaned,min_count=1, sg=0, window=35, workers=8, vector_size=300, compute_loss=True) #word2vec model, used min_count=1 to avoid any ingredient being missed out\n",
        "phrases_model.get_latest_training_loss()"
      ]
    },
    {
      "cell_type": "code",
      "execution_count": 79,
      "id": "f5f08d87",
      "metadata": {},
      "outputs": [],
      "source": [
        "\n",
        "\n",
        "def recommender_text_all(text_input):\n",
        "\n",
        "    user_input= parser(text_input)\n",
        "\n",
        "    # Mean Embeddings for User Input\n",
        "    user_mean_vector =np.mean([phrases_model_2.wv[user_text] for user_text in user_input if user_text in phrases_model_2.wv] or [np.zeros(200)], axis=0)\n",
        "\n",
        "\n",
        "\n",
        "    # check if user_mean_vector contains NaN values\n",
        "    if np.isnan(user_mean_vector).any():\n",
        "        print(\"User input vectors contain NaN values.\")\n",
        "\n",
        "\n",
        "    else:\n",
        "\n",
        "        # mean ingredient vectors for each recipe\n",
        "        text_vectors = [np.mean([phrases_model_2.wv[sub_text] for sub_text in text if sub_text in phrases_model_2.wv] or [np.zeros(200)], axis=0) for text in text_data_all_cleaned]\n",
        "\n",
        "\n",
        "\n",
        "\n",
        "\n",
        "        # Check if any recipe vector contains NaN values\n",
        "        if not text_vectors:\n",
        "            print('nothing obtained for recipe vectors')\n",
        "\n",
        "        else:\n",
        "            \n",
        "            # cosine similarity between user mean vector and recipe mean vectors\n",
        "            cosine_similarities_text= cosine_similarity([user_mean_vector], text_vectors)\n",
        "\n",
        "\n",
        "            # indices of top N most similar recipes\n",
        "            top_recipes = np.argsort(cosine_similarities_text[0])[::-1][:5]\n",
        "\n",
        "\n",
        "\n",
        "            recommendation= pd.DataFrame( columns=['title','ingredients', 'description', 'keywords', 'category', 'score'] ) #dataframe with columns\n",
        "\n",
        "    \n",
        "            for i in top_recipes: #defining the data for each recommendation\n",
        "\n",
        "                \n",
        "                title = recipes['Name'].iloc[i],\n",
        "                description= recipes['Description'].iloc[i,]\n",
        "                keywords = recipes['Keywords'].iloc[i]\n",
        "                category= recipes['RecipeCategory'].iloc[i]\n",
        "                ingredients = recipes['RecipeIngredientParts'].iloc[i]\n",
        "                score= cosine_similarities_text[0][i]\n",
        "                recommendation = recommendation.append(\n",
        "                                    {'title': title, \n",
        "                                    'description': description,\n",
        "                                    'ingredients': ingredients, \n",
        "                                    'keywords' : keywords, \n",
        "                                    'category' : category, \n",
        "                                    'score': score}, \n",
        "                                        ignore_index=True)\n",
        "\n",
        "\n",
        "\n",
        "\n",
        "    return recommendation\n",
        "\n",
        "       \n",
        "\n",
        "\n",
        "\n"
      ]
    },
    {
      "cell_type": "code",
      "execution_count": 82,
      "id": "58c5c257",
      "metadata": {},
      "outputs": [
        {
          "name": "stderr",
          "output_type": "stream",
          "text": [
            "C:\\Users\\e312995\\AppData\\Local\\Temp\\ipykernel_36612\\96306105.py:51: FutureWarning: The frame.append method is deprecated and will be removed from pandas in a future version. Use pandas.concat instead.\n",
            "  recommendation = recommendation.append(\n",
            "C:\\Users\\e312995\\AppData\\Local\\Temp\\ipykernel_36612\\96306105.py:51: FutureWarning: The frame.append method is deprecated and will be removed from pandas in a future version. Use pandas.concat instead.\n",
            "  recommendation = recommendation.append(\n",
            "C:\\Users\\e312995\\AppData\\Local\\Temp\\ipykernel_36612\\96306105.py:51: FutureWarning: The frame.append method is deprecated and will be removed from pandas in a future version. Use pandas.concat instead.\n",
            "  recommendation = recommendation.append(\n",
            "C:\\Users\\e312995\\AppData\\Local\\Temp\\ipykernel_36612\\96306105.py:51: FutureWarning: The frame.append method is deprecated and will be removed from pandas in a future version. Use pandas.concat instead.\n",
            "  recommendation = recommendation.append(\n",
            "C:\\Users\\e312995\\AppData\\Local\\Temp\\ipykernel_36612\\96306105.py:51: FutureWarning: The frame.append method is deprecated and will be removed from pandas in a future version. Use pandas.concat instead.\n",
            "  recommendation = recommendation.append(\n"
          ]
        },
        {
          "data": {
            "text/html": [
              "<div>\n",
              "<style scoped>\n",
              "    .dataframe tbody tr th:only-of-type {\n",
              "        vertical-align: middle;\n",
              "    }\n",
              "\n",
              "    .dataframe tbody tr th {\n",
              "        vertical-align: top;\n",
              "    }\n",
              "\n",
              "    .dataframe thead th {\n",
              "        text-align: right;\n",
              "    }\n",
              "</style>\n",
              "<table border=\"1\" class=\"dataframe\">\n",
              "  <thead>\n",
              "    <tr style=\"text-align: right;\">\n",
              "      <th></th>\n",
              "      <th>title</th>\n",
              "      <th>ingredients</th>\n",
              "      <th>description</th>\n",
              "      <th>keywords</th>\n",
              "      <th>category</th>\n",
              "      <th>score</th>\n",
              "    </tr>\n",
              "  </thead>\n",
              "  <tbody>\n",
              "    <tr>\n",
              "      <th>0</th>\n",
              "      <td>(Maghero's Soup,)</td>\n",
              "      <td>cabbage, cabbage, carrots, celery ribs, onion,...</td>\n",
              "      <td>Make and share this Maghero's Soup recipe from...</td>\n",
              "      <td>Beans, European, &lt; 4 Hours</td>\n",
              "      <td>Clear Soup</td>\n",
              "      <td>0.783291</td>\n",
              "    </tr>\n",
              "    <tr>\n",
              "      <th>1</th>\n",
              "      <td>(Sausage Cabbage Soup,)</td>\n",
              "      <td>cabbage, chicken broth, pepper, salt, flour, m...</td>\n",
              "      <td>Make and share this Sausage Cabbage Soup recip...</td>\n",
              "      <td>&lt; 4 Hours, Easy</td>\n",
              "      <td>Clear Soup</td>\n",
              "      <td>0.768289</td>\n",
              "    </tr>\n",
              "    <tr>\n",
              "      <th>2</th>\n",
              "      <td>(Cabbage Soup,)</td>\n",
              "      <td>garlic clove, cabbage, onions, carrots, zucchi...</td>\n",
              "      <td>Make and share this Cabbage Soup recipe from F...</td>\n",
              "      <td>Greens, Onions, Vegetable, Free Of..., Savory,...</td>\n",
              "      <td>Clear Soup</td>\n",
              "      <td>0.761810</td>\n",
              "    </tr>\n",
              "    <tr>\n",
              "      <th>3</th>\n",
              "      <td>(Autumn Harvest Root Vegetable Soup,)</td>\n",
              "      <td>carrots, parsnips, cabbage, onion, celery ribs...</td>\n",
              "      <td>Make and share this Autumn Harvest Root Vegeta...</td>\n",
              "      <td>Vegetable, &lt; 60 Mins</td>\n",
              "      <td>Clear Soup</td>\n",
              "      <td>0.753435</td>\n",
              "    </tr>\n",
              "    <tr>\n",
              "      <th>4</th>\n",
              "      <td>(Diet Cabbage Soup,)</td>\n",
              "      <td>carrots, zucchini, bell peppers, celery ribs, ...</td>\n",
              "      <td>My mom wanted to try this diet, and made a hug...</td>\n",
              "      <td>Weeknight, Stove Top, &lt; 4 Hours</td>\n",
              "      <td>Vegetable</td>\n",
              "      <td>0.749633</td>\n",
              "    </tr>\n",
              "  </tbody>\n",
              "</table>\n",
              "</div>"
            ],
            "text/plain": [
              "                                   title  \\\n",
              "0                      (Maghero's Soup,)   \n",
              "1                (Sausage Cabbage Soup,)   \n",
              "2                        (Cabbage Soup,)   \n",
              "3  (Autumn Harvest Root Vegetable Soup,)   \n",
              "4                   (Diet Cabbage Soup,)   \n",
              "\n",
              "                                         ingredients  \\\n",
              "0  cabbage, cabbage, carrots, celery ribs, onion,...   \n",
              "1  cabbage, chicken broth, pepper, salt, flour, m...   \n",
              "2  garlic clove, cabbage, onions, carrots, zucchi...   \n",
              "3  carrots, parsnips, cabbage, onion, celery ribs...   \n",
              "4  carrots, zucchini, bell peppers, celery ribs, ...   \n",
              "\n",
              "                                         description  \\\n",
              "0  Make and share this Maghero's Soup recipe from...   \n",
              "1  Make and share this Sausage Cabbage Soup recip...   \n",
              "2  Make and share this Cabbage Soup recipe from F...   \n",
              "3  Make and share this Autumn Harvest Root Vegeta...   \n",
              "4  My mom wanted to try this diet, and made a hug...   \n",
              "\n",
              "                                            keywords    category     score  \n",
              "0                         Beans, European, < 4 Hours  Clear Soup  0.783291  \n",
              "1                                    < 4 Hours, Easy  Clear Soup  0.768289  \n",
              "2  Greens, Onions, Vegetable, Free Of..., Savory,...  Clear Soup  0.761810  \n",
              "3                               Vegetable, < 60 Mins  Clear Soup  0.753435  \n",
              "4                    Weeknight, Stove Top, < 4 Hours   Vegetable  0.749633  "
            ]
          },
          "execution_count": 82,
          "metadata": {},
          "output_type": "execute_result"
        }
      ],
      "source": [
        "user_input= 'soup, cabbage, carrot, onion'\n",
        "recommender_text_all(user_input)"
      ]
    },
    {
      "cell_type": "markdown",
      "id": "2439d012",
      "metadata": {},
      "source": []
    }
  ],
  "metadata": {
    "colab": {
      "provenance": []
    },
    "kernelspec": {
      "display_name": "base",
      "language": "python",
      "name": "python3"
    },
    "language_info": {
      "codemirror_mode": {
        "name": "ipython",
        "version": 3
      },
      "file_extension": ".py",
      "mimetype": "text/x-python",
      "name": "python",
      "nbconvert_exporter": "python",
      "pygments_lexer": "ipython3",
      "version": "3.11.6"
    }
  },
  "nbformat": 4,
  "nbformat_minor": 5
}
